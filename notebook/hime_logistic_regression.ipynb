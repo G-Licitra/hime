{
 "cells": [
  {
   "cell_type": "markdown",
   "id": "bacterial-graham",
   "metadata": {},
   "source": [
    "# Exploring the functionality within the `hime.LogisticRegression` class"
   ]
  },
  {
   "cell_type": "code",
   "execution_count": 1,
   "id": "stupid-layer",
   "metadata": {},
   "outputs": [],
   "source": [
    "import os\n",
    "import numpy as np\n",
    "import pandas as pd\n",
    "import seaborn as sns\n",
    "import matplotlib.pyplot as plt\n",
    "from sklearn.datasets import make_classification\n",
    "from sklearn.metrics import log_loss, roc_curve, roc_auc_score, confusion_matrix\n",
    "import session_info\n",
    "\n",
    "pd.set_option('display.float_format', lambda x: '%.3f' % x)"
   ]
  },
  {
   "cell_type": "code",
   "execution_count": 3,
   "id": "anticipated-meter",
   "metadata": {},
   "outputs": [],
   "source": [
    "current_wd = os.getcwd()\n",
    "os.chdir(current_wd.split(\"/notebook\")[0])\n",
    "from hime.logistic_model import LogisticRegression\n",
    "os.chdir(current_wd)"
   ]
  },
  {
   "cell_type": "code",
   "execution_count": 4,
   "id": "cooked-optimum",
   "metadata": {},
   "outputs": [
    {
     "data": {
      "text/html": [
       "<details>\n",
       "<summary>Click to view session information</summary>\n",
       "<pre>\n",
       "-----\n",
       "hime                0.0.1\n",
       "matplotlib          3.3.4\n",
       "numpy               1.20.3\n",
       "pandas              1.1.5\n",
       "seaborn             0.11.1\n",
       "session_info        1.0.0\n",
       "sklearn             0.23.2\n",
       "-----\n",
       "</pre>\n",
       "<details>\n",
       "<summary>Click to view modules imported as dependencies</summary>\n",
       "<pre>\n",
       "PIL                 8.3.1\n",
       "anyio               NA\n",
       "appnope             0.1.2\n",
       "attr                21.2.0\n",
       "babel               2.9.1\n",
       "backcall            0.2.0\n",
       "beta_ufunc          NA\n",
       "binom_ufunc         NA\n",
       "brotli              NA\n",
       "casadi              3.5.5\n",
       "certifi             2020.06.20\n",
       "cffi                1.14.6\n",
       "chardet             4.0.0\n",
       "charset_normalizer  2.0.0\n",
       "cycler              0.10.0\n",
       "cython_runtime      NA\n",
       "dateutil            2.8.2\n",
       "decorator           5.0.9\n",
       "defusedxml          0.7.1\n",
       "idna                3.1\n",
       "ipykernel           6.0.3\n",
       "ipython_genutils    0.2.0\n",
       "jedi                0.18.0\n",
       "jinja2              3.0.1\n",
       "joblib              1.0.1\n",
       "json5               NA\n",
       "jsonschema          3.2.0\n",
       "jupyter_server      1.10.1\n",
       "jupyterlab_server   2.6.1\n",
       "kiwisolver          1.3.1\n",
       "markupsafe          2.0.1\n",
       "matplotlib_inline   NA\n",
       "mpl_toolkits        NA\n",
       "nbclassic           NA\n",
       "nbformat            5.1.3\n",
       "nbinom_ufunc        NA\n",
       "packaging           21.0\n",
       "parso               0.8.2\n",
       "pexpect             4.8.0\n",
       "pickleshare         0.7.5\n",
       "pkg_resources       NA\n",
       "prometheus_client   NA\n",
       "prompt_toolkit      3.0.19\n",
       "ptyprocess          0.7.0\n",
       "pvectorc            NA\n",
       "pygments            2.9.0\n",
       "pyparsing           2.4.7\n",
       "pyrsistent          NA\n",
       "pytz                2021.1\n",
       "requests            2.26.0\n",
       "scipy               1.7.0\n",
       "send2trash          NA\n",
       "six                 1.16.0\n",
       "sniffio             1.2.0\n",
       "socks               1.7.1\n",
       "statsmodels         0.12.2\n",
       "storemagic          NA\n",
       "swig_runtime_data4  NA\n",
       "terminado           0.10.1\n",
       "tornado             6.1\n",
       "traitlets           5.0.5\n",
       "urllib3             1.26.6\n",
       "wcwidth             0.2.5\n",
       "websocket           0.57.0\n",
       "zmq                 22.1.0\n",
       "</pre>\n",
       "</details> <!-- seems like this ends pre, so might as well be explicit -->\n",
       "<pre>\n",
       "-----\n",
       "IPython             7.25.0\n",
       "jupyter_client      6.1.12\n",
       "jupyter_core        4.7.1\n",
       "jupyterlab          3.1.1\n",
       "notebook            6.4.0\n",
       "-----\n",
       "Python 3.8.10 (default, May 19 2021, 11:01:55) [Clang 10.0.0 ]\n",
       "macOS-10.16-x86_64-i386-64bit\n",
       "-----\n",
       "Session information updated at 2021-10-21 15:01\n",
       "</pre>\n",
       "</details>"
      ],
      "text/plain": [
       "<IPython.core.display.HTML object>"
      ]
     },
     "execution_count": 4,
     "metadata": {},
     "output_type": "execute_result"
    }
   ],
   "source": [
    "session_info.show(write_req_file=False)"
   ]
  },
  {
   "cell_type": "markdown",
   "id": "lesbian-ownership",
   "metadata": {},
   "source": [
    "## Make X and y data"
   ]
  },
  {
   "cell_type": "code",
   "execution_count": 5,
   "id": "stable-birmingham",
   "metadata": {},
   "outputs": [],
   "source": [
    "amount_of_features = 10\n",
    "amount_informative = 2\n",
    "X, y = make_classification(n_samples=300,\n",
    "    n_features=amount_of_features,\n",
    "    n_informative=amount_informative,\n",
    "#                              noise=5,\n",
    "#                              coef=True, \n",
    "                            random_state=42)"
   ]
  },
  {
   "cell_type": "code",
   "execution_count": 6,
   "id": "romance-retirement",
   "metadata": {},
   "outputs": [],
   "source": [
    "# X = X + 100"
   ]
  },
  {
   "cell_type": "markdown",
   "id": "iraqi-exercise",
   "metadata": {},
   "source": [
    "## Fit the model"
   ]
  },
  {
   "cell_type": "code",
   "execution_count": 7,
   "id": "competitive-hearing",
   "metadata": {},
   "outputs": [],
   "source": [
    "df = (pd.DataFrame(X, columns=[f\"feat_{x}\" for x in range(0, X.shape[1])])\n",
    ".merge(pd.DataFrame(y, columns=[\"target\"]),\n",
    "      left_index=True,\n",
    "      right_index=True))"
   ]
  },
  {
   "cell_type": "code",
   "execution_count": 8,
   "id": "ongoing-albert",
   "metadata": {},
   "outputs": [
    {
     "data": {
      "text/html": [
       "<div>\n",
       "<style scoped>\n",
       "    .dataframe tbody tr th:only-of-type {\n",
       "        vertical-align: middle;\n",
       "    }\n",
       "\n",
       "    .dataframe tbody tr th {\n",
       "        vertical-align: top;\n",
       "    }\n",
       "\n",
       "    .dataframe thead th {\n",
       "        text-align: right;\n",
       "    }\n",
       "</style>\n",
       "<table border=\"1\" class=\"dataframe\">\n",
       "  <thead>\n",
       "    <tr style=\"text-align: right;\">\n",
       "      <th></th>\n",
       "      <th>feat_0</th>\n",
       "      <th>feat_1</th>\n",
       "      <th>feat_2</th>\n",
       "      <th>feat_3</th>\n",
       "      <th>feat_4</th>\n",
       "      <th>feat_5</th>\n",
       "      <th>feat_6</th>\n",
       "      <th>feat_7</th>\n",
       "      <th>feat_8</th>\n",
       "      <th>feat_9</th>\n",
       "      <th>target</th>\n",
       "    </tr>\n",
       "  </thead>\n",
       "  <tbody>\n",
       "    <tr>\n",
       "      <th>0</th>\n",
       "      <td>-0.025</td>\n",
       "      <td>1.452</td>\n",
       "      <td>-1.203</td>\n",
       "      <td>1.248</td>\n",
       "      <td>-0.508</td>\n",
       "      <td>0.923</td>\n",
       "      <td>0.300</td>\n",
       "      <td>-0.453</td>\n",
       "      <td>-0.148</td>\n",
       "      <td>0.327</td>\n",
       "      <td>1</td>\n",
       "    </tr>\n",
       "    <tr>\n",
       "      <th>1</th>\n",
       "      <td>0.750</td>\n",
       "      <td>0.098</td>\n",
       "      <td>0.664</td>\n",
       "      <td>-0.680</td>\n",
       "      <td>0.254</td>\n",
       "      <td>-0.339</td>\n",
       "      <td>-0.392</td>\n",
       "      <td>1.086</td>\n",
       "      <td>0.468</td>\n",
       "      <td>0.308</td>\n",
       "      <td>0</td>\n",
       "    </tr>\n",
       "    <tr>\n",
       "      <th>2</th>\n",
       "      <td>-1.236</td>\n",
       "      <td>-0.839</td>\n",
       "      <td>-0.903</td>\n",
       "      <td>0.922</td>\n",
       "      <td>0.538</td>\n",
       "      <td>0.411</td>\n",
       "      <td>-1.966</td>\n",
       "      <td>-0.365</td>\n",
       "      <td>1.073</td>\n",
       "      <td>-1.045</td>\n",
       "      <td>1</td>\n",
       "    </tr>\n",
       "    <tr>\n",
       "      <th>3</th>\n",
       "      <td>-1.615</td>\n",
       "      <td>-0.756</td>\n",
       "      <td>-0.722</td>\n",
       "      <td>0.729</td>\n",
       "      <td>-0.668</td>\n",
       "      <td>0.183</td>\n",
       "      <td>-0.898</td>\n",
       "      <td>-0.175</td>\n",
       "      <td>0.992</td>\n",
       "      <td>0.537</td>\n",
       "      <td>1</td>\n",
       "    </tr>\n",
       "    <tr>\n",
       "      <th>4</th>\n",
       "      <td>-0.724</td>\n",
       "      <td>0.633</td>\n",
       "      <td>0.952</td>\n",
       "      <td>-0.997</td>\n",
       "      <td>-0.832</td>\n",
       "      <td>-0.903</td>\n",
       "      <td>-1.516</td>\n",
       "      <td>-0.552</td>\n",
       "      <td>0.471</td>\n",
       "      <td>0.203</td>\n",
       "      <td>0</td>\n",
       "    </tr>\n",
       "  </tbody>\n",
       "</table>\n",
       "</div>"
      ],
      "text/plain": [
       "   feat_0  feat_1  feat_2  feat_3  feat_4  feat_5  feat_6  feat_7  feat_8  \\\n",
       "0  -0.025   1.452  -1.203   1.248  -0.508   0.923   0.300  -0.453  -0.148   \n",
       "1   0.750   0.098   0.664  -0.680   0.254  -0.339  -0.392   1.086   0.468   \n",
       "2  -1.236  -0.839  -0.903   0.922   0.538   0.411  -1.966  -0.365   1.073   \n",
       "3  -1.615  -0.756  -0.722   0.729  -0.668   0.183  -0.898  -0.175   0.992   \n",
       "4  -0.724   0.633   0.952  -0.997  -0.832  -0.903  -1.516  -0.552   0.471   \n",
       "\n",
       "   feat_9  target  \n",
       "0   0.327       1  \n",
       "1   0.308       0  \n",
       "2  -1.045       1  \n",
       "3   0.537       1  \n",
       "4   0.203       0  "
      ]
     },
     "execution_count": 8,
     "metadata": {},
     "output_type": "execute_result"
    }
   ],
   "source": [
    "df.head()"
   ]
  },
  {
   "cell_type": "code",
   "execution_count": 9,
   "id": "thermal-prompt",
   "metadata": {},
   "outputs": [],
   "source": [
    "df_train = df.sample(frac=0.8, random_state=69420)\n",
    "df_test = df.drop(df_train.index)"
   ]
  },
  {
   "cell_type": "code",
   "execution_count": 10,
   "id": "heavy-candidate",
   "metadata": {},
   "outputs": [
    {
     "data": {
      "text/plain": [
       "((240, 11), (60, 11))"
      ]
     },
     "execution_count": 10,
     "metadata": {},
     "output_type": "execute_result"
    }
   ],
   "source": [
    "df_train.shape, df_test.shape"
   ]
  },
  {
   "cell_type": "markdown",
   "id": "adjusted-stereo",
   "metadata": {},
   "source": [
    "## Fit the romeo LogisticRegression"
   ]
  },
  {
   "cell_type": "code",
   "execution_count": 11,
   "id": "equipped-plant",
   "metadata": {},
   "outputs": [
    {
     "name": "stderr",
     "output_type": "stream",
     "text": [
      "CasADi - 2021-10-21 15:01:47 WARNING(\"ols:nlp_grad_f failed: NaN detected for output grad_f_x, at (row 0, col 0).\") [.../casadi/core/oracle_function.cpp:265]\n",
      "CasADi - 2021-10-21 15:01:47 WARNING(\"ols:nlp_grad_f failed: NaN detected for output grad_f_x, at (row 0, col 0).\") [.../casadi/core/oracle_function.cpp:265]\n"
     ]
    }
   ],
   "source": [
    "reg = LogisticRegression(fit_intercept=True,\n",
    "                      normalize=True).fit(X=df_train.filter(regex=\"feat\"), \n",
    "                                               y=df_train[\"target\"], \n",
    "                                               verbose=False)"
   ]
  },
  {
   "cell_type": "code",
   "execution_count": 12,
   "id": "flush-portsmouth",
   "metadata": {},
   "outputs": [
    {
     "data": {
      "text/plain": [
       "(0.0, array([0., 0., 0., 0., 0., 0., 0., 0., 0., 0.]))"
      ]
     },
     "execution_count": 12,
     "metadata": {},
     "output_type": "execute_result"
    }
   ],
   "source": [
    "reg.intercept_, reg.coef_ "
   ]
  },
  {
   "cell_type": "code",
   "execution_count": 13,
   "id": "unusual-passport",
   "metadata": {},
   "outputs": [
    {
     "ename": "AttributeError",
     "evalue": "'LogisticRegression' object has no attribute 'summary_'",
     "output_type": "error",
     "traceback": [
      "\u001b[0;31m---------------------------------------------------------------------------\u001b[0m",
      "\u001b[0;31mAttributeError\u001b[0m                            Traceback (most recent call last)",
      "\u001b[0;32m/var/folders/rc/1g_69mqs4t5dxcsd6dbczl_m0000gn/T/ipykernel_4643/3682259650.py\u001b[0m in \u001b[0;36m<module>\u001b[0;34m\u001b[0m\n\u001b[0;32m----> 1\u001b[0;31m \u001b[0mreg\u001b[0m\u001b[0;34m.\u001b[0m\u001b[0msummary_\u001b[0m\u001b[0;34m.\u001b[0m\u001b[0mround\u001b[0m\u001b[0;34m(\u001b[0m\u001b[0;36m3\u001b[0m\u001b[0;34m)\u001b[0m\u001b[0;34m\u001b[0m\u001b[0;34m\u001b[0m\u001b[0m\n\u001b[0m\u001b[1;32m      2\u001b[0m \u001b[0;31m#reg.score(X, y)\u001b[0m\u001b[0;34m\u001b[0m\u001b[0;34m\u001b[0m\u001b[0;34m\u001b[0m\u001b[0m\n",
      "\u001b[0;31mAttributeError\u001b[0m: 'LogisticRegression' object has no attribute 'summary_'"
     ]
    }
   ],
   "source": [
    "reg.summary_.round(3)\n",
    "#reg.score(X, y)"
   ]
  },
  {
   "cell_type": "code",
   "execution_count": 14,
   "id": "through-samba",
   "metadata": {},
   "outputs": [],
   "source": [
    "# reg.fit_evaluation_.round(3)"
   ]
  },
  {
   "cell_type": "markdown",
   "id": "round-modern",
   "metadata": {},
   "source": [
    "## Show the available methods and attributes of the fitted model"
   ]
  },
  {
   "cell_type": "code",
   "execution_count": 15,
   "id": "altered-transport",
   "metadata": {},
   "outputs": [
    {
     "data": {
      "text/plain": [
       "array(['__class__', '__delattr__', '__dict__', '__dir__', '__doc__',\n",
       "       '__eq__', '__format__', '__ge__', '__getattribute__',\n",
       "       '__getstate__', '__gt__', '__hash__', '__init__',\n",
       "       '__init_subclass__', '__le__', '__lt__', '__module__', '__ne__',\n",
       "       '__new__', '__reduce__', '__reduce_ex__', '__repr__',\n",
       "       '__setattr__', '__setstate__', '__sizeof__', '__str__',\n",
       "       '__subclasshook__', '__weakref__', '_check_n_features',\n",
       "       '_estimator_type', '_get_param_names', '_get_tags', '_more_tags',\n",
       "       '_repr_html_', '_repr_html_inner', '_repr_mimebundle_',\n",
       "       '_validate_data', 'aic', 'bic', 'coef_', 'conf_int', 'copy_X',\n",
       "       'cost', 'ess', 'f_pvalue', 'fit', 'fit_intercept', 'fvalue',\n",
       "       'get_params', 'intercept_', 'is_fitted_', 'loglike', 'mse_model',\n",
       "       'mse_resid', 'mse_total', 'normalize', 'params', 'positive',\n",
       "       'predict', 'predictors', 'resid', 'rsquared', 'rsquared_adj',\n",
       "       'score', 'set_params', 'ssr', 'target', 'theta', 'uncentered_tss'],\n",
       "      dtype='<U17')"
      ]
     },
     "execution_count": 15,
     "metadata": {},
     "output_type": "execute_result"
    }
   ],
   "source": [
    "np.array(dir(reg))"
   ]
  },
  {
   "cell_type": "code",
   "execution_count": 16,
   "id": "speaking-disco",
   "metadata": {},
   "outputs": [],
   "source": [
    "# reg.conf_int()"
   ]
  },
  {
   "cell_type": "code",
   "execution_count": 17,
   "id": "addressed-andrews",
   "metadata": {},
   "outputs": [
    {
     "ename": "AttributeError",
     "evalue": "'LogisticRegression' object has no attribute 'df_resid'",
     "output_type": "error",
     "traceback": [
      "\u001b[0;31m---------------------------------------------------------------------------\u001b[0m",
      "\u001b[0;31mAttributeError\u001b[0m                            Traceback (most recent call last)",
      "\u001b[0;32m/var/folders/rc/1g_69mqs4t5dxcsd6dbczl_m0000gn/T/ipykernel_4643/764227379.py\u001b[0m in \u001b[0;36m<module>\u001b[0;34m\u001b[0m\n\u001b[0;32m----> 1\u001b[0;31m \u001b[0mreg\u001b[0m\u001b[0;34m.\u001b[0m\u001b[0mdf_resid\u001b[0m\u001b[0;34m\u001b[0m\u001b[0;34m\u001b[0m\u001b[0m\n\u001b[0m",
      "\u001b[0;31mAttributeError\u001b[0m: 'LogisticRegression' object has no attribute 'df_resid'"
     ]
    }
   ],
   "source": [
    "reg.df_resid"
   ]
  },
  {
   "cell_type": "code",
   "execution_count": 18,
   "id": "upset-catholic",
   "metadata": {},
   "outputs": [],
   "source": [
    "intercept = reg.intercept_\n",
    "coefs = reg.coef_"
   ]
  },
  {
   "cell_type": "code",
   "execution_count": 19,
   "id": "sorted-shame",
   "metadata": {},
   "outputs": [
    {
     "data": {
      "text/plain": [
       "array([0., 0., 0., 0., 0., 0., 0., 0., 0., 0.])"
      ]
     },
     "execution_count": 19,
     "metadata": {},
     "output_type": "execute_result"
    }
   ],
   "source": [
    "coefs"
   ]
  },
  {
   "cell_type": "code",
   "execution_count": 20,
   "id": "stone-technology",
   "metadata": {},
   "outputs": [
    {
     "data": {
      "text/plain": [
       "array([[0., 0., 0., 0., 0., 0., 0., 0., 0., 0.]])"
      ]
     },
     "execution_count": 20,
     "metadata": {},
     "output_type": "execute_result"
    }
   ],
   "source": [
    "coefs.reshape(1,-1)"
   ]
  },
  {
   "cell_type": "code",
   "execution_count": 21,
   "id": "aggressive-scale",
   "metadata": {},
   "outputs": [
    {
     "name": "stderr",
     "output_type": "stream",
     "text": [
      "Note: NumExpr detected 12 cores but \"NUMEXPR_MAX_THREADS\" not set, so enforcing safe limit of 8.\n",
      "NumExpr defaulting to 8 threads.\n"
     ]
    },
    {
     "data": {
      "text/html": [
       "<div>\n",
       "<style scoped>\n",
       "    .dataframe tbody tr th:only-of-type {\n",
       "        vertical-align: middle;\n",
       "    }\n",
       "\n",
       "    .dataframe tbody tr th {\n",
       "        vertical-align: top;\n",
       "    }\n",
       "\n",
       "    .dataframe thead th {\n",
       "        text-align: right;\n",
       "    }\n",
       "</style>\n",
       "<table border=\"1\" class=\"dataframe\">\n",
       "  <thead>\n",
       "    <tr style=\"text-align: right;\">\n",
       "      <th></th>\n",
       "      <th>feat_0</th>\n",
       "      <th>feat_1</th>\n",
       "      <th>feat_2</th>\n",
       "      <th>feat_3</th>\n",
       "      <th>feat_4</th>\n",
       "      <th>feat_5</th>\n",
       "      <th>feat_6</th>\n",
       "      <th>feat_7</th>\n",
       "      <th>feat_8</th>\n",
       "      <th>feat_9</th>\n",
       "    </tr>\n",
       "  </thead>\n",
       "  <tbody>\n",
       "    <tr>\n",
       "      <th>110</th>\n",
       "      <td>-0.000</td>\n",
       "      <td>-0.000</td>\n",
       "      <td>-0.000</td>\n",
       "      <td>0.000</td>\n",
       "      <td>0.000</td>\n",
       "      <td>0.000</td>\n",
       "      <td>-0.000</td>\n",
       "      <td>-0.000</td>\n",
       "      <td>0.000</td>\n",
       "      <td>0.000</td>\n",
       "    </tr>\n",
       "    <tr>\n",
       "      <th>139</th>\n",
       "      <td>-0.000</td>\n",
       "      <td>0.000</td>\n",
       "      <td>-0.000</td>\n",
       "      <td>0.000</td>\n",
       "      <td>0.000</td>\n",
       "      <td>0.000</td>\n",
       "      <td>-0.000</td>\n",
       "      <td>0.000</td>\n",
       "      <td>-0.000</td>\n",
       "      <td>-0.000</td>\n",
       "    </tr>\n",
       "    <tr>\n",
       "      <th>21</th>\n",
       "      <td>-0.000</td>\n",
       "      <td>-0.000</td>\n",
       "      <td>0.000</td>\n",
       "      <td>-0.000</td>\n",
       "      <td>0.000</td>\n",
       "      <td>-0.000</td>\n",
       "      <td>0.000</td>\n",
       "      <td>0.000</td>\n",
       "      <td>0.000</td>\n",
       "      <td>-0.000</td>\n",
       "    </tr>\n",
       "    <tr>\n",
       "      <th>86</th>\n",
       "      <td>0.000</td>\n",
       "      <td>-0.000</td>\n",
       "      <td>0.000</td>\n",
       "      <td>-0.000</td>\n",
       "      <td>-0.000</td>\n",
       "      <td>-0.000</td>\n",
       "      <td>-0.000</td>\n",
       "      <td>-0.000</td>\n",
       "      <td>0.000</td>\n",
       "      <td>0.000</td>\n",
       "    </tr>\n",
       "    <tr>\n",
       "      <th>81</th>\n",
       "      <td>0.000</td>\n",
       "      <td>-0.000</td>\n",
       "      <td>-0.000</td>\n",
       "      <td>0.000</td>\n",
       "      <td>-0.000</td>\n",
       "      <td>0.000</td>\n",
       "      <td>-0.000</td>\n",
       "      <td>-0.000</td>\n",
       "      <td>0.000</td>\n",
       "      <td>0.000</td>\n",
       "    </tr>\n",
       "  </tbody>\n",
       "</table>\n",
       "</div>"
      ],
      "text/plain": [
       "     feat_0  feat_1  feat_2  feat_3  feat_4  feat_5  feat_6  feat_7  feat_8  \\\n",
       "110  -0.000  -0.000  -0.000   0.000   0.000   0.000  -0.000  -0.000   0.000   \n",
       "139  -0.000   0.000  -0.000   0.000   0.000   0.000  -0.000   0.000  -0.000   \n",
       "21   -0.000  -0.000   0.000  -0.000   0.000  -0.000   0.000   0.000   0.000   \n",
       "86    0.000  -0.000   0.000  -0.000  -0.000  -0.000  -0.000  -0.000   0.000   \n",
       "81    0.000  -0.000  -0.000   0.000  -0.000   0.000  -0.000  -0.000   0.000   \n",
       "\n",
       "     feat_9  \n",
       "110   0.000  \n",
       "139  -0.000  \n",
       "21   -0.000  \n",
       "86    0.000  \n",
       "81    0.000  "
      ]
     },
     "execution_count": 21,
     "metadata": {},
     "output_type": "execute_result"
    }
   ],
   "source": [
    "coefs*df_train.filter(regex=\"feat\").head()"
   ]
  },
  {
   "cell_type": "code",
   "execution_count": 22,
   "id": "conditional-carbon",
   "metadata": {},
   "outputs": [],
   "source": [
    "tmp_x = df_train.filter(regex=\"feat\").assign(intercept=1).set_index(\"intercept\").reset_index().values"
   ]
  },
  {
   "cell_type": "code",
   "execution_count": 23,
   "id": "balanced-mambo",
   "metadata": {},
   "outputs": [],
   "source": [
    "tmp_x = reg.intercept_ * tmp_x"
   ]
  },
  {
   "cell_type": "code",
   "execution_count": 24,
   "id": "double-sarah",
   "metadata": {},
   "outputs": [],
   "source": [
    "# np.linalg.inv(np.dot(tmp_x.T, tmp_x))"
   ]
  },
  {
   "cell_type": "code",
   "execution_count": 25,
   "id": "harmful-vintage",
   "metadata": {},
   "outputs": [
    {
     "ename": "LinAlgError",
     "evalue": "Singular matrix",
     "output_type": "error",
     "traceback": [
      "\u001b[0;31m---------------------------------------------------------------------------\u001b[0m",
      "\u001b[0;31mLinAlgError\u001b[0m                               Traceback (most recent call last)",
      "\u001b[0;32m/var/folders/rc/1g_69mqs4t5dxcsd6dbczl_m0000gn/T/ipykernel_4643/905158982.py\u001b[0m in \u001b[0;36m<module>\u001b[0;34m\u001b[0m\n\u001b[0;32m----> 1\u001b[0;31m \u001b[0mcov_mat\u001b[0m \u001b[0;34m=\u001b[0m \u001b[0mnp\u001b[0m\u001b[0;34m.\u001b[0m\u001b[0mlinalg\u001b[0m\u001b[0;34m.\u001b[0m\u001b[0minv\u001b[0m\u001b[0;34m(\u001b[0m\u001b[0mnp\u001b[0m\u001b[0;34m.\u001b[0m\u001b[0mmatmul\u001b[0m\u001b[0;34m(\u001b[0m\u001b[0mtmp_x\u001b[0m\u001b[0;34m.\u001b[0m\u001b[0mtranspose\u001b[0m\u001b[0;34m(\u001b[0m\u001b[0;36m1\u001b[0m\u001b[0;34m,\u001b[0m\u001b[0;36m0\u001b[0m\u001b[0;34m)\u001b[0m\u001b[0;34m,\u001b[0m \u001b[0mtmp_x\u001b[0m\u001b[0;34m)\u001b[0m\u001b[0;34m)\u001b[0m\u001b[0;34m\u001b[0m\u001b[0;34m\u001b[0m\u001b[0m\n\u001b[0m",
      "\u001b[0;32m<__array_function__ internals>\u001b[0m in \u001b[0;36minv\u001b[0;34m(*args, **kwargs)\u001b[0m\n",
      "\u001b[0;32m/opt/miniconda3/envs/pymer4_env/lib/python3.8/site-packages/numpy/linalg/linalg.py\u001b[0m in \u001b[0;36minv\u001b[0;34m(a)\u001b[0m\n\u001b[1;32m    543\u001b[0m     \u001b[0msignature\u001b[0m \u001b[0;34m=\u001b[0m \u001b[0;34m'D->D'\u001b[0m \u001b[0;32mif\u001b[0m \u001b[0misComplexType\u001b[0m\u001b[0;34m(\u001b[0m\u001b[0mt\u001b[0m\u001b[0;34m)\u001b[0m \u001b[0;32melse\u001b[0m \u001b[0;34m'd->d'\u001b[0m\u001b[0;34m\u001b[0m\u001b[0;34m\u001b[0m\u001b[0m\n\u001b[1;32m    544\u001b[0m     \u001b[0mextobj\u001b[0m \u001b[0;34m=\u001b[0m \u001b[0mget_linalg_error_extobj\u001b[0m\u001b[0;34m(\u001b[0m\u001b[0m_raise_linalgerror_singular\u001b[0m\u001b[0;34m)\u001b[0m\u001b[0;34m\u001b[0m\u001b[0;34m\u001b[0m\u001b[0m\n\u001b[0;32m--> 545\u001b[0;31m     \u001b[0mainv\u001b[0m \u001b[0;34m=\u001b[0m \u001b[0m_umath_linalg\u001b[0m\u001b[0;34m.\u001b[0m\u001b[0minv\u001b[0m\u001b[0;34m(\u001b[0m\u001b[0ma\u001b[0m\u001b[0;34m,\u001b[0m \u001b[0msignature\u001b[0m\u001b[0;34m=\u001b[0m\u001b[0msignature\u001b[0m\u001b[0;34m,\u001b[0m \u001b[0mextobj\u001b[0m\u001b[0;34m=\u001b[0m\u001b[0mextobj\u001b[0m\u001b[0;34m)\u001b[0m\u001b[0;34m\u001b[0m\u001b[0;34m\u001b[0m\u001b[0m\n\u001b[0m\u001b[1;32m    546\u001b[0m     \u001b[0;32mreturn\u001b[0m \u001b[0mwrap\u001b[0m\u001b[0;34m(\u001b[0m\u001b[0mainv\u001b[0m\u001b[0;34m.\u001b[0m\u001b[0mastype\u001b[0m\u001b[0;34m(\u001b[0m\u001b[0mresult_t\u001b[0m\u001b[0;34m,\u001b[0m \u001b[0mcopy\u001b[0m\u001b[0;34m=\u001b[0m\u001b[0;32mFalse\u001b[0m\u001b[0;34m)\u001b[0m\u001b[0;34m)\u001b[0m\u001b[0;34m\u001b[0m\u001b[0;34m\u001b[0m\u001b[0m\n\u001b[1;32m    547\u001b[0m \u001b[0;34m\u001b[0m\u001b[0m\n",
      "\u001b[0;32m/opt/miniconda3/envs/pymer4_env/lib/python3.8/site-packages/numpy/linalg/linalg.py\u001b[0m in \u001b[0;36m_raise_linalgerror_singular\u001b[0;34m(err, flag)\u001b[0m\n\u001b[1;32m     86\u001b[0m \u001b[0;34m\u001b[0m\u001b[0m\n\u001b[1;32m     87\u001b[0m \u001b[0;32mdef\u001b[0m \u001b[0m_raise_linalgerror_singular\u001b[0m\u001b[0;34m(\u001b[0m\u001b[0merr\u001b[0m\u001b[0;34m,\u001b[0m \u001b[0mflag\u001b[0m\u001b[0;34m)\u001b[0m\u001b[0;34m:\u001b[0m\u001b[0;34m\u001b[0m\u001b[0;34m\u001b[0m\u001b[0m\n\u001b[0;32m---> 88\u001b[0;31m     \u001b[0;32mraise\u001b[0m \u001b[0mLinAlgError\u001b[0m\u001b[0;34m(\u001b[0m\u001b[0;34m\"Singular matrix\"\u001b[0m\u001b[0;34m)\u001b[0m\u001b[0;34m\u001b[0m\u001b[0;34m\u001b[0m\u001b[0m\n\u001b[0m\u001b[1;32m     89\u001b[0m \u001b[0;34m\u001b[0m\u001b[0m\n\u001b[1;32m     90\u001b[0m \u001b[0;32mdef\u001b[0m \u001b[0m_raise_linalgerror_nonposdef\u001b[0m\u001b[0;34m(\u001b[0m\u001b[0merr\u001b[0m\u001b[0;34m,\u001b[0m \u001b[0mflag\u001b[0m\u001b[0;34m)\u001b[0m\u001b[0;34m:\u001b[0m\u001b[0;34m\u001b[0m\u001b[0;34m\u001b[0m\u001b[0m\n",
      "\u001b[0;31mLinAlgError\u001b[0m: Singular matrix"
     ]
    }
   ],
   "source": [
    "cov_mat = np.linalg.inv(np.matmul(tmp_x.transpose(1,0), tmp_x))"
   ]
  },
  {
   "cell_type": "code",
   "execution_count": 26,
   "id": "optical-gentleman",
   "metadata": {},
   "outputs": [],
   "source": [
    "# abs(cov_mat)"
   ]
  },
  {
   "cell_type": "code",
   "execution_count": 27,
   "id": "maritime-presentation",
   "metadata": {},
   "outputs": [],
   "source": [
    "# np.sqrt(np.diag(abs(cov_mat)))"
   ]
  },
  {
   "cell_type": "code",
   "execution_count": 28,
   "id": "logical-librarian",
   "metadata": {},
   "outputs": [],
   "source": [
    "# pd.DataFrame(np.cov(tmp_x))"
   ]
  },
  {
   "cell_type": "code",
   "execution_count": 29,
   "id": "amber-egyptian",
   "metadata": {},
   "outputs": [
    {
     "data": {
      "text/plain": [
       "'\\nNotes\\n-----\\n(The below are assumed to be in matrix notation.)\\nIf no argument is specified returns the covariance matrix of a model\\n``(scale)*(X.T X)^(-1)``\\nIf contrast is specified it pre and post-multiplies as follows\\n``(scale) * r_matrix (X.T X)^(-1) r_matrix.T``\\nIf contrast and other are specified returns\\n``(scale) * r_matrix (X.T X)^(-1) other.T``\\nIf column is specified returns\\n``(scale) * (X.T X)^(-1)[column,column]`` if column is 0d\\nOR\\n``(scale) * (X.T X)^(-1)[column][:,column]`` if column is 1d\\n'"
      ]
     },
     "execution_count": 29,
     "metadata": {},
     "output_type": "execute_result"
    }
   ],
   "source": [
    "# Statsmodels cov_params\n",
    "\"\"\"\n",
    "Notes\n",
    "-----\n",
    "(The below are assumed to be in matrix notation.)\n",
    "If no argument is specified returns the covariance matrix of a model\n",
    "``(scale)*(X.T X)^(-1)``\n",
    "If contrast is specified it pre and post-multiplies as follows\n",
    "``(scale) * r_matrix (X.T X)^(-1) r_matrix.T``\n",
    "If contrast and other are specified returns\n",
    "``(scale) * r_matrix (X.T X)^(-1) other.T``\n",
    "If column is specified returns\n",
    "``(scale) * (X.T X)^(-1)[column,column]`` if column is 0d\n",
    "OR\n",
    "``(scale) * (X.T X)^(-1)[column][:,column]`` if column is 1d\n",
    "\"\"\""
   ]
  },
  {
   "cell_type": "markdown",
   "id": "unable-diamond",
   "metadata": {},
   "source": [
    "## Plot the original data and the lines of best fit for each of the predictors on the target"
   ]
  },
  {
   "cell_type": "code",
   "execution_count": 30,
   "id": "indonesian-watershed",
   "metadata": {},
   "outputs": [
    {
     "data": {
      "image/png": "[encoded data removed]",
      "text/plain": [
       "<Figure size 864x504 with 1 Axes>"
      ]
     },
     "metadata": {
      "needs_background": "light"
     },
     "output_type": "display_data"
    }
   ],
   "source": [
    "_ = plt.figure(figsize=(12, 7))\n",
    "_ = plt.plot(df_train.filter(regex=\"feat\"), \n",
    "             df_train[\"target\"], \n",
    "             'o', \n",
    "             label='original data')\n",
    "_ = plt.plot(df_train.filter(regex=\"feat\"), \n",
    "             intercept + coefs*df_train.filter(regex=\"feat\"), \n",
    "             'r', \n",
    "             label='fitted line')\n",
    "# _ = plt.legend()"
   ]
  },
  {
   "cell_type": "markdown",
   "id": "pressing-crystal",
   "metadata": {},
   "source": [
    "## With the fitted model attempt to predict the test data"
   ]
  },
  {
   "cell_type": "code",
   "execution_count": 31,
   "id": "sealed-vietnamese",
   "metadata": {},
   "outputs": [
    {
     "data": {
      "text/html": [
       "<div>\n",
       "<style scoped>\n",
       "    .dataframe tbody tr th:only-of-type {\n",
       "        vertical-align: middle;\n",
       "    }\n",
       "\n",
       "    .dataframe tbody tr th {\n",
       "        vertical-align: top;\n",
       "    }\n",
       "\n",
       "    .dataframe thead th {\n",
       "        text-align: right;\n",
       "    }\n",
       "</style>\n",
       "<table border=\"1\" class=\"dataframe\">\n",
       "  <thead>\n",
       "    <tr style=\"text-align: right;\">\n",
       "      <th></th>\n",
       "      <th>y_pred</th>\n",
       "    </tr>\n",
       "  </thead>\n",
       "  <tbody>\n",
       "    <tr>\n",
       "      <th>9</th>\n",
       "      <td>0.500</td>\n",
       "    </tr>\n",
       "    <tr>\n",
       "      <th>37</th>\n",
       "      <td>0.500</td>\n",
       "    </tr>\n",
       "  </tbody>\n",
       "</table>\n",
       "</div>"
      ],
      "text/plain": [
       "    y_pred\n",
       "9    0.500\n",
       "37   0.500"
      ]
     },
     "execution_count": 31,
     "metadata": {},
     "output_type": "execute_result"
    }
   ],
   "source": [
    "y_pred = reg.predict(df_test.filter(regex=\"feat\"))\n",
    "y_pred.head(2)"
   ]
  },
  {
   "cell_type": "code",
   "execution_count": 32,
   "id": "filled-donor",
   "metadata": {},
   "outputs": [
    {
     "data": {
      "text/html": [
       "<div>\n",
       "<style scoped>\n",
       "    .dataframe tbody tr th:only-of-type {\n",
       "        vertical-align: middle;\n",
       "    }\n",
       "\n",
       "    .dataframe tbody tr th {\n",
       "        vertical-align: top;\n",
       "    }\n",
       "\n",
       "    .dataframe thead th {\n",
       "        text-align: right;\n",
       "    }\n",
       "</style>\n",
       "<table border=\"1\" class=\"dataframe\">\n",
       "  <thead>\n",
       "    <tr style=\"text-align: right;\">\n",
       "      <th></th>\n",
       "      <th>target</th>\n",
       "    </tr>\n",
       "  </thead>\n",
       "  <tbody>\n",
       "    <tr>\n",
       "      <th>9</th>\n",
       "      <td>1</td>\n",
       "    </tr>\n",
       "    <tr>\n",
       "      <th>37</th>\n",
       "      <td>1</td>\n",
       "    </tr>\n",
       "  </tbody>\n",
       "</table>\n",
       "</div>"
      ],
      "text/plain": [
       "    target\n",
       "9        1\n",
       "37       1"
      ]
     },
     "execution_count": 32,
     "metadata": {},
     "output_type": "execute_result"
    }
   ],
   "source": [
    "y_test = df_test[[\"target\"]]\n",
    "y_test.head(2)"
   ]
  },
  {
   "cell_type": "markdown",
   "id": "written-fundamentals",
   "metadata": {},
   "source": [
    "## Calculate the Log loss between the predicted vs the real scores"
   ]
  },
  {
   "cell_type": "code",
   "execution_count": 33,
   "id": "exempt-storm",
   "metadata": {},
   "outputs": [
    {
     "data": {
      "text/plain": [
       "0.6931471805599454"
      ]
     },
     "execution_count": 33,
     "metadata": {},
     "output_type": "execute_result"
    }
   ],
   "source": [
    "log_loss_score = log_loss(y_test[\"target\"], \n",
    "        y_pred)\n",
    "log_loss_score"
   ]
  },
  {
   "cell_type": "markdown",
   "id": "threaded-inventory",
   "metadata": {},
   "source": [
    "## Plot the predicted vs the real values"
   ]
  },
  {
   "cell_type": "code",
   "execution_count": 34,
   "id": "foreign-yeast",
   "metadata": {},
   "outputs": [],
   "source": [
    "c_mat = confusion_matrix(y_test[\"target\"], y_pred.round(0))"
   ]
  },
  {
   "cell_type": "code",
   "execution_count": 35,
   "id": "constant-opera",
   "metadata": {},
   "outputs": [
    {
     "data": {
      "image/png": "[encoded data removed]",
      "text/plain": [
       "<Figure size 432x288 with 2 Axes>"
      ]
     },
     "metadata": {
      "needs_background": "light"
     },
     "output_type": "display_data"
    }
   ],
   "source": [
    "cmap='Blues'\n",
    "categories=[\"0\", \"1\"]\n",
    "\n",
    "_ = sns.heatmap(c_mat, \n",
    "                annot=True,            \n",
    "#                 fmt=\"\",\n",
    "                cmap=cmap,\n",
    "#                 cbar=cbar,\n",
    "                xticklabels=categories,\n",
    "                yticklabels=categories\n",
    "               )\n",
    "_ = plt.title(\"Confusion Matrix\")\n",
    "# _ = plt.xlabel(f'Predicted value\\n\\nAccuracy={summary_df[\"Accuracy\"].values[0]}\\nSensitivity={summary_df[\"Sensitivity\"].values[0]}\\nSpecificity={summary_df[\"Specificity\"].values[0]}\\nF1 Score={summary_df[\"F1\"].values[0]}')\n",
    "_ = plt.xlabel(f'Predicted value')\n",
    "_ = plt.ylabel(\"True value\")"
   ]
  },
  {
   "cell_type": "code",
   "execution_count": 36,
   "id": "isolated-annotation",
   "metadata": {},
   "outputs": [],
   "source": [
    "# _ = plt.figure(figsize=(12, 7))\n",
    "# _ = plt.plot(y_test[\"target\"], \n",
    "#              y_pred, \n",
    "#              'o', \n",
    "# #              label='original data'\n",
    "#             )\n",
    "# _ = plt.annotate(text = f\"Log Loss = {round(log_loss, 5)}\",\n",
    "#                  xy=(0.9, 0.1),)"
   ]
  },
  {
   "cell_type": "code",
   "execution_count": 37,
   "id": "purple-directory",
   "metadata": {},
   "outputs": [],
   "source": [
    "fpr, tpr, thresh = roc_curve(y_true=y_test[\"target\"], y_score=y_pred, pos_label=1, sample_weight=None, drop_intermediate=False)"
   ]
  },
  {
   "cell_type": "code",
   "execution_count": 38,
   "id": "protective-berkeley",
   "metadata": {},
   "outputs": [],
   "source": [
    "auc_score = roc_auc_score(y_true=y_test[\"target\"], y_score=y_pred)"
   ]
  },
  {
   "cell_type": "code",
   "execution_count": 39,
   "id": "affiliated-philosophy",
   "metadata": {},
   "outputs": [
    {
     "data": {
      "image/png": "[encoded data removed]",
      "text/plain": [
       "<Figure size 864x504 with 1 Axes>"
      ]
     },
     "metadata": {
      "needs_background": "light"
     },
     "output_type": "display_data"
    }
   ],
   "source": [
    "_ = plt.figure(figsize=(12, 7))\n",
    "_ = plt.plot(fpr, \n",
    "             tpr, \n",
    "#              'o', \n",
    "            )\n",
    "_ = plt.plot(fpr, \n",
    "             tpr, \n",
    "             'o',\n",
    "             c=\"orange\"\n",
    "            )\n",
    "\n",
    "_ = plt.annotate(text = f\"AUC = {round(auc_score, 5)}\",\n",
    "                 xy=(0.9, 0.1),)"
   ]
  },
  {
   "cell_type": "markdown",
   "id": "received-fault",
   "metadata": {},
   "source": [
    "# Statsmodels"
   ]
  },
  {
   "cell_type": "code",
   "execution_count": 40,
   "id": "extended-destination",
   "metadata": {},
   "outputs": [],
   "source": [
    "import statsmodels\n",
    "# from statsmodels.regression.linear_model import OLS\n",
    "from statsmodels.discrete.discrete_model import Logit\n",
    "from scipy import stats"
   ]
  },
  {
   "cell_type": "code",
   "execution_count": 41,
   "id": "planned-privilege",
   "metadata": {},
   "outputs": [],
   "source": [
    "# df_train[\"target\"]\n",
    "# statsmodels.tools.tools.add_constant(data=df_train.filter(regex=\"feat\"), prepend=True, has_constant='skip')"
   ]
  },
  {
   "cell_type": "code",
   "execution_count": 42,
   "id": "committed-patrick",
   "metadata": {},
   "outputs": [
    {
     "name": "stdout",
     "output_type": "stream",
     "text": [
      "Warning: Maximum number of iterations has been exceeded.\n",
      "         Current function value: 0.202515\n",
      "         Iterations: 35\n"
     ]
    },
    {
     "name": "stderr",
     "output_type": "stream",
     "text": [
      "/opt/miniconda3/envs/pymer4_env/lib/python3.8/site-packages/statsmodels/base/model.py:566: ConvergenceWarning: Maximum Likelihood optimization failed to converge. Check mle_retvals\n",
      "  warnings.warn(\"Maximum Likelihood optimization failed to \"\n"
     ]
    }
   ],
   "source": [
    "res = Logit(endog=df_train[\"target\"], exog=statsmodels.tools.tools.add_constant(data=df_train.filter(regex=\"feat\"), prepend=True, has_constant='skip')).fit()\n",
    "# res = Logit(endog=df_train[\"target\"], exog=df_train.filter(regex=\"feat\"), prepend=True, has_constant='skip').fit()"
   ]
  },
  {
   "cell_type": "code",
   "execution_count": 43,
   "id": "precise-advancement",
   "metadata": {},
   "outputs": [
    {
     "data": {
      "text/plain": [
       "array([0., 0., 0., 0., 0., 0., 0., 0., 0., 0.])"
      ]
     },
     "execution_count": 43,
     "metadata": {},
     "output_type": "execute_result"
    }
   ],
   "source": [
    "coefs"
   ]
  },
  {
   "cell_type": "code",
   "execution_count": 44,
   "id": "authentic-statistics",
   "metadata": {},
   "outputs": [
    {
     "data": {
      "text/plain": [
       "const    -0.116\n",
       "feat_0    0.316\n",
       "feat_1    0.291\n",
       "feat_2   -1.449\n",
       "feat_3    1.507\n",
       "feat_4   -0.059\n",
       "feat_5    1.192\n",
       "feat_6   -0.186\n",
       "feat_7    0.372\n",
       "feat_8    0.275\n",
       "feat_9    0.019\n",
       "dtype: float64"
      ]
     },
     "execution_count": 44,
     "metadata": {},
     "output_type": "execute_result"
    }
   ],
   "source": [
    "res.params"
   ]
  },
  {
   "cell_type": "code",
   "execution_count": 45,
   "id": "pending-illness",
   "metadata": {},
   "outputs": [],
   "source": [
    "# def bse(self):\n",
    "#         return np.sqrt(np.diag(self.cov_params()))"
   ]
  },
  {
   "cell_type": "code",
   "execution_count": 46,
   "id": "charged-marker",
   "metadata": {},
   "outputs": [
    {
     "data": {
      "text/plain": [
       "const    0.270\n",
       "feat_0     nan\n",
       "feat_1   0.247\n",
       "feat_2     nan\n",
       "feat_3     nan\n",
       "feat_4   0.284\n",
       "feat_5     nan\n",
       "feat_6   0.251\n",
       "feat_7   0.279\n",
       "feat_8   0.282\n",
       "feat_9   0.270\n",
       "dtype: float64"
      ]
     },
     "execution_count": 46,
     "metadata": {},
     "output_type": "execute_result"
    }
   ],
   "source": [
    "np.round(res.bse, 3)"
   ]
  },
  {
   "cell_type": "code",
   "execution_count": 47,
   "id": "modern-society",
   "metadata": {},
   "outputs": [
    {
     "name": "stderr",
     "output_type": "stream",
     "text": [
      "/var/folders/rc/1g_69mqs4t5dxcsd6dbczl_m0000gn/T/ipykernel_4643/3404882093.py:1: RuntimeWarning: invalid value encountered in sqrt\n",
      "  np.sqrt(np.diag(res.cov_params()))\n"
     ]
    },
    {
     "data": {
      "text/plain": [
       "array([0.26961015,        nan, 0.2470222 ,        nan,        nan,\n",
       "       0.283841  ,        nan, 0.25069705, 0.27905625, 0.28220322,\n",
       "       0.27024427])"
      ]
     },
     "execution_count": 47,
     "metadata": {},
     "output_type": "execute_result"
    }
   ],
   "source": [
    "np.sqrt(np.diag(res.cov_params()))"
   ]
  },
  {
   "cell_type": "code",
   "execution_count": 48,
   "id": "korean-theorem",
   "metadata": {},
   "outputs": [
    {
     "data": {
      "text/html": [
       "<div>\n",
       "<style scoped>\n",
       "    .dataframe tbody tr th:only-of-type {\n",
       "        vertical-align: middle;\n",
       "    }\n",
       "\n",
       "    .dataframe tbody tr th {\n",
       "        vertical-align: top;\n",
       "    }\n",
       "\n",
       "    .dataframe thead th {\n",
       "        text-align: right;\n",
       "    }\n",
       "</style>\n",
       "<table border=\"1\" class=\"dataframe\">\n",
       "  <thead>\n",
       "    <tr style=\"text-align: right;\">\n",
       "      <th></th>\n",
       "      <th>const</th>\n",
       "      <th>feat_0</th>\n",
       "      <th>feat_1</th>\n",
       "      <th>feat_2</th>\n",
       "      <th>feat_3</th>\n",
       "      <th>feat_4</th>\n",
       "      <th>feat_5</th>\n",
       "      <th>feat_6</th>\n",
       "      <th>feat_7</th>\n",
       "      <th>feat_8</th>\n",
       "      <th>feat_9</th>\n",
       "    </tr>\n",
       "  </thead>\n",
       "  <tbody>\n",
       "    <tr>\n",
       "      <th>const</th>\n",
       "      <td>0.073</td>\n",
       "      <td>-0.001</td>\n",
       "      <td>-0.005</td>\n",
       "      <td>0.018</td>\n",
       "      <td>-0.002</td>\n",
       "      <td>0.009</td>\n",
       "      <td>-0.002</td>\n",
       "      <td>-0.004</td>\n",
       "      <td>-0.001</td>\n",
       "      <td>-0.000</td>\n",
       "      <td>0.002</td>\n",
       "    </tr>\n",
       "    <tr>\n",
       "      <th>feat_0</th>\n",
       "      <td>0.005</td>\n",
       "      <td>-80544246683306.047</td>\n",
       "      <td>0.001</td>\n",
       "      <td>206848537712461.844</td>\n",
       "      <td>-61431330697088.648</td>\n",
       "      <td>0.008</td>\n",
       "      <td>350404437956444.375</td>\n",
       "      <td>0.009</td>\n",
       "      <td>0.001</td>\n",
       "      <td>-0.007</td>\n",
       "      <td>0.000</td>\n",
       "    </tr>\n",
       "    <tr>\n",
       "      <th>feat_1</th>\n",
       "      <td>-0.005</td>\n",
       "      <td>0.007</td>\n",
       "      <td>0.061</td>\n",
       "      <td>-0.014</td>\n",
       "      <td>0.046</td>\n",
       "      <td>0.007</td>\n",
       "      <td>-0.043</td>\n",
       "      <td>0.003</td>\n",
       "      <td>0.004</td>\n",
       "      <td>0.001</td>\n",
       "      <td>-0.001</td>\n",
       "    </tr>\n",
       "    <tr>\n",
       "      <th>feat_2</th>\n",
       "      <td>-0.002</td>\n",
       "      <td>241481911792557.469</td>\n",
       "      <td>0.006</td>\n",
       "      <td>-814517098063326.125</td>\n",
       "      <td>-10782764511563.660</td>\n",
       "      <td>-0.018</td>\n",
       "      <td>-1040288202666481.625</td>\n",
       "      <td>-0.034</td>\n",
       "      <td>-0.006</td>\n",
       "      <td>-0.014</td>\n",
       "      <td>0.004</td>\n",
       "    </tr>\n",
       "    <tr>\n",
       "      <th>feat_3</th>\n",
       "      <td>-0.001</td>\n",
       "      <td>-26690526379933.066</td>\n",
       "      <td>0.041</td>\n",
       "      <td>-126416831645487.594</td>\n",
       "      <td>-215923418623698.562</td>\n",
       "      <td>0.007</td>\n",
       "      <td>126416831645487.609</td>\n",
       "      <td>-0.002</td>\n",
       "      <td>0.018</td>\n",
       "      <td>0.006</td>\n",
       "      <td>0.003</td>\n",
       "    </tr>\n",
       "    <tr>\n",
       "      <th>feat_4</th>\n",
       "      <td>0.009</td>\n",
       "      <td>0.001</td>\n",
       "      <td>0.007</td>\n",
       "      <td>0.006</td>\n",
       "      <td>0.009</td>\n",
       "      <td>0.081</td>\n",
       "      <td>-0.013</td>\n",
       "      <td>-0.012</td>\n",
       "      <td>0.002</td>\n",
       "      <td>-0.002</td>\n",
       "      <td>0.007</td>\n",
       "    </tr>\n",
       "    <tr>\n",
       "      <th>feat_5</th>\n",
       "      <td>-0.023</td>\n",
       "      <td>348574585390968.312</td>\n",
       "      <td>-0.011</td>\n",
       "      <td>-884917821518413.250</td>\n",
       "      <td>276159640467745.031</td>\n",
       "      <td>-0.042</td>\n",
       "      <td>-1517001979745851.500</td>\n",
       "      <td>-0.058</td>\n",
       "      <td>0.022</td>\n",
       "      <td>-0.003</td>\n",
       "      <td>0.014</td>\n",
       "    </tr>\n",
       "    <tr>\n",
       "      <th>feat_6</th>\n",
       "      <td>-0.004</td>\n",
       "      <td>0.009</td>\n",
       "      <td>0.003</td>\n",
       "      <td>-0.032</td>\n",
       "      <td>0.001</td>\n",
       "      <td>-0.012</td>\n",
       "      <td>-0.059</td>\n",
       "      <td>0.063</td>\n",
       "      <td>0.004</td>\n",
       "      <td>-0.001</td>\n",
       "      <td>0.001</td>\n",
       "    </tr>\n",
       "    <tr>\n",
       "      <th>feat_7</th>\n",
       "      <td>-0.001</td>\n",
       "      <td>0.013</td>\n",
       "      <td>0.004</td>\n",
       "      <td>-0.034</td>\n",
       "      <td>0.030</td>\n",
       "      <td>0.002</td>\n",
       "      <td>-0.029</td>\n",
       "      <td>0.004</td>\n",
       "      <td>0.078</td>\n",
       "      <td>0.010</td>\n",
       "      <td>0.018</td>\n",
       "    </tr>\n",
       "    <tr>\n",
       "      <th>feat_8</th>\n",
       "      <td>-0.000</td>\n",
       "      <td>0.006</td>\n",
       "      <td>0.001</td>\n",
       "      <td>-0.061</td>\n",
       "      <td>0.005</td>\n",
       "      <td>-0.002</td>\n",
       "      <td>-0.061</td>\n",
       "      <td>-0.001</td>\n",
       "      <td>0.010</td>\n",
       "      <td>0.080</td>\n",
       "      <td>-0.004</td>\n",
       "    </tr>\n",
       "    <tr>\n",
       "      <th>feat_9</th>\n",
       "      <td>0.002</td>\n",
       "      <td>0.005</td>\n",
       "      <td>-0.001</td>\n",
       "      <td>-0.010</td>\n",
       "      <td>0.006</td>\n",
       "      <td>0.007</td>\n",
       "      <td>-0.007</td>\n",
       "      <td>0.001</td>\n",
       "      <td>0.018</td>\n",
       "      <td>-0.004</td>\n",
       "      <td>0.073</td>\n",
       "    </tr>\n",
       "  </tbody>\n",
       "</table>\n",
       "</div>"
      ],
      "text/plain": [
       "        const              feat_0  feat_1               feat_2  \\\n",
       "const   0.073              -0.001  -0.005                0.018   \n",
       "feat_0  0.005 -80544246683306.047   0.001  206848537712461.844   \n",
       "feat_1 -0.005               0.007   0.061               -0.014   \n",
       "feat_2 -0.002 241481911792557.469   0.006 -814517098063326.125   \n",
       "feat_3 -0.001 -26690526379933.066   0.041 -126416831645487.594   \n",
       "feat_4  0.009               0.001   0.007                0.006   \n",
       "feat_5 -0.023 348574585390968.312  -0.011 -884917821518413.250   \n",
       "feat_6 -0.004               0.009   0.003               -0.032   \n",
       "feat_7 -0.001               0.013   0.004               -0.034   \n",
       "feat_8 -0.000               0.006   0.001               -0.061   \n",
       "feat_9  0.002               0.005  -0.001               -0.010   \n",
       "\n",
       "                     feat_3  feat_4                feat_5  feat_6  feat_7  \\\n",
       "const                -0.002   0.009                -0.002  -0.004  -0.001   \n",
       "feat_0  -61431330697088.648   0.008   350404437956444.375   0.009   0.001   \n",
       "feat_1                0.046   0.007                -0.043   0.003   0.004   \n",
       "feat_2  -10782764511563.660  -0.018 -1040288202666481.625  -0.034  -0.006   \n",
       "feat_3 -215923418623698.562   0.007   126416831645487.609  -0.002   0.018   \n",
       "feat_4                0.009   0.081                -0.013  -0.012   0.002   \n",
       "feat_5  276159640467745.031  -0.042 -1517001979745851.500  -0.058   0.022   \n",
       "feat_6                0.001  -0.012                -0.059   0.063   0.004   \n",
       "feat_7                0.030   0.002                -0.029   0.004   0.078   \n",
       "feat_8                0.005  -0.002                -0.061  -0.001   0.010   \n",
       "feat_9                0.006   0.007                -0.007   0.001   0.018   \n",
       "\n",
       "        feat_8  feat_9  \n",
       "const   -0.000   0.002  \n",
       "feat_0  -0.007   0.000  \n",
       "feat_1   0.001  -0.001  \n",
       "feat_2  -0.014   0.004  \n",
       "feat_3   0.006   0.003  \n",
       "feat_4  -0.002   0.007  \n",
       "feat_5  -0.003   0.014  \n",
       "feat_6  -0.001   0.001  \n",
       "feat_7   0.010   0.018  \n",
       "feat_8   0.080  -0.004  \n",
       "feat_9  -0.004   0.073  "
      ]
     },
     "execution_count": 48,
     "metadata": {},
     "output_type": "execute_result"
    }
   ],
   "source": [
    "res.cov_params()"
   ]
  },
  {
   "cell_type": "code",
   "execution_count": 49,
   "id": "judicial-breathing",
   "metadata": {},
   "outputs": [
    {
     "data": {
      "text/plain": [
       "array(['__class__', '__delattr__', '__dict__', '__dir__', '__doc__',\n",
       "       '__eq__', '__format__', '__ge__', '__getattribute__',\n",
       "       '__getstate__', '__gt__', '__hash__', '__init__',\n",
       "       '__init_subclass__', '__le__', '__lt__', '__module__', '__ne__',\n",
       "       '__new__', '__reduce__', '__reduce_ex__', '__repr__',\n",
       "       '__setattr__', '__sizeof__', '__str__', '__subclasshook__',\n",
       "       '__weakref__', '_cache', '_data_attr', '_data_in_cache',\n",
       "       '_get_endog_name', '_get_robustcov_results', '_use_t', 'aic',\n",
       "       'bic', 'bse', 'conf_int', 'cov_kwds', 'cov_params', 'cov_type',\n",
       "       'df_model', 'df_resid', 'f_test', 'fittedvalues', 'get_margeff',\n",
       "       'initialize', 'k_constant', 'llf', 'llnull', 'llr', 'llr_pvalue',\n",
       "       'load', 'mle_retvals', 'mle_settings', 'model', 'nobs',\n",
       "       'normalized_cov_params', 'params', 'pred_table', 'predict',\n",
       "       'prsquared', 'pvalues', 'remove_data', 'resid_dev',\n",
       "       'resid_generalized', 'resid_pearson', 'resid_response', 'save',\n",
       "       'scale', 'set_null_options', 'summary', 'summary2', 't_test',\n",
       "       't_test_pairwise', 'tvalues', 'use_t', 'wald_test',\n",
       "       'wald_test_terms'], dtype='<U22')"
      ]
     },
     "execution_count": 49,
     "metadata": {},
     "output_type": "execute_result"
    }
   ],
   "source": [
    "np.array(dir(res))"
   ]
  },
  {
   "cell_type": "code",
   "execution_count": 50,
   "id": "educated-holmes",
   "metadata": {},
   "outputs": [
    {
     "data": {
      "text/html": [
       "<table class=\"simpletable\">\n",
       "<caption>Logit Regression Results</caption>\n",
       "<tr>\n",
       "  <th>Dep. Variable:</th>        <td>target</td>      <th>  No. Observations:  </th>  <td>   240</td>  \n",
       "</tr>\n",
       "<tr>\n",
       "  <th>Model:</th>                 <td>Logit</td>      <th>  Df Residuals:      </th>  <td>   231</td>  \n",
       "</tr>\n",
       "<tr>\n",
       "  <th>Method:</th>                 <td>MLE</td>       <th>  Df Model:          </th>  <td>     8</td>  \n",
       "</tr>\n",
       "<tr>\n",
       "  <th>Date:</th>            <td>Thu, 21 Oct 2021</td> <th>  Pseudo R-squ.:     </th>  <td>0.7078</td>  \n",
       "</tr>\n",
       "<tr>\n",
       "  <th>Time:</th>                <td>15:02:12</td>     <th>  Log-Likelihood:    </th> <td> -48.604</td> \n",
       "</tr>\n",
       "<tr>\n",
       "  <th>converged:</th>             <td>False</td>      <th>  LL-Null:           </th> <td> -166.35</td> \n",
       "</tr>\n",
       "<tr>\n",
       "  <th>Covariance Type:</th>     <td>nonrobust</td>    <th>  LLR p-value:       </th> <td>2.044e-46</td>\n",
       "</tr>\n",
       "</table>\n",
       "<table class=\"simpletable\">\n",
       "<tr>\n",
       "     <td></td>       <th>coef</th>     <th>std err</th>      <th>z</th>      <th>P>|z|</th>  <th>[0.025</th>    <th>0.975]</th>  \n",
       "</tr>\n",
       "<tr>\n",
       "  <th>const</th>  <td>   -0.1164</td> <td>    0.270</td> <td>   -0.432</td> <td> 0.666</td> <td>   -0.645</td> <td>    0.412</td>\n",
       "</tr>\n",
       "<tr>\n",
       "  <th>feat_0</th> <td>    0.3157</td> <td>      nan</td> <td>      nan</td> <td>   nan</td> <td>      nan</td> <td>      nan</td>\n",
       "</tr>\n",
       "<tr>\n",
       "  <th>feat_1</th> <td>    0.2906</td> <td>    0.247</td> <td>    1.177</td> <td> 0.239</td> <td>   -0.194</td> <td>    0.775</td>\n",
       "</tr>\n",
       "<tr>\n",
       "  <th>feat_2</th> <td>   -1.4487</td> <td>      nan</td> <td>      nan</td> <td>   nan</td> <td>      nan</td> <td>      nan</td>\n",
       "</tr>\n",
       "<tr>\n",
       "  <th>feat_3</th> <td>    1.5071</td> <td>      nan</td> <td>      nan</td> <td>   nan</td> <td>      nan</td> <td>      nan</td>\n",
       "</tr>\n",
       "<tr>\n",
       "  <th>feat_4</th> <td>   -0.0589</td> <td>    0.284</td> <td>   -0.208</td> <td> 0.836</td> <td>   -0.615</td> <td>    0.497</td>\n",
       "</tr>\n",
       "<tr>\n",
       "  <th>feat_5</th> <td>    1.1920</td> <td>      nan</td> <td>      nan</td> <td>   nan</td> <td>      nan</td> <td>      nan</td>\n",
       "</tr>\n",
       "<tr>\n",
       "  <th>feat_6</th> <td>   -0.1860</td> <td>    0.251</td> <td>   -0.742</td> <td> 0.458</td> <td>   -0.677</td> <td>    0.305</td>\n",
       "</tr>\n",
       "<tr>\n",
       "  <th>feat_7</th> <td>    0.3723</td> <td>    0.279</td> <td>    1.334</td> <td> 0.182</td> <td>   -0.175</td> <td>    0.919</td>\n",
       "</tr>\n",
       "<tr>\n",
       "  <th>feat_8</th> <td>    0.2746</td> <td>    0.282</td> <td>    0.973</td> <td> 0.331</td> <td>   -0.279</td> <td>    0.828</td>\n",
       "</tr>\n",
       "<tr>\n",
       "  <th>feat_9</th> <td>    0.0193</td> <td>    0.270</td> <td>    0.071</td> <td> 0.943</td> <td>   -0.510</td> <td>    0.549</td>\n",
       "</tr>\n",
       "</table>"
      ],
      "text/plain": [
       "<class 'statsmodels.iolib.summary.Summary'>\n",
       "\"\"\"\n",
       "                           Logit Regression Results                           \n",
       "==============================================================================\n",
       "Dep. Variable:                 target   No. Observations:                  240\n",
       "Model:                          Logit   Df Residuals:                      231\n",
       "Method:                           MLE   Df Model:                            8\n",
       "Date:                Thu, 21 Oct 2021   Pseudo R-squ.:                  0.7078\n",
       "Time:                        15:02:12   Log-Likelihood:                -48.604\n",
       "converged:                      False   LL-Null:                       -166.35\n",
       "Covariance Type:            nonrobust   LLR p-value:                 2.044e-46\n",
       "==============================================================================\n",
       "                 coef    std err          z      P>|z|      [0.025      0.975]\n",
       "------------------------------------------------------------------------------\n",
       "const         -0.1164      0.270     -0.432      0.666      -0.645       0.412\n",
       "feat_0         0.3157        nan        nan        nan         nan         nan\n",
       "feat_1         0.2906      0.247      1.177      0.239      -0.194       0.775\n",
       "feat_2        -1.4487        nan        nan        nan         nan         nan\n",
       "feat_3         1.5071        nan        nan        nan         nan         nan\n",
       "feat_4        -0.0589      0.284     -0.208      0.836      -0.615       0.497\n",
       "feat_5         1.1920        nan        nan        nan         nan         nan\n",
       "feat_6        -0.1860      0.251     -0.742      0.458      -0.677       0.305\n",
       "feat_7         0.3723      0.279      1.334      0.182      -0.175       0.919\n",
       "feat_8         0.2746      0.282      0.973      0.331      -0.279       0.828\n",
       "feat_9         0.0193      0.270      0.071      0.943      -0.510       0.549\n",
       "==============================================================================\n",
       "\"\"\""
      ]
     },
     "execution_count": 50,
     "metadata": {},
     "output_type": "execute_result"
    }
   ],
   "source": [
    "res.summary()"
   ]
  },
  {
   "cell_type": "code",
   "execution_count": 51,
   "id": "careful-mainland",
   "metadata": {},
   "outputs": [
    {
     "ename": "AttributeError",
     "evalue": "'LogisticRegression' object has no attribute 'summary_'",
     "output_type": "error",
     "traceback": [
      "\u001b[0;31m---------------------------------------------------------------------------\u001b[0m",
      "\u001b[0;31mAttributeError\u001b[0m                            Traceback (most recent call last)",
      "\u001b[0;32m/var/folders/rc/1g_69mqs4t5dxcsd6dbczl_m0000gn/T/ipykernel_4643/2473483930.py\u001b[0m in \u001b[0;36m<module>\u001b[0;34m\u001b[0m\n\u001b[0;32m----> 1\u001b[0;31m \u001b[0mreg\u001b[0m\u001b[0;34m.\u001b[0m\u001b[0msummary_\u001b[0m\u001b[0;34m.\u001b[0m\u001b[0mround\u001b[0m\u001b[0;34m(\u001b[0m\u001b[0;36m3\u001b[0m\u001b[0;34m)\u001b[0m\u001b[0;34m\u001b[0m\u001b[0;34m\u001b[0m\u001b[0m\n\u001b[0m",
      "\u001b[0;31mAttributeError\u001b[0m: 'LogisticRegression' object has no attribute 'summary_'"
     ]
    }
   ],
   "source": [
    "reg.summary_.round(3)"
   ]
  },
  {
   "cell_type": "code",
   "execution_count": 52,
   "id": "played-inside",
   "metadata": {},
   "outputs": [],
   "source": [
    "y_pred = res.predict(exog=statsmodels.tools.tools.add_constant(data=df_test.filter(regex=\"feat\"), prepend=True, has_constant='skip'))"
   ]
  },
  {
   "cell_type": "markdown",
   "id": "funky-chamber",
   "metadata": {},
   "source": [
    "## Plot the predicted vs the real values"
   ]
  },
  {
   "cell_type": "code",
   "execution_count": 53,
   "id": "stretch-parker",
   "metadata": {},
   "outputs": [],
   "source": [
    "c_mat = confusion_matrix(y_test[\"target\"], y_pred.round(0),)"
   ]
  },
  {
   "cell_type": "code",
   "execution_count": 54,
   "id": "cardiovascular-knitting",
   "metadata": {},
   "outputs": [
    {
     "data": {
      "image/png": "[encoded data removed]",
      "text/plain": [
       "<Figure size 432x288 with 2 Axes>"
      ]
     },
     "metadata": {
      "needs_background": "light"
     },
     "output_type": "display_data"
    }
   ],
   "source": [
    "cmap='Blues'\n",
    "categories=[\"0\", \"1\"]\n",
    "\n",
    "_ = sns.heatmap(c_mat, \n",
    "                annot=True,            \n",
    "#                 fmt=\"\",\n",
    "                cmap=cmap,\n",
    "#                 cbar=cbar,\n",
    "                xticklabels=categories,\n",
    "                yticklabels=categories\n",
    "               )\n",
    "_ = plt.title(\"Confusion Matrix\")\n",
    "# _ = plt.xlabel(f'Predicted value\\n\\nAccuracy={summary_df[\"Accuracy\"].values[0]}\\nSensitivity={summary_df[\"Sensitivity\"].values[0]}\\nSpecificity={summary_df[\"Specificity\"].values[0]}\\nF1 Score={summary_df[\"F1\"].values[0]}')\n",
    "_ = plt.xlabel(f'Predicted value')\n",
    "_ = plt.ylabel(\"True value\")"
   ]
  },
  {
   "cell_type": "code",
   "execution_count": 55,
   "id": "under-difference",
   "metadata": {},
   "outputs": [
    {
     "data": {
      "text/plain": [
       "0.1722146936512775"
      ]
     },
     "execution_count": 55,
     "metadata": {},
     "output_type": "execute_result"
    }
   ],
   "source": [
    "log_loss_score = log_loss(y_test[\"target\"], \n",
    "        y_pred)\n",
    "log_loss_score"
   ]
  },
  {
   "cell_type": "code",
   "execution_count": 56,
   "id": "meaning-miniature",
   "metadata": {},
   "outputs": [],
   "source": [
    "# _ = plt.figure(figsize=(12, 7))\n",
    "# _ = plt.plot(y_test[\"target\"], \n",
    "#              y_pred, \n",
    "#              'o', \n",
    "# #              label='original data'\n",
    "#             )\n",
    "# _ = plt.annotate(text = f\"Log Loss = {round(log_loss, 5)}\",\n",
    "#                  xy=(0.9, 0.1),)"
   ]
  },
  {
   "cell_type": "code",
   "execution_count": 57,
   "id": "korean-absence",
   "metadata": {},
   "outputs": [],
   "source": [
    "fpr, tpr, thresh = roc_curve(y_true=y_test[\"target\"], y_score=y_pred, pos_label=1, sample_weight=None, drop_intermediate=False)"
   ]
  },
  {
   "cell_type": "code",
   "execution_count": 58,
   "id": "operating-productivity",
   "metadata": {},
   "outputs": [],
   "source": [
    "auc_score = roc_auc_score(y_true=y_test[\"target\"], y_score=y_pred)"
   ]
  },
  {
   "cell_type": "code",
   "execution_count": 59,
   "id": "planned-texture",
   "metadata": {},
   "outputs": [
    {
     "data": {
      "image/png": "[encoded data removed]",
      "text/plain": [
       "<Figure size 864x504 with 1 Axes>"
      ]
     },
     "metadata": {
      "needs_background": "light"
     },
     "output_type": "display_data"
    }
   ],
   "source": [
    "_ = plt.figure(figsize=(12, 7))\n",
    "_ = plt.plot(fpr, \n",
    "             tpr, \n",
    "#              'o', \n",
    "            )\n",
    "_ = plt.plot(fpr, \n",
    "             tpr, \n",
    "             'o',\n",
    "             c=\"orange\"\n",
    "            )\n",
    "\n",
    "_ = plt.annotate(text = f\"AUC = {round(auc_score, 5)}\",\n",
    "                 xy=(0.9, 0.1),)"
   ]
  },
  {
   "cell_type": "code",
   "execution_count": 60,
   "id": "infinite-worker",
   "metadata": {},
   "outputs": [
    {
     "ename": "AttributeError",
     "evalue": "'LogisticRegression' object has no attribute 'fit_evaluation_'",
     "output_type": "error",
     "traceback": [
      "\u001b[0;31m---------------------------------------------------------------------------\u001b[0m",
      "\u001b[0;31mAttributeError\u001b[0m                            Traceback (most recent call last)",
      "\u001b[0;32m/var/folders/rc/1g_69mqs4t5dxcsd6dbczl_m0000gn/T/ipykernel_4643/2958022505.py\u001b[0m in \u001b[0;36m<module>\u001b[0;34m\u001b[0m\n\u001b[0;32m----> 1\u001b[0;31m \u001b[0mreg\u001b[0m\u001b[0;34m.\u001b[0m\u001b[0mfit_evaluation_\u001b[0m\u001b[0;34m.\u001b[0m\u001b[0mround\u001b[0m\u001b[0;34m(\u001b[0m\u001b[0;36m4\u001b[0m\u001b[0;34m)\u001b[0m\u001b[0;34m\u001b[0m\u001b[0;34m\u001b[0m\u001b[0m\n\u001b[0m",
      "\u001b[0;31mAttributeError\u001b[0m: 'LogisticRegression' object has no attribute 'fit_evaluation_'"
     ]
    }
   ],
   "source": [
    "reg.fit_evaluation_.round(4)"
   ]
  },
  {
   "cell_type": "code",
   "execution_count": 61,
   "id": "dense-combat",
   "metadata": {},
   "outputs": [
    {
     "ename": "SyntaxError",
     "evalue": "invalid syntax (3319058519.py, line 1)",
     "output_type": "error",
     "traceback": [
      "\u001b[0;36m  File \u001b[0;32m\"/var/folders/rc/1g_69mqs4t5dxcsd6dbczl_m0000gn/T/ipykernel_4643/3319058519.py\"\u001b[0;36m, line \u001b[0;32m1\u001b[0m\n\u001b[0;31m    stop!\u001b[0m\n\u001b[0m        ^\u001b[0m\n\u001b[0;31mSyntaxError\u001b[0m\u001b[0;31m:\u001b[0m invalid syntax\n"
     ]
    }
   ],
   "source": [
    "stop!"
   ]
  },
  {
   "cell_type": "code",
   "execution_count": 62,
   "id": "miniature-quest",
   "metadata": {},
   "outputs": [
    {
     "data": {
      "text/plain": [
       "-48.60352327678345"
      ]
     },
     "execution_count": 62,
     "metadata": {},
     "output_type": "execute_result"
    }
   ],
   "source": [
    "res.llf"
   ]
  },
  {
   "cell_type": "code",
   "execution_count": 63,
   "id": "convenient-buddy",
   "metadata": {},
   "outputs": [
    {
     "data": {
      "text/plain": [
       "const    -0.432\n",
       "feat_0      nan\n",
       "feat_1    1.177\n",
       "feat_2      nan\n",
       "feat_3      nan\n",
       "feat_4   -0.208\n",
       "feat_5      nan\n",
       "feat_6   -0.742\n",
       "feat_7    1.334\n",
       "feat_8    0.973\n",
       "feat_9    0.071\n",
       "dtype: float64"
      ]
     },
     "execution_count": 63,
     "metadata": {},
     "output_type": "execute_result"
    }
   ],
   "source": [
    "res.params / res.bse"
   ]
  },
  {
   "cell_type": "code",
   "execution_count": 64,
   "id": "listed-thermal",
   "metadata": {},
   "outputs": [
    {
     "data": {
      "text/plain": [
       "const    -0.432\n",
       "feat_0      nan\n",
       "feat_1    1.177\n",
       "feat_2      nan\n",
       "feat_3      nan\n",
       "feat_4   -0.208\n",
       "feat_5      nan\n",
       "feat_6   -0.742\n",
       "feat_7    1.334\n",
       "feat_8    0.973\n",
       "feat_9    0.071\n",
       "dtype: float64"
      ]
     },
     "execution_count": 64,
     "metadata": {},
     "output_type": "execute_result"
    }
   ],
   "source": [
    "res.tvalues"
   ]
  },
  {
   "cell_type": "code",
   "execution_count": 65,
   "id": "miniature-outline",
   "metadata": {},
   "outputs": [
    {
     "data": {
      "text/plain": [
       "const    0.666\n",
       "feat_0     nan\n",
       "feat_1   0.239\n",
       "feat_2     nan\n",
       "feat_3     nan\n",
       "feat_4   0.836\n",
       "feat_5     nan\n",
       "feat_6   0.458\n",
       "feat_7   0.182\n",
       "feat_8   0.331\n",
       "feat_9   0.943\n",
       "dtype: float64"
      ]
     },
     "execution_count": 65,
     "metadata": {},
     "output_type": "execute_result"
    }
   ],
   "source": [
    "res.pvalues"
   ]
  },
  {
   "cell_type": "code",
   "execution_count": 66,
   "id": "living-music",
   "metadata": {},
   "outputs": [
    {
     "data": {
      "text/plain": [
       "231.0"
      ]
     },
     "execution_count": 66,
     "metadata": {},
     "output_type": "execute_result"
    }
   ],
   "source": [
    "res.df_resid"
   ]
  },
  {
   "cell_type": "code",
   "execution_count": 67,
   "id": "anonymous-reduction",
   "metadata": {},
   "outputs": [
    {
     "data": {
      "text/plain": [
       "array([0.66646066,        nan, 0.24058581,        nan,        nan,\n",
       "       0.83576289,        nan, 0.4588142 , 0.18344517, 0.33157256,\n",
       "       0.94317681])"
      ]
     },
     "execution_count": 67,
     "metadata": {},
     "output_type": "execute_result"
    }
   ],
   "source": [
    "stats.t.sf(np.abs(res.tvalues), res.df_resid) * 2"
   ]
  },
  {
   "cell_type": "code",
   "execution_count": 68,
   "id": "laughing-behalf",
   "metadata": {},
   "outputs": [
    {
     "data": {
      "text/plain": [
       "statsmodels.iolib.summary.Summary"
      ]
     },
     "execution_count": 68,
     "metadata": {},
     "output_type": "execute_result"
    }
   ],
   "source": [
    "type(res.summary())"
   ]
  },
  {
   "cell_type": "code",
   "execution_count": 69,
   "id": "absent-dodge",
   "metadata": {},
   "outputs": [
    {
     "data": {
      "text/html": [
       "<div>\n",
       "<style scoped>\n",
       "    .dataframe tbody tr th:only-of-type {\n",
       "        vertical-align: middle;\n",
       "    }\n",
       "\n",
       "    .dataframe tbody tr th {\n",
       "        vertical-align: top;\n",
       "    }\n",
       "\n",
       "    .dataframe thead th {\n",
       "        text-align: right;\n",
       "    }\n",
       "</style>\n",
       "<table border=\"1\" class=\"dataframe\">\n",
       "  <thead>\n",
       "    <tr style=\"text-align: right;\">\n",
       "      <th></th>\n",
       "      <th>0</th>\n",
       "      <th>1</th>\n",
       "    </tr>\n",
       "  </thead>\n",
       "  <tbody>\n",
       "    <tr>\n",
       "      <th>const</th>\n",
       "      <td>-0.645</td>\n",
       "      <td>0.412</td>\n",
       "    </tr>\n",
       "    <tr>\n",
       "      <th>feat_0</th>\n",
       "      <td>nan</td>\n",
       "      <td>nan</td>\n",
       "    </tr>\n",
       "    <tr>\n",
       "      <th>feat_1</th>\n",
       "      <td>-0.194</td>\n",
       "      <td>0.775</td>\n",
       "    </tr>\n",
       "    <tr>\n",
       "      <th>feat_2</th>\n",
       "      <td>nan</td>\n",
       "      <td>nan</td>\n",
       "    </tr>\n",
       "    <tr>\n",
       "      <th>feat_3</th>\n",
       "      <td>nan</td>\n",
       "      <td>nan</td>\n",
       "    </tr>\n",
       "    <tr>\n",
       "      <th>feat_4</th>\n",
       "      <td>-0.615</td>\n",
       "      <td>0.497</td>\n",
       "    </tr>\n",
       "    <tr>\n",
       "      <th>feat_5</th>\n",
       "      <td>nan</td>\n",
       "      <td>nan</td>\n",
       "    </tr>\n",
       "    <tr>\n",
       "      <th>feat_6</th>\n",
       "      <td>-0.677</td>\n",
       "      <td>0.305</td>\n",
       "    </tr>\n",
       "    <tr>\n",
       "      <th>feat_7</th>\n",
       "      <td>-0.175</td>\n",
       "      <td>0.919</td>\n",
       "    </tr>\n",
       "    <tr>\n",
       "      <th>feat_8</th>\n",
       "      <td>-0.279</td>\n",
       "      <td>0.828</td>\n",
       "    </tr>\n",
       "    <tr>\n",
       "      <th>feat_9</th>\n",
       "      <td>-0.510</td>\n",
       "      <td>0.549</td>\n",
       "    </tr>\n",
       "  </tbody>\n",
       "</table>\n",
       "</div>"
      ],
      "text/plain": [
       "            0     1\n",
       "const  -0.645 0.412\n",
       "feat_0    nan   nan\n",
       "feat_1 -0.194 0.775\n",
       "feat_2    nan   nan\n",
       "feat_3    nan   nan\n",
       "feat_4 -0.615 0.497\n",
       "feat_5    nan   nan\n",
       "feat_6 -0.677 0.305\n",
       "feat_7 -0.175 0.919\n",
       "feat_8 -0.279 0.828\n",
       "feat_9 -0.510 0.549"
      ]
     },
     "execution_count": 69,
     "metadata": {},
     "output_type": "execute_result"
    }
   ],
   "source": [
    "res.conf_int()"
   ]
  },
  {
   "cell_type": "code",
   "execution_count": 70,
   "id": "labeled-memorabilia",
   "metadata": {},
   "outputs": [
    {
     "ename": "AttributeError",
     "evalue": "'LogitResults' object has no attribute 'rsquared'",
     "output_type": "error",
     "traceback": [
      "\u001b[0;31m---------------------------------------------------------------------------\u001b[0m",
      "\u001b[0;31mAttributeError\u001b[0m                            Traceback (most recent call last)",
      "\u001b[0;32m/var/folders/rc/1g_69mqs4t5dxcsd6dbczl_m0000gn/T/ipykernel_4643/3257811764.py\u001b[0m in \u001b[0;36m<module>\u001b[0;34m\u001b[0m\n\u001b[0;32m----> 1\u001b[0;31m \u001b[0mres\u001b[0m\u001b[0;34m.\u001b[0m\u001b[0mrsquared\u001b[0m\u001b[0;34m\u001b[0m\u001b[0;34m\u001b[0m\u001b[0m\n\u001b[0m",
      "\u001b[0;32m/opt/miniconda3/envs/pymer4_env/lib/python3.8/site-packages/statsmodels/base/wrapper.py\u001b[0m in \u001b[0;36m__getattribute__\u001b[0;34m(self, attr)\u001b[0m\n\u001b[1;32m     32\u001b[0m             \u001b[0;32mpass\u001b[0m\u001b[0;34m\u001b[0m\u001b[0;34m\u001b[0m\u001b[0m\n\u001b[1;32m     33\u001b[0m \u001b[0;34m\u001b[0m\u001b[0m\n\u001b[0;32m---> 34\u001b[0;31m         \u001b[0mobj\u001b[0m \u001b[0;34m=\u001b[0m \u001b[0mgetattr\u001b[0m\u001b[0;34m(\u001b[0m\u001b[0mresults\u001b[0m\u001b[0;34m,\u001b[0m \u001b[0mattr\u001b[0m\u001b[0;34m)\u001b[0m\u001b[0;34m\u001b[0m\u001b[0;34m\u001b[0m\u001b[0m\n\u001b[0m\u001b[1;32m     35\u001b[0m         \u001b[0mdata\u001b[0m \u001b[0;34m=\u001b[0m \u001b[0mresults\u001b[0m\u001b[0;34m.\u001b[0m\u001b[0mmodel\u001b[0m\u001b[0;34m.\u001b[0m\u001b[0mdata\u001b[0m\u001b[0;34m\u001b[0m\u001b[0;34m\u001b[0m\u001b[0m\n\u001b[1;32m     36\u001b[0m         \u001b[0mhow\u001b[0m \u001b[0;34m=\u001b[0m \u001b[0mself\u001b[0m\u001b[0;34m.\u001b[0m\u001b[0m_wrap_attrs\u001b[0m\u001b[0;34m.\u001b[0m\u001b[0mget\u001b[0m\u001b[0;34m(\u001b[0m\u001b[0mattr\u001b[0m\u001b[0;34m)\u001b[0m\u001b[0;34m\u001b[0m\u001b[0;34m\u001b[0m\u001b[0m\n",
      "\u001b[0;31mAttributeError\u001b[0m: 'LogitResults' object has no attribute 'rsquared'"
     ]
    }
   ],
   "source": [
    "res.rsquared"
   ]
  },
  {
   "cell_type": "code",
   "execution_count": 71,
   "id": "apparent-reservoir",
   "metadata": {},
   "outputs": [
    {
     "ename": "AttributeError",
     "evalue": "'LogitResults' object has no attribute 'ssr'",
     "output_type": "error",
     "traceback": [
      "\u001b[0;31m---------------------------------------------------------------------------\u001b[0m",
      "\u001b[0;31mAttributeError\u001b[0m                            Traceback (most recent call last)",
      "\u001b[0;32m/var/folders/rc/1g_69mqs4t5dxcsd6dbczl_m0000gn/T/ipykernel_4643/211509585.py\u001b[0m in \u001b[0;36m<module>\u001b[0;34m\u001b[0m\n\u001b[0;32m----> 1\u001b[0;31m \u001b[0mres\u001b[0m\u001b[0;34m.\u001b[0m\u001b[0mssr\u001b[0m\u001b[0;34m\u001b[0m\u001b[0;34m\u001b[0m\u001b[0m\n\u001b[0m",
      "\u001b[0;32m/opt/miniconda3/envs/pymer4_env/lib/python3.8/site-packages/statsmodels/base/wrapper.py\u001b[0m in \u001b[0;36m__getattribute__\u001b[0;34m(self, attr)\u001b[0m\n\u001b[1;32m     32\u001b[0m             \u001b[0;32mpass\u001b[0m\u001b[0;34m\u001b[0m\u001b[0;34m\u001b[0m\u001b[0m\n\u001b[1;32m     33\u001b[0m \u001b[0;34m\u001b[0m\u001b[0m\n\u001b[0;32m---> 34\u001b[0;31m         \u001b[0mobj\u001b[0m \u001b[0;34m=\u001b[0m \u001b[0mgetattr\u001b[0m\u001b[0;34m(\u001b[0m\u001b[0mresults\u001b[0m\u001b[0;34m,\u001b[0m \u001b[0mattr\u001b[0m\u001b[0;34m)\u001b[0m\u001b[0;34m\u001b[0m\u001b[0;34m\u001b[0m\u001b[0m\n\u001b[0m\u001b[1;32m     35\u001b[0m         \u001b[0mdata\u001b[0m \u001b[0;34m=\u001b[0m \u001b[0mresults\u001b[0m\u001b[0;34m.\u001b[0m\u001b[0mmodel\u001b[0m\u001b[0;34m.\u001b[0m\u001b[0mdata\u001b[0m\u001b[0;34m\u001b[0m\u001b[0;34m\u001b[0m\u001b[0m\n\u001b[1;32m     36\u001b[0m         \u001b[0mhow\u001b[0m \u001b[0;34m=\u001b[0m \u001b[0mself\u001b[0m\u001b[0;34m.\u001b[0m\u001b[0m_wrap_attrs\u001b[0m\u001b[0;34m.\u001b[0m\u001b[0mget\u001b[0m\u001b[0;34m(\u001b[0m\u001b[0mattr\u001b[0m\u001b[0;34m)\u001b[0m\u001b[0;34m\u001b[0m\u001b[0;34m\u001b[0m\u001b[0m\n",
      "\u001b[0;31mAttributeError\u001b[0m: 'LogitResults' object has no attribute 'ssr'"
     ]
    }
   ],
   "source": [
    "res.ssr"
   ]
  },
  {
   "cell_type": "code",
   "execution_count": 72,
   "id": "sitting-revolution",
   "metadata": {},
   "outputs": [
    {
     "ename": "AttributeError",
     "evalue": "'LogitResults' object has no attribute 'resid'",
     "output_type": "error",
     "traceback": [
      "\u001b[0;31m---------------------------------------------------------------------------\u001b[0m",
      "\u001b[0;31mAttributeError\u001b[0m                            Traceback (most recent call last)",
      "\u001b[0;32m/var/folders/rc/1g_69mqs4t5dxcsd6dbczl_m0000gn/T/ipykernel_4643/4058223596.py\u001b[0m in \u001b[0;36m<module>\u001b[0;34m\u001b[0m\n\u001b[0;32m----> 1\u001b[0;31m \u001b[0mres\u001b[0m\u001b[0;34m.\u001b[0m\u001b[0mresid\u001b[0m\u001b[0;34m\u001b[0m\u001b[0;34m\u001b[0m\u001b[0m\n\u001b[0m",
      "\u001b[0;32m/opt/miniconda3/envs/pymer4_env/lib/python3.8/site-packages/statsmodels/base/wrapper.py\u001b[0m in \u001b[0;36m__getattribute__\u001b[0;34m(self, attr)\u001b[0m\n\u001b[1;32m     32\u001b[0m             \u001b[0;32mpass\u001b[0m\u001b[0;34m\u001b[0m\u001b[0;34m\u001b[0m\u001b[0m\n\u001b[1;32m     33\u001b[0m \u001b[0;34m\u001b[0m\u001b[0m\n\u001b[0;32m---> 34\u001b[0;31m         \u001b[0mobj\u001b[0m \u001b[0;34m=\u001b[0m \u001b[0mgetattr\u001b[0m\u001b[0;34m(\u001b[0m\u001b[0mresults\u001b[0m\u001b[0;34m,\u001b[0m \u001b[0mattr\u001b[0m\u001b[0;34m)\u001b[0m\u001b[0;34m\u001b[0m\u001b[0;34m\u001b[0m\u001b[0m\n\u001b[0m\u001b[1;32m     35\u001b[0m         \u001b[0mdata\u001b[0m \u001b[0;34m=\u001b[0m \u001b[0mresults\u001b[0m\u001b[0;34m.\u001b[0m\u001b[0mmodel\u001b[0m\u001b[0;34m.\u001b[0m\u001b[0mdata\u001b[0m\u001b[0;34m\u001b[0m\u001b[0;34m\u001b[0m\u001b[0m\n\u001b[1;32m     36\u001b[0m         \u001b[0mhow\u001b[0m \u001b[0;34m=\u001b[0m \u001b[0mself\u001b[0m\u001b[0;34m.\u001b[0m\u001b[0m_wrap_attrs\u001b[0m\u001b[0;34m.\u001b[0m\u001b[0mget\u001b[0m\u001b[0;34m(\u001b[0m\u001b[0mattr\u001b[0m\u001b[0;34m)\u001b[0m\u001b[0;34m\u001b[0m\u001b[0;34m\u001b[0m\u001b[0m\n",
      "\u001b[0;31mAttributeError\u001b[0m: 'LogitResults' object has no attribute 'resid'"
     ]
    }
   ],
   "source": [
    "res.resid"
   ]
  },
  {
   "cell_type": "code",
   "execution_count": 73,
   "id": "quick-bread",
   "metadata": {},
   "outputs": [
    {
     "data": {
      "text/plain": [
       "<bound method LogisticRegression.resid of LogisticRegression(normalize=True)>"
      ]
     },
     "execution_count": 73,
     "metadata": {},
     "output_type": "execute_result"
    }
   ],
   "source": [
    "reg.resid"
   ]
  },
  {
   "cell_type": "code",
   "execution_count": null,
   "id": "comparable-practice",
   "metadata": {},
   "outputs": [],
   "source": []
  }
 ],
 "metadata": {
  "kernelspec": {
   "display_name": "pymer4_env",
   "language": "python",
   "name": "pymer4_env"
  },
  "language_info": {
   "codemirror_mode": {
    "name": "ipython",
    "version": 3
   },
   "file_extension": ".py",
   "mimetype": "text/x-python",
   "name": "python",
   "nbconvert_exporter": "python",
   "pygments_lexer": "ipython3",
   "version": "3.8.10"
  }
 },
 "nbformat": 4,
 "nbformat_minor": 5
}
