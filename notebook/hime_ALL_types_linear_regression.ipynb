{
 "cells": [
  {
   "cell_type": "markdown",
   "id": "flush-dairy",
   "metadata": {},
   "source": [
    "# Exploring the different linear regressions which use the `hime.LinearRegression` class as the `BaseEstimator`"
   ]
  },
  {
   "cell_type": "code",
   "execution_count": 1,
   "id": "rocky-thriller",
   "metadata": {},
   "outputs": [],
   "source": [
    "import os\n",
    "import numpy as np\n",
    "import pandas as pd\n",
    "import seaborn as sns\n",
    "import matplotlib.pyplot as plt\n",
    "from sklearn.datasets import make_regression\n",
    "from sklearn.metrics import r2_score\n",
    "import session_info"
   ]
  },
  {
   "cell_type": "code",
   "execution_count": 2,
   "id": "specialized-instrumentation",
   "metadata": {},
   "outputs": [],
   "source": [
    "current_wd = os.getcwd()\n",
    "os.chdir(current_wd.split(\"/notebook\")[0])\n",
    "from hime.linear_model import LinearRegression, LassoRegression, RidgeRegression\n",
    "os.chdir(current_wd)"
   ]
  },
  {
   "cell_type": "code",
   "execution_count": 3,
   "id": "interior-joyce",
   "metadata": {},
   "outputs": [
    {
     "data": {
      "text/html": [
       "<details>\n",
       "<summary>Click to view session information</summary>\n",
       "<pre>\n",
       "-----\n",
       "hime                0.0.1\n",
       "matplotlib          3.3.4\n",
       "numpy               1.19.2\n",
       "pandas              1.2.3\n",
       "seaborn             0.11.1\n",
       "session_info        1.0.0\n",
       "sklearn             0.24.1\n",
       "-----\n",
       "</pre>\n",
       "<details>\n",
       "<summary>Click to view modules imported as dependencies</summary>\n",
       "<pre>\n",
       "PIL                 8.1.2\n",
       "appnope             0.1.2\n",
       "backcall            0.2.0\n",
       "casadi              3.5.5\n",
       "cffi                1.14.5\n",
       "colorama            0.3.9\n",
       "cycler              0.10.0\n",
       "cython_runtime      NA\n",
       "dateutil            2.8.1\n",
       "decorator           4.4.2\n",
       "ipykernel           5.3.4\n",
       "ipython_genutils    0.2.0\n",
       "ipywidgets          7.6.3\n",
       "jedi                0.17.2\n",
       "joblib              0.17.0\n",
       "kiwisolver          1.3.1\n",
       "mpl_toolkits        NA\n",
       "parso               0.7.0\n",
       "pexpect             4.8.0\n",
       "pickleshare         0.7.5\n",
       "pkg_resources       NA\n",
       "prompt_toolkit      3.0.8\n",
       "psutil              5.8.0\n",
       "ptyprocess          0.7.0\n",
       "pyexpat             NA\n",
       "pygments            2.8.1\n",
       "pyparsing           2.4.7\n",
       "pytz                2021.1\n",
       "repoze              NA\n",
       "scipy               1.5.3\n",
       "simplejson          3.17.5\n",
       "six                 1.15.0\n",
       "statsmodels         0.12.2\n",
       "storemagic          NA\n",
       "swig_runtime_data4  NA\n",
       "tornado             6.1\n",
       "traitlets           5.0.5\n",
       "wcwidth             0.2.5\n",
       "zc                  NA\n",
       "zmq                 20.0.0\n",
       "</pre>\n",
       "</details> <!-- seems like this ends pre, so might as well be explicit -->\n",
       "<pre>\n",
       "-----\n",
       "IPython             7.21.0\n",
       "jupyter_client      6.1.7\n",
       "jupyter_core        4.7.1\n",
       "jupyterlab          2.2.6\n",
       "notebook            6.2.0\n",
       "-----\n",
       "Python 3.9.2 (default, Mar  3 2021, 11:58:52) [Clang 10.0.0 ]\n",
       "macOS-10.16-x86_64-i386-64bit\n",
       "-----\n",
       "Session information updated at 2021-10-21 15:03\n",
       "</pre>\n",
       "</details>"
      ],
      "text/plain": [
       "<IPython.core.display.HTML object>"
      ]
     },
     "execution_count": 3,
     "metadata": {},
     "output_type": "execute_result"
    }
   ],
   "source": [
    "session_info.show(write_req_file=False)"
   ]
  },
  {
   "cell_type": "markdown",
   "id": "supported-collins",
   "metadata": {},
   "source": [
    "## Make X and y data"
   ]
  },
  {
   "cell_type": "code",
   "execution_count": 4,
   "id": "amended-clear",
   "metadata": {},
   "outputs": [],
   "source": [
    "amount_of_features = 4\n",
    "X, y, coef = make_regression(n_samples=100,\n",
    "    n_features=amount_of_features,\n",
    "    n_informative=amount_of_features,\n",
    "                             noise=5,\n",
    "                             coef=True, \n",
    "                            random_state=42)"
   ]
  },
  {
   "cell_type": "code",
   "execution_count": 5,
   "id": "australian-encoding",
   "metadata": {},
   "outputs": [
    {
     "data": {
      "text/plain": [
       "array([86.47223763,  5.63754967, 27.34070719, 41.48195023])"
      ]
     },
     "execution_count": 5,
     "metadata": {},
     "output_type": "execute_result"
    }
   ],
   "source": [
    "coef"
   ]
  },
  {
   "cell_type": "markdown",
   "id": "forty-olive",
   "metadata": {},
   "source": [
    "## Fit the model"
   ]
  },
  {
   "cell_type": "code",
   "execution_count": 6,
   "id": "brilliant-tuesday",
   "metadata": {},
   "outputs": [],
   "source": [
    "df = (pd.DataFrame(X, columns=[f\"feat_{x}\" for x in range(0, X.shape[1])])\n",
    ".merge(pd.DataFrame(y, columns=[\"target\"]),\n",
    "      left_index=True,\n",
    "      right_index=True))"
   ]
  },
  {
   "cell_type": "code",
   "execution_count": 7,
   "id": "separate-shopper",
   "metadata": {},
   "outputs": [
    {
     "data": {
      "text/html": [
       "<div>\n",
       "<style scoped>\n",
       "    .dataframe tbody tr th:only-of-type {\n",
       "        vertical-align: middle;\n",
       "    }\n",
       "\n",
       "    .dataframe tbody tr th {\n",
       "        vertical-align: top;\n",
       "    }\n",
       "\n",
       "    .dataframe thead th {\n",
       "        text-align: right;\n",
       "    }\n",
       "</style>\n",
       "<table border=\"1\" class=\"dataframe\">\n",
       "  <thead>\n",
       "    <tr style=\"text-align: right;\">\n",
       "      <th></th>\n",
       "      <th>feat_0</th>\n",
       "      <th>feat_1</th>\n",
       "      <th>feat_2</th>\n",
       "      <th>feat_3</th>\n",
       "      <th>target</th>\n",
       "    </tr>\n",
       "  </thead>\n",
       "  <tbody>\n",
       "    <tr>\n",
       "      <th>0</th>\n",
       "      <td>0.852433</td>\n",
       "      <td>-0.661786</td>\n",
       "      <td>0.186454</td>\n",
       "      <td>-2.025143</td>\n",
       "      <td>-8.751790</td>\n",
       "    </tr>\n",
       "    <tr>\n",
       "      <th>1</th>\n",
       "      <td>-0.493001</td>\n",
       "      <td>-0.208122</td>\n",
       "      <td>-0.622700</td>\n",
       "      <td>0.280992</td>\n",
       "      <td>-40.948309</td>\n",
       "    </tr>\n",
       "    <tr>\n",
       "      <th>2</th>\n",
       "      <td>-1.142970</td>\n",
       "      <td>0.058209</td>\n",
       "      <td>0.153725</td>\n",
       "      <td>-0.883857</td>\n",
       "      <td>-126.192510</td>\n",
       "    </tr>\n",
       "    <tr>\n",
       "      <th>3</th>\n",
       "      <td>0.375698</td>\n",
       "      <td>-1.150994</td>\n",
       "      <td>0.110923</td>\n",
       "      <td>-0.544383</td>\n",
       "      <td>7.050788</td>\n",
       "    </tr>\n",
       "    <tr>\n",
       "      <th>4</th>\n",
       "      <td>-1.196207</td>\n",
       "      <td>-1.106335</td>\n",
       "      <td>-0.185659</td>\n",
       "      <td>-0.479174</td>\n",
       "      <td>-134.050438</td>\n",
       "    </tr>\n",
       "  </tbody>\n",
       "</table>\n",
       "</div>"
      ],
      "text/plain": [
       "     feat_0    feat_1    feat_2    feat_3      target\n",
       "0  0.852433 -0.661786  0.186454 -2.025143   -8.751790\n",
       "1 -0.493001 -0.208122 -0.622700  0.280992  -40.948309\n",
       "2 -1.142970  0.058209  0.153725 -0.883857 -126.192510\n",
       "3  0.375698 -1.150994  0.110923 -0.544383    7.050788\n",
       "4 -1.196207 -1.106335 -0.185659 -0.479174 -134.050438"
      ]
     },
     "execution_count": 7,
     "metadata": {},
     "output_type": "execute_result"
    }
   ],
   "source": [
    "df.head()"
   ]
  },
  {
   "cell_type": "code",
   "execution_count": 8,
   "id": "impossible-logic",
   "metadata": {},
   "outputs": [],
   "source": [
    "df_train = df.sample(frac=0.8, random_state=69420)\n",
    "df_test = df.drop(df_train.index)"
   ]
  },
  {
   "cell_type": "code",
   "execution_count": 9,
   "id": "associate-series",
   "metadata": {},
   "outputs": [
    {
     "data": {
      "text/plain": [
       "((80, 5), (20, 5))"
      ]
     },
     "execution_count": 9,
     "metadata": {},
     "output_type": "execute_result"
    }
   ],
   "source": [
    "df_train.shape, df_test.shape"
   ]
  },
  {
   "cell_type": "markdown",
   "id": "figured-florida",
   "metadata": {},
   "source": [
    "## Fit the romeo LinearRegression"
   ]
  },
  {
   "cell_type": "code",
   "execution_count": 10,
   "id": "suspended-transfer",
   "metadata": {},
   "outputs": [],
   "source": [
    "reg = LinearRegression(fit_intercept=True,\n",
    "                      normalize=True).fit(X=df_train.filter(regex=\"feat\"), \n",
    "                                               y=df_train[\"target\"], \n",
    "                                               verbose=False)"
   ]
  },
  {
   "cell_type": "code",
   "execution_count": 11,
   "id": "acceptable-blink",
   "metadata": {},
   "outputs": [
    {
     "data": {
      "text/html": [
       "<div>\n",
       "<style scoped>\n",
       "    .dataframe tbody tr th:only-of-type {\n",
       "        vertical-align: middle;\n",
       "    }\n",
       "\n",
       "    .dataframe tbody tr th {\n",
       "        vertical-align: top;\n",
       "    }\n",
       "\n",
       "    .dataframe thead th {\n",
       "        text-align: right;\n",
       "    }\n",
       "</style>\n",
       "<table border=\"1\" class=\"dataframe\">\n",
       "  <thead>\n",
       "    <tr style=\"text-align: right;\">\n",
       "      <th></th>\n",
       "      <th>coef</th>\n",
       "      <th>std_err</th>\n",
       "      <th>t</th>\n",
       "      <th>P&gt;|t|</th>\n",
       "      <th>[0.025</th>\n",
       "      <th>0.975]</th>\n",
       "    </tr>\n",
       "  </thead>\n",
       "  <tbody>\n",
       "    <tr>\n",
       "      <th>intercept</th>\n",
       "      <td>-0.171726</td>\n",
       "      <td>0.651993</td>\n",
       "      <td>-0.263386</td>\n",
       "      <td>7.929751e-01</td>\n",
       "      <td>-1.470563</td>\n",
       "      <td>1.127110</td>\n",
       "    </tr>\n",
       "    <tr>\n",
       "      <th>feat_0</th>\n",
       "      <td>87.155885</td>\n",
       "      <td>0.701928</td>\n",
       "      <td>124.166366</td>\n",
       "      <td>1.410762e-88</td>\n",
       "      <td>85.757572</td>\n",
       "      <td>88.554198</td>\n",
       "    </tr>\n",
       "    <tr>\n",
       "      <th>feat_1</th>\n",
       "      <td>5.751563</td>\n",
       "      <td>0.655423</td>\n",
       "      <td>8.775339</td>\n",
       "      <td>3.983391e-13</td>\n",
       "      <td>4.445893</td>\n",
       "      <td>7.057234</td>\n",
       "    </tr>\n",
       "    <tr>\n",
       "      <th>feat_2</th>\n",
       "      <td>26.934038</td>\n",
       "      <td>0.660686</td>\n",
       "      <td>40.766763</td>\n",
       "      <td>6.241126e-53</td>\n",
       "      <td>25.617884</td>\n",
       "      <td>28.250193</td>\n",
       "    </tr>\n",
       "    <tr>\n",
       "      <th>feat_3</th>\n",
       "      <td>40.459461</td>\n",
       "      <td>0.767188</td>\n",
       "      <td>52.737353</td>\n",
       "      <td>4.910777e-61</td>\n",
       "      <td>38.931144</td>\n",
       "      <td>41.987777</td>\n",
       "    </tr>\n",
       "  </tbody>\n",
       "</table>\n",
       "</div>"
      ],
      "text/plain": [
       "                coef   std_err           t         P>|t|     [0.025     0.975]\n",
       "intercept  -0.171726  0.651993   -0.263386  7.929751e-01  -1.470563   1.127110\n",
       "feat_0     87.155885  0.701928  124.166366  1.410762e-88  85.757572  88.554198\n",
       "feat_1      5.751563  0.655423    8.775339  3.983391e-13   4.445893   7.057234\n",
       "feat_2     26.934038  0.660686   40.766763  6.241126e-53  25.617884  28.250193\n",
       "feat_3     40.459461  0.767188   52.737353  4.910777e-61  38.931144  41.987777"
      ]
     },
     "execution_count": 11,
     "metadata": {},
     "output_type": "execute_result"
    }
   ],
   "source": [
    "reg.summary_"
   ]
  },
  {
   "cell_type": "markdown",
   "id": "brilliant-equation",
   "metadata": {},
   "source": [
    "## Fit the romeo LassoRegression"
   ]
  },
  {
   "cell_type": "code",
   "execution_count": 12,
   "id": "correct-brief",
   "metadata": {},
   "outputs": [],
   "source": [
    "reg = LassoRegression(fit_intercept=True,\n",
    "                      normalize=True).fit(X=df_train.filter(regex=\"feat\"), \n",
    "                                               y=df_train[\"target\"], \n",
    "                                               verbose=False)"
   ]
  },
  {
   "cell_type": "code",
   "execution_count": 13,
   "id": "unauthorized-worth",
   "metadata": {},
   "outputs": [
    {
     "data": {
      "text/html": [
       "<div>\n",
       "<style scoped>\n",
       "    .dataframe tbody tr th:only-of-type {\n",
       "        vertical-align: middle;\n",
       "    }\n",
       "\n",
       "    .dataframe tbody tr th {\n",
       "        vertical-align: top;\n",
       "    }\n",
       "\n",
       "    .dataframe thead th {\n",
       "        text-align: right;\n",
       "    }\n",
       "</style>\n",
       "<table border=\"1\" class=\"dataframe\">\n",
       "  <thead>\n",
       "    <tr style=\"text-align: right;\">\n",
       "      <th></th>\n",
       "      <th>coef</th>\n",
       "      <th>std_err</th>\n",
       "      <th>t</th>\n",
       "      <th>P&gt;|t|</th>\n",
       "      <th>[0.025</th>\n",
       "      <th>0.975]</th>\n",
       "    </tr>\n",
       "  </thead>\n",
       "  <tbody>\n",
       "    <tr>\n",
       "      <th>intercept</th>\n",
       "      <td>-0.165649</td>\n",
       "      <td>0.675911</td>\n",
       "      <td>-0.245075</td>\n",
       "      <td>8.070673e-01</td>\n",
       "      <td>-1.512133</td>\n",
       "      <td>1.180835</td>\n",
       "    </tr>\n",
       "    <tr>\n",
       "      <th>feat_0</th>\n",
       "      <td>87.147864</td>\n",
       "      <td>0.727678</td>\n",
       "      <td>119.761519</td>\n",
       "      <td>2.089901e-87</td>\n",
       "      <td>85.698254</td>\n",
       "      <td>88.597474</td>\n",
       "    </tr>\n",
       "    <tr>\n",
       "      <th>feat_1</th>\n",
       "      <td>5.743241</td>\n",
       "      <td>0.679468</td>\n",
       "      <td>8.452562</td>\n",
       "      <td>1.640541e-12</td>\n",
       "      <td>4.389673</td>\n",
       "      <td>7.096810</td>\n",
       "    </tr>\n",
       "    <tr>\n",
       "      <th>feat_2</th>\n",
       "      <td>26.927887</td>\n",
       "      <td>0.684923</td>\n",
       "      <td>39.315186</td>\n",
       "      <td>8.396310e-52</td>\n",
       "      <td>25.563450</td>\n",
       "      <td>28.292325</td>\n",
       "    </tr>\n",
       "    <tr>\n",
       "      <th>feat_3</th>\n",
       "      <td>40.449371</td>\n",
       "      <td>0.795332</td>\n",
       "      <td>50.858473</td>\n",
       "      <td>6.934968e-60</td>\n",
       "      <td>38.864989</td>\n",
       "      <td>42.033754</td>\n",
       "    </tr>\n",
       "  </tbody>\n",
       "</table>\n",
       "</div>"
      ],
      "text/plain": [
       "                coef   std_err           t         P>|t|     [0.025     0.975]\n",
       "intercept  -0.165649  0.675911   -0.245075  8.070673e-01  -1.512133   1.180835\n",
       "feat_0     87.147864  0.727678  119.761519  2.089901e-87  85.698254  88.597474\n",
       "feat_1      5.743241  0.679468    8.452562  1.640541e-12   4.389673   7.096810\n",
       "feat_2     26.927887  0.684923   39.315186  8.396310e-52  25.563450  28.292325\n",
       "feat_3     40.449371  0.795332   50.858473  6.934968e-60  38.864989  42.033754"
      ]
     },
     "execution_count": 13,
     "metadata": {},
     "output_type": "execute_result"
    }
   ],
   "source": [
    "reg.summary_"
   ]
  },
  {
   "cell_type": "code",
   "execution_count": 14,
   "id": "pharmaceutical-junction",
   "metadata": {},
   "outputs": [
    {
     "data": {
      "text/html": [
       "<div>\n",
       "<style scoped>\n",
       "    .dataframe tbody tr th:only-of-type {\n",
       "        vertical-align: middle;\n",
       "    }\n",
       "\n",
       "    .dataframe tbody tr th {\n",
       "        vertical-align: top;\n",
       "    }\n",
       "\n",
       "    .dataframe thead th {\n",
       "        text-align: right;\n",
       "    }\n",
       "</style>\n",
       "<table border=\"1\" class=\"dataframe\">\n",
       "  <thead>\n",
       "    <tr style=\"text-align: right;\">\n",
       "      <th></th>\n",
       "      <th>r_squared</th>\n",
       "      <th>r_squared_adj</th>\n",
       "      <th>f_statistic</th>\n",
       "      <th>f_statistic_pvalue</th>\n",
       "      <th>log_likelihood</th>\n",
       "      <th>AIC</th>\n",
       "      <th>BIC</th>\n",
       "    </tr>\n",
       "  </thead>\n",
       "  <tbody>\n",
       "    <tr>\n",
       "      <th>model_evaluation</th>\n",
       "      <td>0.997</td>\n",
       "      <td>0.997</td>\n",
       "      <td>5759.773</td>\n",
       "      <td>0.0</td>\n",
       "      <td>-247.64</td>\n",
       "      <td>503.28</td>\n",
       "      <td>512.808</td>\n",
       "    </tr>\n",
       "  </tbody>\n",
       "</table>\n",
       "</div>"
      ],
      "text/plain": [
       "                  r_squared  r_squared_adj  f_statistic  f_statistic_pvalue  \\\n",
       "model_evaluation      0.997          0.997     5759.773                 0.0   \n",
       "\n",
       "                  log_likelihood     AIC      BIC  \n",
       "model_evaluation         -247.64  503.28  512.808  "
      ]
     },
     "execution_count": 14,
     "metadata": {},
     "output_type": "execute_result"
    }
   ],
   "source": [
    "reg.fit_evaluation_.round(3)"
   ]
  },
  {
   "cell_type": "markdown",
   "id": "expanded-personal",
   "metadata": {},
   "source": [
    "## Fit the romeo RidgeRegression"
   ]
  },
  {
   "cell_type": "code",
   "execution_count": 15,
   "id": "palestinian-weekend",
   "metadata": {},
   "outputs": [],
   "source": [
    "reg = RidgeRegression(fit_intercept=True,\n",
    "                      normalize=True).fit(X=df_train.filter(regex=\"feat\"), \n",
    "                                               y=df_train[\"target\"], \n",
    "                                               verbose=False)"
   ]
  },
  {
   "cell_type": "code",
   "execution_count": 16,
   "id": "union-slovakia",
   "metadata": {},
   "outputs": [
    {
     "data": {
      "text/html": [
       "<div>\n",
       "<style scoped>\n",
       "    .dataframe tbody tr th:only-of-type {\n",
       "        vertical-align: middle;\n",
       "    }\n",
       "\n",
       "    .dataframe tbody tr th {\n",
       "        vertical-align: top;\n",
       "    }\n",
       "\n",
       "    .dataframe thead th {\n",
       "        text-align: right;\n",
       "    }\n",
       "</style>\n",
       "<table border=\"1\" class=\"dataframe\">\n",
       "  <thead>\n",
       "    <tr style=\"text-align: right;\">\n",
       "      <th></th>\n",
       "      <th>coef</th>\n",
       "      <th>std_err</th>\n",
       "      <th>t</th>\n",
       "      <th>P&gt;|t|</th>\n",
       "      <th>[0.025</th>\n",
       "      <th>0.975]</th>\n",
       "    </tr>\n",
       "  </thead>\n",
       "  <tbody>\n",
       "    <tr>\n",
       "      <th>intercept</th>\n",
       "      <td>-0.186703</td>\n",
       "      <td>0.599692</td>\n",
       "      <td>-0.311331</td>\n",
       "      <td>7.564130e-01</td>\n",
       "      <td>-1.381351</td>\n",
       "      <td>1.007946</td>\n",
       "    </tr>\n",
       "    <tr>\n",
       "      <th>feat_0</th>\n",
       "      <td>85.903044</td>\n",
       "      <td>0.645622</td>\n",
       "      <td>133.054681</td>\n",
       "      <td>8.082439e-91</td>\n",
       "      <td>84.616899</td>\n",
       "      <td>87.189189</td>\n",
       "    </tr>\n",
       "    <tr>\n",
       "      <th>feat_1</th>\n",
       "      <td>5.438884</td>\n",
       "      <td>0.602848</td>\n",
       "      <td>9.021987</td>\n",
       "      <td>1.352162e-13</td>\n",
       "      <td>4.237950</td>\n",
       "      <td>6.639819</td>\n",
       "    </tr>\n",
       "    <tr>\n",
       "      <th>feat_2</th>\n",
       "      <td>26.708260</td>\n",
       "      <td>0.607688</td>\n",
       "      <td>43.950589</td>\n",
       "      <td>2.773902e-55</td>\n",
       "      <td>25.497683</td>\n",
       "      <td>27.918837</td>\n",
       "    </tr>\n",
       "    <tr>\n",
       "      <th>feat_3</th>\n",
       "      <td>39.636512</td>\n",
       "      <td>0.705647</td>\n",
       "      <td>56.170465</td>\n",
       "      <td>4.864308e-63</td>\n",
       "      <td>38.230791</td>\n",
       "      <td>41.042233</td>\n",
       "    </tr>\n",
       "  </tbody>\n",
       "</table>\n",
       "</div>"
      ],
      "text/plain": [
       "                coef   std_err           t         P>|t|     [0.025     0.975]\n",
       "intercept  -0.186703  0.599692   -0.311331  7.564130e-01  -1.381351   1.007946\n",
       "feat_0     85.903044  0.645622  133.054681  8.082439e-91  84.616899  87.189189\n",
       "feat_1      5.438884  0.602848    9.021987  1.352162e-13   4.237950   6.639819\n",
       "feat_2     26.708260  0.607688   43.950589  2.773902e-55  25.497683  27.918837\n",
       "feat_3     39.636512  0.705647   56.170465  4.864308e-63  38.230791  41.042233"
      ]
     },
     "execution_count": 16,
     "metadata": {},
     "output_type": "execute_result"
    }
   ],
   "source": [
    "reg.summary_"
   ]
  },
  {
   "cell_type": "code",
   "execution_count": 17,
   "id": "least-tokyo",
   "metadata": {},
   "outputs": [
    {
     "data": {
      "text/html": [
       "<div>\n",
       "<style scoped>\n",
       "    .dataframe tbody tr th:only-of-type {\n",
       "        vertical-align: middle;\n",
       "    }\n",
       "\n",
       "    .dataframe tbody tr th {\n",
       "        vertical-align: top;\n",
       "    }\n",
       "\n",
       "    .dataframe thead th {\n",
       "        text-align: right;\n",
       "    }\n",
       "</style>\n",
       "<table border=\"1\" class=\"dataframe\">\n",
       "  <thead>\n",
       "    <tr style=\"text-align: right;\">\n",
       "      <th></th>\n",
       "      <th>r_squared</th>\n",
       "      <th>r_squared_adj</th>\n",
       "      <th>f_statistic</th>\n",
       "      <th>f_statistic_pvalue</th>\n",
       "      <th>log_likelihood</th>\n",
       "      <th>AIC</th>\n",
       "      <th>BIC</th>\n",
       "    </tr>\n",
       "  </thead>\n",
       "  <tbody>\n",
       "    <tr>\n",
       "      <th>model_evaluation</th>\n",
       "      <td>0.997</td>\n",
       "      <td>0.996</td>\n",
       "      <td>5408.375</td>\n",
       "      <td>0.0</td>\n",
       "      <td>-250.155</td>\n",
       "      <td>508.311</td>\n",
       "      <td>517.839</td>\n",
       "    </tr>\n",
       "  </tbody>\n",
       "</table>\n",
       "</div>"
      ],
      "text/plain": [
       "                  r_squared  r_squared_adj  f_statistic  f_statistic_pvalue  \\\n",
       "model_evaluation      0.997          0.996     5408.375                 0.0   \n",
       "\n",
       "                  log_likelihood      AIC      BIC  \n",
       "model_evaluation        -250.155  508.311  517.839  "
      ]
     },
     "execution_count": 17,
     "metadata": {},
     "output_type": "execute_result"
    }
   ],
   "source": [
    "reg.fit_evaluation_.round(3)"
   ]
  },
  {
   "cell_type": "code",
   "execution_count": 18,
   "id": "considerable-listening",
   "metadata": {},
   "outputs": [],
   "source": [
    "intercept = reg.intercept_\n",
    "coefs = reg.coef_"
   ]
  },
  {
   "cell_type": "markdown",
   "id": "disabled-remainder",
   "metadata": {},
   "source": [
    "## Plot the original data and the lines of best fit for each of the predictors on the target"
   ]
  },
  {
   "cell_type": "code",
   "execution_count": 19,
   "id": "likely-current",
   "metadata": {},
   "outputs": [
    {
     "data": {
      "image/png": "[encoded data removed]",
      "text/plain": [
       "<Figure size 864x504 with 1 Axes>"
      ]
     },
     "metadata": {
      "needs_background": "light"
     },
     "output_type": "display_data"
    }
   ],
   "source": [
    "_ = plt.figure(figsize=(12, 7))\n",
    "_ = plt.plot(df_train.filter(regex=\"feat\"), \n",
    "             df_train[\"target\"], \n",
    "             'o', \n",
    "             label='original data')\n",
    "_ = plt.plot(df_train.filter(regex=\"feat\"), \n",
    "             intercept + coefs*df_train.filter(regex=\"feat\"), \n",
    "             'r', \n",
    "             label='fitted line')\n",
    "# _ = plt.legend()"
   ]
  },
  {
   "cell_type": "markdown",
   "id": "organizational-password",
   "metadata": {},
   "source": [
    "## With the fitted model attempt to predict the test data"
   ]
  },
  {
   "cell_type": "code",
   "execution_count": 20,
   "id": "previous-yield",
   "metadata": {},
   "outputs": [
    {
     "data": {
      "text/html": [
       "<div>\n",
       "<style scoped>\n",
       "    .dataframe tbody tr th:only-of-type {\n",
       "        vertical-align: middle;\n",
       "    }\n",
       "\n",
       "    .dataframe tbody tr th {\n",
       "        vertical-align: top;\n",
       "    }\n",
       "\n",
       "    .dataframe thead th {\n",
       "        text-align: right;\n",
       "    }\n",
       "</style>\n",
       "<table border=\"1\" class=\"dataframe\">\n",
       "  <thead>\n",
       "    <tr style=\"text-align: right;\">\n",
       "      <th></th>\n",
       "      <th>y_pred</th>\n",
       "    </tr>\n",
       "  </thead>\n",
       "  <tbody>\n",
       "    <tr>\n",
       "      <th>9</th>\n",
       "      <td>28.745442</td>\n",
       "    </tr>\n",
       "    <tr>\n",
       "      <th>23</th>\n",
       "      <td>216.434209</td>\n",
       "    </tr>\n",
       "  </tbody>\n",
       "</table>\n",
       "</div>"
      ],
      "text/plain": [
       "        y_pred\n",
       "9    28.745442\n",
       "23  216.434209"
      ]
     },
     "execution_count": 20,
     "metadata": {},
     "output_type": "execute_result"
    }
   ],
   "source": [
    "y_pred = reg.predict(df_test.filter(regex=\"feat\"))\n",
    "y_pred.head(2)"
   ]
  },
  {
   "cell_type": "code",
   "execution_count": 21,
   "id": "generous-minority",
   "metadata": {},
   "outputs": [
    {
     "data": {
      "text/html": [
       "<div>\n",
       "<style scoped>\n",
       "    .dataframe tbody tr th:only-of-type {\n",
       "        vertical-align: middle;\n",
       "    }\n",
       "\n",
       "    .dataframe tbody tr th {\n",
       "        vertical-align: top;\n",
       "    }\n",
       "\n",
       "    .dataframe thead th {\n",
       "        text-align: right;\n",
       "    }\n",
       "</style>\n",
       "<table border=\"1\" class=\"dataframe\">\n",
       "  <thead>\n",
       "    <tr style=\"text-align: right;\">\n",
       "      <th></th>\n",
       "      <th>target</th>\n",
       "    </tr>\n",
       "  </thead>\n",
       "  <tbody>\n",
       "    <tr>\n",
       "      <th>9</th>\n",
       "      <td>34.902372</td>\n",
       "    </tr>\n",
       "    <tr>\n",
       "      <th>23</th>\n",
       "      <td>219.457181</td>\n",
       "    </tr>\n",
       "  </tbody>\n",
       "</table>\n",
       "</div>"
      ],
      "text/plain": [
       "        target\n",
       "9    34.902372\n",
       "23  219.457181"
      ]
     },
     "execution_count": 21,
     "metadata": {},
     "output_type": "execute_result"
    }
   ],
   "source": [
    "y_test = df_test[[\"target\"]]\n",
    "y_test.head(2)"
   ]
  },
  {
   "cell_type": "markdown",
   "id": "knowing-connectivity",
   "metadata": {},
   "source": [
    "## Calculate the r2 between the predicted vs the real scores"
   ]
  },
  {
   "cell_type": "code",
   "execution_count": 22,
   "id": "electric-organizer",
   "metadata": {},
   "outputs": [
    {
     "data": {
      "text/plain": [
       "0.997902689598276"
      ]
     },
     "execution_count": 22,
     "metadata": {},
     "output_type": "execute_result"
    }
   ],
   "source": [
    "r_sq = r2_score(y_test[\"target\"], \n",
    "        y_pred)\n",
    "r_sq"
   ]
  },
  {
   "cell_type": "markdown",
   "id": "junior-wagner",
   "metadata": {},
   "source": [
    "## Plot the predicted vs the real values"
   ]
  },
  {
   "cell_type": "code",
   "execution_count": 23,
   "id": "marked-makeup",
   "metadata": {},
   "outputs": [
    {
     "data": {
      "image/png": "[encoded data removed]",
      "text/plain": [
       "<Figure size 864x504 with 1 Axes>"
      ]
     },
     "metadata": {
      "needs_background": "light"
     },
     "output_type": "display_data"
    }
   ],
   "source": [
    "_ = plt.figure(figsize=(12, 7))\n",
    "_ = plt.plot(y_test[\"target\"], \n",
    "             y_pred, \n",
    "             'o', \n",
    "#              label='original data'\n",
    "            )\n",
    "_ = plt.annotate(text = f\"R-squared = {round(r_sq, 3)}\",\n",
    "                 xy=(100, -140),)"
   ]
  }
 ],
 "metadata": {
  "kernelspec": {
   "display_name": "general",
   "language": "python",
   "name": "general"
  },
  "language_info": {
   "codemirror_mode": {
    "name": "ipython",
    "version": 3
   },
   "file_extension": ".py",
   "mimetype": "text/x-python",
   "name": "python",
   "nbconvert_exporter": "python",
   "pygments_lexer": "ipython3",
   "version": "3.9.2"
  }
 },
 "nbformat": 4,
 "nbformat_minor": 5
}
