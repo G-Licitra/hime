{
 "cells": [
  {
   "cell_type": "markdown",
   "id": "continental-score",
   "metadata": {},
   "source": [
    "# Exploring the different Linear Mixed Model regressions which use the `hime.LinearRegression` class as the `BaseEstimator`"
   ]
  },
  {
   "cell_type": "code",
   "execution_count": 1,
   "id": "smart-ideal",
   "metadata": {},
   "outputs": [],
   "source": [
    "import os\n",
    "import numpy as np\n",
    "import pandas as pd\n",
    "import seaborn as sns\n",
    "import matplotlib.pyplot as plt\n",
    "from sklearn.datasets import make_regression\n",
    "from sklearn.metrics import r2_score\n",
    "import session_info"
   ]
  },
  {
   "cell_type": "code",
   "execution_count": 2,
   "id": "social-grace",
   "metadata": {},
   "outputs": [],
   "source": [
    "import statsmodels.api as sm\n",
    "# import statsmodels.formula.api as smf"
   ]
  },
  {
   "cell_type": "code",
   "execution_count": 3,
   "id": "constant-episode",
   "metadata": {},
   "outputs": [],
   "source": [
    "current_wd = os.getcwd()\n",
    "os.chdir(current_wd.split(\"/notebook\")[0])\n",
    "from hime.linear_model import LinearRegression, LassoRegression, RidgeRegression\n",
    "from hime.multi_level_model import LinearMixedRegression\n",
    "os.chdir(current_wd)"
   ]
  },
  {
   "cell_type": "code",
   "execution_count": 4,
   "id": "sound-disease",
   "metadata": {},
   "outputs": [
    {
     "data": {
      "text/html": [
       "<details>\n",
       "<summary>Click to view session information</summary>\n",
       "<pre>\n",
       "-----\n",
       "hime                0.0.1\n",
       "matplotlib          3.3.4\n",
       "numpy               1.19.2\n",
       "pandas              1.2.3\n",
       "seaborn             0.11.1\n",
       "session_info        1.0.0\n",
       "sklearn             0.24.1\n",
       "statsmodels         0.12.2\n",
       "-----\n",
       "</pre>\n",
       "<details>\n",
       "<summary>Click to view modules imported as dependencies</summary>\n",
       "<pre>\n",
       "PIL                 8.1.2\n",
       "appnope             0.1.2\n",
       "backcall            0.2.0\n",
       "casadi              3.5.5\n",
       "cffi                1.14.5\n",
       "colorama            0.3.9\n",
       "cycler              0.10.0\n",
       "cython_runtime      NA\n",
       "dateutil            2.8.1\n",
       "decorator           4.4.2\n",
       "ipykernel           5.3.4\n",
       "ipython_genutils    0.2.0\n",
       "ipywidgets          7.6.3\n",
       "jedi                0.17.2\n",
       "joblib              0.17.0\n",
       "kiwisolver          1.3.1\n",
       "mpl_toolkits        NA\n",
       "parso               0.7.0\n",
       "patsy               0.5.1\n",
       "pexpect             4.8.0\n",
       "pickleshare         0.7.5\n",
       "pkg_resources       NA\n",
       "prompt_toolkit      3.0.8\n",
       "psutil              5.8.0\n",
       "ptyprocess          0.7.0\n",
       "pyexpat             NA\n",
       "pygments            2.8.1\n",
       "pyparsing           2.4.7\n",
       "pytz                2021.1\n",
       "repoze              NA\n",
       "scipy               1.5.3\n",
       "simplejson          3.17.5\n",
       "six                 1.15.0\n",
       "storemagic          NA\n",
       "swig_runtime_data4  NA\n",
       "tornado             6.1\n",
       "traitlets           5.0.5\n",
       "wcwidth             0.2.5\n",
       "zc                  NA\n",
       "zmq                 20.0.0\n",
       "</pre>\n",
       "</details> <!-- seems like this ends pre, so might as well be explicit -->\n",
       "<pre>\n",
       "-----\n",
       "IPython             7.21.0\n",
       "jupyter_client      6.1.7\n",
       "jupyter_core        4.7.1\n",
       "jupyterlab          2.2.6\n",
       "notebook            6.2.0\n",
       "-----\n",
       "Python 3.9.2 (default, Mar  3 2021, 11:58:52) [Clang 10.0.0 ]\n",
       "macOS-10.16-x86_64-i386-64bit\n",
       "-----\n",
       "Session information updated at 2021-10-21 15:03\n",
       "</pre>\n",
       "</details>"
      ],
      "text/plain": [
       "<IPython.core.display.HTML object>"
      ]
     },
     "execution_count": 4,
     "metadata": {},
     "output_type": "execute_result"
    }
   ],
   "source": [
    "session_info.show(write_req_file=False)"
   ]
  },
  {
   "cell_type": "markdown",
   "id": "asian-repair",
   "metadata": {
    "tags": []
   },
   "source": [
    "## Make X and y data"
   ]
  },
  {
   "cell_type": "code",
   "execution_count": 5,
   "id": "brilliant-demographic",
   "metadata": {},
   "outputs": [],
   "source": [
    "data = sm.datasets.get_rdataset('dietox', 'geepack').data"
   ]
  },
  {
   "cell_type": "code",
   "execution_count": 6,
   "id": "vocal-theme",
   "metadata": {},
   "outputs": [
    {
     "data": {
      "text/html": [
       "<div>\n",
       "<style scoped>\n",
       "    .dataframe tbody tr th:only-of-type {\n",
       "        vertical-align: middle;\n",
       "    }\n",
       "\n",
       "    .dataframe tbody tr th {\n",
       "        vertical-align: top;\n",
       "    }\n",
       "\n",
       "    .dataframe thead th {\n",
       "        text-align: right;\n",
       "    }\n",
       "</style>\n",
       "<table border=\"1\" class=\"dataframe\">\n",
       "  <thead>\n",
       "    <tr style=\"text-align: right;\">\n",
       "      <th></th>\n",
       "      <th>Pig</th>\n",
       "      <th>Evit</th>\n",
       "      <th>Cu</th>\n",
       "      <th>Litter</th>\n",
       "      <th>Start</th>\n",
       "      <th>Weight</th>\n",
       "      <th>Feed</th>\n",
       "      <th>Time</th>\n",
       "    </tr>\n",
       "  </thead>\n",
       "  <tbody>\n",
       "    <tr>\n",
       "      <th>0</th>\n",
       "      <td>4601</td>\n",
       "      <td>Evit000</td>\n",
       "      <td>Cu000</td>\n",
       "      <td>1</td>\n",
       "      <td>26.5</td>\n",
       "      <td>26.50000</td>\n",
       "      <td>NaN</td>\n",
       "      <td>1</td>\n",
       "    </tr>\n",
       "    <tr>\n",
       "      <th>1</th>\n",
       "      <td>4601</td>\n",
       "      <td>Evit000</td>\n",
       "      <td>Cu000</td>\n",
       "      <td>1</td>\n",
       "      <td>26.5</td>\n",
       "      <td>27.59999</td>\n",
       "      <td>5.200005</td>\n",
       "      <td>2</td>\n",
       "    </tr>\n",
       "    <tr>\n",
       "      <th>2</th>\n",
       "      <td>4601</td>\n",
       "      <td>Evit000</td>\n",
       "      <td>Cu000</td>\n",
       "      <td>1</td>\n",
       "      <td>26.5</td>\n",
       "      <td>36.50000</td>\n",
       "      <td>17.600000</td>\n",
       "      <td>3</td>\n",
       "    </tr>\n",
       "    <tr>\n",
       "      <th>3</th>\n",
       "      <td>4601</td>\n",
       "      <td>Evit000</td>\n",
       "      <td>Cu000</td>\n",
       "      <td>1</td>\n",
       "      <td>26.5</td>\n",
       "      <td>40.29999</td>\n",
       "      <td>28.500000</td>\n",
       "      <td>4</td>\n",
       "    </tr>\n",
       "    <tr>\n",
       "      <th>4</th>\n",
       "      <td>4601</td>\n",
       "      <td>Evit000</td>\n",
       "      <td>Cu000</td>\n",
       "      <td>1</td>\n",
       "      <td>26.5</td>\n",
       "      <td>49.09998</td>\n",
       "      <td>45.200001</td>\n",
       "      <td>5</td>\n",
       "    </tr>\n",
       "  </tbody>\n",
       "</table>\n",
       "</div>"
      ],
      "text/plain": [
       "    Pig     Evit     Cu  Litter  Start    Weight       Feed  Time\n",
       "0  4601  Evit000  Cu000       1   26.5  26.50000        NaN     1\n",
       "1  4601  Evit000  Cu000       1   26.5  27.59999   5.200005     2\n",
       "2  4601  Evit000  Cu000       1   26.5  36.50000  17.600000     3\n",
       "3  4601  Evit000  Cu000       1   26.5  40.29999  28.500000     4\n",
       "4  4601  Evit000  Cu000       1   26.5  49.09998  45.200001     5"
      ]
     },
     "execution_count": 6,
     "metadata": {},
     "output_type": "execute_result"
    }
   ],
   "source": [
    "data.head()"
   ]
  },
  {
   "cell_type": "code",
   "execution_count": 7,
   "id": "competitive-particle",
   "metadata": {},
   "outputs": [],
   "source": [
    "df_train = data.sample(frac=0.8, random_state=69420)\n",
    "df_test = data.drop(df_train.index)"
   ]
  },
  {
   "cell_type": "code",
   "execution_count": 8,
   "id": "breeding-cinema",
   "metadata": {},
   "outputs": [
    {
     "data": {
      "text/plain": [
       "((689, 8), (172, 8))"
      ]
     },
     "execution_count": 8,
     "metadata": {},
     "output_type": "execute_result"
    }
   ],
   "source": [
    "df_train.shape, df_test.shape"
   ]
  },
  {
   "cell_type": "markdown",
   "id": "careful-network",
   "metadata": {},
   "source": [
    "## Fit the romeo LinearMixedRegression"
   ]
  },
  {
   "cell_type": "code",
   "execution_count": 9,
   "id": "universal-arctic",
   "metadata": {},
   "outputs": [],
   "source": [
    "mixed_dict = {\"target\": \"Weight\",\n",
    "\"fixed_effect\": \"Time\",\n",
    "\"grouping_var\": \"Pig\",\n",
    "\"random_slope\": \"Time\"}"
   ]
  },
  {
   "cell_type": "code",
   "execution_count": 10,
   "id": "hidden-asset",
   "metadata": {},
   "outputs": [],
   "source": [
    "def unpack_X(df, fixed_effect, grouping_var, random_slope, target):\n",
    "    X=df[fixed_effect]\n",
    "    u=df[grouping_var].unique()\n",
    "    random_slope_array=df[random_slope]\n",
    "    y=df[target]\n",
    "    return X, y, u, random_slope"
   ]
  },
  {
   "cell_type": "code",
   "execution_count": 11,
   "id": "chemical-leeds",
   "metadata": {},
   "outputs": [],
   "source": [
    "# unpack_X(df_train, **mixed_dict)"
   ]
  },
  {
   "cell_type": "code",
   "execution_count": 12,
   "id": "rubber-oregon",
   "metadata": {},
   "outputs": [],
   "source": [
    "reg = LinearMixedRegression(fit_intercept=True,\n",
    "                      normalize=True).fit(X=data[[mixed_dict[\"fixed_effect\"], mixed_dict[\"grouping_var\"]]],\n",
    "                                         y=data[mixed_dict[\"target\"]],\n",
    "                                          verbose=False,\n",
    "                                         kwargs=mixed_dict)"
   ]
  },
  {
   "cell_type": "code",
   "execution_count": 13,
   "id": "virgin-payment",
   "metadata": {},
   "outputs": [
    {
     "data": {
      "text/plain": [
       "array([4601, 4602, 4603, 4605, 4641, 4643, 4645, 4756, 4757, 4759, 4760,\n",
       "       4813, 4814, 4815, 4817, 4854, 4856, 4857, 4858, 5389, 5392, 5497,\n",
       "       5500, 5501, 5502, 5524, 5527, 5528, 5578, 5581, 5582, 5850, 5851,\n",
       "       5852, 5862, 5865, 5866, 6055, 6056, 6057, 6058, 6207, 6208, 6211,\n",
       "       6284, 6287, 6288, 6430, 6432, 6433, 6909, 6910, 6912, 8049, 8050,\n",
       "       8051, 8053, 8139, 8141, 8142, 8144, 8191, 8192, 8193, 8195, 8269,\n",
       "       8270, 8271, 8273, 8437, 8439, 8442])"
      ]
     },
     "execution_count": 13,
     "metadata": {},
     "output_type": "execute_result"
    }
   ],
   "source": [
    "reg.u"
   ]
  },
  {
   "cell_type": "code",
   "execution_count": 14,
   "id": "palestinian-cable",
   "metadata": {},
   "outputs": [
    {
     "data": {
      "text/plain": [
       "15.508589708831488"
      ]
     },
     "execution_count": 14,
     "metadata": {},
     "output_type": "execute_result"
    }
   ],
   "source": [
    "reg.intercept_"
   ]
  },
  {
   "cell_type": "code",
   "execution_count": 15,
   "id": "varied-interest",
   "metadata": {},
   "outputs": [
    {
     "data": {
      "text/html": [
       "<div>\n",
       "<style scoped>\n",
       "    .dataframe tbody tr th:only-of-type {\n",
       "        vertical-align: middle;\n",
       "    }\n",
       "\n",
       "    .dataframe tbody tr th {\n",
       "        vertical-align: top;\n",
       "    }\n",
       "\n",
       "    .dataframe thead th {\n",
       "        text-align: right;\n",
       "    }\n",
       "</style>\n",
       "<table border=\"1\" class=\"dataframe\">\n",
       "  <thead>\n",
       "    <tr style=\"text-align: right;\">\n",
       "      <th></th>\n",
       "      <th>coef</th>\n",
       "    </tr>\n",
       "  </thead>\n",
       "  <tbody>\n",
       "    <tr>\n",
       "      <th>intercept</th>\n",
       "      <td>15.508590</td>\n",
       "    </tr>\n",
       "    <tr>\n",
       "      <th>Time</th>\n",
       "      <td>6.942398</td>\n",
       "    </tr>\n",
       "    <tr>\n",
       "      <th>4601</th>\n",
       "      <td>-1.025854</td>\n",
       "    </tr>\n",
       "    <tr>\n",
       "      <th>4602</th>\n",
       "      <td>3.374142</td>\n",
       "    </tr>\n",
       "    <tr>\n",
       "      <th>4603</th>\n",
       "      <td>4.290797</td>\n",
       "    </tr>\n",
       "    <tr>\n",
       "      <th>...</th>\n",
       "      <td>...</td>\n",
       "    </tr>\n",
       "    <tr>\n",
       "      <th>8271</th>\n",
       "      <td>0.524146</td>\n",
       "    </tr>\n",
       "    <tr>\n",
       "      <th>8273</th>\n",
       "      <td>5.332475</td>\n",
       "    </tr>\n",
       "    <tr>\n",
       "      <th>8437</th>\n",
       "      <td>0.774148</td>\n",
       "    </tr>\n",
       "    <tr>\n",
       "      <th>8439</th>\n",
       "      <td>1.574140</td>\n",
       "    </tr>\n",
       "    <tr>\n",
       "      <th>8442</th>\n",
       "      <td>1.115806</td>\n",
       "    </tr>\n",
       "  </tbody>\n",
       "</table>\n",
       "<p>74 rows × 1 columns</p>\n",
       "</div>"
      ],
      "text/plain": [
       "                coef\n",
       "intercept  15.508590\n",
       "Time        6.942398\n",
       "4601       -1.025854\n",
       "4602        3.374142\n",
       "4603        4.290797\n",
       "...              ...\n",
       "8271        0.524146\n",
       "8273        5.332475\n",
       "8437        0.774148\n",
       "8439        1.574140\n",
       "8442        1.115806\n",
       "\n",
       "[74 rows x 1 columns]"
      ]
     },
     "execution_count": 15,
     "metadata": {},
     "output_type": "execute_result"
    }
   ],
   "source": [
    "reg.summary_"
   ]
  },
  {
   "cell_type": "code",
   "execution_count": 16,
   "id": "endless-helmet",
   "metadata": {},
   "outputs": [],
   "source": [
    "# reg.fit_evaluation_.round(3)"
   ]
  },
  {
   "cell_type": "code",
   "execution_count": 17,
   "id": "assumed-brief",
   "metadata": {},
   "outputs": [],
   "source": [
    "intercept = reg.intercept_\n",
    "coefs = reg.coef_"
   ]
  },
  {
   "cell_type": "markdown",
   "id": "proved-density",
   "metadata": {},
   "source": [
    "## Plot the target vs the fitted values"
   ]
  },
  {
   "cell_type": "code",
   "execution_count": 18,
   "id": "subtle-request",
   "metadata": {},
   "outputs": [
    {
     "data": {
      "text/plain": [
       "0       5.916544\n",
       "1      12.858942\n",
       "2      19.801340\n",
       "3      26.743738\n",
       "4      33.686136\n",
       "         ...    \n",
       "856    56.654990\n",
       "857    63.597388\n",
       "858    70.539786\n",
       "859    77.482184\n",
       "860    84.424582\n",
       "Length: 861, dtype: float64"
      ]
     },
     "execution_count": 18,
     "metadata": {},
     "output_type": "execute_result"
    }
   ],
   "source": [
    "reg.fitted_values"
   ]
  },
  {
   "cell_type": "code",
   "execution_count": 19,
   "id": "suited-athletics",
   "metadata": {},
   "outputs": [
    {
     "data": {
      "image/png": "[encoded data removed]",
      "text/plain": [
       "<Figure size 432x288 with 1 Axes>"
      ]
     },
     "metadata": {
      "needs_background": "light"
     },
     "output_type": "display_data"
    }
   ],
   "source": [
    "_ = plt.scatter(reg.fitted_values, data[mixed_dict[\"target\"]])"
   ]
  },
  {
   "cell_type": "markdown",
   "id": "informed-dubai",
   "metadata": {},
   "source": [
    "## With the fitted model attempt to predict the test data"
   ]
  },
  {
   "cell_type": "code",
   "execution_count": 25,
   "id": "assumed-johns",
   "metadata": {},
   "outputs": [
    {
     "data": {
      "text/html": [
       "<div>\n",
       "<style scoped>\n",
       "    .dataframe tbody tr th:only-of-type {\n",
       "        vertical-align: middle;\n",
       "    }\n",
       "\n",
       "    .dataframe tbody tr th {\n",
       "        vertical-align: top;\n",
       "    }\n",
       "\n",
       "    .dataframe thead th {\n",
       "        text-align: right;\n",
       "    }\n",
       "</style>\n",
       "<table border=\"1\" class=\"dataframe\">\n",
       "  <thead>\n",
       "    <tr style=\"text-align: right;\">\n",
       "      <th></th>\n",
       "      <th>Pig</th>\n",
       "      <th>Evit</th>\n",
       "      <th>Cu</th>\n",
       "      <th>Litter</th>\n",
       "      <th>Start</th>\n",
       "      <th>Weight</th>\n",
       "      <th>Feed</th>\n",
       "      <th>Time</th>\n",
       "    </tr>\n",
       "  </thead>\n",
       "  <tbody>\n",
       "    <tr>\n",
       "      <th>25</th>\n",
       "      <td>4603</td>\n",
       "      <td>Evit200</td>\n",
       "      <td>Cu175</td>\n",
       "      <td>1</td>\n",
       "      <td>27.59999</td>\n",
       "      <td>30.59999</td>\n",
       "      <td>6.700005</td>\n",
       "      <td>2</td>\n",
       "    </tr>\n",
       "    <tr>\n",
       "      <th>29</th>\n",
       "      <td>4603</td>\n",
       "      <td>Evit200</td>\n",
       "      <td>Cu175</td>\n",
       "      <td>1</td>\n",
       "      <td>27.59999</td>\n",
       "      <td>61.50000</td>\n",
       "      <td>64.600002</td>\n",
       "      <td>6</td>\n",
       "    </tr>\n",
       "    <tr>\n",
       "      <th>35</th>\n",
       "      <td>4603</td>\n",
       "      <td>Evit200</td>\n",
       "      <td>Cu175</td>\n",
       "      <td>1</td>\n",
       "      <td>27.59999</td>\n",
       "      <td>105.39996</td>\n",
       "      <td>166.000000</td>\n",
       "      <td>12</td>\n",
       "    </tr>\n",
       "    <tr>\n",
       "      <th>36</th>\n",
       "      <td>4605</td>\n",
       "      <td>Evit100</td>\n",
       "      <td>Cu035</td>\n",
       "      <td>1</td>\n",
       "      <td>31.50000</td>\n",
       "      <td>31.50000</td>\n",
       "      <td>NaN</td>\n",
       "      <td>1</td>\n",
       "    </tr>\n",
       "    <tr>\n",
       "      <th>39</th>\n",
       "      <td>4605</td>\n",
       "      <td>Evit100</td>\n",
       "      <td>Cu035</td>\n",
       "      <td>1</td>\n",
       "      <td>31.50000</td>\n",
       "      <td>47.69998</td>\n",
       "      <td>33.100002</td>\n",
       "      <td>4</td>\n",
       "    </tr>\n",
       "    <tr>\n",
       "      <th>...</th>\n",
       "      <td>...</td>\n",
       "      <td>...</td>\n",
       "      <td>...</td>\n",
       "      <td>...</td>\n",
       "      <td>...</td>\n",
       "      <td>...</td>\n",
       "      <td>...</td>\n",
       "      <td>...</td>\n",
       "    </tr>\n",
       "    <tr>\n",
       "      <th>817</th>\n",
       "      <td>8273</td>\n",
       "      <td>Evit000</td>\n",
       "      <td>Cu035</td>\n",
       "      <td>22</td>\n",
       "      <td>25.00000</td>\n",
       "      <td>53.59998</td>\n",
       "      <td>48.500000</td>\n",
       "      <td>5</td>\n",
       "    </tr>\n",
       "    <tr>\n",
       "      <th>840</th>\n",
       "      <td>8439</td>\n",
       "      <td>Evit200</td>\n",
       "      <td>Cu175</td>\n",
       "      <td>24</td>\n",
       "      <td>27.29999</td>\n",
       "      <td>43.89999</td>\n",
       "      <td>33.200001</td>\n",
       "      <td>4</td>\n",
       "    </tr>\n",
       "    <tr>\n",
       "      <th>847</th>\n",
       "      <td>8439</td>\n",
       "      <td>Evit200</td>\n",
       "      <td>Cu175</td>\n",
       "      <td>24</td>\n",
       "      <td>27.29999</td>\n",
       "      <td>95.00000</td>\n",
       "      <td>149.000000</td>\n",
       "      <td>11</td>\n",
       "    </tr>\n",
       "    <tr>\n",
       "      <th>848</th>\n",
       "      <td>8439</td>\n",
       "      <td>Evit200</td>\n",
       "      <td>Cu175</td>\n",
       "      <td>24</td>\n",
       "      <td>27.29999</td>\n",
       "      <td>100.50000</td>\n",
       "      <td>158.600006</td>\n",
       "      <td>12</td>\n",
       "    </tr>\n",
       "    <tr>\n",
       "      <th>850</th>\n",
       "      <td>8442</td>\n",
       "      <td>Evit000</td>\n",
       "      <td>Cu175</td>\n",
       "      <td>24</td>\n",
       "      <td>25.70000</td>\n",
       "      <td>28.70000</td>\n",
       "      <td>6.600000</td>\n",
       "      <td>2</td>\n",
       "    </tr>\n",
       "  </tbody>\n",
       "</table>\n",
       "<p>172 rows × 8 columns</p>\n",
       "</div>"
      ],
      "text/plain": [
       "      Pig     Evit     Cu  Litter     Start     Weight        Feed  Time\n",
       "25   4603  Evit200  Cu175       1  27.59999   30.59999    6.700005     2\n",
       "29   4603  Evit200  Cu175       1  27.59999   61.50000   64.600002     6\n",
       "35   4603  Evit200  Cu175       1  27.59999  105.39996  166.000000    12\n",
       "36   4605  Evit100  Cu035       1  31.50000   31.50000         NaN     1\n",
       "39   4605  Evit100  Cu035       1  31.50000   47.69998   33.100002     4\n",
       "..    ...      ...    ...     ...       ...        ...         ...   ...\n",
       "817  8273  Evit000  Cu035      22  25.00000   53.59998   48.500000     5\n",
       "840  8439  Evit200  Cu175      24  27.29999   43.89999   33.200001     4\n",
       "847  8439  Evit200  Cu175      24  27.29999   95.00000  149.000000    11\n",
       "848  8439  Evit200  Cu175      24  27.29999  100.50000  158.600006    12\n",
       "850  8442  Evit000  Cu175      24  25.70000   28.70000    6.600000     2\n",
       "\n",
       "[172 rows x 8 columns]"
      ]
     },
     "execution_count": 25,
     "metadata": {},
     "output_type": "execute_result"
    }
   ],
   "source": [
    "data[[mixed_dict[\"fixed_effect\"], mixed_dict[\"grouping_var\"]]]\n",
    "data[mixed_dict[\"target\"]]"
   ]
  },
  {
   "cell_type": "code",
   "execution_count": 27,
   "id": "interpreted-phenomenon",
   "metadata": {},
   "outputs": [
    {
     "data": {
      "text/html": [
       "<div>\n",
       "<style scoped>\n",
       "    .dataframe tbody tr th:only-of-type {\n",
       "        vertical-align: middle;\n",
       "    }\n",
       "\n",
       "    .dataframe tbody tr th {\n",
       "        vertical-align: top;\n",
       "    }\n",
       "\n",
       "    .dataframe thead th {\n",
       "        text-align: right;\n",
       "    }\n",
       "</style>\n",
       "<table border=\"1\" class=\"dataframe\">\n",
       "  <thead>\n",
       "    <tr style=\"text-align: right;\">\n",
       "      <th></th>\n",
       "      <th>Time</th>\n",
       "      <th>Pig</th>\n",
       "    </tr>\n",
       "  </thead>\n",
       "  <tbody>\n",
       "    <tr>\n",
       "      <th>25</th>\n",
       "      <td>2</td>\n",
       "      <td>4603</td>\n",
       "    </tr>\n",
       "    <tr>\n",
       "      <th>29</th>\n",
       "      <td>6</td>\n",
       "      <td>4603</td>\n",
       "    </tr>\n",
       "    <tr>\n",
       "      <th>35</th>\n",
       "      <td>12</td>\n",
       "      <td>4603</td>\n",
       "    </tr>\n",
       "    <tr>\n",
       "      <th>36</th>\n",
       "      <td>1</td>\n",
       "      <td>4605</td>\n",
       "    </tr>\n",
       "    <tr>\n",
       "      <th>39</th>\n",
       "      <td>4</td>\n",
       "      <td>4605</td>\n",
       "    </tr>\n",
       "    <tr>\n",
       "      <th>...</th>\n",
       "      <td>...</td>\n",
       "      <td>...</td>\n",
       "    </tr>\n",
       "    <tr>\n",
       "      <th>817</th>\n",
       "      <td>5</td>\n",
       "      <td>8273</td>\n",
       "    </tr>\n",
       "    <tr>\n",
       "      <th>840</th>\n",
       "      <td>4</td>\n",
       "      <td>8439</td>\n",
       "    </tr>\n",
       "    <tr>\n",
       "      <th>847</th>\n",
       "      <td>11</td>\n",
       "      <td>8439</td>\n",
       "    </tr>\n",
       "    <tr>\n",
       "      <th>848</th>\n",
       "      <td>12</td>\n",
       "      <td>8439</td>\n",
       "    </tr>\n",
       "    <tr>\n",
       "      <th>850</th>\n",
       "      <td>2</td>\n",
       "      <td>8442</td>\n",
       "    </tr>\n",
       "  </tbody>\n",
       "</table>\n",
       "<p>172 rows × 2 columns</p>\n",
       "</div>"
      ],
      "text/plain": [
       "     Time   Pig\n",
       "25      2  4603\n",
       "29      6  4603\n",
       "35     12  4603\n",
       "36      1  4605\n",
       "39      4  4605\n",
       "..    ...   ...\n",
       "817     5  8273\n",
       "840     4  8439\n",
       "847    11  8439\n",
       "848    12  8439\n",
       "850     2  8442\n",
       "\n",
       "[172 rows x 2 columns]"
      ]
     },
     "execution_count": 27,
     "metadata": {},
     "output_type": "execute_result"
    }
   ],
   "source": [
    "df_test[[mixed_dict[\"fixed_effect\"], mixed_dict[\"grouping_var\"]]]"
   ]
  },
  {
   "cell_type": "code",
   "execution_count": 29,
   "id": "medieval-darwin",
   "metadata": {},
   "outputs": [],
   "source": [
    "y_pred = reg.predict(X=df_test[[mixed_dict[\"fixed_effect\"], mixed_dict[\"grouping_var\"]]])\n",
    "y_pred#.head(2)"
   ]
  },
  {
   "cell_type": "code",
   "execution_count": 21,
   "id": "auburn-bolivia",
   "metadata": {},
   "outputs": [
    {
     "ename": "KeyError",
     "evalue": "\"None of [Index(['target'], dtype='object')] are in the [columns]\"",
     "output_type": "error",
     "traceback": [
      "\u001b[0;31m---------------------------------------------------------------------------\u001b[0m",
      "\u001b[0;31mKeyError\u001b[0m                                  Traceback (most recent call last)",
      "\u001b[0;32m<ipython-input-21-f30c53abf417>\u001b[0m in \u001b[0;36m<module>\u001b[0;34m\u001b[0m\n\u001b[0;32m----> 1\u001b[0;31m \u001b[0my_test\u001b[0m \u001b[0;34m=\u001b[0m \u001b[0mdf_test\u001b[0m\u001b[0;34m[\u001b[0m\u001b[0;34m[\u001b[0m\u001b[0;34m\"target\"\u001b[0m\u001b[0;34m]\u001b[0m\u001b[0;34m]\u001b[0m\u001b[0;34m\u001b[0m\u001b[0;34m\u001b[0m\u001b[0m\n\u001b[0m\u001b[1;32m      2\u001b[0m \u001b[0my_test\u001b[0m\u001b[0;34m.\u001b[0m\u001b[0mhead\u001b[0m\u001b[0;34m(\u001b[0m\u001b[0;36m2\u001b[0m\u001b[0;34m)\u001b[0m\u001b[0;34m\u001b[0m\u001b[0;34m\u001b[0m\u001b[0m\n",
      "\u001b[0;32m/opt/miniconda3/envs/general/lib/python3.9/site-packages/pandas/core/frame.py\u001b[0m in \u001b[0;36m__getitem__\u001b[0;34m(self, key)\u001b[0m\n\u001b[1;32m   3028\u001b[0m             \u001b[0;32mif\u001b[0m \u001b[0mis_iterator\u001b[0m\u001b[0;34m(\u001b[0m\u001b[0mkey\u001b[0m\u001b[0;34m)\u001b[0m\u001b[0;34m:\u001b[0m\u001b[0;34m\u001b[0m\u001b[0;34m\u001b[0m\u001b[0m\n\u001b[1;32m   3029\u001b[0m                 \u001b[0mkey\u001b[0m \u001b[0;34m=\u001b[0m \u001b[0mlist\u001b[0m\u001b[0;34m(\u001b[0m\u001b[0mkey\u001b[0m\u001b[0;34m)\u001b[0m\u001b[0;34m\u001b[0m\u001b[0;34m\u001b[0m\u001b[0m\n\u001b[0;32m-> 3030\u001b[0;31m             \u001b[0mindexer\u001b[0m \u001b[0;34m=\u001b[0m \u001b[0mself\u001b[0m\u001b[0;34m.\u001b[0m\u001b[0mloc\u001b[0m\u001b[0;34m.\u001b[0m\u001b[0m_get_listlike_indexer\u001b[0m\u001b[0;34m(\u001b[0m\u001b[0mkey\u001b[0m\u001b[0;34m,\u001b[0m \u001b[0maxis\u001b[0m\u001b[0;34m=\u001b[0m\u001b[0;36m1\u001b[0m\u001b[0;34m,\u001b[0m \u001b[0mraise_missing\u001b[0m\u001b[0;34m=\u001b[0m\u001b[0;32mTrue\u001b[0m\u001b[0;34m)\u001b[0m\u001b[0;34m[\u001b[0m\u001b[0;36m1\u001b[0m\u001b[0;34m]\u001b[0m\u001b[0;34m\u001b[0m\u001b[0;34m\u001b[0m\u001b[0m\n\u001b[0m\u001b[1;32m   3031\u001b[0m \u001b[0;34m\u001b[0m\u001b[0m\n\u001b[1;32m   3032\u001b[0m         \u001b[0;31m# take() does not accept boolean indexers\u001b[0m\u001b[0;34m\u001b[0m\u001b[0;34m\u001b[0m\u001b[0;34m\u001b[0m\u001b[0m\n",
      "\u001b[0;32m/opt/miniconda3/envs/general/lib/python3.9/site-packages/pandas/core/indexing.py\u001b[0m in \u001b[0;36m_get_listlike_indexer\u001b[0;34m(self, key, axis, raise_missing)\u001b[0m\n\u001b[1;32m   1264\u001b[0m             \u001b[0mkeyarr\u001b[0m\u001b[0;34m,\u001b[0m \u001b[0mindexer\u001b[0m\u001b[0;34m,\u001b[0m \u001b[0mnew_indexer\u001b[0m \u001b[0;34m=\u001b[0m \u001b[0max\u001b[0m\u001b[0;34m.\u001b[0m\u001b[0m_reindex_non_unique\u001b[0m\u001b[0;34m(\u001b[0m\u001b[0mkeyarr\u001b[0m\u001b[0;34m)\u001b[0m\u001b[0;34m\u001b[0m\u001b[0;34m\u001b[0m\u001b[0m\n\u001b[1;32m   1265\u001b[0m \u001b[0;34m\u001b[0m\u001b[0m\n\u001b[0;32m-> 1266\u001b[0;31m         \u001b[0mself\u001b[0m\u001b[0;34m.\u001b[0m\u001b[0m_validate_read_indexer\u001b[0m\u001b[0;34m(\u001b[0m\u001b[0mkeyarr\u001b[0m\u001b[0;34m,\u001b[0m \u001b[0mindexer\u001b[0m\u001b[0;34m,\u001b[0m \u001b[0maxis\u001b[0m\u001b[0;34m,\u001b[0m \u001b[0mraise_missing\u001b[0m\u001b[0;34m=\u001b[0m\u001b[0mraise_missing\u001b[0m\u001b[0;34m)\u001b[0m\u001b[0;34m\u001b[0m\u001b[0;34m\u001b[0m\u001b[0m\n\u001b[0m\u001b[1;32m   1267\u001b[0m         \u001b[0;32mreturn\u001b[0m \u001b[0mkeyarr\u001b[0m\u001b[0;34m,\u001b[0m \u001b[0mindexer\u001b[0m\u001b[0;34m\u001b[0m\u001b[0;34m\u001b[0m\u001b[0m\n\u001b[1;32m   1268\u001b[0m \u001b[0;34m\u001b[0m\u001b[0m\n",
      "\u001b[0;32m/opt/miniconda3/envs/general/lib/python3.9/site-packages/pandas/core/indexing.py\u001b[0m in \u001b[0;36m_validate_read_indexer\u001b[0;34m(self, key, indexer, axis, raise_missing)\u001b[0m\n\u001b[1;32m   1306\u001b[0m             \u001b[0;32mif\u001b[0m \u001b[0mmissing\u001b[0m \u001b[0;34m==\u001b[0m \u001b[0mlen\u001b[0m\u001b[0;34m(\u001b[0m\u001b[0mindexer\u001b[0m\u001b[0;34m)\u001b[0m\u001b[0;34m:\u001b[0m\u001b[0;34m\u001b[0m\u001b[0;34m\u001b[0m\u001b[0m\n\u001b[1;32m   1307\u001b[0m                 \u001b[0maxis_name\u001b[0m \u001b[0;34m=\u001b[0m \u001b[0mself\u001b[0m\u001b[0;34m.\u001b[0m\u001b[0mobj\u001b[0m\u001b[0;34m.\u001b[0m\u001b[0m_get_axis_name\u001b[0m\u001b[0;34m(\u001b[0m\u001b[0maxis\u001b[0m\u001b[0;34m)\u001b[0m\u001b[0;34m\u001b[0m\u001b[0;34m\u001b[0m\u001b[0m\n\u001b[0;32m-> 1308\u001b[0;31m                 \u001b[0;32mraise\u001b[0m \u001b[0mKeyError\u001b[0m\u001b[0;34m(\u001b[0m\u001b[0;34mf\"None of [{key}] are in the [{axis_name}]\"\u001b[0m\u001b[0;34m)\u001b[0m\u001b[0;34m\u001b[0m\u001b[0;34m\u001b[0m\u001b[0m\n\u001b[0m\u001b[1;32m   1309\u001b[0m \u001b[0;34m\u001b[0m\u001b[0m\n\u001b[1;32m   1310\u001b[0m             \u001b[0max\u001b[0m \u001b[0;34m=\u001b[0m \u001b[0mself\u001b[0m\u001b[0;34m.\u001b[0m\u001b[0mobj\u001b[0m\u001b[0;34m.\u001b[0m\u001b[0m_get_axis\u001b[0m\u001b[0;34m(\u001b[0m\u001b[0maxis\u001b[0m\u001b[0;34m)\u001b[0m\u001b[0;34m\u001b[0m\u001b[0;34m\u001b[0m\u001b[0m\n",
      "\u001b[0;31mKeyError\u001b[0m: \"None of [Index(['target'], dtype='object')] are in the [columns]\""
     ]
    }
   ],
   "source": [
    "y_test = df_test[[\"target\"]]\n",
    "y_test.head(2)"
   ]
  },
  {
   "cell_type": "markdown",
   "id": "other-devices",
   "metadata": {},
   "source": [
    "## Calculate the r2 between the predicted vs the real scores"
   ]
  },
  {
   "cell_type": "code",
   "execution_count": 22,
   "id": "naughty-norway",
   "metadata": {},
   "outputs": [
    {
     "ename": "NameError",
     "evalue": "name 'y_test' is not defined",
     "output_type": "error",
     "traceback": [
      "\u001b[0;31m---------------------------------------------------------------------------\u001b[0m",
      "\u001b[0;31mNameError\u001b[0m                                 Traceback (most recent call last)",
      "\u001b[0;32m<ipython-input-22-31a3dd205263>\u001b[0m in \u001b[0;36m<module>\u001b[0;34m\u001b[0m\n\u001b[0;32m----> 1\u001b[0;31m r_sq = r2_score(y_test[\"target\"], \n\u001b[0m\u001b[1;32m      2\u001b[0m         y_pred)\n\u001b[1;32m      3\u001b[0m \u001b[0mr_sq\u001b[0m\u001b[0;34m\u001b[0m\u001b[0;34m\u001b[0m\u001b[0m\n",
      "\u001b[0;31mNameError\u001b[0m: name 'y_test' is not defined"
     ]
    }
   ],
   "source": [
    "r_sq = r2_score(y_test[\"target\"], \n",
    "        y_pred)\n",
    "r_sq"
   ]
  },
  {
   "cell_type": "markdown",
   "id": "loose-flashing",
   "metadata": {},
   "source": [
    "## Plot the predicted vs the real values"
   ]
  },
  {
   "cell_type": "code",
   "execution_count": 23,
   "id": "rotary-pledge",
   "metadata": {},
   "outputs": [
    {
     "ename": "NameError",
     "evalue": "name 'y_test' is not defined",
     "output_type": "error",
     "traceback": [
      "\u001b[0;31m---------------------------------------------------------------------------\u001b[0m",
      "\u001b[0;31mNameError\u001b[0m                                 Traceback (most recent call last)",
      "\u001b[0;32m<ipython-input-23-422ec22d8156>\u001b[0m in \u001b[0;36m<module>\u001b[0;34m\u001b[0m\n\u001b[1;32m      1\u001b[0m \u001b[0m_\u001b[0m \u001b[0;34m=\u001b[0m \u001b[0mplt\u001b[0m\u001b[0;34m.\u001b[0m\u001b[0mfigure\u001b[0m\u001b[0;34m(\u001b[0m\u001b[0mfigsize\u001b[0m\u001b[0;34m=\u001b[0m\u001b[0;34m(\u001b[0m\u001b[0;36m12\u001b[0m\u001b[0;34m,\u001b[0m \u001b[0;36m7\u001b[0m\u001b[0;34m)\u001b[0m\u001b[0;34m)\u001b[0m\u001b[0;34m\u001b[0m\u001b[0;34m\u001b[0m\u001b[0m\n\u001b[0;32m----> 2\u001b[0;31m _ = plt.plot(y_test[\"target\"], \n\u001b[0m\u001b[1;32m      3\u001b[0m              \u001b[0my_pred\u001b[0m\u001b[0;34m,\u001b[0m\u001b[0;34m\u001b[0m\u001b[0;34m\u001b[0m\u001b[0m\n\u001b[1;32m      4\u001b[0m              \u001b[0;34m'o'\u001b[0m\u001b[0;34m,\u001b[0m\u001b[0;34m\u001b[0m\u001b[0;34m\u001b[0m\u001b[0m\n\u001b[1;32m      5\u001b[0m \u001b[0;31m#              label='original data'\u001b[0m\u001b[0;34m\u001b[0m\u001b[0;34m\u001b[0m\u001b[0;34m\u001b[0m\u001b[0m\n",
      "\u001b[0;31mNameError\u001b[0m: name 'y_test' is not defined"
     ]
    },
    {
     "data": {
      "text/plain": [
       "<Figure size 864x504 with 0 Axes>"
      ]
     },
     "metadata": {},
     "output_type": "display_data"
    }
   ],
   "source": [
    "_ = plt.figure(figsize=(12, 7))\n",
    "_ = plt.plot(y_test[\"target\"], \n",
    "             y_pred, \n",
    "             'o', \n",
    "#              label='original data'\n",
    "            )\n",
    "_ = plt.annotate(text = f\"R-squared = {round(r_sq, 3)}\",\n",
    "                 xy=(100, -140),)"
   ]
  },
  {
   "cell_type": "code",
   "execution_count": null,
   "id": "another-active",
   "metadata": {},
   "outputs": [],
   "source": []
  }
 ],
 "metadata": {
  "kernelspec": {
   "display_name": "general",
   "language": "python",
   "name": "general"
  },
  "language_info": {
   "codemirror_mode": {
    "name": "ipython",
    "version": 3
   },
   "file_extension": ".py",
   "mimetype": "text/x-python",
   "name": "python",
   "nbconvert_exporter": "python",
   "pygments_lexer": "ipython3",
   "version": "3.9.2"
  }
 },
 "nbformat": 4,
 "nbformat_minor": 5
}
