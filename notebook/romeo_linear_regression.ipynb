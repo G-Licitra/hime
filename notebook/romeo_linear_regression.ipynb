{
 "cells": [
  {
   "cell_type": "markdown",
   "id": "interior-pioneer",
   "metadata": {},
   "source": [
    "# Exploring the functionality within the `romeo.LinearRegression` class"
   ]
  },
  {
   "cell_type": "code",
   "execution_count": 27,
   "id": "angry-corporation",
   "metadata": {},
   "outputs": [],
   "source": [
    "import os\n",
    "import numpy as np\n",
    "import pandas as pd\n",
    "import seaborn as sns\n",
    "import matplotlib.pyplot as plt\n",
    "from sklearn.datasets import make_regression\n",
    "from sklearn.metrics import r2_score\n",
    "import session_info"
   ]
  },
  {
   "cell_type": "code",
   "execution_count": 2,
   "id": "necessary-pulse",
   "metadata": {},
   "outputs": [],
   "source": [
    "current_wd = os.getcwd()\n",
    "os.chdir(current_wd.split(\"/notebook\")[0])\n",
    "from romeo.linear_model import LinearRegression\n",
    "os.chdir(current_wd)"
   ]
  },
  {
   "cell_type": "code",
   "execution_count": 3,
   "id": "beneficial-spyware",
   "metadata": {},
   "outputs": [
    {
     "data": {
      "text/html": [
       "<details>\n",
       "<summary>Click to view session information</summary>\n",
       "<pre>\n",
       "-----\n",
       "matplotlib          3.3.4\n",
       "numpy               1.19.2\n",
       "pandas              1.2.3\n",
       "romeo               0.0.1\n",
       "seaborn             0.11.1\n",
       "session_info        1.0.0\n",
       "sklearn             0.24.1\n",
       "-----\n",
       "</pre>\n",
       "<details>\n",
       "<summary>Click to view modules imported as dependencies</summary>\n",
       "<pre>\n",
       "PIL                 8.1.2\n",
       "appnope             0.1.2\n",
       "backcall            0.2.0\n",
       "casadi              3.5.5\n",
       "cffi                1.14.5\n",
       "colorama            0.4.4\n",
       "cycler              0.10.0\n",
       "cython_runtime      NA\n",
       "dateutil            2.8.1\n",
       "decorator           4.4.2\n",
       "ipykernel           5.3.4\n",
       "ipython_genutils    0.2.0\n",
       "ipywidgets          7.6.3\n",
       "jedi                0.17.2\n",
       "joblib              0.17.0\n",
       "kiwisolver          1.3.1\n",
       "mpl_toolkits        NA\n",
       "parso               0.7.0\n",
       "pexpect             4.8.0\n",
       "pickleshare         0.7.5\n",
       "pkg_resources       NA\n",
       "prompt_toolkit      3.0.8\n",
       "ptyprocess          0.7.0\n",
       "pyexpat             NA\n",
       "pygments            2.8.1\n",
       "pyparsing           2.4.7\n",
       "pytz                2021.1\n",
       "scipy               1.5.3\n",
       "six                 1.15.0\n",
       "statsmodels         0.12.2\n",
       "storemagic          NA\n",
       "swig_runtime_data4  NA\n",
       "tornado             6.1\n",
       "traitlets           5.0.5\n",
       "wcwidth             0.2.5\n",
       "zmq                 20.0.0\n",
       "</pre>\n",
       "</details> <!-- seems like this ends pre, so might as well be explicit -->\n",
       "<pre>\n",
       "-----\n",
       "IPython             7.21.0\n",
       "jupyter_client      6.1.7\n",
       "jupyter_core        4.7.1\n",
       "jupyterlab          2.2.6\n",
       "notebook            6.2.0\n",
       "-----\n",
       "Python 3.9.2 (default, Mar  3 2021, 11:58:52) [Clang 10.0.0 ]\n",
       "macOS-10.16-x86_64-i386-64bit\n",
       "-----\n",
       "Session information updated at 2021-07-27 13:38\n",
       "</pre>\n",
       "</details>"
      ],
      "text/plain": [
       "<IPython.core.display.HTML object>"
      ]
     },
     "execution_count": 3,
     "metadata": {},
     "output_type": "execute_result"
    }
   ],
   "source": [
    "session_info.show(write_req_file=False)"
   ]
  },
  {
   "cell_type": "markdown",
   "id": "frozen-sullivan",
   "metadata": {},
   "source": [
    "## Make X and y data"
   ]
  },
  {
   "cell_type": "code",
   "execution_count": 4,
   "id": "western-victoria",
   "metadata": {},
   "outputs": [],
   "source": [
    "amount_of_features = 4\n",
    "X, y, coef = make_regression(n_samples=100,\n",
    "    n_features=amount_of_features,\n",
    "    n_informative=amount_of_features,\n",
    "                             noise=5,\n",
    "                             coef=True, \n",
    "                            random_state=42)"
   ]
  },
  {
   "cell_type": "code",
   "execution_count": 5,
   "id": "confused-fourth",
   "metadata": {},
   "outputs": [
    {
     "data": {
      "text/plain": [
       "array([86.47223763,  5.63754967, 27.34070719, 41.48195023])"
      ]
     },
     "execution_count": 5,
     "metadata": {},
     "output_type": "execute_result"
    }
   ],
   "source": [
    "coef"
   ]
  },
  {
   "cell_type": "markdown",
   "id": "becoming-marsh",
   "metadata": {},
   "source": [
    "## Fit the model"
   ]
  },
  {
   "cell_type": "code",
   "execution_count": 6,
   "id": "important-minister",
   "metadata": {},
   "outputs": [],
   "source": [
    "df = (pd.DataFrame(X, columns=[f\"feat_{x}\" for x in range(0, X.shape[1])])\n",
    ".merge(pd.DataFrame(y, columns=[\"target\"]),\n",
    "      left_index=True,\n",
    "      right_index=True))"
   ]
  },
  {
   "cell_type": "code",
   "execution_count": 7,
   "id": "sticky-sally",
   "metadata": {},
   "outputs": [
    {
     "data": {
      "text/html": [
       "<div>\n",
       "<style scoped>\n",
       "    .dataframe tbody tr th:only-of-type {\n",
       "        vertical-align: middle;\n",
       "    }\n",
       "\n",
       "    .dataframe tbody tr th {\n",
       "        vertical-align: top;\n",
       "    }\n",
       "\n",
       "    .dataframe thead th {\n",
       "        text-align: right;\n",
       "    }\n",
       "</style>\n",
       "<table border=\"1\" class=\"dataframe\">\n",
       "  <thead>\n",
       "    <tr style=\"text-align: right;\">\n",
       "      <th></th>\n",
       "      <th>feat_0</th>\n",
       "      <th>feat_1</th>\n",
       "      <th>feat_2</th>\n",
       "      <th>feat_3</th>\n",
       "      <th>target</th>\n",
       "    </tr>\n",
       "  </thead>\n",
       "  <tbody>\n",
       "    <tr>\n",
       "      <th>0</th>\n",
       "      <td>0.852433</td>\n",
       "      <td>-0.661786</td>\n",
       "      <td>0.186454</td>\n",
       "      <td>-2.025143</td>\n",
       "      <td>-8.751790</td>\n",
       "    </tr>\n",
       "    <tr>\n",
       "      <th>1</th>\n",
       "      <td>-0.493001</td>\n",
       "      <td>-0.208122</td>\n",
       "      <td>-0.622700</td>\n",
       "      <td>0.280992</td>\n",
       "      <td>-40.948309</td>\n",
       "    </tr>\n",
       "    <tr>\n",
       "      <th>2</th>\n",
       "      <td>-1.142970</td>\n",
       "      <td>0.058209</td>\n",
       "      <td>0.153725</td>\n",
       "      <td>-0.883857</td>\n",
       "      <td>-126.192510</td>\n",
       "    </tr>\n",
       "    <tr>\n",
       "      <th>3</th>\n",
       "      <td>0.375698</td>\n",
       "      <td>-1.150994</td>\n",
       "      <td>0.110923</td>\n",
       "      <td>-0.544383</td>\n",
       "      <td>7.050788</td>\n",
       "    </tr>\n",
       "    <tr>\n",
       "      <th>4</th>\n",
       "      <td>-1.196207</td>\n",
       "      <td>-1.106335</td>\n",
       "      <td>-0.185659</td>\n",
       "      <td>-0.479174</td>\n",
       "      <td>-134.050438</td>\n",
       "    </tr>\n",
       "  </tbody>\n",
       "</table>\n",
       "</div>"
      ],
      "text/plain": [
       "     feat_0    feat_1    feat_2    feat_3      target\n",
       "0  0.852433 -0.661786  0.186454 -2.025143   -8.751790\n",
       "1 -0.493001 -0.208122 -0.622700  0.280992  -40.948309\n",
       "2 -1.142970  0.058209  0.153725 -0.883857 -126.192510\n",
       "3  0.375698 -1.150994  0.110923 -0.544383    7.050788\n",
       "4 -1.196207 -1.106335 -0.185659 -0.479174 -134.050438"
      ]
     },
     "execution_count": 7,
     "metadata": {},
     "output_type": "execute_result"
    }
   ],
   "source": [
    "df.head()"
   ]
  },
  {
   "cell_type": "code",
   "execution_count": 8,
   "id": "exceptional-juvenile",
   "metadata": {},
   "outputs": [],
   "source": [
    "df_train = df.sample(frac=0.8, random_state=69420)\n",
    "df_test = df.drop(df_train.index)"
   ]
  },
  {
   "cell_type": "code",
   "execution_count": 9,
   "id": "detected-cookbook",
   "metadata": {},
   "outputs": [
    {
     "data": {
      "text/plain": [
       "((80, 5), (20, 5))"
      ]
     },
     "execution_count": 9,
     "metadata": {},
     "output_type": "execute_result"
    }
   ],
   "source": [
    "df_train.shape, df_test.shape"
   ]
  },
  {
   "cell_type": "markdown",
   "id": "adolescent-chamber",
   "metadata": {},
   "source": [
    "## Currently the romeo LinearRegression function requires the inputs to be pandas (DataFrame, and Series)"
   ]
  },
  {
   "cell_type": "markdown",
   "id": "caroline-surprise",
   "metadata": {},
   "source": [
    "Otherwise the fit_intercept = True, does not work, nor will the calls to X.values"
   ]
  },
  {
   "cell_type": "code",
   "execution_count": 10,
   "id": "guided-machinery",
   "metadata": {},
   "outputs": [
    {
     "name": "stdout",
     "output_type": "stream",
     "text": [
      "\n",
      "******************************************************************************\n",
      "This program contains Ipopt, a library for large-scale nonlinear optimization.\n",
      " Ipopt is released as open source code under the Eclipse Public License (EPL).\n",
      "         For more information visit https://github.com/coin-or/Ipopt\n",
      "******************************************************************************\n",
      "\n",
      "This is Ipopt version 3.13.4, running with linear solver mumps.\n",
      "NOTE: Other linear solvers might be more efficient (see Ipopt documentation).\n",
      "\n",
      "Number of nonzeros in equality constraint Jacobian...:        0\n",
      "Number of nonzeros in inequality constraint Jacobian.:        0\n",
      "Number of nonzeros in Lagrangian Hessian.............:       15\n",
      "\n",
      "Total number of variables............................:        5\n",
      "                     variables with only lower bounds:        0\n",
      "                variables with lower and upper bounds:        0\n",
      "                     variables with only upper bounds:        0\n",
      "Total number of equality constraints.................:        0\n",
      "Total number of inequality constraints...............:        0\n",
      "        inequality constraints with only lower bounds:        0\n",
      "   inequality constraints with lower and upper bounds:        0\n",
      "        inequality constraints with only upper bounds:        0\n",
      "\n",
      "iter    objective    inf_pr   inf_du lg(mu)  ||d||  lg(rg) alpha_du alpha_pr  ls\n",
      "   0  3.5210444e+05 0.00e+00 1.00e+02  -1.0 0.00e+00    -  0.00e+00 0.00e+00   0\n",
      "   1  1.1424896e+03 0.00e+00 5.67e-14  -1.0 8.72e+01    -  1.00e+00 1.00e+00f  1\n",
      "\n",
      "Number of Iterations....: 1\n",
      "\n",
      "                                   (scaled)                 (unscaled)\n",
      "Objective...............:   1.7891345646394804e+01    1.1424895989175266e+03\n",
      "Dual infeasibility......:   5.6713302486018981e-14    3.6215475063272606e-12\n",
      "Constraint violation....:   0.0000000000000000e+00    0.0000000000000000e+00\n",
      "Complementarity.........:   0.0000000000000000e+00    0.0000000000000000e+00\n",
      "Overall NLP error.......:   5.6713302486018981e-14    3.6215475063272606e-12\n",
      "\n",
      "\n",
      "Number of objective function evaluations             = 2\n",
      "Number of objective gradient evaluations             = 2\n",
      "Number of equality constraint evaluations            = 0\n",
      "Number of inequality constraint evaluations          = 0\n",
      "Number of equality constraint Jacobian evaluations   = 0\n",
      "Number of inequality constraint Jacobian evaluations = 0\n",
      "Number of Lagrangian Hessian evaluations             = 1\n",
      "Total CPU secs in IPOPT (w/o function evaluations)   =      0.003\n",
      "Total CPU secs in NLP function evaluations           =      0.000\n",
      "\n",
      "EXIT: Optimal Solution Found.\n",
      "         ols  :   t_proc      (avg)   t_wall      (avg)    n_eval\n",
      "       nlp_f  |  10.00us (  5.00us)  10.48us (  5.24us)         2\n",
      "  nlp_grad_f  |  59.00us ( 19.67us)  58.33us ( 19.44us)         3\n",
      "  nlp_hess_l  |  15.00us ( 15.00us)  15.10us ( 15.10us)         1\n",
      "       total  |   5.73ms (  5.73ms)   4.74ms (  4.74ms)         1\n"
     ]
    }
   ],
   "source": [
    "reg = LinearRegression(fit_intercept=True).fit(X=df_train.filter(regex=\"feat\"), y=df_train[\"target\"])"
   ]
  },
  {
   "cell_type": "code",
   "execution_count": 11,
   "id": "surprising-farming",
   "metadata": {},
   "outputs": [
    {
     "data": {
      "text/html": [
       "<div>\n",
       "<style scoped>\n",
       "    .dataframe tbody tr th:only-of-type {\n",
       "        vertical-align: middle;\n",
       "    }\n",
       "\n",
       "    .dataframe tbody tr th {\n",
       "        vertical-align: top;\n",
       "    }\n",
       "\n",
       "    .dataframe thead th {\n",
       "        text-align: right;\n",
       "    }\n",
       "</style>\n",
       "<table border=\"1\" class=\"dataframe\">\n",
       "  <thead>\n",
       "    <tr style=\"text-align: right;\">\n",
       "      <th></th>\n",
       "      <th>coef</th>\n",
       "    </tr>\n",
       "  </thead>\n",
       "  <tbody>\n",
       "    <tr>\n",
       "      <th>intercept</th>\n",
       "      <td>-0.171726</td>\n",
       "    </tr>\n",
       "    <tr>\n",
       "      <th>feat_0</th>\n",
       "      <td>87.155885</td>\n",
       "    </tr>\n",
       "    <tr>\n",
       "      <th>feat_1</th>\n",
       "      <td>5.751563</td>\n",
       "    </tr>\n",
       "    <tr>\n",
       "      <th>feat_2</th>\n",
       "      <td>26.934038</td>\n",
       "    </tr>\n",
       "    <tr>\n",
       "      <th>feat_3</th>\n",
       "      <td>40.459461</td>\n",
       "    </tr>\n",
       "  </tbody>\n",
       "</table>\n",
       "</div>"
      ],
      "text/plain": [
       "                coef\n",
       "intercept  -0.171726\n",
       "feat_0     87.155885\n",
       "feat_1      5.751563\n",
       "feat_2     26.934038\n",
       "feat_3     40.459461"
      ]
     },
     "execution_count": 11,
     "metadata": {},
     "output_type": "execute_result"
    }
   ],
   "source": [
    "reg.coef_#, reg.intercept_#, reg.score(X, y)"
   ]
  },
  {
   "cell_type": "markdown",
   "id": "graduate-metadata",
   "metadata": {},
   "source": [
    "## Show the available methods and attributes of the fitted model"
   ]
  },
  {
   "cell_type": "code",
   "execution_count": 12,
   "id": "divided-singer",
   "metadata": {},
   "outputs": [
    {
     "data": {
      "text/plain": [
       "array(['__class__', '__delattr__', '__dict__', '__dir__', '__doc__',\n",
       "       '__eq__', '__format__', '__ge__', '__getattribute__', '__gt__',\n",
       "       '__hash__', '__init__', '__init_subclass__', '__le__', '__lt__',\n",
       "       '__module__', '__ne__', '__new__', '__reduce__', '__reduce_ex__',\n",
       "       '__repr__', '__setattr__', '__sizeof__', '__str__',\n",
       "       '__subclasshook__', '__weakref__', 'coef_', 'copy_X', 'fit',\n",
       "       'fit_intercept', 'normalize', 'positive', 'predict'], dtype='<U17')"
      ]
     },
     "execution_count": 12,
     "metadata": {},
     "output_type": "execute_result"
    }
   ],
   "source": [
    "np.array(dir(reg))"
   ]
  },
  {
   "cell_type": "code",
   "execution_count": 13,
   "id": "hydraulic-james",
   "metadata": {},
   "outputs": [],
   "source": [
    "intercept = reg.coef_.loc[\"intercept\", :].values[0]\n",
    "coefs = reg.coef_.drop(\"intercept\").values"
   ]
  },
  {
   "cell_type": "code",
   "execution_count": 14,
   "id": "billion-spread",
   "metadata": {},
   "outputs": [
    {
     "data": {
      "text/plain": [
       "array([[87.1558853 ],\n",
       "       [ 5.75156338],\n",
       "       [26.93403819],\n",
       "       [40.45946059]])"
      ]
     },
     "execution_count": 14,
     "metadata": {},
     "output_type": "execute_result"
    }
   ],
   "source": [
    "coefs"
   ]
  },
  {
   "cell_type": "code",
   "execution_count": 15,
   "id": "supposed-chart",
   "metadata": {},
   "outputs": [
    {
     "data": {
      "text/plain": [
       "array([[87.1558853 ,  5.75156338, 26.93403819, 40.45946059]])"
      ]
     },
     "execution_count": 15,
     "metadata": {},
     "output_type": "execute_result"
    }
   ],
   "source": [
    "coefs.reshape(1,-1)"
   ]
  },
  {
   "cell_type": "code",
   "execution_count": 16,
   "id": "temporal-variety",
   "metadata": {},
   "outputs": [
    {
     "data": {
      "text/html": [
       "<div>\n",
       "<style scoped>\n",
       "    .dataframe tbody tr th:only-of-type {\n",
       "        vertical-align: middle;\n",
       "    }\n",
       "\n",
       "    .dataframe tbody tr th {\n",
       "        vertical-align: top;\n",
       "    }\n",
       "\n",
       "    .dataframe thead th {\n",
       "        text-align: right;\n",
       "    }\n",
       "</style>\n",
       "<table border=\"1\" class=\"dataframe\">\n",
       "  <thead>\n",
       "    <tr style=\"text-align: right;\">\n",
       "      <th></th>\n",
       "      <th>feat_0</th>\n",
       "      <th>feat_1</th>\n",
       "      <th>feat_2</th>\n",
       "      <th>feat_3</th>\n",
       "    </tr>\n",
       "  </thead>\n",
       "  <tbody>\n",
       "    <tr>\n",
       "      <th>30</th>\n",
       "      <td>68.998063</td>\n",
       "      <td>6.660948</td>\n",
       "      <td>-32.703002</td>\n",
       "      <td>-40.702921</td>\n",
       "    </tr>\n",
       "    <tr>\n",
       "      <th>4</th>\n",
       "      <td>-104.256447</td>\n",
       "      <td>-6.363156</td>\n",
       "      <td>-5.000546</td>\n",
       "      <td>-19.387131</td>\n",
       "    </tr>\n",
       "    <tr>\n",
       "      <th>71</th>\n",
       "      <td>-93.931800</td>\n",
       "      <td>0.369711</td>\n",
       "      <td>29.329837</td>\n",
       "      <td>-19.094109</td>\n",
       "    </tr>\n",
       "    <tr>\n",
       "      <th>50</th>\n",
       "      <td>81.166543</td>\n",
       "      <td>5.929859</td>\n",
       "      <td>16.474913</td>\n",
       "      <td>-27.387899</td>\n",
       "    </tr>\n",
       "    <tr>\n",
       "      <th>56</th>\n",
       "      <td>-40.891419</td>\n",
       "      <td>6.783625</td>\n",
       "      <td>49.328580</td>\n",
       "      <td>-53.415923</td>\n",
       "    </tr>\n",
       "  </tbody>\n",
       "</table>\n",
       "</div>"
      ],
      "text/plain": [
       "        feat_0    feat_1     feat_2     feat_3\n",
       "30   68.998063  6.660948 -32.703002 -40.702921\n",
       "4  -104.256447 -6.363156  -5.000546 -19.387131\n",
       "71  -93.931800  0.369711  29.329837 -19.094109\n",
       "50   81.166543  5.929859  16.474913 -27.387899\n",
       "56  -40.891419  6.783625  49.328580 -53.415923"
      ]
     },
     "execution_count": 16,
     "metadata": {},
     "output_type": "execute_result"
    }
   ],
   "source": [
    "coefs.reshape(1,-1)*df_train.filter(regex=\"feat\").head()"
   ]
  },
  {
   "cell_type": "markdown",
   "id": "human-basic",
   "metadata": {},
   "source": [
    "## Plot the original data and the lines of best fit for each of the predictors on the target"
   ]
  },
  {
   "cell_type": "code",
   "execution_count": 17,
   "id": "soviet-eleven",
   "metadata": {},
   "outputs": [
    {
     "data": {
      "image/png": "[encoded data removed]",
      "text/plain": [
       "<Figure size 864x504 with 1 Axes>"
      ]
     },
     "metadata": {
      "needs_background": "light"
     },
     "output_type": "display_data"
    }
   ],
   "source": [
    "_ = plt.figure(figsize=(12, 7))\n",
    "_ = plt.plot(df_train.filter(regex=\"feat\"), \n",
    "             df_train[\"target\"], \n",
    "             'o', \n",
    "             label='original data')\n",
    "_ = plt.plot(df_train.filter(regex=\"feat\"), \n",
    "             intercept + coefs.reshape(1,-1)*df_train.filter(regex=\"feat\"), \n",
    "             'r', \n",
    "             label='fitted line')\n",
    "# _ = plt.legend()"
   ]
  },
  {
   "cell_type": "markdown",
   "id": "infrared-improvement",
   "metadata": {},
   "source": [
    "## With the fitted model attempt to predict the test data"
   ]
  },
  {
   "cell_type": "code",
   "execution_count": 24,
   "id": "distant-pencil",
   "metadata": {},
   "outputs": [
    {
     "data": {
      "text/html": [
       "<div>\n",
       "<style scoped>\n",
       "    .dataframe tbody tr th:only-of-type {\n",
       "        vertical-align: middle;\n",
       "    }\n",
       "\n",
       "    .dataframe tbody tr th {\n",
       "        vertical-align: top;\n",
       "    }\n",
       "\n",
       "    .dataframe thead th {\n",
       "        text-align: right;\n",
       "    }\n",
       "</style>\n",
       "<table border=\"1\" class=\"dataframe\">\n",
       "  <thead>\n",
       "    <tr style=\"text-align: right;\">\n",
       "      <th></th>\n",
       "      <th>coef</th>\n",
       "    </tr>\n",
       "  </thead>\n",
       "  <tbody>\n",
       "    <tr>\n",
       "      <th>9</th>\n",
       "      <td>29.883108</td>\n",
       "    </tr>\n",
       "    <tr>\n",
       "      <th>23</th>\n",
       "      <td>219.968612</td>\n",
       "    </tr>\n",
       "  </tbody>\n",
       "</table>\n",
       "</div>"
      ],
      "text/plain": [
       "          coef\n",
       "9    29.883108\n",
       "23  219.968612"
      ]
     },
     "execution_count": 24,
     "metadata": {},
     "output_type": "execute_result"
    }
   ],
   "source": [
    "y_pred = reg.predict(df_test.filter(regex=\"feat\"))\n",
    "y_pred.head(2)"
   ]
  },
  {
   "cell_type": "code",
   "execution_count": 25,
   "id": "wanted-david",
   "metadata": {},
   "outputs": [
    {
     "data": {
      "text/html": [
       "<div>\n",
       "<style scoped>\n",
       "    .dataframe tbody tr th:only-of-type {\n",
       "        vertical-align: middle;\n",
       "    }\n",
       "\n",
       "    .dataframe tbody tr th {\n",
       "        vertical-align: top;\n",
       "    }\n",
       "\n",
       "    .dataframe thead th {\n",
       "        text-align: right;\n",
       "    }\n",
       "</style>\n",
       "<table border=\"1\" class=\"dataframe\">\n",
       "  <thead>\n",
       "    <tr style=\"text-align: right;\">\n",
       "      <th></th>\n",
       "      <th>target</th>\n",
       "    </tr>\n",
       "  </thead>\n",
       "  <tbody>\n",
       "    <tr>\n",
       "      <th>9</th>\n",
       "      <td>34.902372</td>\n",
       "    </tr>\n",
       "    <tr>\n",
       "      <th>23</th>\n",
       "      <td>219.457181</td>\n",
       "    </tr>\n",
       "  </tbody>\n",
       "</table>\n",
       "</div>"
      ],
      "text/plain": [
       "        target\n",
       "9    34.902372\n",
       "23  219.457181"
      ]
     },
     "execution_count": 25,
     "metadata": {},
     "output_type": "execute_result"
    }
   ],
   "source": [
    "y_test = df_test[[\"target\"]]\n",
    "y_test.head(2)"
   ]
  },
  {
   "cell_type": "markdown",
   "id": "specific-shape",
   "metadata": {},
   "source": [
    "## Calculate the r2 between the predicted vs the real scores"
   ]
  },
  {
   "cell_type": "code",
   "execution_count": 35,
   "id": "olympic-translator",
   "metadata": {},
   "outputs": [
    {
     "data": {
      "text/plain": [
       "0.9978264715032888"
      ]
     },
     "execution_count": 35,
     "metadata": {},
     "output_type": "execute_result"
    }
   ],
   "source": [
    "r_sq = r2_score(y_test[\"target\"], \n",
    "        y_pred[\"coef\"])\n",
    "r_sq"
   ]
  },
  {
   "cell_type": "markdown",
   "id": "apart-cornwall",
   "metadata": {},
   "source": [
    "## Plot the predicted vs the real values"
   ]
  },
  {
   "cell_type": "code",
   "execution_count": 40,
   "id": "satisfactory-allocation",
   "metadata": {},
   "outputs": [
    {
     "data": {
      "image/png": "[encoded data removed]",
      "text/plain": [
       "<Figure size 864x504 with 1 Axes>"
      ]
     },
     "metadata": {
      "needs_background": "light"
     },
     "output_type": "display_data"
    }
   ],
   "source": [
    "_ = plt.figure(figsize=(12, 7))\n",
    "_ = plt.plot(y_test[\"target\"], \n",
    "             y_pred[\"coef\"], \n",
    "             'o', \n",
    "#              label='original data'\n",
    "            )\n",
    "_ = plt.annotate(text = f\"R-squared = {round(r_sq, 3)}\",\n",
    "                 xy=(100, -140),)"
   ]
  }
 ],
 "metadata": {
  "kernelspec": {
   "display_name": "general",
   "language": "python",
   "name": "general"
  },
  "language_info": {
   "codemirror_mode": {
    "name": "ipython",
    "version": 3
   },
   "file_extension": ".py",
   "mimetype": "text/x-python",
   "name": "python",
   "nbconvert_exporter": "python",
   "pygments_lexer": "ipython3",
   "version": "3.9.2"
  }
 },
 "nbformat": 4,
 "nbformat_minor": 5
}
