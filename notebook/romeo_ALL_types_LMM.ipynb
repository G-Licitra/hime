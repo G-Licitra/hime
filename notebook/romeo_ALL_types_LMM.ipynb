{
 "cells": [
  {
   "cell_type": "markdown",
   "id": "neither-brain",
   "metadata": {},
   "source": [
    "# Exploring the different Linear Mixed Model regressions which use the `romeo.LinearRegression` class as the `BaseEstimator`"
   ]
  },
  {
   "cell_type": "code",
   "execution_count": 1,
   "id": "processed-person",
   "metadata": {},
   "outputs": [],
   "source": [
    "import os\n",
    "import numpy as np\n",
    "import pandas as pd\n",
    "import seaborn as sns\n",
    "import matplotlib.pyplot as plt\n",
    "from sklearn.datasets import make_regression\n",
    "from sklearn.metrics import r2_score\n",
    "import session_info"
   ]
  },
  {
   "cell_type": "code",
   "execution_count": 2,
   "id": "1ba94dd1-1fa9-4653-a05c-e5f8bacbc9c2",
   "metadata": {},
   "outputs": [],
   "source": [
    "import statsmodels.api as sm\n",
    "# import statsmodels.formula.api as smf"
   ]
  },
  {
   "cell_type": "code",
   "execution_count": 3,
   "id": "fuzzy-berkeley",
   "metadata": {},
   "outputs": [],
   "source": [
    "current_wd = os.getcwd()\n",
    "os.chdir(current_wd.split(\"/notebook\")[0])\n",
    "from romeo.linear_model import LinearRegression, LassoRegression, RidgeRegression\n",
    "from romeo.multi_level_model import LinearMixedRegression\n",
    "os.chdir(current_wd)"
   ]
  },
  {
   "cell_type": "code",
   "execution_count": 4,
   "id": "standing-wagner",
   "metadata": {},
   "outputs": [
    {
     "data": {
      "text/html": [
       "<details>\n",
       "<summary>Click to view session information</summary>\n",
       "<pre>\n",
       "-----\n",
       "matplotlib          3.3.4\n",
       "numpy               1.19.2\n",
       "pandas              1.2.3\n",
       "romeo               0.0.1\n",
       "seaborn             0.11.1\n",
       "session_info        1.0.0\n",
       "sklearn             0.24.1\n",
       "statsmodels         0.12.2\n",
       "-----\n",
       "</pre>\n",
       "<details>\n",
       "<summary>Click to view modules imported as dependencies</summary>\n",
       "<pre>\n",
       "PIL                 8.1.2\n",
       "appnope             0.1.2\n",
       "backcall            0.2.0\n",
       "casadi              3.5.5\n",
       "cffi                1.14.5\n",
       "colorama            0.4.4\n",
       "cycler              0.10.0\n",
       "cython_runtime      NA\n",
       "dateutil            2.8.1\n",
       "decorator           4.4.2\n",
       "ipykernel           5.3.4\n",
       "ipython_genutils    0.2.0\n",
       "ipywidgets          7.6.3\n",
       "jedi                0.17.2\n",
       "joblib              0.17.0\n",
       "kiwisolver          1.3.1\n",
       "mpl_toolkits        NA\n",
       "parso               0.7.0\n",
       "patsy               0.5.1\n",
       "pexpect             4.8.0\n",
       "pickleshare         0.7.5\n",
       "pkg_resources       NA\n",
       "prompt_toolkit      3.0.8\n",
       "ptyprocess          0.7.0\n",
       "pyexpat             NA\n",
       "pygments            2.8.1\n",
       "pyparsing           2.4.7\n",
       "pytz                2021.1\n",
       "scipy               1.5.3\n",
       "six                 1.15.0\n",
       "storemagic          NA\n",
       "swig_runtime_data4  NA\n",
       "tornado             6.1\n",
       "traitlets           5.0.5\n",
       "wcwidth             0.2.5\n",
       "zmq                 20.0.0\n",
       "</pre>\n",
       "</details> <!-- seems like this ends pre, so might as well be explicit -->\n",
       "<pre>\n",
       "-----\n",
       "IPython             7.21.0\n",
       "jupyter_client      6.1.7\n",
       "jupyter_core        4.7.1\n",
       "jupyterlab          2.2.6\n",
       "notebook            6.2.0\n",
       "-----\n",
       "Python 3.9.2 (default, Mar  3 2021, 11:58:52) [Clang 10.0.0 ]\n",
       "macOS-10.16-x86_64-i386-64bit\n",
       "-----\n",
       "Session information updated at 2021-07-31 09:03\n",
       "</pre>\n",
       "</details>"
      ],
      "text/plain": [
       "<IPython.core.display.HTML object>"
      ]
     },
     "execution_count": 4,
     "metadata": {},
     "output_type": "execute_result"
    }
   ],
   "source": [
    "session_info.show(write_req_file=False)"
   ]
  },
  {
   "cell_type": "markdown",
   "id": "defined-european",
   "metadata": {
    "tags": []
   },
   "source": [
    "## Make X and y data"
   ]
  },
  {
   "cell_type": "code",
   "execution_count": 5,
   "id": "10026344-3acc-4edd-aa18-6b3e45085e62",
   "metadata": {},
   "outputs": [],
   "source": [
    "data = sm.datasets.get_rdataset('dietox', 'geepack').data"
   ]
  },
  {
   "cell_type": "code",
   "execution_count": 6,
   "id": "37c1cf70-2e84-4968-8432-74b66d4417de",
   "metadata": {},
   "outputs": [
    {
     "data": {
      "text/html": [
       "<div>\n",
       "<style scoped>\n",
       "    .dataframe tbody tr th:only-of-type {\n",
       "        vertical-align: middle;\n",
       "    }\n",
       "\n",
       "    .dataframe tbody tr th {\n",
       "        vertical-align: top;\n",
       "    }\n",
       "\n",
       "    .dataframe thead th {\n",
       "        text-align: right;\n",
       "    }\n",
       "</style>\n",
       "<table border=\"1\" class=\"dataframe\">\n",
       "  <thead>\n",
       "    <tr style=\"text-align: right;\">\n",
       "      <th></th>\n",
       "      <th>Pig</th>\n",
       "      <th>Evit</th>\n",
       "      <th>Cu</th>\n",
       "      <th>Litter</th>\n",
       "      <th>Start</th>\n",
       "      <th>Weight</th>\n",
       "      <th>Feed</th>\n",
       "      <th>Time</th>\n",
       "    </tr>\n",
       "  </thead>\n",
       "  <tbody>\n",
       "    <tr>\n",
       "      <th>0</th>\n",
       "      <td>4601</td>\n",
       "      <td>Evit000</td>\n",
       "      <td>Cu000</td>\n",
       "      <td>1</td>\n",
       "      <td>26.5</td>\n",
       "      <td>26.50000</td>\n",
       "      <td>NaN</td>\n",
       "      <td>1</td>\n",
       "    </tr>\n",
       "    <tr>\n",
       "      <th>1</th>\n",
       "      <td>4601</td>\n",
       "      <td>Evit000</td>\n",
       "      <td>Cu000</td>\n",
       "      <td>1</td>\n",
       "      <td>26.5</td>\n",
       "      <td>27.59999</td>\n",
       "      <td>5.200005</td>\n",
       "      <td>2</td>\n",
       "    </tr>\n",
       "    <tr>\n",
       "      <th>2</th>\n",
       "      <td>4601</td>\n",
       "      <td>Evit000</td>\n",
       "      <td>Cu000</td>\n",
       "      <td>1</td>\n",
       "      <td>26.5</td>\n",
       "      <td>36.50000</td>\n",
       "      <td>17.600000</td>\n",
       "      <td>3</td>\n",
       "    </tr>\n",
       "    <tr>\n",
       "      <th>3</th>\n",
       "      <td>4601</td>\n",
       "      <td>Evit000</td>\n",
       "      <td>Cu000</td>\n",
       "      <td>1</td>\n",
       "      <td>26.5</td>\n",
       "      <td>40.29999</td>\n",
       "      <td>28.500000</td>\n",
       "      <td>4</td>\n",
       "    </tr>\n",
       "    <tr>\n",
       "      <th>4</th>\n",
       "      <td>4601</td>\n",
       "      <td>Evit000</td>\n",
       "      <td>Cu000</td>\n",
       "      <td>1</td>\n",
       "      <td>26.5</td>\n",
       "      <td>49.09998</td>\n",
       "      <td>45.200001</td>\n",
       "      <td>5</td>\n",
       "    </tr>\n",
       "  </tbody>\n",
       "</table>\n",
       "</div>"
      ],
      "text/plain": [
       "    Pig     Evit     Cu  Litter  Start    Weight       Feed  Time\n",
       "0  4601  Evit000  Cu000       1   26.5  26.50000        NaN     1\n",
       "1  4601  Evit000  Cu000       1   26.5  27.59999   5.200005     2\n",
       "2  4601  Evit000  Cu000       1   26.5  36.50000  17.600000     3\n",
       "3  4601  Evit000  Cu000       1   26.5  40.29999  28.500000     4\n",
       "4  4601  Evit000  Cu000       1   26.5  49.09998  45.200001     5"
      ]
     },
     "execution_count": 6,
     "metadata": {},
     "output_type": "execute_result"
    }
   ],
   "source": [
    "data.head()"
   ]
  },
  {
   "cell_type": "code",
   "execution_count": 7,
   "id": "duplicate-garbage",
   "metadata": {},
   "outputs": [],
   "source": [
    "df_train = data.sample(frac=0.8, random_state=69420)\n",
    "df_test = data.drop(df_train.index)"
   ]
  },
  {
   "cell_type": "code",
   "execution_count": 8,
   "id": "understood-nevada",
   "metadata": {},
   "outputs": [
    {
     "data": {
      "text/plain": [
       "((689, 8), (172, 8))"
      ]
     },
     "execution_count": 8,
     "metadata": {},
     "output_type": "execute_result"
    }
   ],
   "source": [
    "df_train.shape, df_test.shape"
   ]
  },
  {
   "cell_type": "markdown",
   "id": "removed-tobacco",
   "metadata": {},
   "source": [
    "## Fit the romeo LinearMixedRegression"
   ]
  },
  {
   "cell_type": "code",
   "execution_count": 9,
   "id": "5148bbee-8002-49dd-b37a-f081ffdd5480",
   "metadata": {},
   "outputs": [],
   "source": [
    "mixed_dict = {\"target\": \"Weight\",\n",
    "\"fixed_effect\": \"Time\",\n",
    "\"grouping_var\": \"Pig\",\n",
    "\"random_slope\": \"Time\"}"
   ]
  },
  {
   "cell_type": "code",
   "execution_count": 10,
   "id": "2bb40be2-aa80-400b-9589-c2febd17ae7e",
   "metadata": {},
   "outputs": [],
   "source": [
    "def unpack_X(df, fixed_effect, grouping_var, random_slope, target):\n",
    "    X=df[fixed_effect]\n",
    "    u=df[grouping_var].unique()\n",
    "    random_slope_array=df[random_slope]\n",
    "    y=df[target]\n",
    "    return X, y, u, random_slope"
   ]
  },
  {
   "cell_type": "code",
   "execution_count": 11,
   "id": "c651ce57-a075-4615-aae4-74a6e187c3ce",
   "metadata": {},
   "outputs": [],
   "source": [
    "# unpack_X(df_train, **mixed_dict)"
   ]
  },
  {
   "cell_type": "code",
   "execution_count": 12,
   "id": "d4bd8372-68b0-463b-9051-03ef7d237790",
   "metadata": {},
   "outputs": [],
   "source": [
    "reg = LinearMixedRegression(fit_intercept=True,\n",
    "                      normalize=True).fit(X=data[[mixed_dict[\"fixed_effect\"], mixed_dict[\"grouping_var\"]]],\n",
    "                                         y=data[mixed_dict[\"target\"]],\n",
    "                                          verbose=False,\n",
    "                                         kwargs=mixed_dict)"
   ]
  },
  {
   "cell_type": "code",
   "execution_count": 13,
   "id": "5eaac074-7cad-4baa-958c-049c3c24fcb9",
   "metadata": {},
   "outputs": [
    {
     "data": {
      "text/plain": [
       "array([4601, 4602, 4603, 4605, 4641, 4643, 4645, 4756, 4757, 4759, 4760,\n",
       "       4813, 4814, 4815, 4817, 4854, 4856, 4857, 4858, 5389, 5392, 5497,\n",
       "       5500, 5501, 5502, 5524, 5527, 5528, 5578, 5581, 5582, 5850, 5851,\n",
       "       5852, 5862, 5865, 5866, 6055, 6056, 6057, 6058, 6207, 6208, 6211,\n",
       "       6284, 6287, 6288, 6430, 6432, 6433, 6909, 6910, 6912, 8049, 8050,\n",
       "       8051, 8053, 8139, 8141, 8142, 8144, 8191, 8192, 8193, 8195, 8269,\n",
       "       8270, 8271, 8273, 8437, 8439, 8442])"
      ]
     },
     "execution_count": 13,
     "metadata": {},
     "output_type": "execute_result"
    }
   ],
   "source": [
    "reg.u"
   ]
  },
  {
   "cell_type": "code",
   "execution_count": 14,
   "id": "adult-welsh",
   "metadata": {},
   "outputs": [
    {
     "data": {
      "text/plain": [
       "15.508589708831488"
      ]
     },
     "execution_count": 14,
     "metadata": {},
     "output_type": "execute_result"
    }
   ],
   "source": [
    "reg.intercept_"
   ]
  },
  {
   "cell_type": "code",
   "execution_count": 15,
   "id": "9e2db8ad-3606-488d-9a5b-097052a09a78",
   "metadata": {},
   "outputs": [
    {
     "data": {
      "text/html": [
       "<div>\n",
       "<style scoped>\n",
       "    .dataframe tbody tr th:only-of-type {\n",
       "        vertical-align: middle;\n",
       "    }\n",
       "\n",
       "    .dataframe tbody tr th {\n",
       "        vertical-align: top;\n",
       "    }\n",
       "\n",
       "    .dataframe thead th {\n",
       "        text-align: right;\n",
       "    }\n",
       "</style>\n",
       "<table border=\"1\" class=\"dataframe\">\n",
       "  <thead>\n",
       "    <tr style=\"text-align: right;\">\n",
       "      <th></th>\n",
       "      <th>coef</th>\n",
       "    </tr>\n",
       "  </thead>\n",
       "  <tbody>\n",
       "    <tr>\n",
       "      <th>intercept</th>\n",
       "      <td>15.508590</td>\n",
       "    </tr>\n",
       "    <tr>\n",
       "      <th>Time</th>\n",
       "      <td>6.942398</td>\n",
       "    </tr>\n",
       "    <tr>\n",
       "      <th>4601</th>\n",
       "      <td>-1.025854</td>\n",
       "    </tr>\n",
       "    <tr>\n",
       "      <th>4602</th>\n",
       "      <td>3.374142</td>\n",
       "    </tr>\n",
       "    <tr>\n",
       "      <th>4603</th>\n",
       "      <td>4.290797</td>\n",
       "    </tr>\n",
       "    <tr>\n",
       "      <th>...</th>\n",
       "      <td>...</td>\n",
       "    </tr>\n",
       "    <tr>\n",
       "      <th>8271</th>\n",
       "      <td>0.524146</td>\n",
       "    </tr>\n",
       "    <tr>\n",
       "      <th>8273</th>\n",
       "      <td>5.332475</td>\n",
       "    </tr>\n",
       "    <tr>\n",
       "      <th>8437</th>\n",
       "      <td>0.774148</td>\n",
       "    </tr>\n",
       "    <tr>\n",
       "      <th>8439</th>\n",
       "      <td>1.574140</td>\n",
       "    </tr>\n",
       "    <tr>\n",
       "      <th>8442</th>\n",
       "      <td>1.115806</td>\n",
       "    </tr>\n",
       "  </tbody>\n",
       "</table>\n",
       "<p>74 rows × 1 columns</p>\n",
       "</div>"
      ],
      "text/plain": [
       "                coef\n",
       "intercept  15.508590\n",
       "Time        6.942398\n",
       "4601       -1.025854\n",
       "4602        3.374142\n",
       "4603        4.290797\n",
       "...              ...\n",
       "8271        0.524146\n",
       "8273        5.332475\n",
       "8437        0.774148\n",
       "8439        1.574140\n",
       "8442        1.115806\n",
       "\n",
       "[74 rows x 1 columns]"
      ]
     },
     "execution_count": 15,
     "metadata": {},
     "output_type": "execute_result"
    }
   ],
   "source": [
    "reg.summary_"
   ]
  },
  {
   "cell_type": "code",
   "execution_count": 16,
   "id": "distinguished-amateur",
   "metadata": {},
   "outputs": [],
   "source": [
    "# reg.fit_evaluation_.round(3)"
   ]
  },
  {
   "cell_type": "code",
   "execution_count": 17,
   "id": "secondary-involvement",
   "metadata": {},
   "outputs": [],
   "source": [
    "intercept = reg.intercept_\n",
    "coefs = reg.coef_"
   ]
  },
  {
   "cell_type": "markdown",
   "id": "framed-orlando",
   "metadata": {},
   "source": [
    "## Plot the target vs the fitted values"
   ]
  },
  {
   "cell_type": "code",
   "execution_count": 18,
   "id": "48340c7e-0751-4346-9fff-e21d763ea77b",
   "metadata": {},
   "outputs": [
    {
     "data": {
      "text/plain": [
       "0       5.916544\n",
       "1      12.858942\n",
       "2      19.801340\n",
       "3      26.743738\n",
       "4      33.686136\n",
       "         ...    \n",
       "856    56.654990\n",
       "857    63.597388\n",
       "858    70.539786\n",
       "859    77.482184\n",
       "860    84.424582\n",
       "Length: 861, dtype: float64"
      ]
     },
     "execution_count": 18,
     "metadata": {},
     "output_type": "execute_result"
    }
   ],
   "source": [
    "reg.fitted_values"
   ]
  },
  {
   "cell_type": "code",
   "execution_count": 19,
   "id": "16b30bad-ca4c-4803-a76e-fd8282054ea0",
   "metadata": {},
   "outputs": [
    {
     "data": {
      "image/png": "[encoded data removed]",
      "text/plain": [
       "<Figure size 432x288 with 1 Axes>"
      ]
     },
     "metadata": {
      "needs_background": "light"
     },
     "output_type": "display_data"
    }
   ],
   "source": [
    "_ = plt.scatter(reg.fitted_values, data[mixed_dict[\"target\"]])"
   ]
  },
  {
   "cell_type": "markdown",
   "id": "palestinian-collect",
   "metadata": {},
   "source": [
    "## With the fitted model attempt to predict the test data"
   ]
  },
  {
   "cell_type": "code",
   "execution_count": 20,
   "id": "conservative-villa",
   "metadata": {},
   "outputs": [
    {
     "ename": "AttributeError",
     "evalue": "'NoneType' object has no attribute 'head'",
     "output_type": "error",
     "traceback": [
      "\u001b[0;31m---------------------------------------------------------------------------\u001b[0m",
      "\u001b[0;31mAttributeError\u001b[0m                            Traceback (most recent call last)",
      "\u001b[0;32m<ipython-input-20-79feb598e815>\u001b[0m in \u001b[0;36m<module>\u001b[0;34m\u001b[0m\n\u001b[1;32m      1\u001b[0m \u001b[0my_pred\u001b[0m \u001b[0;34m=\u001b[0m \u001b[0mreg\u001b[0m\u001b[0;34m.\u001b[0m\u001b[0mpredict\u001b[0m\u001b[0;34m(\u001b[0m\u001b[0mdf_test\u001b[0m\u001b[0;34m.\u001b[0m\u001b[0mfilter\u001b[0m\u001b[0;34m(\u001b[0m\u001b[0mregex\u001b[0m\u001b[0;34m=\u001b[0m\u001b[0;34m\"feat\"\u001b[0m\u001b[0;34m)\u001b[0m\u001b[0;34m)\u001b[0m\u001b[0;34m\u001b[0m\u001b[0;34m\u001b[0m\u001b[0m\n\u001b[0;32m----> 2\u001b[0;31m \u001b[0my_pred\u001b[0m\u001b[0;34m.\u001b[0m\u001b[0mhead\u001b[0m\u001b[0;34m(\u001b[0m\u001b[0;36m2\u001b[0m\u001b[0;34m)\u001b[0m\u001b[0;34m\u001b[0m\u001b[0;34m\u001b[0m\u001b[0m\n\u001b[0m",
      "\u001b[0;31mAttributeError\u001b[0m: 'NoneType' object has no attribute 'head'"
     ]
    }
   ],
   "source": [
    "y_pred = reg.predict(df_test.filter(regex=\"feat\"))\n",
    "y_pred.head(2)"
   ]
  },
  {
   "cell_type": "code",
   "execution_count": null,
   "id": "meaningful-status",
   "metadata": {},
   "outputs": [],
   "source": [
    "y_test = df_test[[\"target\"]]\n",
    "y_test.head(2)"
   ]
  },
  {
   "cell_type": "markdown",
   "id": "brutal-analysis",
   "metadata": {},
   "source": [
    "## Calculate the r2 between the predicted vs the real scores"
   ]
  },
  {
   "cell_type": "code",
   "execution_count": null,
   "id": "honey-colorado",
   "metadata": {},
   "outputs": [],
   "source": [
    "r_sq = r2_score(y_test[\"target\"], \n",
    "        y_pred)\n",
    "r_sq"
   ]
  },
  {
   "cell_type": "markdown",
   "id": "suspected-insulation",
   "metadata": {},
   "source": [
    "## Plot the predicted vs the real values"
   ]
  },
  {
   "cell_type": "code",
   "execution_count": null,
   "id": "tested-gibraltar",
   "metadata": {},
   "outputs": [],
   "source": [
    "_ = plt.figure(figsize=(12, 7))\n",
    "_ = plt.plot(y_test[\"target\"], \n",
    "             y_pred, \n",
    "             'o', \n",
    "#              label='original data'\n",
    "            )\n",
    "_ = plt.annotate(text = f\"R-squared = {round(r_sq, 3)}\",\n",
    "                 xy=(100, -140),)"
   ]
  }
 ],
 "metadata": {
  "kernelspec": {
   "display_name": "general",
   "language": "python",
   "name": "general"
  },
  "language_info": {
   "codemirror_mode": {
    "name": "ipython",
    "version": 3
   },
   "file_extension": ".py",
   "mimetype": "text/x-python",
   "name": "python",
   "nbconvert_exporter": "python",
   "pygments_lexer": "ipython3",
   "version": "3.9.2"
  }
 },
 "nbformat": 4,
 "nbformat_minor": 5
}
