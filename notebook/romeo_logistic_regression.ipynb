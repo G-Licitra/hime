{
 "cells": [
  {
   "cell_type": "markdown",
   "metadata": {},
   "source": [
    "# Exploring the functionality within the `romeo.LogisticRegression` class"
   ]
  },
  {
   "cell_type": "code",
   "execution_count": 1,
   "metadata": {},
   "outputs": [],
   "source": [
    "import os\n",
    "import numpy as np\n",
    "import pandas as pd\n",
    "import seaborn as sns\n",
    "import matplotlib.pyplot as plt\n",
    "from sklearn.datasets import make_classification\n",
    "from sklearn.metrics import log_loss, roc_curve, roc_auc_score, confusion_matrix\n",
    "import session_info\n",
    "\n",
    "pd.set_option('display.float_format', lambda x: '%.3f' % x)"
   ]
  },
  {
   "cell_type": "code",
   "execution_count": 2,
   "metadata": {},
   "outputs": [],
   "source": [
    "current_wd = os.getcwd()\n",
    "os.chdir(current_wd.split(\"/notebook\")[0])\n",
    "from romeo.logistic_model import LogisticRegression\n",
    "os.chdir(current_wd)"
   ]
  },
  {
   "cell_type": "code",
   "execution_count": 3,
   "metadata": {},
   "outputs": [
    {
     "data": {
      "text/html": [
       "<details>\n",
       "<summary>Click to view session information</summary>\n",
       "<pre>\n",
       "-----\n",
       "matplotlib          3.3.1\n",
       "numpy               1.21.1\n",
       "pandas              1.1.3\n",
       "romeo               0.0.1\n",
       "seaborn             0.11.0\n",
       "session_info        1.0.0\n",
       "sklearn             0.23.2\n",
       "-----\n",
       "</pre>\n",
       "<details>\n",
       "<summary>Click to view modules imported as dependencies</summary>\n",
       "<pre>\n",
       "PIL                 8.0.0\n",
       "backcall            0.2.0\n",
       "beta_ufunc          NA\n",
       "binom_ufunc         NA\n",
       "casadi              3.5.5\n",
       "cffi                1.14.3\n",
       "cycler              0.10.0\n",
       "cython_runtime      NA\n",
       "dateutil            2.8.1\n",
       "decorator           4.4.2\n",
       "ipykernel           5.3.4\n",
       "ipython_genutils    0.2.0\n",
       "jedi                0.18.0\n",
       "joblib              0.17.0\n",
       "kiwisolver          1.2.0\n",
       "mpl_toolkits        NA\n",
       "nbinom_ufunc        NA\n",
       "parso               0.8.0\n",
       "pexpect             4.8.0\n",
       "pickleshare         0.7.5\n",
       "pkg_resources       NA\n",
       "prompt_toolkit      3.0.8\n",
       "ptyprocess          0.6.0\n",
       "pygments            2.7.1\n",
       "pyparsing           2.4.7\n",
       "pytz                2020.1\n",
       "scipy               1.7.0\n",
       "six                 1.15.0\n",
       "statsmodels         0.12.0\n",
       "storemagic          NA\n",
       "swig_runtime_data4  NA\n",
       "tornado             6.0.4\n",
       "traitlets           5.0.5\n",
       "wcwidth             0.2.5\n",
       "zmq                 19.0.2\n",
       "</pre>\n",
       "</details> <!-- seems like this ends pre, so might as well be explicit -->\n",
       "<pre>\n",
       "-----\n",
       "IPython             7.18.1\n",
       "jupyter_client      6.1.7\n",
       "jupyter_core        4.6.3\n",
       "jupyterlab          2.2.6\n",
       "notebook            6.1.4\n",
       "-----\n",
       "Python 3.8.5 (default, Sep  4 2020, 07:30:14) [GCC 7.3.0]\n",
       "Linux-5.4.0-1054-aws-x86_64-with-glibc2.10\n",
       "-----\n",
       "Session information updated at 2021-08-05 12:55\n",
       "</pre>\n",
       "</details>"
      ],
      "text/plain": [
       "<IPython.core.display.HTML object>"
      ]
     },
     "execution_count": 3,
     "metadata": {},
     "output_type": "execute_result"
    }
   ],
   "source": [
    "session_info.show(write_req_file=False)"
   ]
  },
  {
   "cell_type": "markdown",
   "metadata": {},
   "source": [
    "## Make X and y data"
   ]
  },
  {
   "cell_type": "code",
   "execution_count": 4,
   "metadata": {},
   "outputs": [],
   "source": [
    "amount_of_features = 10\n",
    "amount_informative = 2\n",
    "X, y = make_classification(n_samples=300,\n",
    "    n_features=amount_of_features,\n",
    "    n_informative=amount_informative,\n",
    "#                              noise=5,\n",
    "#                              coef=True, \n",
    "                            random_state=42)"
   ]
  },
  {
   "cell_type": "code",
   "execution_count": 5,
   "metadata": {},
   "outputs": [],
   "source": [
    "X = X + 100"
   ]
  },
  {
   "cell_type": "markdown",
   "metadata": {},
   "source": [
    "## Fit the model"
   ]
  },
  {
   "cell_type": "code",
   "execution_count": 6,
   "metadata": {},
   "outputs": [],
   "source": [
    "df = (pd.DataFrame(X, columns=[f\"feat_{x}\" for x in range(0, X.shape[1])])\n",
    ".merge(pd.DataFrame(y, columns=[\"target\"]),\n",
    "      left_index=True,\n",
    "      right_index=True))"
   ]
  },
  {
   "cell_type": "code",
   "execution_count": 7,
   "metadata": {},
   "outputs": [
    {
     "data": {
      "text/html": [
       "<div>\n",
       "<style scoped>\n",
       "    .dataframe tbody tr th:only-of-type {\n",
       "        vertical-align: middle;\n",
       "    }\n",
       "\n",
       "    .dataframe tbody tr th {\n",
       "        vertical-align: top;\n",
       "    }\n",
       "\n",
       "    .dataframe thead th {\n",
       "        text-align: right;\n",
       "    }\n",
       "</style>\n",
       "<table border=\"1\" class=\"dataframe\">\n",
       "  <thead>\n",
       "    <tr style=\"text-align: right;\">\n",
       "      <th></th>\n",
       "      <th>feat_0</th>\n",
       "      <th>feat_1</th>\n",
       "      <th>feat_2</th>\n",
       "      <th>feat_3</th>\n",
       "      <th>feat_4</th>\n",
       "      <th>feat_5</th>\n",
       "      <th>feat_6</th>\n",
       "      <th>feat_7</th>\n",
       "      <th>feat_8</th>\n",
       "      <th>feat_9</th>\n",
       "      <th>target</th>\n",
       "    </tr>\n",
       "  </thead>\n",
       "  <tbody>\n",
       "    <tr>\n",
       "      <th>0</th>\n",
       "      <td>99.975</td>\n",
       "      <td>101.452</td>\n",
       "      <td>98.797</td>\n",
       "      <td>101.248</td>\n",
       "      <td>99.492</td>\n",
       "      <td>100.923</td>\n",
       "      <td>100.300</td>\n",
       "      <td>99.547</td>\n",
       "      <td>99.852</td>\n",
       "      <td>100.327</td>\n",
       "      <td>1</td>\n",
       "    </tr>\n",
       "    <tr>\n",
       "      <th>1</th>\n",
       "      <td>100.750</td>\n",
       "      <td>100.098</td>\n",
       "      <td>100.664</td>\n",
       "      <td>99.320</td>\n",
       "      <td>100.254</td>\n",
       "      <td>99.661</td>\n",
       "      <td>99.608</td>\n",
       "      <td>101.086</td>\n",
       "      <td>100.468</td>\n",
       "      <td>100.308</td>\n",
       "      <td>0</td>\n",
       "    </tr>\n",
       "    <tr>\n",
       "      <th>2</th>\n",
       "      <td>98.764</td>\n",
       "      <td>99.161</td>\n",
       "      <td>99.097</td>\n",
       "      <td>100.922</td>\n",
       "      <td>100.538</td>\n",
       "      <td>100.411</td>\n",
       "      <td>98.034</td>\n",
       "      <td>99.635</td>\n",
       "      <td>101.073</td>\n",
       "      <td>98.955</td>\n",
       "      <td>1</td>\n",
       "    </tr>\n",
       "    <tr>\n",
       "      <th>3</th>\n",
       "      <td>98.385</td>\n",
       "      <td>99.244</td>\n",
       "      <td>99.278</td>\n",
       "      <td>100.729</td>\n",
       "      <td>99.332</td>\n",
       "      <td>100.183</td>\n",
       "      <td>99.102</td>\n",
       "      <td>99.825</td>\n",
       "      <td>100.992</td>\n",
       "      <td>100.537</td>\n",
       "      <td>1</td>\n",
       "    </tr>\n",
       "    <tr>\n",
       "      <th>4</th>\n",
       "      <td>99.276</td>\n",
       "      <td>100.633</td>\n",
       "      <td>100.952</td>\n",
       "      <td>99.003</td>\n",
       "      <td>99.168</td>\n",
       "      <td>99.097</td>\n",
       "      <td>98.484</td>\n",
       "      <td>99.448</td>\n",
       "      <td>100.471</td>\n",
       "      <td>100.203</td>\n",
       "      <td>0</td>\n",
       "    </tr>\n",
       "  </tbody>\n",
       "</table>\n",
       "</div>"
      ],
      "text/plain": [
       "   feat_0  feat_1  feat_2  feat_3  feat_4  feat_5  feat_6  feat_7  feat_8  \\\n",
       "0  99.975 101.452  98.797 101.248  99.492 100.923 100.300  99.547  99.852   \n",
       "1 100.750 100.098 100.664  99.320 100.254  99.661  99.608 101.086 100.468   \n",
       "2  98.764  99.161  99.097 100.922 100.538 100.411  98.034  99.635 101.073   \n",
       "3  98.385  99.244  99.278 100.729  99.332 100.183  99.102  99.825 100.992   \n",
       "4  99.276 100.633 100.952  99.003  99.168  99.097  98.484  99.448 100.471   \n",
       "\n",
       "   feat_9  target  \n",
       "0 100.327       1  \n",
       "1 100.308       0  \n",
       "2  98.955       1  \n",
       "3 100.537       1  \n",
       "4 100.203       0  "
      ]
     },
     "execution_count": 7,
     "metadata": {},
     "output_type": "execute_result"
    }
   ],
   "source": [
    "df.head()"
   ]
  },
  {
   "cell_type": "code",
   "execution_count": 8,
   "metadata": {},
   "outputs": [],
   "source": [
    "df_train = df.sample(frac=0.8, random_state=69420)\n",
    "df_test = df.drop(df_train.index)"
   ]
  },
  {
   "cell_type": "code",
   "execution_count": 9,
   "metadata": {},
   "outputs": [
    {
     "data": {
      "text/plain": [
       "((240, 11), (60, 11))"
      ]
     },
     "execution_count": 9,
     "metadata": {},
     "output_type": "execute_result"
    }
   ],
   "source": [
    "df_train.shape, df_test.shape"
   ]
  },
  {
   "cell_type": "markdown",
   "metadata": {},
   "source": [
    "## Fit the romeo LogisticRegression"
   ]
  },
  {
   "cell_type": "code",
   "execution_count": 10,
   "metadata": {},
   "outputs": [],
   "source": [
    "reg = LogisticRegression(fit_intercept=True,\n",
    "                      normalize=True).fit(X=df_train.filter(regex=\"feat\"), \n",
    "                                               y=df_train[\"target\"], \n",
    "                                               verbose=False)"
   ]
  },
  {
   "cell_type": "code",
   "execution_count": 11,
   "metadata": {},
   "outputs": [
    {
     "data": {
      "text/plain": [
       "(-0.009486998010060557,\n",
       " array([ 0.44877268,  0.29063418, -2.60723345,  0.78924118, -0.05891131,\n",
       "         0.65626744, -0.18602836,  0.37232276,  0.27458288,  0.01928333]))"
      ]
     },
     "execution_count": 11,
     "metadata": {},
     "output_type": "execute_result"
    }
   ],
   "source": [
    "reg.intercept_, reg.coef_ "
   ]
  },
  {
   "cell_type": "code",
   "execution_count": 12,
   "metadata": {},
   "outputs": [
    {
     "data": {
      "text/html": [
       "<div>\n",
       "<style scoped>\n",
       "    .dataframe tbody tr th:only-of-type {\n",
       "        vertical-align: middle;\n",
       "    }\n",
       "\n",
       "    .dataframe tbody tr th {\n",
       "        vertical-align: top;\n",
       "    }\n",
       "\n",
       "    .dataframe thead th {\n",
       "        text-align: right;\n",
       "    }\n",
       "</style>\n",
       "<table border=\"1\" class=\"dataframe\">\n",
       "  <thead>\n",
       "    <tr style=\"text-align: right;\">\n",
       "      <th></th>\n",
       "      <th>coef</th>\n",
       "      <th>std_err</th>\n",
       "      <th>t</th>\n",
       "      <th>P&gt;|t|</th>\n",
       "      <th>[0.025</th>\n",
       "      <th>0.975]</th>\n",
       "    </tr>\n",
       "  </thead>\n",
       "  <tbody>\n",
       "    <tr>\n",
       "      <th>intercept</th>\n",
       "      <td>-0.009</td>\n",
       "      <td>86999257.270</td>\n",
       "      <td>-0.000</td>\n",
       "      <td>1.000</td>\n",
       "      <td>-171421360.200</td>\n",
       "      <td>171421360.181</td>\n",
       "    </tr>\n",
       "    <tr>\n",
       "      <th>feat_0</th>\n",
       "      <td>0.449</td>\n",
       "      <td>515947.708</td>\n",
       "      <td>0.000</td>\n",
       "      <td>1.000</td>\n",
       "      <td>-1016611.194</td>\n",
       "      <td>1016612.092</td>\n",
       "    </tr>\n",
       "    <tr>\n",
       "      <th>feat_1</th>\n",
       "      <td>0.291</td>\n",
       "      <td>6.424</td>\n",
       "      <td>0.045</td>\n",
       "      <td>0.964</td>\n",
       "      <td>-12.368</td>\n",
       "      <td>12.949</td>\n",
       "    </tr>\n",
       "    <tr>\n",
       "      <th>feat_2</th>\n",
       "      <td>-2.607</td>\n",
       "      <td>472793.358</td>\n",
       "      <td>-0.000</td>\n",
       "      <td>1.000</td>\n",
       "      <td>-931583.900</td>\n",
       "      <td>931578.686</td>\n",
       "    </tr>\n",
       "    <tr>\n",
       "      <th>feat_3</th>\n",
       "      <td>0.789</td>\n",
       "      <td>1312309.723</td>\n",
       "      <td>0.000</td>\n",
       "      <td>1.000</td>\n",
       "      <td>-2585744.478</td>\n",
       "      <td>2585746.057</td>\n",
       "    </tr>\n",
       "    <tr>\n",
       "      <th>feat_4</th>\n",
       "      <td>-0.059</td>\n",
       "      <td>6.992</td>\n",
       "      <td>-0.008</td>\n",
       "      <td>0.993</td>\n",
       "      <td>-13.836</td>\n",
       "      <td>13.718</td>\n",
       "    </tr>\n",
       "    <tr>\n",
       "      <th>feat_5</th>\n",
       "      <td>0.656</td>\n",
       "      <td>2298827.798</td>\n",
       "      <td>0.000</td>\n",
       "      <td>1.000</td>\n",
       "      <td>-4529557.416</td>\n",
       "      <td>4529558.728</td>\n",
       "    </tr>\n",
       "    <tr>\n",
       "      <th>feat_6</th>\n",
       "      <td>-0.186</td>\n",
       "      <td>6.717</td>\n",
       "      <td>-0.028</td>\n",
       "      <td>0.978</td>\n",
       "      <td>-13.420</td>\n",
       "      <td>13.048</td>\n",
       "    </tr>\n",
       "    <tr>\n",
       "      <th>feat_7</th>\n",
       "      <td>0.372</td>\n",
       "      <td>7.269</td>\n",
       "      <td>0.051</td>\n",
       "      <td>0.959</td>\n",
       "      <td>-13.950</td>\n",
       "      <td>14.695</td>\n",
       "    </tr>\n",
       "    <tr>\n",
       "      <th>feat_8</th>\n",
       "      <td>0.275</td>\n",
       "      <td>6.997</td>\n",
       "      <td>0.039</td>\n",
       "      <td>0.969</td>\n",
       "      <td>-13.511</td>\n",
       "      <td>14.060</td>\n",
       "    </tr>\n",
       "    <tr>\n",
       "      <th>feat_9</th>\n",
       "      <td>0.019</td>\n",
       "      <td>7.073</td>\n",
       "      <td>0.003</td>\n",
       "      <td>0.998</td>\n",
       "      <td>-13.918</td>\n",
       "      <td>13.957</td>\n",
       "    </tr>\n",
       "  </tbody>\n",
       "</table>\n",
       "</div>"
      ],
      "text/plain": [
       "            coef      std_err      t  P>|t|         [0.025        0.975]\n",
       "intercept -0.009 86999257.270 -0.000  1.000 -171421360.200 171421360.181\n",
       "feat_0     0.449   515947.708  0.000  1.000   -1016611.194   1016612.092\n",
       "feat_1     0.291        6.424  0.045  0.964        -12.368        12.949\n",
       "feat_2    -2.607   472793.358 -0.000  1.000    -931583.900    931578.686\n",
       "feat_3     0.789  1312309.723  0.000  1.000   -2585744.478   2585746.057\n",
       "feat_4    -0.059        6.992 -0.008  0.993        -13.836        13.718\n",
       "feat_5     0.656  2298827.798  0.000  1.000   -4529557.416   4529558.728\n",
       "feat_6    -0.186        6.717 -0.028  0.978        -13.420        13.048\n",
       "feat_7     0.372        7.269  0.051  0.959        -13.950        14.695\n",
       "feat_8     0.275        6.997  0.039  0.969        -13.511        14.060\n",
       "feat_9     0.019        7.073  0.003  0.998        -13.918        13.957"
      ]
     },
     "execution_count": 12,
     "metadata": {},
     "output_type": "execute_result"
    }
   ],
   "source": [
    "reg.summary_.round(3)\n",
    "#reg.score(X, y)"
   ]
  },
  {
   "cell_type": "code",
   "execution_count": 13,
   "metadata": {},
   "outputs": [],
   "source": [
    "# reg.fit_evaluation_.round(3)"
   ]
  },
  {
   "cell_type": "markdown",
   "metadata": {},
   "source": [
    "## Show the available methods and attributes of the fitted model"
   ]
  },
  {
   "cell_type": "code",
   "execution_count": 14,
   "metadata": {},
   "outputs": [
    {
     "data": {
      "text/plain": [
       "array(['__class__', '__delattr__', '__dict__', '__dir__', '__doc__',\n",
       "       '__eq__', '__format__', '__ge__', '__getattribute__',\n",
       "       '__getstate__', '__gt__', '__hash__', '__init__',\n",
       "       '__init_subclass__', '__le__', '__lt__', '__module__', '__ne__',\n",
       "       '__new__', '__reduce__', '__reduce_ex__', '__repr__',\n",
       "       '__setattr__', '__setstate__', '__sizeof__', '__str__',\n",
       "       '__subclasshook__', '__weakref__', '_check_n_features',\n",
       "       '_estimator_type', '_get_param_names', '_get_tags', '_more_tags',\n",
       "       '_repr_html_', '_repr_html_inner', '_repr_mimebundle_',\n",
       "       '_validate_data', 'aic', 'bic', 'bse', 'coef_', 'conf_int',\n",
       "       'copy_X', 'cost', 'df_model', 'df_resid', 'ess', 'f_pvalue', 'fit',\n",
       "       'fit_intercept', 'fvalue', 'get_params', 'intercept_',\n",
       "       'is_fitted_', 'loglike', 'mse_model', 'mse_resid', 'mse_total',\n",
       "       'normalize', 'params', 'positive', 'predict', 'predictors',\n",
       "       'pvalues', 'resid', 'rsquared', 'rsquared_adj', 'score',\n",
       "       'set_params', 'ssr', 'summary_', 'target', 'theta', 'tvalues',\n",
       "       'uncentered_tss'], dtype='<U17')"
      ]
     },
     "execution_count": 14,
     "metadata": {},
     "output_type": "execute_result"
    }
   ],
   "source": [
    "np.array(dir(reg))"
   ]
  },
  {
   "cell_type": "code",
   "execution_count": 15,
   "metadata": {},
   "outputs": [],
   "source": [
    "# reg.conf_int()"
   ]
  },
  {
   "cell_type": "code",
   "execution_count": 16,
   "metadata": {},
   "outputs": [
    {
     "data": {
      "text/plain": [
       "229"
      ]
     },
     "execution_count": 16,
     "metadata": {},
     "output_type": "execute_result"
    }
   ],
   "source": [
    "reg.df_resid"
   ]
  },
  {
   "cell_type": "code",
   "execution_count": 17,
   "metadata": {},
   "outputs": [],
   "source": [
    "intercept = reg.intercept_\n",
    "coefs = reg.coef_"
   ]
  },
  {
   "cell_type": "code",
   "execution_count": 18,
   "metadata": {},
   "outputs": [
    {
     "data": {
      "text/plain": [
       "array([ 0.44877268,  0.29063418, -2.60723345,  0.78924118, -0.05891131,\n",
       "        0.65626744, -0.18602836,  0.37232276,  0.27458288,  0.01928333])"
      ]
     },
     "execution_count": 18,
     "metadata": {},
     "output_type": "execute_result"
    }
   ],
   "source": [
    "coefs"
   ]
  },
  {
   "cell_type": "code",
   "execution_count": 19,
   "metadata": {},
   "outputs": [
    {
     "data": {
      "text/plain": [
       "array([[ 0.44877268,  0.29063418, -2.60723345,  0.78924118, -0.05891131,\n",
       "         0.65626744, -0.18602836,  0.37232276,  0.27458288,  0.01928333]])"
      ]
     },
     "execution_count": 19,
     "metadata": {},
     "output_type": "execute_result"
    }
   ],
   "source": [
    "coefs.reshape(1,-1)"
   ]
  },
  {
   "cell_type": "code",
   "execution_count": 20,
   "metadata": {},
   "outputs": [
    {
     "data": {
      "text/html": [
       "<div>\n",
       "<style scoped>\n",
       "    .dataframe tbody tr th:only-of-type {\n",
       "        vertical-align: middle;\n",
       "    }\n",
       "\n",
       "    .dataframe tbody tr th {\n",
       "        vertical-align: top;\n",
       "    }\n",
       "\n",
       "    .dataframe thead th {\n",
       "        text-align: right;\n",
       "    }\n",
       "</style>\n",
       "<table border=\"1\" class=\"dataframe\">\n",
       "  <thead>\n",
       "    <tr style=\"text-align: right;\">\n",
       "      <th></th>\n",
       "      <th>feat_0</th>\n",
       "      <th>feat_1</th>\n",
       "      <th>feat_2</th>\n",
       "      <th>feat_3</th>\n",
       "      <th>feat_4</th>\n",
       "      <th>feat_5</th>\n",
       "      <th>feat_6</th>\n",
       "      <th>feat_7</th>\n",
       "      <th>feat_8</th>\n",
       "      <th>feat_9</th>\n",
       "    </tr>\n",
       "  </thead>\n",
       "  <tbody>\n",
       "    <tr>\n",
       "      <th>110</th>\n",
       "      <td>44.382</td>\n",
       "      <td>29.026</td>\n",
       "      <td>-258.761</td>\n",
       "      <td>79.530</td>\n",
       "      <td>-5.928</td>\n",
       "      <td>65.840</td>\n",
       "      <td>-18.575</td>\n",
       "      <td>37.163</td>\n",
       "      <td>27.572</td>\n",
       "      <td>1.929</td>\n",
       "    </tr>\n",
       "    <tr>\n",
       "      <th>139</th>\n",
       "      <td>44.859</td>\n",
       "      <td>29.094</td>\n",
       "      <td>-256.394</td>\n",
       "      <td>80.284</td>\n",
       "      <td>-6.008</td>\n",
       "      <td>66.462</td>\n",
       "      <td>-18.355</td>\n",
       "      <td>37.834</td>\n",
       "      <td>27.029</td>\n",
       "      <td>1.911</td>\n",
       "    </tr>\n",
       "    <tr>\n",
       "      <th>21</th>\n",
       "      <td>44.541</td>\n",
       "      <td>28.692</td>\n",
       "      <td>-262.151</td>\n",
       "      <td>78.468</td>\n",
       "      <td>-5.916</td>\n",
       "      <td>65.235</td>\n",
       "      <td>-18.799</td>\n",
       "      <td>37.333</td>\n",
       "      <td>27.515</td>\n",
       "      <td>1.907</td>\n",
       "    </tr>\n",
       "    <tr>\n",
       "      <th>86</th>\n",
       "      <td>45.809</td>\n",
       "      <td>29.033</td>\n",
       "      <td>-266.769</td>\n",
       "      <td>77.045</td>\n",
       "      <td>-5.819</td>\n",
       "      <td>64.768</td>\n",
       "      <td>-18.323</td>\n",
       "      <td>37.059</td>\n",
       "      <td>27.595</td>\n",
       "      <td>1.979</td>\n",
       "    </tr>\n",
       "    <tr>\n",
       "      <th>81</th>\n",
       "      <td>45.372</td>\n",
       "      <td>29.040</td>\n",
       "      <td>-258.117</td>\n",
       "      <td>79.753</td>\n",
       "      <td>-5.786</td>\n",
       "      <td>66.301</td>\n",
       "      <td>-18.512</td>\n",
       "      <td>37.045</td>\n",
       "      <td>27.546</td>\n",
       "      <td>1.935</td>\n",
       "    </tr>\n",
       "  </tbody>\n",
       "</table>\n",
       "</div>"
      ],
      "text/plain": [
       "     feat_0  feat_1   feat_2  feat_3  feat_4  feat_5  feat_6  feat_7  feat_8  \\\n",
       "110  44.382  29.026 -258.761  79.530  -5.928  65.840 -18.575  37.163  27.572   \n",
       "139  44.859  29.094 -256.394  80.284  -6.008  66.462 -18.355  37.834  27.029   \n",
       "21   44.541  28.692 -262.151  78.468  -5.916  65.235 -18.799  37.333  27.515   \n",
       "86   45.809  29.033 -266.769  77.045  -5.819  64.768 -18.323  37.059  27.595   \n",
       "81   45.372  29.040 -258.117  79.753  -5.786  66.301 -18.512  37.045  27.546   \n",
       "\n",
       "     feat_9  \n",
       "110   1.929  \n",
       "139   1.911  \n",
       "21    1.907  \n",
       "86    1.979  \n",
       "81    1.935  "
      ]
     },
     "execution_count": 20,
     "metadata": {},
     "output_type": "execute_result"
    }
   ],
   "source": [
    "coefs*df_train.filter(regex=\"feat\").head()"
   ]
  },
  {
   "cell_type": "code",
   "execution_count": 21,
   "metadata": {},
   "outputs": [],
   "source": [
    "tmp_x = df_train.filter(regex=\"feat\").assign(intercept=1).set_index(\"intercept\").reset_index().values"
   ]
  },
  {
   "cell_type": "code",
   "execution_count": 22,
   "metadata": {},
   "outputs": [],
   "source": [
    "tmp_x = reg.intercept_ * tmp_x"
   ]
  },
  {
   "cell_type": "code",
   "execution_count": 23,
   "metadata": {},
   "outputs": [],
   "source": [
    "# np.linalg.inv(np.dot(tmp_x.T, tmp_x))"
   ]
  },
  {
   "cell_type": "code",
   "execution_count": 24,
   "metadata": {},
   "outputs": [],
   "source": [
    "cov_mat = np.linalg.inv(np.matmul(tmp_x.transpose(1,0), tmp_x))"
   ]
  },
  {
   "cell_type": "code",
   "execution_count": 25,
   "metadata": {},
   "outputs": [],
   "source": [
    "# abs(cov_mat)"
   ]
  },
  {
   "cell_type": "code",
   "execution_count": 26,
   "metadata": {},
   "outputs": [],
   "source": [
    "# np.sqrt(np.diag(abs(cov_mat)))"
   ]
  },
  {
   "cell_type": "code",
   "execution_count": 27,
   "metadata": {},
   "outputs": [],
   "source": [
    "# pd.DataFrame(np.cov(tmp_x))"
   ]
  },
  {
   "cell_type": "code",
   "execution_count": 28,
   "metadata": {},
   "outputs": [
    {
     "data": {
      "text/plain": [
       "'\\nNotes\\n-----\\n(The below are assumed to be in matrix notation.)\\nIf no argument is specified returns the covariance matrix of a model\\n``(scale)*(X.T X)^(-1)``\\nIf contrast is specified it pre and post-multiplies as follows\\n``(scale) * r_matrix (X.T X)^(-1) r_matrix.T``\\nIf contrast and other are specified returns\\n``(scale) * r_matrix (X.T X)^(-1) other.T``\\nIf column is specified returns\\n``(scale) * (X.T X)^(-1)[column,column]`` if column is 0d\\nOR\\n``(scale) * (X.T X)^(-1)[column][:,column]`` if column is 1d\\n'"
      ]
     },
     "execution_count": 28,
     "metadata": {},
     "output_type": "execute_result"
    }
   ],
   "source": [
    "# Statsmodels cov_params\n",
    "\"\"\"\n",
    "Notes\n",
    "-----\n",
    "(The below are assumed to be in matrix notation.)\n",
    "If no argument is specified returns the covariance matrix of a model\n",
    "``(scale)*(X.T X)^(-1)``\n",
    "If contrast is specified it pre and post-multiplies as follows\n",
    "``(scale) * r_matrix (X.T X)^(-1) r_matrix.T``\n",
    "If contrast and other are specified returns\n",
    "``(scale) * r_matrix (X.T X)^(-1) other.T``\n",
    "If column is specified returns\n",
    "``(scale) * (X.T X)^(-1)[column,column]`` if column is 0d\n",
    "OR\n",
    "``(scale) * (X.T X)^(-1)[column][:,column]`` if column is 1d\n",
    "\"\"\""
   ]
  },
  {
   "cell_type": "markdown",
   "metadata": {},
   "source": [
    "## Plot the original data and the lines of best fit for each of the predictors on the target"
   ]
  },
  {
   "cell_type": "code",
   "execution_count": 29,
   "metadata": {},
   "outputs": [
    {
     "data": {
      "image/png": "[encoded data removed]",
      "text/plain": [
       "<Figure size 864x504 with 1 Axes>"
      ]
     },
     "metadata": {
      "needs_background": "light"
     },
     "output_type": "display_data"
    }
   ],
   "source": [
    "_ = plt.figure(figsize=(12, 7))\n",
    "_ = plt.plot(df_train.filter(regex=\"feat\"), \n",
    "             df_train[\"target\"], \n",
    "             'o', \n",
    "             label='original data')\n",
    "_ = plt.plot(df_train.filter(regex=\"feat\"), \n",
    "             intercept + coefs*df_train.filter(regex=\"feat\"), \n",
    "             'r', \n",
    "             label='fitted line')\n",
    "# _ = plt.legend()"
   ]
  },
  {
   "cell_type": "markdown",
   "metadata": {},
   "source": [
    "## With the fitted model attempt to predict the test data"
   ]
  },
  {
   "cell_type": "code",
   "execution_count": 30,
   "metadata": {},
   "outputs": [
    {
     "data": {
      "text/html": [
       "<div>\n",
       "<style scoped>\n",
       "    .dataframe tbody tr th:only-of-type {\n",
       "        vertical-align: middle;\n",
       "    }\n",
       "\n",
       "    .dataframe tbody tr th {\n",
       "        vertical-align: top;\n",
       "    }\n",
       "\n",
       "    .dataframe thead th {\n",
       "        text-align: right;\n",
       "    }\n",
       "</style>\n",
       "<table border=\"1\" class=\"dataframe\">\n",
       "  <thead>\n",
       "    <tr style=\"text-align: right;\">\n",
       "      <th></th>\n",
       "      <th>y_pred</th>\n",
       "    </tr>\n",
       "  </thead>\n",
       "  <tbody>\n",
       "    <tr>\n",
       "      <th>9</th>\n",
       "      <td>0.990</td>\n",
       "    </tr>\n",
       "    <tr>\n",
       "      <th>37</th>\n",
       "      <td>0.932</td>\n",
       "    </tr>\n",
       "  </tbody>\n",
       "</table>\n",
       "</div>"
      ],
      "text/plain": [
       "    y_pred\n",
       "9    0.990\n",
       "37   0.932"
      ]
     },
     "execution_count": 30,
     "metadata": {},
     "output_type": "execute_result"
    }
   ],
   "source": [
    "y_pred = reg.predict(df_test.filter(regex=\"feat\"))\n",
    "y_pred.head(2)"
   ]
  },
  {
   "cell_type": "code",
   "execution_count": 31,
   "metadata": {},
   "outputs": [
    {
     "data": {
      "text/html": [
       "<div>\n",
       "<style scoped>\n",
       "    .dataframe tbody tr th:only-of-type {\n",
       "        vertical-align: middle;\n",
       "    }\n",
       "\n",
       "    .dataframe tbody tr th {\n",
       "        vertical-align: top;\n",
       "    }\n",
       "\n",
       "    .dataframe thead th {\n",
       "        text-align: right;\n",
       "    }\n",
       "</style>\n",
       "<table border=\"1\" class=\"dataframe\">\n",
       "  <thead>\n",
       "    <tr style=\"text-align: right;\">\n",
       "      <th></th>\n",
       "      <th>target</th>\n",
       "    </tr>\n",
       "  </thead>\n",
       "  <tbody>\n",
       "    <tr>\n",
       "      <th>9</th>\n",
       "      <td>1</td>\n",
       "    </tr>\n",
       "    <tr>\n",
       "      <th>37</th>\n",
       "      <td>1</td>\n",
       "    </tr>\n",
       "  </tbody>\n",
       "</table>\n",
       "</div>"
      ],
      "text/plain": [
       "    target\n",
       "9        1\n",
       "37       1"
      ]
     },
     "execution_count": 31,
     "metadata": {},
     "output_type": "execute_result"
    }
   ],
   "source": [
    "y_test = df_test[[\"target\"]]\n",
    "y_test.head(2)"
   ]
  },
  {
   "cell_type": "markdown",
   "metadata": {},
   "source": [
    "## Calculate the Log loss between the predicted vs the real scores"
   ]
  },
  {
   "cell_type": "code",
   "execution_count": 32,
   "metadata": {},
   "outputs": [
    {
     "data": {
      "text/plain": [
       "0.17199985204331758"
      ]
     },
     "execution_count": 32,
     "metadata": {},
     "output_type": "execute_result"
    }
   ],
   "source": [
    "log_loss_score = log_loss(y_test[\"target\"], \n",
    "        y_pred)\n",
    "log_loss_score"
   ]
  },
  {
   "cell_type": "markdown",
   "metadata": {},
   "source": [
    "## Plot the predicted vs the real values"
   ]
  },
  {
   "cell_type": "code",
   "execution_count": 33,
   "metadata": {},
   "outputs": [],
   "source": [
    "c_mat = confusion_matrix(y_test[\"target\"], y_pred.round(0))"
   ]
  },
  {
   "cell_type": "code",
   "execution_count": 34,
   "metadata": {},
   "outputs": [
    {
     "data": {
      "image/png": "[encoded data removed]",
      "text/plain": [
       "<Figure size 432x288 with 2 Axes>"
      ]
     },
     "metadata": {
      "needs_background": "light"
     },
     "output_type": "display_data"
    }
   ],
   "source": [
    "cmap='Blues'\n",
    "categories=[\"0\", \"1\"]\n",
    "\n",
    "_ = sns.heatmap(c_mat, \n",
    "                annot=True,            \n",
    "#                 fmt=\"\",\n",
    "                cmap=cmap,\n",
    "#                 cbar=cbar,\n",
    "                xticklabels=categories,\n",
    "                yticklabels=categories\n",
    "               )\n",
    "_ = plt.title(\"Confusion Matrix\")\n",
    "# _ = plt.xlabel(f'Predicted value\\n\\nAccuracy={summary_df[\"Accuracy\"].values[0]}\\nSensitivity={summary_df[\"Sensitivity\"].values[0]}\\nSpecificity={summary_df[\"Specificity\"].values[0]}\\nF1 Score={summary_df[\"F1\"].values[0]}')\n",
    "_ = plt.xlabel(f'Predicted value')\n",
    "_ = plt.ylabel(\"True value\")"
   ]
  },
  {
   "cell_type": "code",
   "execution_count": 35,
   "metadata": {},
   "outputs": [],
   "source": [
    "# _ = plt.figure(figsize=(12, 7))\n",
    "# _ = plt.plot(y_test[\"target\"], \n",
    "#              y_pred, \n",
    "#              'o', \n",
    "# #              label='original data'\n",
    "#             )\n",
    "# _ = plt.annotate(text = f\"Log Loss = {round(log_loss, 5)}\",\n",
    "#                  xy=(0.9, 0.1),)"
   ]
  },
  {
   "cell_type": "code",
   "execution_count": 36,
   "metadata": {},
   "outputs": [],
   "source": [
    "fpr, tpr, thresh = roc_curve(y_true=y_test[\"target\"], y_score=y_pred, pos_label=1, sample_weight=None, drop_intermediate=False)"
   ]
  },
  {
   "cell_type": "code",
   "execution_count": 37,
   "metadata": {},
   "outputs": [],
   "source": [
    "auc_score = roc_auc_score(y_true=y_test[\"target\"], y_score=y_pred)"
   ]
  },
  {
   "cell_type": "code",
   "execution_count": 38,
   "metadata": {},
   "outputs": [
    {
     "data": {
      "image/png": "[encoded data removed]",
      "text/plain": [
       "<Figure size 864x504 with 1 Axes>"
      ]
     },
     "metadata": {
      "needs_background": "light"
     },
     "output_type": "display_data"
    }
   ],
   "source": [
    "_ = plt.figure(figsize=(12, 7))\n",
    "_ = plt.plot(fpr, \n",
    "             tpr, \n",
    "#              'o', \n",
    "            )\n",
    "_ = plt.plot(fpr, \n",
    "             tpr, \n",
    "             'o',\n",
    "             c=\"orange\"\n",
    "            )\n",
    "\n",
    "_ = plt.annotate(text = f\"AUC = {round(auc_score, 5)}\",\n",
    "                 xy=(0.9, 0.1),)"
   ]
  },
  {
   "cell_type": "markdown",
   "metadata": {},
   "source": [
    "# Statsmodels"
   ]
  },
  {
   "cell_type": "code",
   "execution_count": 39,
   "metadata": {},
   "outputs": [],
   "source": [
    "import statsmodels\n",
    "# from statsmodels.regression.linear_model import OLS\n",
    "from statsmodels.discrete.discrete_model import Logit\n",
    "from scipy import stats"
   ]
  },
  {
   "cell_type": "code",
   "execution_count": 40,
   "metadata": {},
   "outputs": [],
   "source": [
    "# df_train[\"target\"]\n",
    "# statsmodels.tools.tools.add_constant(data=df_train.filter(regex=\"feat\"), prepend=True, has_constant='skip')"
   ]
  },
  {
   "cell_type": "code",
   "execution_count": 41,
   "metadata": {},
   "outputs": [
    {
     "name": "stdout",
     "output_type": "stream",
     "text": [
      "Warning: Maximum number of iterations has been exceeded.\n",
      "         Current function value: 0.202515\n",
      "         Iterations: 35\n"
     ]
    },
    {
     "name": "stderr",
     "output_type": "stream",
     "text": [
      "/home/james/miniconda3/envs/romeo/lib/python3.8/site-packages/statsmodels/base/model.py:566: ConvergenceWarning: Maximum Likelihood optimization failed to converge. Check mle_retvals\n",
      "  warnings.warn(\"Maximum Likelihood optimization failed to \"\n"
     ]
    }
   ],
   "source": [
    "res = Logit(endog=df_train[\"target\"], exog=statsmodels.tools.tools.add_constant(data=df_train.filter(regex=\"feat\"), prepend=True, has_constant='skip')).fit()\n",
    "# res = Logit(endog=df_train[\"target\"], exog=df_train.filter(regex=\"feat\"), prepend=True, has_constant='skip').fit()"
   ]
  },
  {
   "cell_type": "code",
   "execution_count": 42,
   "metadata": {},
   "outputs": [
    {
     "data": {
      "text/plain": [
       "array([ 0.44877268,  0.29063418, -2.60723345,  0.78924118, -0.05891131,\n",
       "        0.65626744, -0.18602836,  0.37232276,  0.27458288,  0.01928333])"
      ]
     },
     "execution_count": 42,
     "metadata": {},
     "output_type": "execute_result"
    }
   ],
   "source": [
    "coefs"
   ]
  },
  {
   "cell_type": "code",
   "execution_count": 43,
   "metadata": {},
   "outputs": [
    {
     "data": {
      "text/plain": [
       "const    -0.009\n",
       "feat_0    0.447\n",
       "feat_1    0.291\n",
       "feat_2   -2.607\n",
       "feat_3    0.783\n",
       "feat_4   -0.059\n",
       "feat_5    0.664\n",
       "feat_6   -0.186\n",
       "feat_7    0.372\n",
       "feat_8    0.275\n",
       "feat_9    0.019\n",
       "dtype: float64"
      ]
     },
     "execution_count": 43,
     "metadata": {},
     "output_type": "execute_result"
    }
   ],
   "source": [
    "res.params"
   ]
  },
  {
   "cell_type": "code",
   "execution_count": 44,
   "metadata": {},
   "outputs": [],
   "source": [
    "# def bse(self):\n",
    "#         return np.sqrt(np.diag(self.cov_params()))"
   ]
  },
  {
   "cell_type": "code",
   "execution_count": 45,
   "metadata": {},
   "outputs": [
    {
     "data": {
      "text/plain": [
       "const    16774017.636\n",
       "feat_0            nan\n",
       "feat_1          0.247\n",
       "feat_2      84738.963\n",
       "feat_3            nan\n",
       "feat_4          0.284\n",
       "feat_5            nan\n",
       "feat_6          0.251\n",
       "feat_7          0.279\n",
       "feat_8          0.282\n",
       "feat_9          0.270\n",
       "dtype: float64"
      ]
     },
     "execution_count": 45,
     "metadata": {},
     "output_type": "execute_result"
    }
   ],
   "source": [
    "np.round(res.bse, 3)"
   ]
  },
  {
   "cell_type": "code",
   "execution_count": 46,
   "metadata": {},
   "outputs": [
    {
     "name": "stderr",
     "output_type": "stream",
     "text": [
      "<ipython-input-46-0685d80d6a9e>:1: RuntimeWarning: invalid value encountered in sqrt\n",
      "  np.sqrt(np.diag(res.cov_params()))\n"
     ]
    },
    {
     "data": {
      "text/plain": [
       "array([1.67740176e+07,            nan, 2.47022201e-01, 8.47389631e+04,\n",
       "                  nan, 2.83841003e-01,            nan, 2.50697046e-01,\n",
       "       2.79056252e-01, 2.82203219e-01, 2.70244275e-01])"
      ]
     },
     "execution_count": 46,
     "metadata": {},
     "output_type": "execute_result"
    }
   ],
   "source": [
    "np.sqrt(np.diag(res.cov_params()))"
   ]
  },
  {
   "cell_type": "code",
   "execution_count": 47,
   "metadata": {},
   "outputs": [
    {
     "data": {
      "text/html": [
       "<div>\n",
       "<style scoped>\n",
       "    .dataframe tbody tr th:only-of-type {\n",
       "        vertical-align: middle;\n",
       "    }\n",
       "\n",
       "    .dataframe tbody tr th {\n",
       "        vertical-align: top;\n",
       "    }\n",
       "\n",
       "    .dataframe thead th {\n",
       "        text-align: right;\n",
       "    }\n",
       "</style>\n",
       "<table border=\"1\" class=\"dataframe\">\n",
       "  <thead>\n",
       "    <tr style=\"text-align: right;\">\n",
       "      <th></th>\n",
       "      <th>const</th>\n",
       "      <th>feat_0</th>\n",
       "      <th>feat_1</th>\n",
       "      <th>feat_2</th>\n",
       "      <th>feat_3</th>\n",
       "      <th>feat_4</th>\n",
       "      <th>feat_5</th>\n",
       "      <th>feat_6</th>\n",
       "      <th>feat_7</th>\n",
       "      <th>feat_8</th>\n",
       "      <th>feat_9</th>\n",
       "    </tr>\n",
       "  </thead>\n",
       "  <tbody>\n",
       "    <tr>\n",
       "      <th>const</th>\n",
       "      <td>281367667666363.656</td>\n",
       "      <td>109231112445.115</td>\n",
       "      <td>-24.340</td>\n",
       "      <td>-1434461235377.591</td>\n",
       "      <td>-1074209495299.173</td>\n",
       "      <td>0.180</td>\n",
       "      <td>-414237058396.463</td>\n",
       "      <td>4.954</td>\n",
       "      <td>2.346</td>\n",
       "      <td>-15.490</td>\n",
       "      <td>-3.144</td>\n",
       "    </tr>\n",
       "    <tr>\n",
       "      <th>feat_0</th>\n",
       "      <td>434892109605.900</td>\n",
       "      <td>-1058907652.222</td>\n",
       "      <td>-0.091</td>\n",
       "      <td>-2309910586.602</td>\n",
       "      <td>-5852561456.047</td>\n",
       "      <td>0.006</td>\n",
       "      <td>4872458598.989</td>\n",
       "      <td>-0.011</td>\n",
       "      <td>-0.076</td>\n",
       "      <td>-0.043</td>\n",
       "      <td>0.038</td>\n",
       "    </tr>\n",
       "    <tr>\n",
       "      <th>feat_1</th>\n",
       "      <td>-4.855</td>\n",
       "      <td>-0.066</td>\n",
       "      <td>0.061</td>\n",
       "      <td>-0.032</td>\n",
       "      <td>-0.221</td>\n",
       "      <td>0.007</td>\n",
       "      <td>0.291</td>\n",
       "      <td>0.003</td>\n",
       "      <td>0.004</td>\n",
       "      <td>0.001</td>\n",
       "      <td>-0.001</td>\n",
       "    </tr>\n",
       "    <tr>\n",
       "      <th>feat_2</th>\n",
       "      <td>-1409857710419.801</td>\n",
       "      <td>-640082810.712</td>\n",
       "      <td>0.066</td>\n",
       "      <td>7180691860.447</td>\n",
       "      <td>5065854446.743</td>\n",
       "      <td>-0.038</td>\n",
       "      <td>2492113607.848</td>\n",
       "      <td>-0.047</td>\n",
       "      <td>-0.101</td>\n",
       "      <td>0.029</td>\n",
       "      <td>-0.036</td>\n",
       "    </tr>\n",
       "    <tr>\n",
       "      <th>feat_3</th>\n",
       "      <td>37788768745.755</td>\n",
       "      <td>-4177553994.337</td>\n",
       "      <td>-0.208</td>\n",
       "      <td>-509374137.534</td>\n",
       "      <td>-14458990484.490</td>\n",
       "      <td>-0.020</td>\n",
       "      <td>18768030929.525</td>\n",
       "      <td>-0.081</td>\n",
       "      <td>-0.332</td>\n",
       "      <td>-0.070</td>\n",
       "      <td>0.091</td>\n",
       "    </tr>\n",
       "    <tr>\n",
       "      <th>feat_4</th>\n",
       "      <td>-2.248</td>\n",
       "      <td>-0.017</td>\n",
       "      <td>0.007</td>\n",
       "      <td>-0.027</td>\n",
       "      <td>-0.084</td>\n",
       "      <td>0.081</td>\n",
       "      <td>0.069</td>\n",
       "      <td>-0.012</td>\n",
       "      <td>0.002</td>\n",
       "      <td>-0.002</td>\n",
       "      <td>0.007</td>\n",
       "    </tr>\n",
       "    <tr>\n",
       "      <th>feat_5</th>\n",
       "      <td>-1876499844576.978</td>\n",
       "      <td>4784233332.969</td>\n",
       "      <td>0.402</td>\n",
       "      <td>9983205217.679</td>\n",
       "      <td>25987792447.400</td>\n",
       "      <td>-0.032</td>\n",
       "      <td>-21990232553.051</td>\n",
       "      <td>0.031</td>\n",
       "      <td>0.369</td>\n",
       "      <td>0.155</td>\n",
       "      <td>-0.154</td>\n",
       "    </tr>\n",
       "    <tr>\n",
       "      <th>feat_6</th>\n",
       "      <td>8.209</td>\n",
       "      <td>-0.017</td>\n",
       "      <td>0.003</td>\n",
       "      <td>-0.064</td>\n",
       "      <td>-0.117</td>\n",
       "      <td>-0.012</td>\n",
       "      <td>0.058</td>\n",
       "      <td>0.063</td>\n",
       "      <td>0.004</td>\n",
       "      <td>-0.001</td>\n",
       "      <td>0.001</td>\n",
       "    </tr>\n",
       "    <tr>\n",
       "      <th>feat_7</th>\n",
       "      <td>19.888</td>\n",
       "      <td>-0.081</td>\n",
       "      <td>0.004</td>\n",
       "      <td>-0.191</td>\n",
       "      <td>-0.440</td>\n",
       "      <td>0.002</td>\n",
       "      <td>0.397</td>\n",
       "      <td>0.004</td>\n",
       "      <td>0.078</td>\n",
       "      <td>0.010</td>\n",
       "      <td>0.018</td>\n",
       "    </tr>\n",
       "    <tr>\n",
       "      <th>feat_8</th>\n",
       "      <td>-18.774</td>\n",
       "      <td>0.003</td>\n",
       "      <td>0.001</td>\n",
       "      <td>0.049</td>\n",
       "      <td>0.106</td>\n",
       "      <td>-0.002</td>\n",
       "      <td>-0.054</td>\n",
       "      <td>-0.001</td>\n",
       "      <td>0.010</td>\n",
       "      <td>0.080</td>\n",
       "      <td>-0.004</td>\n",
       "    </tr>\n",
       "    <tr>\n",
       "      <th>feat_9</th>\n",
       "      <td>-20.724</td>\n",
       "      <td>0.027</td>\n",
       "      <td>-0.001</td>\n",
       "      <td>0.053</td>\n",
       "      <td>0.143</td>\n",
       "      <td>0.007</td>\n",
       "      <td>-0.108</td>\n",
       "      <td>0.001</td>\n",
       "      <td>0.018</td>\n",
       "      <td>-0.004</td>\n",
       "      <td>0.073</td>\n",
       "    </tr>\n",
       "  </tbody>\n",
       "</table>\n",
       "</div>"
      ],
      "text/plain": [
       "                     const           feat_0  feat_1             feat_2  \\\n",
       "const  281367667666363.656 109231112445.115 -24.340 -1434461235377.591   \n",
       "feat_0    434892109605.900  -1058907652.222  -0.091    -2309910586.602   \n",
       "feat_1              -4.855           -0.066   0.061             -0.032   \n",
       "feat_2  -1409857710419.801   -640082810.712   0.066     7180691860.447   \n",
       "feat_3     37788768745.755  -4177553994.337  -0.208     -509374137.534   \n",
       "feat_4              -2.248           -0.017   0.007             -0.027   \n",
       "feat_5  -1876499844576.978   4784233332.969   0.402     9983205217.679   \n",
       "feat_6               8.209           -0.017   0.003             -0.064   \n",
       "feat_7              19.888           -0.081   0.004             -0.191   \n",
       "feat_8             -18.774            0.003   0.001              0.049   \n",
       "feat_9             -20.724            0.027  -0.001              0.053   \n",
       "\n",
       "                   feat_3  feat_4            feat_5  feat_6  feat_7  feat_8  \\\n",
       "const  -1074209495299.173   0.180 -414237058396.463   4.954   2.346 -15.490   \n",
       "feat_0    -5852561456.047   0.006    4872458598.989  -0.011  -0.076  -0.043   \n",
       "feat_1             -0.221   0.007             0.291   0.003   0.004   0.001   \n",
       "feat_2     5065854446.743  -0.038    2492113607.848  -0.047  -0.101   0.029   \n",
       "feat_3   -14458990484.490  -0.020   18768030929.525  -0.081  -0.332  -0.070   \n",
       "feat_4             -0.084   0.081             0.069  -0.012   0.002  -0.002   \n",
       "feat_5    25987792447.400  -0.032  -21990232553.051   0.031   0.369   0.155   \n",
       "feat_6             -0.117  -0.012             0.058   0.063   0.004  -0.001   \n",
       "feat_7             -0.440   0.002             0.397   0.004   0.078   0.010   \n",
       "feat_8              0.106  -0.002            -0.054  -0.001   0.010   0.080   \n",
       "feat_9              0.143   0.007            -0.108   0.001   0.018  -0.004   \n",
       "\n",
       "        feat_9  \n",
       "const   -3.144  \n",
       "feat_0   0.038  \n",
       "feat_1  -0.001  \n",
       "feat_2  -0.036  \n",
       "feat_3   0.091  \n",
       "feat_4   0.007  \n",
       "feat_5  -0.154  \n",
       "feat_6   0.001  \n",
       "feat_7   0.018  \n",
       "feat_8  -0.004  \n",
       "feat_9   0.073  "
      ]
     },
     "execution_count": 47,
     "metadata": {},
     "output_type": "execute_result"
    }
   ],
   "source": [
    "res.cov_params()"
   ]
  },
  {
   "cell_type": "code",
   "execution_count": 48,
   "metadata": {},
   "outputs": [
    {
     "data": {
      "text/plain": [
       "array(['__class__', '__delattr__', '__dict__', '__dir__', '__doc__',\n",
       "       '__eq__', '__format__', '__ge__', '__getattribute__',\n",
       "       '__getstate__', '__gt__', '__hash__', '__init__',\n",
       "       '__init_subclass__', '__le__', '__lt__', '__module__', '__ne__',\n",
       "       '__new__', '__reduce__', '__reduce_ex__', '__repr__',\n",
       "       '__setattr__', '__sizeof__', '__str__', '__subclasshook__',\n",
       "       '__weakref__', '_cache', '_data_attr', '_data_in_cache',\n",
       "       '_get_endog_name', '_get_robustcov_results', '_use_t', 'aic',\n",
       "       'bic', 'bse', 'conf_int', 'cov_kwds', 'cov_params', 'cov_type',\n",
       "       'df_model', 'df_resid', 'f_test', 'fittedvalues', 'get_margeff',\n",
       "       'initialize', 'k_constant', 'llf', 'llnull', 'llr', 'llr_pvalue',\n",
       "       'load', 'mle_retvals', 'mle_settings', 'model', 'nobs',\n",
       "       'normalized_cov_params', 'params', 'pred_table', 'predict',\n",
       "       'prsquared', 'pvalues', 'remove_data', 'resid_dev',\n",
       "       'resid_generalized', 'resid_pearson', 'resid_response', 'save',\n",
       "       'scale', 'set_null_options', 'summary', 'summary2', 't_test',\n",
       "       't_test_pairwise', 'tvalues', 'use_t', 'wald_test',\n",
       "       'wald_test_terms'], dtype='<U22')"
      ]
     },
     "execution_count": 48,
     "metadata": {},
     "output_type": "execute_result"
    }
   ],
   "source": [
    "np.array(dir(res))"
   ]
  },
  {
   "cell_type": "code",
   "execution_count": 49,
   "metadata": {},
   "outputs": [
    {
     "data": {
      "text/html": [
       "<table class=\"simpletable\">\n",
       "<caption>Logit Regression Results</caption>\n",
       "<tr>\n",
       "  <th>Dep. Variable:</th>        <td>target</td>      <th>  No. Observations:  </th>  <td>   240</td>  \n",
       "</tr>\n",
       "<tr>\n",
       "  <th>Model:</th>                 <td>Logit</td>      <th>  Df Residuals:      </th>  <td>   229</td>  \n",
       "</tr>\n",
       "<tr>\n",
       "  <th>Method:</th>                 <td>MLE</td>       <th>  Df Model:          </th>  <td>    10</td>  \n",
       "</tr>\n",
       "<tr>\n",
       "  <th>Date:</th>            <td>Thu, 05 Aug 2021</td> <th>  Pseudo R-squ.:     </th>  <td>0.7078</td>  \n",
       "</tr>\n",
       "<tr>\n",
       "  <th>Time:</th>                <td>12:55:43</td>     <th>  Log-Likelihood:    </th> <td> -48.604</td> \n",
       "</tr>\n",
       "<tr>\n",
       "  <th>converged:</th>             <td>False</td>      <th>  LL-Null:           </th> <td> -166.35</td> \n",
       "</tr>\n",
       "<tr>\n",
       "  <th>Covariance Type:</th>     <td>nonrobust</td>    <th>  LLR p-value:       </th> <td>6.068e-45</td>\n",
       "</tr>\n",
       "</table>\n",
       "<table class=\"simpletable\">\n",
       "<tr>\n",
       "     <td></td>       <th>coef</th>     <th>std err</th>      <th>z</th>      <th>P>|z|</th>  <th>[0.025</th>    <th>0.975]</th>  \n",
       "</tr>\n",
       "<tr>\n",
       "  <th>const</th>  <td>   -0.0092</td> <td> 1.68e+07</td> <td>-5.46e-10</td> <td> 1.000</td> <td>-3.29e+07</td> <td> 3.29e+07</td>\n",
       "</tr>\n",
       "<tr>\n",
       "  <th>feat_0</th> <td>    0.4471</td> <td>      nan</td> <td>      nan</td> <td>   nan</td> <td>      nan</td> <td>      nan</td>\n",
       "</tr>\n",
       "<tr>\n",
       "  <th>feat_1</th> <td>    0.2906</td> <td>    0.247</td> <td>    1.177</td> <td> 0.239</td> <td>   -0.194</td> <td>    0.775</td>\n",
       "</tr>\n",
       "<tr>\n",
       "  <th>feat_2</th> <td>   -2.6074</td> <td> 8.47e+04</td> <td>-3.08e-05</td> <td> 1.000</td> <td>-1.66e+05</td> <td> 1.66e+05</td>\n",
       "</tr>\n",
       "<tr>\n",
       "  <th>feat_3</th> <td>    0.7834</td> <td>      nan</td> <td>      nan</td> <td>   nan</td> <td>      nan</td> <td>      nan</td>\n",
       "</tr>\n",
       "<tr>\n",
       "  <th>feat_4</th> <td>   -0.0589</td> <td>    0.284</td> <td>   -0.208</td> <td> 0.836</td> <td>   -0.615</td> <td>    0.497</td>\n",
       "</tr>\n",
       "<tr>\n",
       "  <th>feat_5</th> <td>    0.6640</td> <td>      nan</td> <td>      nan</td> <td>   nan</td> <td>      nan</td> <td>      nan</td>\n",
       "</tr>\n",
       "<tr>\n",
       "  <th>feat_6</th> <td>   -0.1860</td> <td>    0.251</td> <td>   -0.742</td> <td> 0.458</td> <td>   -0.677</td> <td>    0.305</td>\n",
       "</tr>\n",
       "<tr>\n",
       "  <th>feat_7</th> <td>    0.3723</td> <td>    0.279</td> <td>    1.334</td> <td> 0.182</td> <td>   -0.175</td> <td>    0.919</td>\n",
       "</tr>\n",
       "<tr>\n",
       "  <th>feat_8</th> <td>    0.2746</td> <td>    0.282</td> <td>    0.973</td> <td> 0.331</td> <td>   -0.279</td> <td>    0.828</td>\n",
       "</tr>\n",
       "<tr>\n",
       "  <th>feat_9</th> <td>    0.0193</td> <td>    0.270</td> <td>    0.071</td> <td> 0.943</td> <td>   -0.510</td> <td>    0.549</td>\n",
       "</tr>\n",
       "</table>"
      ],
      "text/plain": [
       "<class 'statsmodels.iolib.summary.Summary'>\n",
       "\"\"\"\n",
       "                           Logit Regression Results                           \n",
       "==============================================================================\n",
       "Dep. Variable:                 target   No. Observations:                  240\n",
       "Model:                          Logit   Df Residuals:                      229\n",
       "Method:                           MLE   Df Model:                           10\n",
       "Date:                Thu, 05 Aug 2021   Pseudo R-squ.:                  0.7078\n",
       "Time:                        12:55:43   Log-Likelihood:                -48.604\n",
       "converged:                      False   LL-Null:                       -166.35\n",
       "Covariance Type:            nonrobust   LLR p-value:                 6.068e-45\n",
       "==============================================================================\n",
       "                 coef    std err          z      P>|z|      [0.025      0.975]\n",
       "------------------------------------------------------------------------------\n",
       "const         -0.0092   1.68e+07  -5.46e-10      1.000   -3.29e+07    3.29e+07\n",
       "feat_0         0.4471        nan        nan        nan         nan         nan\n",
       "feat_1         0.2906      0.247      1.177      0.239      -0.194       0.775\n",
       "feat_2        -2.6074   8.47e+04  -3.08e-05      1.000   -1.66e+05    1.66e+05\n",
       "feat_3         0.7834        nan        nan        nan         nan         nan\n",
       "feat_4        -0.0589      0.284     -0.208      0.836      -0.615       0.497\n",
       "feat_5         0.6640        nan        nan        nan         nan         nan\n",
       "feat_6        -0.1860      0.251     -0.742      0.458      -0.677       0.305\n",
       "feat_7         0.3723      0.279      1.334      0.182      -0.175       0.919\n",
       "feat_8         0.2746      0.282      0.973      0.331      -0.279       0.828\n",
       "feat_9         0.0193      0.270      0.071      0.943      -0.510       0.549\n",
       "==============================================================================\n",
       "\"\"\""
      ]
     },
     "execution_count": 49,
     "metadata": {},
     "output_type": "execute_result"
    }
   ],
   "source": [
    "res.summary()"
   ]
  },
  {
   "cell_type": "code",
   "execution_count": 50,
   "metadata": {},
   "outputs": [
    {
     "data": {
      "text/html": [
       "<div>\n",
       "<style scoped>\n",
       "    .dataframe tbody tr th:only-of-type {\n",
       "        vertical-align: middle;\n",
       "    }\n",
       "\n",
       "    .dataframe tbody tr th {\n",
       "        vertical-align: top;\n",
       "    }\n",
       "\n",
       "    .dataframe thead th {\n",
       "        text-align: right;\n",
       "    }\n",
       "</style>\n",
       "<table border=\"1\" class=\"dataframe\">\n",
       "  <thead>\n",
       "    <tr style=\"text-align: right;\">\n",
       "      <th></th>\n",
       "      <th>coef</th>\n",
       "      <th>std_err</th>\n",
       "      <th>t</th>\n",
       "      <th>P&gt;|t|</th>\n",
       "      <th>[0.025</th>\n",
       "      <th>0.975]</th>\n",
       "    </tr>\n",
       "  </thead>\n",
       "  <tbody>\n",
       "    <tr>\n",
       "      <th>intercept</th>\n",
       "      <td>-0.009</td>\n",
       "      <td>86999257.270</td>\n",
       "      <td>-0.000</td>\n",
       "      <td>1.000</td>\n",
       "      <td>-171421360.200</td>\n",
       "      <td>171421360.181</td>\n",
       "    </tr>\n",
       "    <tr>\n",
       "      <th>feat_0</th>\n",
       "      <td>0.449</td>\n",
       "      <td>515947.708</td>\n",
       "      <td>0.000</td>\n",
       "      <td>1.000</td>\n",
       "      <td>-1016611.194</td>\n",
       "      <td>1016612.092</td>\n",
       "    </tr>\n",
       "    <tr>\n",
       "      <th>feat_1</th>\n",
       "      <td>0.291</td>\n",
       "      <td>6.424</td>\n",
       "      <td>0.045</td>\n",
       "      <td>0.964</td>\n",
       "      <td>-12.368</td>\n",
       "      <td>12.949</td>\n",
       "    </tr>\n",
       "    <tr>\n",
       "      <th>feat_2</th>\n",
       "      <td>-2.607</td>\n",
       "      <td>472793.358</td>\n",
       "      <td>-0.000</td>\n",
       "      <td>1.000</td>\n",
       "      <td>-931583.900</td>\n",
       "      <td>931578.686</td>\n",
       "    </tr>\n",
       "    <tr>\n",
       "      <th>feat_3</th>\n",
       "      <td>0.789</td>\n",
       "      <td>1312309.723</td>\n",
       "      <td>0.000</td>\n",
       "      <td>1.000</td>\n",
       "      <td>-2585744.478</td>\n",
       "      <td>2585746.057</td>\n",
       "    </tr>\n",
       "    <tr>\n",
       "      <th>feat_4</th>\n",
       "      <td>-0.059</td>\n",
       "      <td>6.992</td>\n",
       "      <td>-0.008</td>\n",
       "      <td>0.993</td>\n",
       "      <td>-13.836</td>\n",
       "      <td>13.718</td>\n",
       "    </tr>\n",
       "    <tr>\n",
       "      <th>feat_5</th>\n",
       "      <td>0.656</td>\n",
       "      <td>2298827.798</td>\n",
       "      <td>0.000</td>\n",
       "      <td>1.000</td>\n",
       "      <td>-4529557.416</td>\n",
       "      <td>4529558.728</td>\n",
       "    </tr>\n",
       "    <tr>\n",
       "      <th>feat_6</th>\n",
       "      <td>-0.186</td>\n",
       "      <td>6.717</td>\n",
       "      <td>-0.028</td>\n",
       "      <td>0.978</td>\n",
       "      <td>-13.420</td>\n",
       "      <td>13.048</td>\n",
       "    </tr>\n",
       "    <tr>\n",
       "      <th>feat_7</th>\n",
       "      <td>0.372</td>\n",
       "      <td>7.269</td>\n",
       "      <td>0.051</td>\n",
       "      <td>0.959</td>\n",
       "      <td>-13.950</td>\n",
       "      <td>14.695</td>\n",
       "    </tr>\n",
       "    <tr>\n",
       "      <th>feat_8</th>\n",
       "      <td>0.275</td>\n",
       "      <td>6.997</td>\n",
       "      <td>0.039</td>\n",
       "      <td>0.969</td>\n",
       "      <td>-13.511</td>\n",
       "      <td>14.060</td>\n",
       "    </tr>\n",
       "    <tr>\n",
       "      <th>feat_9</th>\n",
       "      <td>0.019</td>\n",
       "      <td>7.073</td>\n",
       "      <td>0.003</td>\n",
       "      <td>0.998</td>\n",
       "      <td>-13.918</td>\n",
       "      <td>13.957</td>\n",
       "    </tr>\n",
       "  </tbody>\n",
       "</table>\n",
       "</div>"
      ],
      "text/plain": [
       "            coef      std_err      t  P>|t|         [0.025        0.975]\n",
       "intercept -0.009 86999257.270 -0.000  1.000 -171421360.200 171421360.181\n",
       "feat_0     0.449   515947.708  0.000  1.000   -1016611.194   1016612.092\n",
       "feat_1     0.291        6.424  0.045  0.964        -12.368        12.949\n",
       "feat_2    -2.607   472793.358 -0.000  1.000    -931583.900    931578.686\n",
       "feat_3     0.789  1312309.723  0.000  1.000   -2585744.478   2585746.057\n",
       "feat_4    -0.059        6.992 -0.008  0.993        -13.836        13.718\n",
       "feat_5     0.656  2298827.798  0.000  1.000   -4529557.416   4529558.728\n",
       "feat_6    -0.186        6.717 -0.028  0.978        -13.420        13.048\n",
       "feat_7     0.372        7.269  0.051  0.959        -13.950        14.695\n",
       "feat_8     0.275        6.997  0.039  0.969        -13.511        14.060\n",
       "feat_9     0.019        7.073  0.003  0.998        -13.918        13.957"
      ]
     },
     "execution_count": 50,
     "metadata": {},
     "output_type": "execute_result"
    }
   ],
   "source": [
    "reg.summary_.round(3)"
   ]
  },
  {
   "cell_type": "code",
   "execution_count": 51,
   "metadata": {},
   "outputs": [
    {
     "ename": "ValueError",
     "evalue": "shapes (60,10) and (11,) not aligned: 10 (dim 1) != 11 (dim 0)",
     "output_type": "error",
     "traceback": [
      "\u001b[0;31m---------------------------------------------------------------------------\u001b[0m",
      "\u001b[0;31mValueError\u001b[0m                                Traceback (most recent call last)",
      "\u001b[0;32m<ipython-input-51-2121820b86ee>\u001b[0m in \u001b[0;36m<module>\u001b[0;34m\u001b[0m\n\u001b[0;32m----> 1\u001b[0;31m \u001b[0my_pred\u001b[0m \u001b[0;34m=\u001b[0m \u001b[0mres\u001b[0m\u001b[0;34m.\u001b[0m\u001b[0mpredict\u001b[0m\u001b[0;34m(\u001b[0m\u001b[0mexog\u001b[0m\u001b[0;34m=\u001b[0m\u001b[0mdf_test\u001b[0m\u001b[0;34m.\u001b[0m\u001b[0mfilter\u001b[0m\u001b[0;34m(\u001b[0m\u001b[0mregex\u001b[0m\u001b[0;34m=\u001b[0m\u001b[0;34m\"feat\"\u001b[0m\u001b[0;34m)\u001b[0m\u001b[0;34m)\u001b[0m\u001b[0;34m\u001b[0m\u001b[0;34m\u001b[0m\u001b[0m\n\u001b[0m",
      "\u001b[0;32m~/miniconda3/envs/romeo/lib/python3.8/site-packages/statsmodels/base/model.py\u001b[0m in \u001b[0;36mpredict\u001b[0;34m(self, exog, transform, *args, **kwargs)\u001b[0m\n\u001b[1;32m   1097\u001b[0m             \u001b[0mexog\u001b[0m \u001b[0;34m=\u001b[0m \u001b[0mnp\u001b[0m\u001b[0;34m.\u001b[0m\u001b[0matleast_2d\u001b[0m\u001b[0;34m(\u001b[0m\u001b[0mexog\u001b[0m\u001b[0;34m)\u001b[0m  \u001b[0;31m# needed in count model shape[1]\u001b[0m\u001b[0;34m\u001b[0m\u001b[0;34m\u001b[0m\u001b[0m\n\u001b[1;32m   1098\u001b[0m \u001b[0;34m\u001b[0m\u001b[0m\n\u001b[0;32m-> 1099\u001b[0;31m         predict_results = self.model.predict(self.params, exog, *args,\n\u001b[0m\u001b[1;32m   1100\u001b[0m                                              **kwargs)\n\u001b[1;32m   1101\u001b[0m \u001b[0;34m\u001b[0m\u001b[0m\n",
      "\u001b[0;32m~/miniconda3/envs/romeo/lib/python3.8/site-packages/statsmodels/discrete/discrete_model.py\u001b[0m in \u001b[0;36mpredict\u001b[0;34m(self, params, exog, linear)\u001b[0m\n\u001b[1;32m    482\u001b[0m             \u001b[0mexog\u001b[0m \u001b[0;34m=\u001b[0m \u001b[0mself\u001b[0m\u001b[0;34m.\u001b[0m\u001b[0mexog\u001b[0m\u001b[0;34m\u001b[0m\u001b[0;34m\u001b[0m\u001b[0m\n\u001b[1;32m    483\u001b[0m         \u001b[0;32mif\u001b[0m \u001b[0;32mnot\u001b[0m \u001b[0mlinear\u001b[0m\u001b[0;34m:\u001b[0m\u001b[0;34m\u001b[0m\u001b[0;34m\u001b[0m\u001b[0m\n\u001b[0;32m--> 484\u001b[0;31m             \u001b[0;32mreturn\u001b[0m \u001b[0mself\u001b[0m\u001b[0;34m.\u001b[0m\u001b[0mcdf\u001b[0m\u001b[0;34m(\u001b[0m\u001b[0mnp\u001b[0m\u001b[0;34m.\u001b[0m\u001b[0mdot\u001b[0m\u001b[0;34m(\u001b[0m\u001b[0mexog\u001b[0m\u001b[0;34m,\u001b[0m \u001b[0mparams\u001b[0m\u001b[0;34m)\u001b[0m\u001b[0;34m)\u001b[0m\u001b[0;34m\u001b[0m\u001b[0;34m\u001b[0m\u001b[0m\n\u001b[0m\u001b[1;32m    485\u001b[0m         \u001b[0;32melse\u001b[0m\u001b[0;34m:\u001b[0m\u001b[0;34m\u001b[0m\u001b[0;34m\u001b[0m\u001b[0m\n\u001b[1;32m    486\u001b[0m             \u001b[0;32mreturn\u001b[0m \u001b[0mnp\u001b[0m\u001b[0;34m.\u001b[0m\u001b[0mdot\u001b[0m\u001b[0;34m(\u001b[0m\u001b[0mexog\u001b[0m\u001b[0;34m,\u001b[0m \u001b[0mparams\u001b[0m\u001b[0;34m)\u001b[0m\u001b[0;34m\u001b[0m\u001b[0;34m\u001b[0m\u001b[0m\n",
      "\u001b[0;32m<__array_function__ internals>\u001b[0m in \u001b[0;36mdot\u001b[0;34m(*args, **kwargs)\u001b[0m\n",
      "\u001b[0;31mValueError\u001b[0m: shapes (60,10) and (11,) not aligned: 10 (dim 1) != 11 (dim 0)"
     ]
    }
   ],
   "source": [
    "y_pred = res.predict(exog=df_test.filter(regex=\"feat\"))"
   ]
  },
  {
   "cell_type": "markdown",
   "metadata": {},
   "source": [
    "## Plot the predicted vs the real values"
   ]
  },
  {
   "cell_type": "code",
   "execution_count": null,
   "metadata": {},
   "outputs": [],
   "source": [
    "c_mat = confusion_matrix(y_test[\"target\"], y_pred.round(0),)"
   ]
  },
  {
   "cell_type": "code",
   "execution_count": null,
   "metadata": {},
   "outputs": [],
   "source": [
    "cmap='Blues'\n",
    "categories=[\"0\", \"1\"]\n",
    "\n",
    "_ = sns.heatmap(c_mat, \n",
    "                annot=True,            \n",
    "#                 fmt=\"\",\n",
    "                cmap=cmap,\n",
    "#                 cbar=cbar,\n",
    "                xticklabels=categories,\n",
    "                yticklabels=categories\n",
    "               )\n",
    "_ = plt.title(\"Confusion Matrix\")\n",
    "# _ = plt.xlabel(f'Predicted value\\n\\nAccuracy={summary_df[\"Accuracy\"].values[0]}\\nSensitivity={summary_df[\"Sensitivity\"].values[0]}\\nSpecificity={summary_df[\"Specificity\"].values[0]}\\nF1 Score={summary_df[\"F1\"].values[0]}')\n",
    "_ = plt.xlabel(f'Predicted value')\n",
    "_ = plt.ylabel(\"True value\")"
   ]
  },
  {
   "cell_type": "code",
   "execution_count": null,
   "metadata": {},
   "outputs": [],
   "source": [
    "log_loss_score = log_loss(y_test[\"target\"], \n",
    "        y_pred)\n",
    "log_loss_score"
   ]
  },
  {
   "cell_type": "code",
   "execution_count": null,
   "metadata": {},
   "outputs": [],
   "source": [
    "# _ = plt.figure(figsize=(12, 7))\n",
    "# _ = plt.plot(y_test[\"target\"], \n",
    "#              y_pred, \n",
    "#              'o', \n",
    "# #              label='original data'\n",
    "#             )\n",
    "# _ = plt.annotate(text = f\"Log Loss = {round(log_loss, 5)}\",\n",
    "#                  xy=(0.9, 0.1),)"
   ]
  },
  {
   "cell_type": "code",
   "execution_count": null,
   "metadata": {},
   "outputs": [],
   "source": [
    "fpr, tpr, thresh = roc_curve(y_true=y_test[\"target\"], y_score=y_pred, pos_label=1, sample_weight=None, drop_intermediate=False)"
   ]
  },
  {
   "cell_type": "code",
   "execution_count": null,
   "metadata": {},
   "outputs": [],
   "source": [
    "auc_score = roc_auc_score(y_true=y_test[\"target\"], y_score=y_pred)"
   ]
  },
  {
   "cell_type": "code",
   "execution_count": null,
   "metadata": {},
   "outputs": [],
   "source": [
    "_ = plt.figure(figsize=(12, 7))\n",
    "_ = plt.plot(fpr, \n",
    "             tpr, \n",
    "#              'o', \n",
    "            )\n",
    "_ = plt.plot(fpr, \n",
    "             tpr, \n",
    "             'o',\n",
    "             c=\"orange\"\n",
    "            )\n",
    "\n",
    "_ = plt.annotate(text = f\"AUC = {round(auc_score, 5)}\",\n",
    "                 xy=(0.9, 0.1),)"
   ]
  },
  {
   "cell_type": "code",
   "execution_count": null,
   "metadata": {},
   "outputs": [],
   "source": [
    "reg.fit_evaluation_.round(4)"
   ]
  },
  {
   "cell_type": "code",
   "execution_count": null,
   "metadata": {},
   "outputs": [],
   "source": [
    "stop!"
   ]
  },
  {
   "cell_type": "code",
   "execution_count": null,
   "metadata": {},
   "outputs": [],
   "source": [
    "res.llf"
   ]
  },
  {
   "cell_type": "code",
   "execution_count": null,
   "metadata": {},
   "outputs": [],
   "source": [
    "res.params / res.bse"
   ]
  },
  {
   "cell_type": "code",
   "execution_count": null,
   "metadata": {},
   "outputs": [],
   "source": [
    "res.tvalues"
   ]
  },
  {
   "cell_type": "code",
   "execution_count": null,
   "metadata": {},
   "outputs": [],
   "source": [
    "res.pvalues"
   ]
  },
  {
   "cell_type": "code",
   "execution_count": null,
   "metadata": {},
   "outputs": [],
   "source": [
    "res.df_resid"
   ]
  },
  {
   "cell_type": "code",
   "execution_count": null,
   "metadata": {},
   "outputs": [],
   "source": [
    "stats.t.sf(np.abs(res.tvalues), res.df_resid) * 2"
   ]
  },
  {
   "cell_type": "code",
   "execution_count": null,
   "metadata": {},
   "outputs": [],
   "source": [
    "type(res.summary())"
   ]
  },
  {
   "cell_type": "code",
   "execution_count": null,
   "metadata": {},
   "outputs": [],
   "source": [
    "res.conf_int()"
   ]
  },
  {
   "cell_type": "code",
   "execution_count": null,
   "metadata": {},
   "outputs": [],
   "source": [
    "res.rsquared"
   ]
  },
  {
   "cell_type": "code",
   "execution_count": null,
   "metadata": {},
   "outputs": [],
   "source": [
    "res.ssr"
   ]
  },
  {
   "cell_type": "code",
   "execution_count": null,
   "metadata": {},
   "outputs": [],
   "source": [
    "res.resid"
   ]
  },
  {
   "cell_type": "code",
   "execution_count": null,
   "metadata": {},
   "outputs": [],
   "source": [
    "reg.resid"
   ]
  }
 ],
 "metadata": {
  "kernelspec": {
   "display_name": "romeo",
   "language": "python",
   "name": "romeo"
  },
  "language_info": {
   "codemirror_mode": {
    "name": "ipython",
    "version": 3
   },
   "file_extension": ".py",
   "mimetype": "text/x-python",
   "name": "python",
   "nbconvert_exporter": "python",
   "pygments_lexer": "ipython3",
   "version": "3.8.5"
  }
 },
 "nbformat": 4,
 "nbformat_minor": 5
}
