{
 "cells": [
  {
   "cell_type": "markdown",
   "metadata": {},
   "source": [
    "# Comparing statsmodels to the casadi approach for Logistic Mixed Models"
   ]
  },
  {
   "cell_type": "markdown",
   "metadata": {},
   "source": [
    "- 1 target\n",
    "- 1 predictor\n",
    "- 1 random intercept\n",
    "- 1 random slope\n",
    "- 1 \"fixed\" intercept"
   ]
  },
  {
   "cell_type": "code",
   "execution_count": 1,
   "metadata": {},
   "outputs": [],
   "source": [
    "import os\n",
    "import numpy as np\n",
    "import pandas as pd\n",
    "import matplotlib.pyplot as plt\n",
    "import seaborn as sns\n",
    "import session_info\n",
    "# import statsmodels\n",
    "pd.set_option('display.float_format', lambda x: '%.3f' % x)"
   ]
  },
  {
   "cell_type": "code",
   "execution_count": 2,
   "metadata": {},
   "outputs": [],
   "source": [
    "# from jmspack.NLTSA import flatten\n",
    "flatten = lambda l: [item for sublist in l for item in sublist]"
   ]
  },
  {
   "cell_type": "code",
   "execution_count": 3,
   "metadata": {},
   "outputs": [],
   "source": [
    "import casadi as ca"
   ]
  },
  {
   "cell_type": "code",
   "execution_count": 4,
   "metadata": {},
   "outputs": [],
   "source": [
    "import statsmodels.api as sm\n",
    "import statsmodels.formula.api as smf"
   ]
  },
  {
   "cell_type": "code",
   "execution_count": 5,
   "metadata": {},
   "outputs": [],
   "source": [
    "# from scipy.stats import linregress\n",
    "from statsmodels.genmod.bayes_mixed_glm import BinomialBayesMixedGLM"
   ]
  },
  {
   "cell_type": "code",
   "execution_count": 6,
   "metadata": {},
   "outputs": [],
   "source": [
    "from pymer4 import Lmer"
   ]
  },
  {
   "cell_type": "code",
   "execution_count": 7,
   "metadata": {},
   "outputs": [],
   "source": [
    "from sklearn.datasets import make_classification\n",
    "from sklearn.metrics import log_loss, roc_curve, roc_auc_score, confusion_matrix, auc"
   ]
  },
  {
   "cell_type": "code",
   "execution_count": 8,
   "metadata": {},
   "outputs": [],
   "source": [
    "tmp = os.getcwd()\n",
    "os.chdir(tmp.split(\"/playground\")[0])\n",
    "\n",
    "# from romeo.romeo import ROMEO\n",
    "# from romeo.utils import formula_parser\n",
    "\n",
    "os.chdir(tmp)"
   ]
  },
  {
   "cell_type": "code",
   "execution_count": 9,
   "metadata": {},
   "outputs": [
    {
     "name": "stderr",
     "output_type": "stream",
     "text": [
      "Fail to get yarn configuration. dyld: Library not loaded: /usr/local/opt/icu4c/lib/libicui18n.67.dylib\n",
      "  Referenced from: /usr/local/bin/node\n",
      "  Reason: image not found\n",
      "\n"
     ]
    },
    {
     "data": {
      "text/html": [
       "<details>\n",
       "<summary>Click to view session information</summary>\n",
       "<pre>\n",
       "-----\n",
       "casadi              3.5.5\n",
       "matplotlib          3.3.4\n",
       "numpy               1.20.3\n",
       "pandas              1.1.5\n",
       "pymer4              0.7.4\n",
       "seaborn             0.11.1\n",
       "session_info        1.0.0\n",
       "sklearn             0.23.2\n",
       "statsmodels         0.12.2\n",
       "-----\n",
       "</pre>\n",
       "<details>\n",
       "<summary>Click to view modules imported as dependencies</summary>\n",
       "<pre>\n",
       "PIL                 8.3.1\n",
       "anyio               NA\n",
       "appnope             0.1.2\n",
       "attr                21.2.0\n",
       "babel               2.9.1\n",
       "backcall            0.2.0\n",
       "beta_ufunc          NA\n",
       "binom_ufunc         NA\n",
       "brotli              NA\n",
       "certifi             2020.06.20\n",
       "cffi                1.14.6\n",
       "chardet             4.0.0\n",
       "charset_normalizer  2.0.0\n",
       "cycler              0.10.0\n",
       "cython_runtime      NA\n",
       "dateutil            2.8.2\n",
       "decorator           5.0.9\n",
       "deepdish            0.3.6\n",
       "defusedxml          0.7.1\n",
       "idna                3.1\n",
       "ipykernel           6.0.3\n",
       "ipython_genutils    0.2.0\n",
       "jedi                0.18.0\n",
       "jinja2              3.0.1\n",
       "joblib              1.0.1\n",
       "json5               NA\n",
       "jsonschema          3.2.0\n",
       "jupyter_server      1.10.1\n",
       "jupyterlab_server   2.6.1\n",
       "kiwisolver          1.3.1\n",
       "markupsafe          2.0.1\n",
       "matplotlib_inline   NA\n",
       "mpl_toolkits        NA\n",
       "nbclassic           NA\n",
       "nbformat            5.1.3\n",
       "nbinom_ufunc        NA\n",
       "numexpr             2.7.3\n",
       "packaging           21.0\n",
       "parso               0.8.2\n",
       "patsy               0.5.1\n",
       "pexpect             4.8.0\n",
       "pickleshare         0.7.5\n",
       "pkg_resources       NA\n",
       "prometheus_client   NA\n",
       "prompt_toolkit      3.0.19\n",
       "ptyprocess          0.7.0\n",
       "pvectorc            NA\n",
       "pygments            2.9.0\n",
       "pyparsing           2.4.7\n",
       "pyrsistent          NA\n",
       "pytz                2021.1\n",
       "requests            2.26.0\n",
       "rpy2                3.4.5\n",
       "scipy               1.7.0\n",
       "send2trash          NA\n",
       "six                 1.16.0\n",
       "sniffio             1.2.0\n",
       "socks               1.7.1\n",
       "storemagic          NA\n",
       "swig_runtime_data4  NA\n",
       "tables              3.6.1\n",
       "terminado           0.10.1\n",
       "tornado             6.1\n",
       "traitlets           5.0.5\n",
       "tzlocal             NA\n",
       "urllib3             1.26.6\n",
       "wcwidth             0.2.5\n",
       "websocket           0.57.0\n",
       "zmq                 22.1.0\n",
       "</pre>\n",
       "</details> <!-- seems like this ends pre, so might as well be explicit -->\n",
       "<pre>\n",
       "-----\n",
       "IPython             7.25.0\n",
       "jupyter_client      6.1.12\n",
       "jupyter_core        4.7.1\n",
       "jupyterlab          3.1.1\n",
       "notebook            6.4.0\n",
       "-----\n",
       "Python 3.8.10 (default, May 19 2021, 11:01:55) [Clang 10.0.0 ]\n",
       "macOS-10.16-x86_64-i386-64bit\n",
       "-----\n",
       "Session information updated at 2021-08-07 10:51\n",
       "</pre>\n",
       "</details>"
      ],
      "text/plain": [
       "<IPython.core.display.HTML object>"
      ]
     },
     "execution_count": 9,
     "metadata": {},
     "output_type": "execute_result"
    }
   ],
   "source": [
    "session_info.show(write_req_file=False)"
   ]
  },
  {
   "cell_type": "markdown",
   "metadata": {},
   "source": [
    "# Statsmodels regularized mixedLM examples"
   ]
  },
  {
   "cell_type": "code",
   "execution_count": 10,
   "metadata": {},
   "outputs": [],
   "source": [
    "data = sm.datasets.get_rdataset('dietox', 'geepack').data"
   ]
  },
  {
   "cell_type": "code",
   "execution_count": 11,
   "metadata": {},
   "outputs": [],
   "source": [
    "# data_int = data.interpolate(method=\"linear\", limit_direction=\"both\")\n",
    "\n",
    "# _ = plt.scatter(data_int[\"Time\"], data_int[\"Feed\"])\n",
    "# _ = plt.scatter(data[\"Time\"], data[\"Feed\"])"
   ]
  },
  {
   "cell_type": "code",
   "execution_count": 12,
   "metadata": {},
   "outputs": [],
   "source": [
    "# data=data.dropna()"
   ]
  },
  {
   "cell_type": "code",
   "execution_count": 13,
   "metadata": {},
   "outputs": [],
   "source": [
    "data = data.assign(Weight_bin = (data[\"Weight\"] > 40).astype(int))"
   ]
  },
  {
   "cell_type": "code",
   "execution_count": 14,
   "metadata": {},
   "outputs": [
    {
     "data": {
      "text/html": [
       "<div>\n",
       "<style scoped>\n",
       "    .dataframe tbody tr th:only-of-type {\n",
       "        vertical-align: middle;\n",
       "    }\n",
       "\n",
       "    .dataframe tbody tr th {\n",
       "        vertical-align: top;\n",
       "    }\n",
       "\n",
       "    .dataframe thead th {\n",
       "        text-align: right;\n",
       "    }\n",
       "</style>\n",
       "<table border=\"1\" class=\"dataframe\">\n",
       "  <thead>\n",
       "    <tr style=\"text-align: right;\">\n",
       "      <th></th>\n",
       "      <th>Pig</th>\n",
       "      <th>Evit</th>\n",
       "      <th>Cu</th>\n",
       "      <th>Litter</th>\n",
       "      <th>Start</th>\n",
       "      <th>Weight</th>\n",
       "      <th>Feed</th>\n",
       "      <th>Time</th>\n",
       "      <th>Weight_bin</th>\n",
       "    </tr>\n",
       "  </thead>\n",
       "  <tbody>\n",
       "    <tr>\n",
       "      <th>0</th>\n",
       "      <td>4601</td>\n",
       "      <td>Evit000</td>\n",
       "      <td>Cu000</td>\n",
       "      <td>1</td>\n",
       "      <td>26.500</td>\n",
       "      <td>26.500</td>\n",
       "      <td>nan</td>\n",
       "      <td>1</td>\n",
       "      <td>0</td>\n",
       "    </tr>\n",
       "    <tr>\n",
       "      <th>1</th>\n",
       "      <td>4601</td>\n",
       "      <td>Evit000</td>\n",
       "      <td>Cu000</td>\n",
       "      <td>1</td>\n",
       "      <td>26.500</td>\n",
       "      <td>27.600</td>\n",
       "      <td>5.200</td>\n",
       "      <td>2</td>\n",
       "      <td>0</td>\n",
       "    </tr>\n",
       "    <tr>\n",
       "      <th>2</th>\n",
       "      <td>4601</td>\n",
       "      <td>Evit000</td>\n",
       "      <td>Cu000</td>\n",
       "      <td>1</td>\n",
       "      <td>26.500</td>\n",
       "      <td>36.500</td>\n",
       "      <td>17.600</td>\n",
       "      <td>3</td>\n",
       "      <td>0</td>\n",
       "    </tr>\n",
       "    <tr>\n",
       "      <th>3</th>\n",
       "      <td>4601</td>\n",
       "      <td>Evit000</td>\n",
       "      <td>Cu000</td>\n",
       "      <td>1</td>\n",
       "      <td>26.500</td>\n",
       "      <td>40.300</td>\n",
       "      <td>28.500</td>\n",
       "      <td>4</td>\n",
       "      <td>1</td>\n",
       "    </tr>\n",
       "    <tr>\n",
       "      <th>4</th>\n",
       "      <td>4601</td>\n",
       "      <td>Evit000</td>\n",
       "      <td>Cu000</td>\n",
       "      <td>1</td>\n",
       "      <td>26.500</td>\n",
       "      <td>49.100</td>\n",
       "      <td>45.200</td>\n",
       "      <td>5</td>\n",
       "      <td>1</td>\n",
       "    </tr>\n",
       "  </tbody>\n",
       "</table>\n",
       "</div>"
      ],
      "text/plain": [
       "    Pig     Evit     Cu  Litter  Start  Weight   Feed  Time  Weight_bin\n",
       "0  4601  Evit000  Cu000       1 26.500  26.500    nan     1           0\n",
       "1  4601  Evit000  Cu000       1 26.500  27.600  5.200     2           0\n",
       "2  4601  Evit000  Cu000       1 26.500  36.500 17.600     3           0\n",
       "3  4601  Evit000  Cu000       1 26.500  40.300 28.500     4           1\n",
       "4  4601  Evit000  Cu000       1 26.500  49.100 45.200     5           1"
      ]
     },
     "execution_count": 14,
     "metadata": {},
     "output_type": "execute_result"
    }
   ],
   "source": [
    "data.head()"
   ]
  },
  {
   "cell_type": "code",
   "execution_count": 15,
   "metadata": {},
   "outputs": [
    {
     "data": {
      "image/png": "[encoded data removed]",
      "text/plain": [
       "<Figure size 432x288 with 1 Axes>"
      ]
     },
     "metadata": {
      "needs_background": "light"
     },
     "output_type": "display_data"
    }
   ],
   "source": [
    "_ = sns.scatterplot(data=data, x=\"Pig\", y=\"Weight_bin\")"
   ]
  },
  {
   "cell_type": "code",
   "execution_count": 16,
   "metadata": {},
   "outputs": [
    {
     "name": "stdout",
     "output_type": "stream",
     "text": [
      "<class 'pandas.core.frame.DataFrame'>\n",
      "RangeIndex: 861 entries, 0 to 860\n",
      "Data columns (total 9 columns):\n",
      " #   Column      Non-Null Count  Dtype  \n",
      "---  ------      --------------  -----  \n",
      " 0   Pig         861 non-null    int64  \n",
      " 1   Evit        861 non-null    object \n",
      " 2   Cu          861 non-null    object \n",
      " 3   Litter      861 non-null    int64  \n",
      " 4   Start       861 non-null    float64\n",
      " 5   Weight      861 non-null    float64\n",
      " 6   Feed        789 non-null    float64\n",
      " 7   Time        861 non-null    int64  \n",
      " 8   Weight_bin  861 non-null    int64  \n",
      "dtypes: float64(3), int64(4), object(2)\n",
      "memory usage: 60.7+ KB\n"
     ]
    }
   ],
   "source": [
    "data.info()"
   ]
  },
  {
   "cell_type": "code",
   "execution_count": 17,
   "metadata": {},
   "outputs": [],
   "source": [
    "# md = smf.mixedlm(\"Weight ~ Time\", data, groups=data[\"Pig\"])\n",
    "# mdf = md.fit(method=[\"lbfgs\"])\n",
    "# mdf.summary()"
   ]
  },
  {
   "cell_type": "code",
   "execution_count": 18,
   "metadata": {},
   "outputs": [],
   "source": [
    "target = \"Weight_bin\"\n",
    "fixed_effect = \"Time\"\n",
    "grouping_var = \"Pig\"\n",
    "random_slope = \"Time\""
   ]
  },
  {
   "cell_type": "code",
   "execution_count": 19,
   "metadata": {},
   "outputs": [
    {
     "data": {
      "text/plain": [
       "{'target': 'Weight_bin',\n",
       " 'fixed_effect': 'Time',\n",
       " 'grouping_var': 'Pig',\n",
       " 'random_slope': 'Time'}"
      ]
     },
     "execution_count": 19,
     "metadata": {},
     "output_type": "execute_result"
    }
   ],
   "source": [
    "{\"target\": \"Weight_bin\",\n",
    "\"fixed_effect\": \"Time\",\n",
    "\"grouping_var\": \"Pig\",\n",
    "\"random_slope\": \"Time\"}"
   ]
  },
  {
   "cell_type": "code",
   "execution_count": 20,
   "metadata": {},
   "outputs": [],
   "source": [
    "md = BinomialBayesMixedGLM.from_formula(formula=f\"{target} ~ {fixed_effect}\", \n",
    "                 data=data, \n",
    "#                  groups=data[grouping_var], \n",
    "                 vc_formulas={\"a\": random_slope}\n",
    "                )\n",
    "mdf = md.fit_vb()"
   ]
  },
  {
   "cell_type": "code",
   "execution_count": 21,
   "metadata": {},
   "outputs": [
    {
     "data": {
      "text/html": [
       "<table class=\"simpletable\">\n",
       "<tr>\n",
       "      <td></td>      <th>Type</th> <th>Post. Mean</th> <th>Post. SD</th>  <th>SD</th>   <th>SD (LB)</th> <th>SD (UB)</th>\n",
       "</tr>\n",
       "<tr>\n",
       "  <th>Intercept</th>   <td>M</td>    <td>-6.4872</td>   <td>0.1558</td>    <td></td>       <td></td>        <td></td>    \n",
       "</tr>\n",
       "<tr>\n",
       "  <th>Time</th>        <td>M</td>    <td>1.7597</td>    <td>0.0406</td>    <td></td>       <td></td>        <td></td>    \n",
       "</tr>\n",
       "<tr>\n",
       "  <th>a</th>           <td>V</td>    <td>-1.3811</td>   <td>0.6685</td>  <td>0.251</td>  <td>0.066</td>   <td>0.957</td> \n",
       "</tr>\n",
       "</table>"
      ],
      "text/plain": [
       "<class 'statsmodels.iolib.summary2.Summary'>\n",
       "\"\"\"\n",
       "               Binomial Mixed GLM Results\n",
       "========================================================\n",
       "          Type Post. Mean Post. SD   SD  SD (LB) SD (UB)\n",
       "--------------------------------------------------------\n",
       "Intercept    M    -6.4872   0.1558                      \n",
       "Time         M     1.7597   0.0406                      \n",
       "a            V    -1.3811   0.6685 0.251   0.066   0.957\n",
       "========================================================\n",
       "Parameter types are mean structure (M) and variance\n",
       "structure (V)\n",
       "Variance parameters are modeled as log standard\n",
       "deviations\n",
       "\"\"\""
      ]
     },
     "execution_count": 21,
     "metadata": {},
     "output_type": "execute_result"
    }
   ],
   "source": [
    "mdf.summary()"
   ]
  },
  {
   "cell_type": "code",
   "execution_count": 22,
   "metadata": {},
   "outputs": [],
   "source": [
    "# md = smf.mixedlm(f\"{target} ~ {fixed_effect}\", \n",
    "#                  data, \n",
    "#                  groups=data[grouping_var], \n",
    "#                  re_formula=f\"~{random_slope}\"\n",
    "#                 )\n",
    "# mdf = md.fit(method=[\"lbfgs\"])\n",
    "# mdf.summary()"
   ]
  },
  {
   "cell_type": "code",
   "execution_count": 23,
   "metadata": {},
   "outputs": [
    {
     "data": {
      "text/plain": [
       "array([-6.4871637 ,  1.75970998, -1.38105148, -0.04190854,  0.01136809])"
      ]
     },
     "execution_count": 23,
     "metadata": {},
     "output_type": "execute_result"
    }
   ],
   "source": [
    "mdf.params"
   ]
  },
  {
   "cell_type": "code",
   "execution_count": 24,
   "metadata": {},
   "outputs": [],
   "source": [
    "fitted_real_values_df = pd.DataFrame({\"y_pred\": mdf.predict(data[[fixed_effect]]),\n",
    "             target: data[target]})#.round(0)"
   ]
  },
  {
   "cell_type": "code",
   "execution_count": 25,
   "metadata": {},
   "outputs": [
    {
     "data": {
      "image/png": "[encoded data removed]",
      "text/plain": [
       "<Figure size 432x288 with 1 Axes>"
      ]
     },
     "metadata": {
      "needs_background": "light"
     },
     "output_type": "display_data"
    }
   ],
   "source": [
    "_ = plt.scatter(fitted_real_values_df[\"y_pred\"], fitted_real_values_df[target])"
   ]
  },
  {
   "cell_type": "code",
   "execution_count": 26,
   "metadata": {},
   "outputs": [],
   "source": [
    "# _ = plt.scatter(mdf.fittedvalues, data[target])"
   ]
  },
  {
   "cell_type": "code",
   "execution_count": 27,
   "metadata": {},
   "outputs": [],
   "source": [
    "# mdf.fe_params"
   ]
  },
  {
   "cell_type": "code",
   "execution_count": 28,
   "metadata": {},
   "outputs": [],
   "source": [
    "# import re\n",
    "\n",
    "# formula_string = \"Weight ~ Time + (1 + Time | Pig)\"\n",
    "\n",
    "# target = formula_string.replace(\" \", \"\").split(\"~\")[0]\n",
    "# fixed_effect = formula_string.replace(\" \", \"\").split(\"~\")[1].split(\"+\")[0]\n",
    "# random_effects = re.findall(\"\\((.*?)\\)\", formula_string)\n",
    "\n",
    "# clusters = random_effects[0].replace(\" \", \"\").split(\"+\")[1].split(\"|\")[1]\n",
    "\n",
    "# {\"target\": target,\n",
    "# \"fixed_effect\": fixed_effect,\n",
    "# \"random_effects\": random_effects,\n",
    "# \"clusters\": clusters}\n",
    "\n",
    "# formula_parser(formula_string)"
   ]
  },
  {
   "cell_type": "markdown",
   "metadata": {
    "tags": []
   },
   "source": [
    "# Pymer4 version"
   ]
  },
  {
   "cell_type": "code",
   "execution_count": 29,
   "metadata": {},
   "outputs": [
    {
     "data": {
      "text/plain": [
       "'Weight_bin ~ Time + (1 | Pig) + (0 + Time | Pig )'"
      ]
     },
     "execution_count": 29,
     "metadata": {},
     "output_type": "execute_result"
    }
   ],
   "source": [
    "formula_string = f\"{target} ~ {fixed_effect} + (1 | {grouping_var}) + (0 + {random_slope} | {grouping_var} )\"\n",
    "formula_string"
   ]
  },
  {
   "cell_type": "code",
   "execution_count": 30,
   "metadata": {},
   "outputs": [],
   "source": [
    "mdp = Lmer(formula=formula_string, data=data, family='binomial')"
   ]
  },
  {
   "cell_type": "code",
   "execution_count": 31,
   "metadata": {},
   "outputs": [
    {
     "name": "stdout",
     "output_type": "stream",
     "text": [
      "Formula: Weight_bin~Time+(1|Pig)+(0+Time|Pig)\n",
      "\n",
      "Family: binomial\t Inference: parametric\n",
      "\n",
      "Number of observations: 861\t Groups: {'Pig': 72.0}\n",
      "\n",
      "Log-likelihood: -60.561 \t AIC: 129.121\n",
      "\n",
      "Random effects:\n",
      "\n",
      "              Name      Var    Std\n",
      "Pig    (Intercept) 2479.294 49.793\n",
      "Pig.1         Time  237.006 15.395\n",
      "\n",
      "No random effect correlations specified\n",
      "\n",
      "Fixed effects:\n",
      "\n"
     ]
    },
    {
     "data": {
      "text/html": [
       "<div>\n",
       "<style scoped>\n",
       "    .dataframe tbody tr th:only-of-type {\n",
       "        vertical-align: middle;\n",
       "    }\n",
       "\n",
       "    .dataframe tbody tr th {\n",
       "        vertical-align: top;\n",
       "    }\n",
       "\n",
       "    .dataframe thead th {\n",
       "        text-align: right;\n",
       "    }\n",
       "</style>\n",
       "<table border=\"1\" class=\"dataframe\">\n",
       "  <thead>\n",
       "    <tr style=\"text-align: right;\">\n",
       "      <th></th>\n",
       "      <th>Estimate</th>\n",
       "      <th>2.5_ci</th>\n",
       "      <th>97.5_ci</th>\n",
       "      <th>SE</th>\n",
       "      <th>OR</th>\n",
       "      <th>OR_2.5_ci</th>\n",
       "      <th>OR_97.5_ci</th>\n",
       "      <th>Prob</th>\n",
       "      <th>Prob_2.5_ci</th>\n",
       "      <th>Prob_97.5_ci</th>\n",
       "      <th>Z-stat</th>\n",
       "      <th>P-val</th>\n",
       "      <th>Sig</th>\n",
       "    </tr>\n",
       "  </thead>\n",
       "  <tbody>\n",
       "    <tr>\n",
       "      <th>(Intercept)</th>\n",
       "      <td>-83.087</td>\n",
       "      <td>-99.738</td>\n",
       "      <td>-66.436</td>\n",
       "      <td>8.495</td>\n",
       "      <td>0.000</td>\n",
       "      <td>0.000</td>\n",
       "      <td>0.000</td>\n",
       "      <td>0.000</td>\n",
       "      <td>0.000</td>\n",
       "      <td>0.000</td>\n",
       "      <td>-9.780</td>\n",
       "      <td>0.000</td>\n",
       "      <td>***</td>\n",
       "    </tr>\n",
       "    <tr>\n",
       "      <th>Time</th>\n",
       "      <td>23.749</td>\n",
       "      <td>19.024</td>\n",
       "      <td>28.474</td>\n",
       "      <td>2.411</td>\n",
       "      <td>20601052026.702</td>\n",
       "      <td>182740283.940</td>\n",
       "      <td>2322439997661.138</td>\n",
       "      <td>1.000</td>\n",
       "      <td>1.000</td>\n",
       "      <td>1.000</td>\n",
       "      <td>9.851</td>\n",
       "      <td>0.000</td>\n",
       "      <td>***</td>\n",
       "    </tr>\n",
       "  </tbody>\n",
       "</table>\n",
       "</div>"
      ],
      "text/plain": [
       "             Estimate  2.5_ci  97.5_ci    SE              OR     OR_2.5_ci  \\\n",
       "(Intercept)   -83.087 -99.738  -66.436 8.495           0.000         0.000   \n",
       "Time           23.749  19.024   28.474 2.411 20601052026.702 182740283.940   \n",
       "\n",
       "                   OR_97.5_ci  Prob  Prob_2.5_ci  Prob_97.5_ci  Z-stat  P-val  \\\n",
       "(Intercept)             0.000 0.000        0.000         0.000  -9.780  0.000   \n",
       "Time        2322439997661.138 1.000        1.000         1.000   9.851  0.000   \n",
       "\n",
       "             Sig  \n",
       "(Intercept)  ***  \n",
       "Time         ***  "
      ]
     },
     "execution_count": 31,
     "metadata": {},
     "output_type": "execute_result"
    }
   ],
   "source": [
    "mdp.fit(#conf_int=\"profile\"#, control=\"optCtrl = list(ftol_abs=1, xtol_abs=1)\"\n",
    "           )"
   ]
  },
  {
   "cell_type": "code",
   "execution_count": 32,
   "metadata": {},
   "outputs": [
    {
     "data": {
      "text/html": [
       "<div>\n",
       "<style scoped>\n",
       "    .dataframe tbody tr th:only-of-type {\n",
       "        vertical-align: middle;\n",
       "    }\n",
       "\n",
       "    .dataframe tbody tr th {\n",
       "        vertical-align: top;\n",
       "    }\n",
       "\n",
       "    .dataframe thead th {\n",
       "        text-align: right;\n",
       "    }\n",
       "</style>\n",
       "<table border=\"1\" class=\"dataframe\">\n",
       "  <thead>\n",
       "    <tr style=\"text-align: right;\">\n",
       "      <th></th>\n",
       "      <th>(Intercept)</th>\n",
       "      <th>Time</th>\n",
       "    </tr>\n",
       "  </thead>\n",
       "  <tbody>\n",
       "    <tr>\n",
       "      <th>4601</th>\n",
       "      <td>-83.088</td>\n",
       "      <td>23.750</td>\n",
       "    </tr>\n",
       "    <tr>\n",
       "      <th>4602</th>\n",
       "      <td>-83.088</td>\n",
       "      <td>23.750</td>\n",
       "    </tr>\n",
       "    <tr>\n",
       "      <th>4603</th>\n",
       "      <td>-83.088</td>\n",
       "      <td>23.750</td>\n",
       "    </tr>\n",
       "    <tr>\n",
       "      <th>4605</th>\n",
       "      <td>-73.725</td>\n",
       "      <td>26.433</td>\n",
       "    </tr>\n",
       "    <tr>\n",
       "      <th>4641</th>\n",
       "      <td>-73.725</td>\n",
       "      <td>26.433</td>\n",
       "    </tr>\n",
       "    <tr>\n",
       "      <th>...</th>\n",
       "      <td>...</td>\n",
       "      <td>...</td>\n",
       "    </tr>\n",
       "    <tr>\n",
       "      <th>8271</th>\n",
       "      <td>-83.088</td>\n",
       "      <td>23.750</td>\n",
       "    </tr>\n",
       "    <tr>\n",
       "      <th>8273</th>\n",
       "      <td>-83.088</td>\n",
       "      <td>23.750</td>\n",
       "    </tr>\n",
       "    <tr>\n",
       "      <th>8437</th>\n",
       "      <td>-83.088</td>\n",
       "      <td>23.750</td>\n",
       "    </tr>\n",
       "    <tr>\n",
       "      <th>8439</th>\n",
       "      <td>-83.088</td>\n",
       "      <td>23.750</td>\n",
       "    </tr>\n",
       "    <tr>\n",
       "      <th>8442</th>\n",
       "      <td>-90.112</td>\n",
       "      <td>21.062</td>\n",
       "    </tr>\n",
       "  </tbody>\n",
       "</table>\n",
       "<p>72 rows × 2 columns</p>\n",
       "</div>"
      ],
      "text/plain": [
       "      (Intercept)   Time\n",
       "4601      -83.088 23.750\n",
       "4602      -83.088 23.750\n",
       "4603      -83.088 23.750\n",
       "4605      -73.725 26.433\n",
       "4641      -73.725 26.433\n",
       "...           ...    ...\n",
       "8271      -83.088 23.750\n",
       "8273      -83.088 23.750\n",
       "8437      -83.088 23.750\n",
       "8439      -83.088 23.750\n",
       "8442      -90.112 21.062\n",
       "\n",
       "[72 rows x 2 columns]"
      ]
     },
     "execution_count": 32,
     "metadata": {},
     "output_type": "execute_result"
    }
   ],
   "source": [
    "mdp.fixef"
   ]
  },
  {
   "cell_type": "code",
   "execution_count": 33,
   "metadata": {},
   "outputs": [
    {
     "data": {
      "image/png": "[encoded data removed]",
      "text/plain": [
       "<Figure size 432x288 with 1 Axes>"
      ]
     },
     "metadata": {
      "needs_background": "light"
     },
     "output_type": "display_data"
    }
   ],
   "source": [
    "_ = plt.scatter(mdp.fits, data[target])"
   ]
  },
  {
   "cell_type": "markdown",
   "metadata": {},
   "source": [
    "## Plot the fitted vs the real values"
   ]
  },
  {
   "cell_type": "code",
   "execution_count": 34,
   "metadata": {},
   "outputs": [],
   "source": [
    "c_mat = confusion_matrix(data[target], mdp.fits.round(0))"
   ]
  },
  {
   "cell_type": "code",
   "execution_count": 35,
   "metadata": {},
   "outputs": [
    {
     "data": {
      "image/png": "[encoded data removed]",
      "text/plain": [
       "<Figure size 432x288 with 2 Axes>"
      ]
     },
     "metadata": {
      "needs_background": "light"
     },
     "output_type": "display_data"
    }
   ],
   "source": [
    "cmap='Blues'\n",
    "categories=[\"Skinny\", \"Fat\"]\n",
    "\n",
    "_ = sns.heatmap(c_mat, \n",
    "                annot=True,            \n",
    "                fmt=\"\",\n",
    "                cmap=cmap,\n",
    "#                 cbar=cbar,\n",
    "                xticklabels=categories,\n",
    "                yticklabels=categories\n",
    "               )\n",
    "_ = plt.title(\"Confusion Matrix\")\n",
    "# _ = plt.xlabel(f'Predicted value\\n\\nAccuracy={summary_df[\"Accuracy\"].values[0]}\\nSensitivity={summary_df[\"Sensitivity\"].values[0]}\\nSpecificity={summary_df[\"Specificity\"].values[0]}\\nF1 Score={summary_df[\"F1\"].values[0]}')\n",
    "_ = plt.xlabel(f'Predicted value')\n",
    "_ = plt.ylabel(\"True value\")"
   ]
  },
  {
   "cell_type": "code",
   "execution_count": 36,
   "metadata": {},
   "outputs": [],
   "source": [
    "fpr, tpr, thresh = roc_curve(y_true=data[target], y_score=mdp.fits, pos_label=1, sample_weight=None, drop_intermediate=False)"
   ]
  },
  {
   "cell_type": "code",
   "execution_count": 37,
   "metadata": {},
   "outputs": [],
   "source": [
    "auc_score = roc_auc_score(y_true=data[target], y_score=mdp.fits)"
   ]
  },
  {
   "cell_type": "code",
   "execution_count": 38,
   "metadata": {},
   "outputs": [
    {
     "data": {
      "image/png": "[encoded data removed]",
      "text/plain": [
       "<Figure size 864x504 with 1 Axes>"
      ]
     },
     "metadata": {
      "needs_background": "light"
     },
     "output_type": "display_data"
    }
   ],
   "source": [
    "_ = plt.figure(figsize=(12, 7))\n",
    "_ = plt.plot(fpr, \n",
    "             tpr, \n",
    "#              'o', \n",
    "            )\n",
    "_ = plt.plot(fpr, \n",
    "             tpr, \n",
    "             'o',\n",
    "             c=\"orange\"\n",
    "            )\n",
    "\n",
    "_ = plt.annotate(text = f\"AUC = {round(auc_score, 5)}\",\n",
    "                 xy=(0.9, 0.1),)"
   ]
  },
  {
   "cell_type": "markdown",
   "metadata": {},
   "source": [
    "# LMM equation"
   ]
  },
  {
   "cell_type": "markdown",
   "metadata": {},
   "source": [
    "<img src=\"https://wikimedia.org/api/rest_v1/media/math/render/svg/e00ba9a8e13237ca374d55bb3070aebd12a5b8e4\" />"
   ]
  },
  {
   "cell_type": "code",
   "execution_count": 39,
   "metadata": {},
   "outputs": [
    {
     "data": {
      "text/plain": [
       "0    0\n",
       "1    0\n",
       "Name: Weight_bin, dtype: int64"
      ]
     },
     "execution_count": 39,
     "metadata": {},
     "output_type": "execute_result"
    }
   ],
   "source": [
    "y = data[target]\n",
    "y.head(2)"
   ]
  },
  {
   "cell_type": "code",
   "execution_count": 40,
   "metadata": {},
   "outputs": [
    {
     "data": {
      "text/html": [
       "<div>\n",
       "<style scoped>\n",
       "    .dataframe tbody tr th:only-of-type {\n",
       "        vertical-align: middle;\n",
       "    }\n",
       "\n",
       "    .dataframe tbody tr th {\n",
       "        vertical-align: top;\n",
       "    }\n",
       "\n",
       "    .dataframe thead th {\n",
       "        text-align: right;\n",
       "    }\n",
       "</style>\n",
       "<table border=\"1\" class=\"dataframe\">\n",
       "  <thead>\n",
       "    <tr style=\"text-align: right;\">\n",
       "      <th></th>\n",
       "      <th>Time</th>\n",
       "    </tr>\n",
       "  </thead>\n",
       "  <tbody>\n",
       "    <tr>\n",
       "      <th>0</th>\n",
       "      <td>1</td>\n",
       "    </tr>\n",
       "    <tr>\n",
       "      <th>1</th>\n",
       "      <td>2</td>\n",
       "    </tr>\n",
       "  </tbody>\n",
       "</table>\n",
       "</div>"
      ],
      "text/plain": [
       "   Time\n",
       "0     1\n",
       "1     2"
      ]
     },
     "execution_count": 40,
     "metadata": {},
     "output_type": "execute_result"
    }
   ],
   "source": [
    "x = data[[fixed_effect]]\n",
    "x.head(2)"
   ]
  },
  {
   "cell_type": "code",
   "execution_count": 41,
   "metadata": {},
   "outputs": [],
   "source": [
    "x = x.assign(intercept=1).set_index(\"intercept\").reset_index()"
   ]
  },
  {
   "cell_type": "code",
   "execution_count": 42,
   "metadata": {},
   "outputs": [],
   "source": [
    "u = data[grouping_var].unique()"
   ]
  },
  {
   "cell_type": "code",
   "execution_count": 43,
   "metadata": {},
   "outputs": [
    {
     "data": {
      "text/plain": [
       "array([4601, 4602, 4603, 4605, 4641, 4643, 4645, 4756, 4757, 4759, 4760,\n",
       "       4813, 4814, 4815, 4817, 4854, 4856, 4857, 4858, 5389, 5392, 5497,\n",
       "       5500, 5501, 5502, 5524, 5527, 5528, 5578, 5581, 5582, 5850, 5851,\n",
       "       5852, 5862, 5865, 5866, 6055, 6056, 6057, 6058, 6207, 6208, 6211,\n",
       "       6284, 6287, 6288, 6430, 6432, 6433, 6909, 6910, 6912, 8049, 8050,\n",
       "       8051, 8053, 8139, 8141, 8142, 8144, 8191, 8192, 8193, 8195, 8269,\n",
       "       8270, 8271, 8273, 8437, 8439, 8442])"
      ]
     },
     "execution_count": 43,
     "metadata": {},
     "output_type": "execute_result"
    }
   ],
   "source": [
    "u"
   ]
  },
  {
   "cell_type": "code",
   "execution_count": 44,
   "metadata": {},
   "outputs": [
    {
     "data": {
      "text/plain": [
       "72"
      ]
     },
     "execution_count": 44,
     "metadata": {},
     "output_type": "execute_result"
    }
   ],
   "source": [
    "len(u)"
   ]
  },
  {
   "cell_type": "code",
   "execution_count": 45,
   "metadata": {},
   "outputs": [
    {
     "data": {
      "text/plain": [
       "0      4601\n",
       "1      4601\n",
       "2      4601\n",
       "3      4601\n",
       "4      4601\n",
       "       ... \n",
       "856    8442\n",
       "857    8442\n",
       "858    8442\n",
       "859    8442\n",
       "860    8442\n",
       "Name: Pig, Length: 861, dtype: int64"
      ]
     },
     "execution_count": 45,
     "metadata": {},
     "output_type": "execute_result"
    }
   ],
   "source": [
    "data[grouping_var]"
   ]
  },
  {
   "cell_type": "code",
   "execution_count": 46,
   "metadata": {},
   "outputs": [
    {
     "data": {
      "text/plain": [
       "4601    12\n",
       "4602    12\n",
       "4603    12\n",
       "4605    12\n",
       "4641    12\n",
       "        ..\n",
       "8271    12\n",
       "8273    12\n",
       "8437    12\n",
       "8439    12\n",
       "8442    12\n",
       "Name: Pig, Length: 72, dtype: int64"
      ]
     },
     "execution_count": 46,
     "metadata": {},
     "output_type": "execute_result"
    }
   ],
   "source": [
    "data[grouping_var].value_counts().sort_index()"
   ]
  },
  {
   "cell_type": "code",
   "execution_count": 47,
   "metadata": {},
   "outputs": [
    {
     "data": {
      "text/plain": [
       "5528    11\n",
       "5524    11\n",
       "5527    11\n",
       "8141    12\n",
       "8139    12\n",
       "        ..\n",
       "6288    12\n",
       "8437    12\n",
       "8439    12\n",
       "8271    12\n",
       "4645    12\n",
       "Name: Pig, Length: 72, dtype: int64"
      ]
     },
     "execution_count": 47,
     "metadata": {},
     "output_type": "execute_result"
    }
   ],
   "source": [
    "data[grouping_var].value_counts().sort_values()"
   ]
  },
  {
   "cell_type": "code",
   "execution_count": 48,
   "metadata": {},
   "outputs": [],
   "source": [
    "z_list = list()\n",
    "for cluster_group in u:\n",
    "    tmp = data.loc[data[grouping_var]==cluster_group, grouping_var]\n",
    "#     print(cluster_group)\n",
    "\n",
    "#     np.pad(tmp, (tmp.index.tolist()[0], data[clusters].shape[0] - tmp.index.tolist()[-1]+1))\n",
    "    \n",
    "    z_list.append(np.pad(tmp, (tmp.index.tolist()[0], data[grouping_var].shape[0] - tmp.index.tolist()[-1]+1)))"
   ]
  },
  {
   "cell_type": "code",
   "execution_count": 49,
   "metadata": {},
   "outputs": [
    {
     "data": {
      "text/plain": [
       "(863,)"
      ]
     },
     "execution_count": 49,
     "metadata": {},
     "output_type": "execute_result"
    }
   ],
   "source": [
    "z_list[1].shape"
   ]
  },
  {
   "cell_type": "code",
   "execution_count": 50,
   "metadata": {},
   "outputs": [],
   "source": [
    "possible_Z_df = pd.DataFrame(np.vstack(z_list).T)#.head(50)"
   ]
  },
  {
   "cell_type": "code",
   "execution_count": 51,
   "metadata": {},
   "outputs": [
    {
     "data": {
      "text/html": [
       "<div>\n",
       "<style scoped>\n",
       "    .dataframe tbody tr th:only-of-type {\n",
       "        vertical-align: middle;\n",
       "    }\n",
       "\n",
       "    .dataframe tbody tr th {\n",
       "        vertical-align: top;\n",
       "    }\n",
       "\n",
       "    .dataframe thead th {\n",
       "        text-align: right;\n",
       "    }\n",
       "</style>\n",
       "<table border=\"1\" class=\"dataframe\">\n",
       "  <thead>\n",
       "    <tr style=\"text-align: right;\">\n",
       "      <th></th>\n",
       "      <th>0</th>\n",
       "      <th>1</th>\n",
       "      <th>2</th>\n",
       "      <th>3</th>\n",
       "      <th>4</th>\n",
       "      <th>5</th>\n",
       "      <th>6</th>\n",
       "      <th>7</th>\n",
       "      <th>8</th>\n",
       "      <th>9</th>\n",
       "      <th>...</th>\n",
       "      <th>62</th>\n",
       "      <th>63</th>\n",
       "      <th>64</th>\n",
       "      <th>65</th>\n",
       "      <th>66</th>\n",
       "      <th>67</th>\n",
       "      <th>68</th>\n",
       "      <th>69</th>\n",
       "      <th>70</th>\n",
       "      <th>71</th>\n",
       "    </tr>\n",
       "  </thead>\n",
       "  <tbody>\n",
       "    <tr>\n",
       "      <th>0</th>\n",
       "      <td>4601</td>\n",
       "      <td>0</td>\n",
       "      <td>0</td>\n",
       "      <td>0</td>\n",
       "      <td>0</td>\n",
       "      <td>0</td>\n",
       "      <td>0</td>\n",
       "      <td>0</td>\n",
       "      <td>0</td>\n",
       "      <td>0</td>\n",
       "      <td>...</td>\n",
       "      <td>0</td>\n",
       "      <td>0</td>\n",
       "      <td>0</td>\n",
       "      <td>0</td>\n",
       "      <td>0</td>\n",
       "      <td>0</td>\n",
       "      <td>0</td>\n",
       "      <td>0</td>\n",
       "      <td>0</td>\n",
       "      <td>0</td>\n",
       "    </tr>\n",
       "    <tr>\n",
       "      <th>1</th>\n",
       "      <td>4601</td>\n",
       "      <td>0</td>\n",
       "      <td>0</td>\n",
       "      <td>0</td>\n",
       "      <td>0</td>\n",
       "      <td>0</td>\n",
       "      <td>0</td>\n",
       "      <td>0</td>\n",
       "      <td>0</td>\n",
       "      <td>0</td>\n",
       "      <td>...</td>\n",
       "      <td>0</td>\n",
       "      <td>0</td>\n",
       "      <td>0</td>\n",
       "      <td>0</td>\n",
       "      <td>0</td>\n",
       "      <td>0</td>\n",
       "      <td>0</td>\n",
       "      <td>0</td>\n",
       "      <td>0</td>\n",
       "      <td>0</td>\n",
       "    </tr>\n",
       "    <tr>\n",
       "      <th>2</th>\n",
       "      <td>4601</td>\n",
       "      <td>0</td>\n",
       "      <td>0</td>\n",
       "      <td>0</td>\n",
       "      <td>0</td>\n",
       "      <td>0</td>\n",
       "      <td>0</td>\n",
       "      <td>0</td>\n",
       "      <td>0</td>\n",
       "      <td>0</td>\n",
       "      <td>...</td>\n",
       "      <td>0</td>\n",
       "      <td>0</td>\n",
       "      <td>0</td>\n",
       "      <td>0</td>\n",
       "      <td>0</td>\n",
       "      <td>0</td>\n",
       "      <td>0</td>\n",
       "      <td>0</td>\n",
       "      <td>0</td>\n",
       "      <td>0</td>\n",
       "    </tr>\n",
       "    <tr>\n",
       "      <th>3</th>\n",
       "      <td>4601</td>\n",
       "      <td>0</td>\n",
       "      <td>0</td>\n",
       "      <td>0</td>\n",
       "      <td>0</td>\n",
       "      <td>0</td>\n",
       "      <td>0</td>\n",
       "      <td>0</td>\n",
       "      <td>0</td>\n",
       "      <td>0</td>\n",
       "      <td>...</td>\n",
       "      <td>0</td>\n",
       "      <td>0</td>\n",
       "      <td>0</td>\n",
       "      <td>0</td>\n",
       "      <td>0</td>\n",
       "      <td>0</td>\n",
       "      <td>0</td>\n",
       "      <td>0</td>\n",
       "      <td>0</td>\n",
       "      <td>0</td>\n",
       "    </tr>\n",
       "    <tr>\n",
       "      <th>4</th>\n",
       "      <td>4601</td>\n",
       "      <td>0</td>\n",
       "      <td>0</td>\n",
       "      <td>0</td>\n",
       "      <td>0</td>\n",
       "      <td>0</td>\n",
       "      <td>0</td>\n",
       "      <td>0</td>\n",
       "      <td>0</td>\n",
       "      <td>0</td>\n",
       "      <td>...</td>\n",
       "      <td>0</td>\n",
       "      <td>0</td>\n",
       "      <td>0</td>\n",
       "      <td>0</td>\n",
       "      <td>0</td>\n",
       "      <td>0</td>\n",
       "      <td>0</td>\n",
       "      <td>0</td>\n",
       "      <td>0</td>\n",
       "      <td>0</td>\n",
       "    </tr>\n",
       "    <tr>\n",
       "      <th>...</th>\n",
       "      <td>...</td>\n",
       "      <td>...</td>\n",
       "      <td>...</td>\n",
       "      <td>...</td>\n",
       "      <td>...</td>\n",
       "      <td>...</td>\n",
       "      <td>...</td>\n",
       "      <td>...</td>\n",
       "      <td>...</td>\n",
       "      <td>...</td>\n",
       "      <td>...</td>\n",
       "      <td>...</td>\n",
       "      <td>...</td>\n",
       "      <td>...</td>\n",
       "      <td>...</td>\n",
       "      <td>...</td>\n",
       "      <td>...</td>\n",
       "      <td>...</td>\n",
       "      <td>...</td>\n",
       "      <td>...</td>\n",
       "      <td>...</td>\n",
       "    </tr>\n",
       "    <tr>\n",
       "      <th>858</th>\n",
       "      <td>0</td>\n",
       "      <td>0</td>\n",
       "      <td>0</td>\n",
       "      <td>0</td>\n",
       "      <td>0</td>\n",
       "      <td>0</td>\n",
       "      <td>0</td>\n",
       "      <td>0</td>\n",
       "      <td>0</td>\n",
       "      <td>0</td>\n",
       "      <td>...</td>\n",
       "      <td>0</td>\n",
       "      <td>0</td>\n",
       "      <td>0</td>\n",
       "      <td>0</td>\n",
       "      <td>0</td>\n",
       "      <td>0</td>\n",
       "      <td>0</td>\n",
       "      <td>0</td>\n",
       "      <td>0</td>\n",
       "      <td>8442</td>\n",
       "    </tr>\n",
       "    <tr>\n",
       "      <th>859</th>\n",
       "      <td>0</td>\n",
       "      <td>0</td>\n",
       "      <td>0</td>\n",
       "      <td>0</td>\n",
       "      <td>0</td>\n",
       "      <td>0</td>\n",
       "      <td>0</td>\n",
       "      <td>0</td>\n",
       "      <td>0</td>\n",
       "      <td>0</td>\n",
       "      <td>...</td>\n",
       "      <td>0</td>\n",
       "      <td>0</td>\n",
       "      <td>0</td>\n",
       "      <td>0</td>\n",
       "      <td>0</td>\n",
       "      <td>0</td>\n",
       "      <td>0</td>\n",
       "      <td>0</td>\n",
       "      <td>0</td>\n",
       "      <td>8442</td>\n",
       "    </tr>\n",
       "    <tr>\n",
       "      <th>860</th>\n",
       "      <td>0</td>\n",
       "      <td>0</td>\n",
       "      <td>0</td>\n",
       "      <td>0</td>\n",
       "      <td>0</td>\n",
       "      <td>0</td>\n",
       "      <td>0</td>\n",
       "      <td>0</td>\n",
       "      <td>0</td>\n",
       "      <td>0</td>\n",
       "      <td>...</td>\n",
       "      <td>0</td>\n",
       "      <td>0</td>\n",
       "      <td>0</td>\n",
       "      <td>0</td>\n",
       "      <td>0</td>\n",
       "      <td>0</td>\n",
       "      <td>0</td>\n",
       "      <td>0</td>\n",
       "      <td>0</td>\n",
       "      <td>8442</td>\n",
       "    </tr>\n",
       "    <tr>\n",
       "      <th>861</th>\n",
       "      <td>0</td>\n",
       "      <td>0</td>\n",
       "      <td>0</td>\n",
       "      <td>0</td>\n",
       "      <td>0</td>\n",
       "      <td>0</td>\n",
       "      <td>0</td>\n",
       "      <td>0</td>\n",
       "      <td>0</td>\n",
       "      <td>0</td>\n",
       "      <td>...</td>\n",
       "      <td>0</td>\n",
       "      <td>0</td>\n",
       "      <td>0</td>\n",
       "      <td>0</td>\n",
       "      <td>0</td>\n",
       "      <td>0</td>\n",
       "      <td>0</td>\n",
       "      <td>0</td>\n",
       "      <td>0</td>\n",
       "      <td>0</td>\n",
       "    </tr>\n",
       "    <tr>\n",
       "      <th>862</th>\n",
       "      <td>0</td>\n",
       "      <td>0</td>\n",
       "      <td>0</td>\n",
       "      <td>0</td>\n",
       "      <td>0</td>\n",
       "      <td>0</td>\n",
       "      <td>0</td>\n",
       "      <td>0</td>\n",
       "      <td>0</td>\n",
       "      <td>0</td>\n",
       "      <td>...</td>\n",
       "      <td>0</td>\n",
       "      <td>0</td>\n",
       "      <td>0</td>\n",
       "      <td>0</td>\n",
       "      <td>0</td>\n",
       "      <td>0</td>\n",
       "      <td>0</td>\n",
       "      <td>0</td>\n",
       "      <td>0</td>\n",
       "      <td>0</td>\n",
       "    </tr>\n",
       "  </tbody>\n",
       "</table>\n",
       "<p>863 rows × 72 columns</p>\n",
       "</div>"
      ],
      "text/plain": [
       "       0   1   2   3   4   5   6   7   8   9   ...  62  63  64  65  66  67  \\\n",
       "0    4601   0   0   0   0   0   0   0   0   0  ...   0   0   0   0   0   0   \n",
       "1    4601   0   0   0   0   0   0   0   0   0  ...   0   0   0   0   0   0   \n",
       "2    4601   0   0   0   0   0   0   0   0   0  ...   0   0   0   0   0   0   \n",
       "3    4601   0   0   0   0   0   0   0   0   0  ...   0   0   0   0   0   0   \n",
       "4    4601   0   0   0   0   0   0   0   0   0  ...   0   0   0   0   0   0   \n",
       "..    ...  ..  ..  ..  ..  ..  ..  ..  ..  ..  ...  ..  ..  ..  ..  ..  ..   \n",
       "858     0   0   0   0   0   0   0   0   0   0  ...   0   0   0   0   0   0   \n",
       "859     0   0   0   0   0   0   0   0   0   0  ...   0   0   0   0   0   0   \n",
       "860     0   0   0   0   0   0   0   0   0   0  ...   0   0   0   0   0   0   \n",
       "861     0   0   0   0   0   0   0   0   0   0  ...   0   0   0   0   0   0   \n",
       "862     0   0   0   0   0   0   0   0   0   0  ...   0   0   0   0   0   0   \n",
       "\n",
       "     68  69  70    71  \n",
       "0     0   0   0     0  \n",
       "1     0   0   0     0  \n",
       "2     0   0   0     0  \n",
       "3     0   0   0     0  \n",
       "4     0   0   0     0  \n",
       "..   ..  ..  ..   ...  \n",
       "858   0   0   0  8442  \n",
       "859   0   0   0  8442  \n",
       "860   0   0   0  8442  \n",
       "861   0   0   0     0  \n",
       "862   0   0   0     0  \n",
       "\n",
       "[863 rows x 72 columns]"
      ]
     },
     "execution_count": 51,
     "metadata": {},
     "output_type": "execute_result"
    }
   ],
   "source": [
    "possible_Z_df"
   ]
  },
  {
   "cell_type": "code",
   "execution_count": 52,
   "metadata": {},
   "outputs": [],
   "source": [
    "binary_df = np.where(possible_Z_df > 0 , 1, possible_Z_df)"
   ]
  },
  {
   "cell_type": "code",
   "execution_count": 53,
   "metadata": {},
   "outputs": [
    {
     "data": {
      "image/png": "[encoded data removed]",
      "text/plain": [
       "<Figure size 1080x720 with 2 Axes>"
      ]
     },
     "metadata": {
      "needs_background": "light"
     },
     "output_type": "display_data"
    }
   ],
   "source": [
    "_ = plt.figure(figsize=(15, 10))\n",
    "_ = sns.heatmap(binary_df)"
   ]
  },
  {
   "cell_type": "code",
   "execution_count": 54,
   "metadata": {},
   "outputs": [],
   "source": [
    "# Z = possible_Z_df.loc[0: 860].values\n",
    "Z = binary_df[0: 861]"
   ]
  },
  {
   "cell_type": "code",
   "execution_count": 55,
   "metadata": {},
   "outputs": [
    {
     "data": {
      "text/plain": [
       "array([[1, 0, 0, ..., 0, 0, 0],\n",
       "       [1, 0, 0, ..., 0, 0, 0],\n",
       "       [1, 0, 0, ..., 0, 0, 0],\n",
       "       ...,\n",
       "       [0, 0, 0, ..., 0, 0, 1],\n",
       "       [0, 0, 0, ..., 0, 0, 1],\n",
       "       [0, 0, 0, ..., 0, 0, 1]])"
      ]
     },
     "execution_count": 55,
     "metadata": {},
     "output_type": "execute_result"
    }
   ],
   "source": [
    "Z"
   ]
  },
  {
   "cell_type": "markdown",
   "metadata": {},
   "source": [
    "<img src=\"https://wikimedia.org/api/rest_v1/media/math/render/svg/e00ba9a8e13237ca374d55bb3070aebd12a5b8e4\" />"
   ]
  },
  {
   "cell_type": "code",
   "execution_count": 56,
   "metadata": {},
   "outputs": [
    {
     "data": {
      "text/plain": [
       "((861, 2), (861,))"
      ]
     },
     "execution_count": 56,
     "metadata": {},
     "output_type": "execute_result"
    }
   ],
   "source": [
    "x.shape, y.shape"
   ]
  },
  {
   "cell_type": "code",
   "execution_count": 57,
   "metadata": {},
   "outputs": [
    {
     "data": {
      "text/html": [
       "<div>\n",
       "<style scoped>\n",
       "    .dataframe tbody tr th:only-of-type {\n",
       "        vertical-align: middle;\n",
       "    }\n",
       "\n",
       "    .dataframe tbody tr th {\n",
       "        vertical-align: top;\n",
       "    }\n",
       "\n",
       "    .dataframe thead th {\n",
       "        text-align: right;\n",
       "    }\n",
       "</style>\n",
       "<table border=\"1\" class=\"dataframe\">\n",
       "  <thead>\n",
       "    <tr style=\"text-align: right;\">\n",
       "      <th></th>\n",
       "      <th>intercept</th>\n",
       "      <th>Time</th>\n",
       "    </tr>\n",
       "  </thead>\n",
       "  <tbody>\n",
       "    <tr>\n",
       "      <th>0</th>\n",
       "      <td>1</td>\n",
       "      <td>1</td>\n",
       "    </tr>\n",
       "    <tr>\n",
       "      <th>1</th>\n",
       "      <td>1</td>\n",
       "      <td>2</td>\n",
       "    </tr>\n",
       "    <tr>\n",
       "      <th>2</th>\n",
       "      <td>1</td>\n",
       "      <td>3</td>\n",
       "    </tr>\n",
       "    <tr>\n",
       "      <th>3</th>\n",
       "      <td>1</td>\n",
       "      <td>4</td>\n",
       "    </tr>\n",
       "    <tr>\n",
       "      <th>4</th>\n",
       "      <td>1</td>\n",
       "      <td>5</td>\n",
       "    </tr>\n",
       "  </tbody>\n",
       "</table>\n",
       "</div>"
      ],
      "text/plain": [
       "   intercept  Time\n",
       "0          1     1\n",
       "1          1     2\n",
       "2          1     3\n",
       "3          1     4\n",
       "4          1     5"
      ]
     },
     "execution_count": 57,
     "metadata": {},
     "output_type": "execute_result"
    }
   ],
   "source": [
    "x.head()"
   ]
  },
  {
   "cell_type": "code",
   "execution_count": 58,
   "metadata": {},
   "outputs": [
    {
     "data": {
      "text/plain": [
       "(861, 2)"
      ]
     },
     "execution_count": 58,
     "metadata": {},
     "output_type": "execute_result"
    }
   ],
   "source": [
    "x.shape"
   ]
  },
  {
   "cell_type": "code",
   "execution_count": 59,
   "metadata": {},
   "outputs": [
    {
     "data": {
      "text/plain": [
       "(861, 72)"
      ]
     },
     "execution_count": 59,
     "metadata": {},
     "output_type": "execute_result"
    }
   ],
   "source": [
    "Z.shape"
   ]
  },
  {
   "cell_type": "code",
   "execution_count": 60,
   "metadata": {},
   "outputs": [
    {
     "data": {
      "text/plain": [
       "(861, 1)"
      ]
     },
     "execution_count": 60,
     "metadata": {},
     "output_type": "execute_result"
    }
   ],
   "source": [
    "y.values.reshape(-1, 1).shape"
   ]
  },
  {
   "cell_type": "code",
   "execution_count": 61,
   "metadata": {},
   "outputs": [
    {
     "data": {
      "text/plain": [
       "0      0\n",
       "1      0\n",
       "2      0\n",
       "3      1\n",
       "4      1\n",
       "      ..\n",
       "856    1\n",
       "857    1\n",
       "858    1\n",
       "859    1\n",
       "860    1\n",
       "Name: Weight_bin, Length: 861, dtype: int64"
      ]
     },
     "execution_count": 61,
     "metadata": {},
     "output_type": "execute_result"
    }
   ],
   "source": [
    "data[target] "
   ]
  },
  {
   "cell_type": "code",
   "execution_count": 62,
   "metadata": {},
   "outputs": [],
   "source": [
    "z_list = list()\n",
    "for cluster_group in u:\n",
    "    tmp = data.loc[data[grouping_var]==cluster_group, random_slope]\n",
    "#     print(cluster_group)\n",
    "\n",
    "#     np.pad(tmp, (tmp.index.tolist()[0], data[clusters].shape[0] - tmp.index.tolist()[-1]+1))\n",
    "    \n",
    "    z_list.append(np.pad(tmp, (tmp.index.tolist()[0], data[grouping_var].shape[0] - tmp.index.tolist()[-1]+1)))"
   ]
  },
  {
   "cell_type": "code",
   "execution_count": 63,
   "metadata": {},
   "outputs": [
    {
     "data": {
      "text/plain": [
       "(863,)"
      ]
     },
     "execution_count": 63,
     "metadata": {},
     "output_type": "execute_result"
    }
   ],
   "source": [
    "z_list[1].shape"
   ]
  },
  {
   "cell_type": "code",
   "execution_count": 64,
   "metadata": {},
   "outputs": [],
   "source": [
    "possible_Z_slope_df = pd.DataFrame(np.vstack(z_list).T)[0: 861]#.head(50)"
   ]
  },
  {
   "cell_type": "code",
   "execution_count": 65,
   "metadata": {},
   "outputs": [
    {
     "data": {
      "text/plain": [
       "array([[1, 0, 0, ..., 0, 0, 0],\n",
       "       [1, 0, 0, ..., 0, 0, 0],\n",
       "       [1, 0, 0, ..., 0, 0, 0],\n",
       "       ...,\n",
       "       [0, 0, 0, ..., 0, 0, 1],\n",
       "       [0, 0, 0, ..., 0, 0, 1],\n",
       "       [0, 0, 0, ..., 0, 0, 1]])"
      ]
     },
     "execution_count": 65,
     "metadata": {},
     "output_type": "execute_result"
    }
   ],
   "source": [
    "Z"
   ]
  },
  {
   "cell_type": "code",
   "execution_count": 66,
   "metadata": {},
   "outputs": [
    {
     "data": {
      "image/png": "[encoded data removed]",
      "text/plain": [
       "<Figure size 1080x720 with 2 Axes>"
      ]
     },
     "metadata": {
      "needs_background": "light"
     },
     "output_type": "display_data"
    }
   ],
   "source": [
    "_ = plt.figure(figsize=(15, 10))\n",
    "_ = sns.heatmap(possible_Z_slope_df)"
   ]
  },
  {
   "cell_type": "code",
   "execution_count": 67,
   "metadata": {},
   "outputs": [
    {
     "data": {
      "text/plain": [
       "(861, 72)"
      ]
     },
     "execution_count": 67,
     "metadata": {},
     "output_type": "execute_result"
    }
   ],
   "source": [
    "Z.shape"
   ]
  },
  {
   "cell_type": "code",
   "execution_count": 68,
   "metadata": {},
   "outputs": [
    {
     "data": {
      "text/plain": [
       "(861, 72)"
      ]
     },
     "execution_count": 68,
     "metadata": {},
     "output_type": "execute_result"
    }
   ],
   "source": [
    "possible_Z_slope_df.values.shape"
   ]
  },
  {
   "cell_type": "code",
   "execution_count": 69,
   "metadata": {},
   "outputs": [],
   "source": [
    "def sigmoid(z):\n",
    "    # Note it might be necessary to replace the np.exp with casadi version\n",
    "    \"\"\"\n",
    "    Compute the sigmoid of z\n",
    "\n",
    "    Arguments:\n",
    "    z -- A scalar or numpy array of any size.\n",
    "\n",
    "    Return:\n",
    "    s -- sigmoid(z)\n",
    "    \"\"\"\n",
    "    s = 1 / (1 + ca.exp(-z))\n",
    "    return s"
   ]
  },
  {
   "cell_type": "code",
   "execution_count": 70,
   "metadata": {},
   "outputs": [],
   "source": [
    "# ntheta = x.shape[1]\n",
    "ntheta_fixed = 2 #(intercept, time,)\n",
    "ntheta_random = 72 #(amount of pigs groups)\n",
    "theta_fixed = ca.SX.sym(\"theta_fixed\", ntheta_fixed)\n",
    "# theta_random = ca.SX.sym(\"theta_random\", ntheta_random)\n",
    "theta_random = ca.SX.sym(\"theta_random\", ntheta_random*2) # *2 because of random slope of time\n",
    "\n",
    "alpha=1\n",
    "\n",
    "model_method = \"ols\""
   ]
  },
  {
   "cell_type": "code",
   "execution_count": 71,
   "metadata": {},
   "outputs": [],
   "source": [
    "# model_lmm = ca.mtimes(x.values, theta_fixed) + ca.mtimes(Z, theta_random)"
   ]
  },
  {
   "cell_type": "code",
   "execution_count": 72,
   "metadata": {},
   "outputs": [],
   "source": [
    "# model_fixed = ca.mtimes(x.values, theta_fixed) + ca.mtimes(Z_random_intercept, theta_random) + ca.mtimes(Z_random_slope, theta_random)"
   ]
  },
  {
   "cell_type": "code",
   "execution_count": 73,
   "metadata": {},
   "outputs": [
    {
     "data": {
      "text/plain": [
       "(72, 1)"
      ]
     },
     "execution_count": 73,
     "metadata": {},
     "output_type": "execute_result"
    }
   ],
   "source": [
    "theta_random[0:ntheta_random].shape"
   ]
  },
  {
   "cell_type": "code",
   "execution_count": 74,
   "metadata": {},
   "outputs": [
    {
     "data": {
      "text/plain": [
       "(72, 1)"
      ]
     },
     "execution_count": 74,
     "metadata": {},
     "output_type": "execute_result"
    }
   ],
   "source": [
    "theta_random[ntheta_random:].shape"
   ]
  },
  {
   "cell_type": "code",
   "execution_count": 75,
   "metadata": {},
   "outputs": [],
   "source": [
    "model_lmm = ca.mtimes(x.values, theta_fixed) + ca.mtimes(Z, theta_random[0:ntheta_random]) + ca.mtimes(possible_Z_slope_df.values, theta_random[ntheta_random:])"
   ]
  },
  {
   "cell_type": "code",
   "execution_count": 76,
   "metadata": {},
   "outputs": [],
   "source": [
    "(N, ntheta) = x.shape"
   ]
  },
  {
   "cell_type": "code",
   "execution_count": 77,
   "metadata": {},
   "outputs": [],
   "source": [
    "A = sigmoid(model_lmm)  # compute activation\n",
    "\n",
    "# might be 1 / 2*N\n",
    "cost = -1 / N * ca.sum1(y.values * ca.log(A) + (1 - y.values) * ca.log(1 - A))"
   ]
  },
  {
   "cell_type": "code",
   "execution_count": 78,
   "metadata": {},
   "outputs": [],
   "source": [
    "# create optimization problem (x: optimization parameter, f: cost function)\n",
    "nlp = {\"x\": ca.vertcat(theta_fixed, theta_random), \"f\": cost, }\n",
    "\n",
    "# solve opt\n",
    "solver = ca.nlpsol(\"ols\", \"ipopt\", nlp)"
   ]
  },
  {
   "cell_type": "code",
   "execution_count": 79,
   "metadata": {},
   "outputs": [
    {
     "data": {
      "text/plain": [
       "74"
      ]
     },
     "execution_count": 79,
     "metadata": {},
     "output_type": "execute_result"
    }
   ],
   "source": [
    "len(np.zeros(ntheta_fixed + ntheta_random))"
   ]
  },
  {
   "cell_type": "code",
   "execution_count": 80,
   "metadata": {},
   "outputs": [
    {
     "name": "stdout",
     "output_type": "stream",
     "text": [
      "\n",
      "******************************************************************************\n",
      "This program contains Ipopt, a library for large-scale nonlinear optimization.\n",
      " Ipopt is released as open source code under the Eclipse Public License (EPL).\n",
      "         For more information visit https://github.com/coin-or/Ipopt\n",
      "******************************************************************************\n",
      "\n",
      "This is Ipopt version 3.14.2, running with linear solver MUMPS 5.2.1.\n",
      "\n",
      "Number of nonzeros in equality constraint Jacobian...:        0\n",
      "Number of nonzeros in inequality constraint Jacobian.:        0\n",
      "Number of nonzeros in Lagrangian Hessian.............:      507\n",
      "\n",
      "Total number of variables............................:      146\n",
      "                     variables with only lower bounds:        0\n",
      "                variables with lower and upper bounds:        0\n",
      "                     variables with only upper bounds:        0\n",
      "Total number of equality constraints.................:        0\n",
      "Total number of inequality constraints...............:        0\n",
      "        inequality constraints with only lower bounds:        0\n",
      "   inequality constraints with lower and upper bounds:        0\n",
      "        inequality constraints with only upper bounds:        0\n",
      "\n",
      "iter    objective    inf_pr   inf_du lg(mu)  ||d||  lg(rg) alpha_du alpha_pr  ls\n",
      "   0  6.9314718e-01 0.00e+00 2.63e+00  -1.0 0.00e+00    -  0.00e+00 0.00e+00   0\n",
      "   1  2.9000749e-01 0.00e+00 7.73e-01  -1.0 1.95e+00  -4.0 1.00e+00 1.00e+00f  1\n",
      "   2  1.8139255e-01 0.00e+00 3.36e-01  -1.7 1.25e+00  -4.5 1.00e+00 1.00e+00f  1\n",
      "   3  1.1593633e-01 0.00e+00 1.53e-01  -1.7 1.63e+00  -5.0 1.00e+00 1.00e+00f  1\n",
      "   4  7.1550097e-02 0.00e+00 6.90e-02  -2.5 5.33e+00    -  1.00e+00 1.00e+00f  1\n",
      "   5  4.0598232e-02 0.00e+00 3.02e-02  -2.5 3.61e+00  -5.4 1.00e+00 1.00e+00f  1\n",
      "   6  1.8670945e-02 0.00e+00 1.23e-02  -2.5 1.14e+01    -  1.00e+00 1.00e+00f  1\n",
      "   7  7.1022793e-03 0.00e+00 4.53e-03  -3.8 7.11e+00  -5.9 1.00e+00 1.00e+00f  1\n",
      "   8  2.6117561e-03 0.00e+00 1.64e-03  -3.8 7.31e+00  -6.4 1.00e+00 1.00e+00f  1\n",
      "   9  9.6783341e-04 0.00e+00 6.00e-04  -3.8 7.25e+00  -6.9 1.00e+00 1.00e+00f  1\n",
      "iter    objective    inf_pr   inf_du lg(mu)  ||d||  lg(rg) alpha_du alpha_pr  ls\n",
      "  10  3.6011939e-04 0.00e+00 2.20e-04  -5.7 7.22e+00  -7.3 1.00e+00 1.00e+00f  1\n",
      "  11  1.3411891e-04 0.00e+00 8.09e-05  -5.7 7.23e+00  -7.8 1.00e+00 1.00e+00f  1\n",
      "  12  4.9311446e-05 0.00e+00 2.97e-05  -5.7 5.42e+01    -  1.00e+00 1.00e+00f  1\n",
      "  13  1.8685577e-05 0.00e+00 1.09e-05  -5.7 7.09e+00  -8.3 1.00e+00 1.00e+00f  1\n",
      "  14  7.0625716e-06 0.00e+00 4.01e-06  -8.6 7.15e+00  -8.8 1.00e+00 1.00e+00f  1\n",
      "  15  2.5980899e-06 0.00e+00 1.48e-06  -8.6 6.62e+01    -  1.00e+00 1.00e+00f  1\n",
      "  16  1.0091467e-06 0.00e+00 5.41e-07  -8.6 7.02e+00  -9.2 1.00e+00 1.00e+00f  1\n",
      "  17  3.8993565e-07 0.00e+00 1.98e-07  -8.6 7.14e+00  -9.7 1.00e+00 1.00e+00f  1\n",
      "  18  1.4344899e-07 0.00e+00 7.29e-08  -8.6 1.16e+01    -  1.00e+00 1.00e+00f  1\n",
      "  19  5.7620478e-08 0.00e+00 2.66e-08  -8.6 7.07e+00 -10.2 1.00e+00 1.00e+00f  1\n",
      "iter    objective    inf_pr   inf_du lg(mu)  ||d||  lg(rg) alpha_du alpha_pr  ls\n",
      "  20  2.2869047e-08 0.00e+00 9.69e-09  -8.6 7.32e+00 -10.7 1.00e+00 1.00e+00f  1\n",
      "\n",
      "Number of Iterations....: 20\n",
      "\n",
      "                                   (scaled)                 (unscaled)\n",
      "Objective...............:   2.2869046637201064e-08    2.2869046637201064e-08\n",
      "Dual infeasibility......:   9.6948455782106454e-09    9.6948455782106454e-09\n",
      "Constraint violation....:   0.0000000000000000e+00    0.0000000000000000e+00\n",
      "Variable bound violation:   0.0000000000000000e+00    0.0000000000000000e+00\n",
      "Complementarity.........:   0.0000000000000000e+00    0.0000000000000000e+00\n",
      "Overall NLP error.......:   9.6948455782106454e-09    9.6948455782106454e-09\n",
      "\n",
      "\n",
      "Number of objective function evaluations             = 21\n",
      "Number of objective gradient evaluations             = 21\n",
      "Number of equality constraint evaluations            = 0\n",
      "Number of inequality constraint evaluations          = 0\n",
      "Number of equality constraint Jacobian evaluations   = 0\n",
      "Number of inequality constraint Jacobian evaluations = 0\n",
      "Number of Lagrangian Hessian evaluations             = 20\n",
      "Total seconds in IPOPT                               = 0.024\n",
      "\n",
      "EXIT: Optimal Solution Found.\n",
      "         ols  :   t_proc      (avg)   t_wall      (avg)    n_eval\n",
      "       nlp_f  | 815.00us ( 38.81us) 785.73us ( 37.42us)        21\n",
      "  nlp_grad_f  |   1.25ms ( 56.68us)   1.25ms ( 56.82us)        22\n",
      "  nlp_hess_l  |   2.82ms (140.80us)   2.82ms (141.00us)        20\n",
      "       total  |  25.71ms ( 25.71ms)  24.69ms ( 24.69ms)         1\n"
     ]
    }
   ],
   "source": [
    "sol = solver(x0=np.zeros(ntheta_fixed + ntheta_random * 2))"
   ]
  },
  {
   "cell_type": "code",
   "execution_count": 81,
   "metadata": {},
   "outputs": [],
   "source": [
    "# create residual\n",
    "# e = y.values.reshape(-1, 1) - model_lmm"
   ]
  },
  {
   "cell_type": "code",
   "execution_count": 82,
   "metadata": {},
   "outputs": [],
   "source": [
    "# ca.vertcat([ntheta_fixed, ntheta_random])\n",
    "# ca.vertcat(theta_fixed, theta_random)"
   ]
  },
  {
   "cell_type": "code",
   "execution_count": 83,
   "metadata": {},
   "outputs": [],
   "source": [
    "# # # create residual\n",
    "# # e = y - ca.mtimes(x, theta)\n",
    "\n",
    "\n",
    "# if model_method == \"ols\":\n",
    "#     # create optimization problem (x: optimization parameter, f: cost function)\n",
    "#     nlp = {\"x\": ca.vertcat(theta_fixed, theta_random), \"f\": 0.5 * ca.dot(e, e), }\n",
    "\n",
    "# elif model_method == \"lasso\":\n",
    "#     # CASE with regularization in cost function (LASSO)\n",
    "#     nlp = {\"x\": ca.vertcat(theta_fixed, theta_random), \"f\": 0.5*ca.dot(e, e) + 0.5*alpha*ca.sum1(ca.fabs(theta_fixed))}\n",
    "\n",
    "# else:\n",
    "#     # CASE with regularization in cost function (RIDGE)\n",
    "#     nlp = {\"x\": ca.vertcat(theta_fixed, theta_random), \"f\": 0.5*ca.dot(e, e) + 0.5*alpha*ca.dot(theta_fixed, theta_fixed)}\n",
    "\n",
    "# # solve opt\n",
    "# solver = ca.nlpsol(\"ols\", \"ipopt\", nlp)\n",
    "# # sol = solver(x0=np.zeros(ntheta_fixed + ntheta_random))\n",
    "# sol = solver(x0=np.zeros(ntheta_fixed + ntheta_random*2))"
   ]
  },
  {
   "cell_type": "code",
   "execution_count": 84,
   "metadata": {},
   "outputs": [
    {
     "name": "stdout",
     "output_type": "stream",
     "text": [
      "\n",
      "theta comparison:\n",
      " [-6.4871637   1.75970998 -1.38105148 -0.04190854  0.01136809]\n",
      "theta est: [-104.091, 8.07707, -9.89085, -9.89085, -9.89085, 17.9443, 17.9443, -9.89085, 17.9443, -58.888, -9.89085, -35.221, -81.4441, -9.89085, -9.89085, -35.221, -9.89085, -9.89085, 17.9443, 17.9443, -9.89085, -9.89085, -81.4441, -35.221, -58.888, 17.9443, 17.9443, -36.5007, -11.7027, -11.7027, 17.9443, -9.89085, -9.89085, -35.221, -35.221, -9.89085, -35.221, -35.221, -35.221, -9.89085, 17.9443, -9.89085, -9.89085, -9.89085, -9.89085, -9.89085, -9.89085, -35.221, -9.89085, 49.1868, -35.221, 17.9443, -9.89085, -9.89085, -9.89085, -35.221, 17.9443, 17.9443, -9.89085, -35.221, -35.221, -9.89085, -81.4441, -9.89085, 49.1868, -9.89085, -58.888, -58.888, -9.89085, -9.89085, -9.89085, -9.89085, -9.89085, -35.221, 24.471, 24.471, 24.471, 26.1489, 26.1489, 24.471, 26.1489, 21.5694, 24.471, 22.8942, 20.4779, 24.471, 24.471, 22.8942, 24.471, 24.471, 26.1489, 26.1489, 24.471, 24.471, 20.4779, 22.8942, 21.5694, 26.1489, 26.1489, 23.1805, 24.9886, 24.9886, 26.1489, 24.471, 24.471, 22.8942, 22.8942, 24.471, 22.8942, 22.8942, 22.8942, 24.471, 26.1489, 24.471, 24.471, 24.471, 24.471, 24.471, 24.471, 22.8942, 24.471, 27.3835, 22.8942, 26.1489, 24.471, 24.471, 24.471, 22.8942, 26.1489, 26.1489, 24.471, 22.8942, 22.8942, 24.471, 20.4779, 24.471, 27.3835, 24.471, 21.5694, 21.5694, 24.471, 24.471, 24.471, 24.471, 24.471, 22.8942]\n"
     ]
    }
   ],
   "source": [
    "theta_est = sol[\"x\"]\n",
    "\n",
    "# print(f\"theta true: {coef}\")\n",
    "print(f\"\\ntheta comparison:\\n {mdf.params}\")\n",
    "print(f\"theta est: {theta_est}\")"
   ]
  },
  {
   "cell_type": "code",
   "execution_count": 85,
   "metadata": {},
   "outputs": [
    {
     "data": {
      "text/plain": [
       "array([-104.09059725,    8.07707179,   -9.89085033,   -9.89085033,\n",
       "         -9.89085033,   17.94430125,   17.94430125,   -9.89085033,\n",
       "         17.94430125,  -58.88795142,   -9.89085033,  -35.22101103,\n",
       "        -81.44408429,   -9.89085033,   -9.89085033,  -35.22101103,\n",
       "         -9.89085033,   -9.89085033,   17.94430125,   17.94430125,\n",
       "         -9.89085033,   -9.89085033,  -81.44408429,  -35.22101103,\n",
       "        -58.88795142,   17.94430125,   17.94430125,  -36.50069154,\n",
       "        -11.70267538,  -11.70267538,   17.94430125,   -9.89085033,\n",
       "         -9.89085033,  -35.22101103,  -35.22101103,   -9.89085033,\n",
       "        -35.22101103,  -35.22101103,  -35.22101103,   -9.89085033,\n",
       "         17.94430125,   -9.89085033,   -9.89085033,   -9.89085033,\n",
       "         -9.89085033,   -9.89085033,   -9.89085033,  -35.22101103,\n",
       "         -9.89085033,   49.18683219,  -35.22101103,   17.94430125,\n",
       "         -9.89085033,   -9.89085033,   -9.89085033,  -35.22101103,\n",
       "         17.94430125,   17.94430125,   -9.89085033,  -35.22101103,\n",
       "        -35.22101103,   -9.89085033,  -81.44408429,   -9.89085033,\n",
       "         49.18683219,   -9.89085033,  -58.88795142,  -58.88795142,\n",
       "         -9.89085033,   -9.89085033,   -9.89085033,   -9.89085033,\n",
       "         -9.89085033,  -35.22101103,   24.47099315,   24.47099315,\n",
       "         24.47099315,   26.14892527,   26.14892527,   24.47099315,\n",
       "         26.14892527,   21.56935683,   24.47099315,   22.89424926,\n",
       "         20.477905  ,   24.47099315,   24.47099315,   22.89424926,\n",
       "         24.47099315,   24.47099315,   26.14892527,   26.14892527,\n",
       "         24.47099315,   24.47099315,   20.477905  ,   22.89424926,\n",
       "         21.56935683,   26.14892527,   26.14892527,   23.18047372,\n",
       "         24.98855294,   24.98855294,   26.14892527,   24.47099315,\n",
       "         24.47099315,   22.89424926,   22.89424926,   24.47099315,\n",
       "         22.89424926,   22.89424926,   22.89424926,   24.47099315,\n",
       "         26.14892527,   24.47099315,   24.47099315,   24.47099315,\n",
       "         24.47099315,   24.47099315,   24.47099315,   22.89424926,\n",
       "         24.47099315,   27.38345167,   22.89424926,   26.14892527,\n",
       "         24.47099315,   24.47099315,   24.47099315,   22.89424926,\n",
       "         26.14892527,   26.14892527,   24.47099315,   22.89424926,\n",
       "         22.89424926,   24.47099315,   20.477905  ,   24.47099315,\n",
       "         27.38345167,   24.47099315,   21.56935683,   21.56935683,\n",
       "         24.47099315,   24.47099315,   24.47099315,   24.47099315,\n",
       "         24.47099315,   22.89424926])"
      ]
     },
     "execution_count": 85,
     "metadata": {},
     "output_type": "execute_result"
    }
   ],
   "source": [
    "results = flatten(theta_est.toarray().tolist())\n",
    "np.array(results)"
   ]
  },
  {
   "cell_type": "code",
   "execution_count": 86,
   "metadata": {},
   "outputs": [
    {
     "data": {
      "text/plain": [
       "(-104.09059725126659, 8.077071790848791)"
      ]
     },
     "execution_count": 86,
     "metadata": {},
     "output_type": "execute_result"
    }
   ],
   "source": [
    "intercept = results[0]\n",
    "coefs = results[1]\n",
    "intercept, coefs"
   ]
  },
  {
   "cell_type": "code",
   "execution_count": 87,
   "metadata": {},
   "outputs": [
    {
     "data": {
      "text/plain": [
       "array([-113.98144758, -113.98144758, -113.98144758,  -86.146296  ,\n",
       "        -86.146296  , -113.98144758,  -86.146296  , -162.97854867,\n",
       "       -113.98144758, -139.31160829, -185.53468154, -113.98144758,\n",
       "       -113.98144758, -139.31160829, -113.98144758, -113.98144758,\n",
       "        -86.146296  ,  -86.146296  , -113.98144758, -113.98144758,\n",
       "       -185.53468154, -139.31160829, -162.97854867,  -86.146296  ,\n",
       "        -86.146296  , -140.59128879, -115.79327263, -115.79327263,\n",
       "        -86.146296  , -113.98144758, -113.98144758, -139.31160829,\n",
       "       -139.31160829, -113.98144758, -139.31160829, -139.31160829,\n",
       "       -139.31160829, -113.98144758,  -86.146296  , -113.98144758,\n",
       "       -113.98144758, -113.98144758, -113.98144758, -113.98144758,\n",
       "       -113.98144758, -139.31160829, -113.98144758,  -54.90376506,\n",
       "       -139.31160829,  -86.146296  , -113.98144758, -113.98144758,\n",
       "       -113.98144758, -139.31160829,  -86.146296  ,  -86.146296  ,\n",
       "       -113.98144758, -139.31160829, -139.31160829, -113.98144758,\n",
       "       -185.53468154, -113.98144758,  -54.90376506, -113.98144758,\n",
       "       -162.97854867, -162.97854867, -113.98144758, -113.98144758,\n",
       "       -113.98144758, -113.98144758, -113.98144758, -139.31160829])"
      ]
     },
     "execution_count": 87,
     "metadata": {},
     "output_type": "execute_result"
    }
   ],
   "source": [
    "np.array(results[2:ntheta_random+2]) + results[0]"
   ]
  },
  {
   "cell_type": "code",
   "execution_count": 88,
   "metadata": {},
   "outputs": [
    {
     "data": {
      "text/html": [
       "<div>\n",
       "<style scoped>\n",
       "    .dataframe tbody tr th:only-of-type {\n",
       "        vertical-align: middle;\n",
       "    }\n",
       "\n",
       "    .dataframe tbody tr th {\n",
       "        vertical-align: top;\n",
       "    }\n",
       "\n",
       "    .dataframe thead th {\n",
       "        text-align: right;\n",
       "    }\n",
       "</style>\n",
       "<table border=\"1\" class=\"dataframe\">\n",
       "  <thead>\n",
       "    <tr style=\"text-align: right;\">\n",
       "      <th></th>\n",
       "      <th>(Intercept)</th>\n",
       "      <th>Time</th>\n",
       "    </tr>\n",
       "  </thead>\n",
       "  <tbody>\n",
       "    <tr>\n",
       "      <th>4601</th>\n",
       "      <td>-113.981</td>\n",
       "      <td>24.471</td>\n",
       "    </tr>\n",
       "    <tr>\n",
       "      <th>4602</th>\n",
       "      <td>-113.981</td>\n",
       "      <td>24.471</td>\n",
       "    </tr>\n",
       "    <tr>\n",
       "      <th>4603</th>\n",
       "      <td>-113.981</td>\n",
       "      <td>24.471</td>\n",
       "    </tr>\n",
       "    <tr>\n",
       "      <th>4605</th>\n",
       "      <td>-86.146</td>\n",
       "      <td>26.149</td>\n",
       "    </tr>\n",
       "    <tr>\n",
       "      <th>4641</th>\n",
       "      <td>-86.146</td>\n",
       "      <td>26.149</td>\n",
       "    </tr>\n",
       "    <tr>\n",
       "      <th>...</th>\n",
       "      <td>...</td>\n",
       "      <td>...</td>\n",
       "    </tr>\n",
       "    <tr>\n",
       "      <th>8271</th>\n",
       "      <td>-113.981</td>\n",
       "      <td>24.471</td>\n",
       "    </tr>\n",
       "    <tr>\n",
       "      <th>8273</th>\n",
       "      <td>-113.981</td>\n",
       "      <td>24.471</td>\n",
       "    </tr>\n",
       "    <tr>\n",
       "      <th>8437</th>\n",
       "      <td>-113.981</td>\n",
       "      <td>24.471</td>\n",
       "    </tr>\n",
       "    <tr>\n",
       "      <th>8439</th>\n",
       "      <td>-113.981</td>\n",
       "      <td>24.471</td>\n",
       "    </tr>\n",
       "    <tr>\n",
       "      <th>8442</th>\n",
       "      <td>-139.312</td>\n",
       "      <td>22.894</td>\n",
       "    </tr>\n",
       "  </tbody>\n",
       "</table>\n",
       "<p>72 rows × 2 columns</p>\n",
       "</div>"
      ],
      "text/plain": [
       "      (Intercept)   Time\n",
       "4601     -113.981 24.471\n",
       "4602     -113.981 24.471\n",
       "4603     -113.981 24.471\n",
       "4605      -86.146 26.149\n",
       "4641      -86.146 26.149\n",
       "...           ...    ...\n",
       "8271     -113.981 24.471\n",
       "8273     -113.981 24.471\n",
       "8437     -113.981 24.471\n",
       "8439     -113.981 24.471\n",
       "8442     -139.312 22.894\n",
       "\n",
       "[72 rows x 2 columns]"
      ]
     },
     "execution_count": 88,
     "metadata": {},
     "output_type": "execute_result"
    }
   ],
   "source": [
    "ca_fixef = pd.DataFrame({\"(Intercept)\": np.array(results[2:ntheta_random+2]) + results[0],\n",
    "              \"Time\": results[ntheta_random+2:]},\n",
    "                       index=flatten(data[[grouping_var]].groupby(grouping_var).head(1).values.tolist()))\n",
    "ca_fixef"
   ]
  },
  {
   "cell_type": "code",
   "execution_count": 89,
   "metadata": {},
   "outputs": [
    {
     "data": {
      "text/html": [
       "<div>\n",
       "<style scoped>\n",
       "    .dataframe tbody tr th:only-of-type {\n",
       "        vertical-align: middle;\n",
       "    }\n",
       "\n",
       "    .dataframe tbody tr th {\n",
       "        vertical-align: top;\n",
       "    }\n",
       "\n",
       "    .dataframe thead th {\n",
       "        text-align: right;\n",
       "    }\n",
       "</style>\n",
       "<table border=\"1\" class=\"dataframe\">\n",
       "  <thead>\n",
       "    <tr style=\"text-align: right;\">\n",
       "      <th></th>\n",
       "      <th>(Intercept)</th>\n",
       "      <th>Time</th>\n",
       "    </tr>\n",
       "  </thead>\n",
       "  <tbody>\n",
       "    <tr>\n",
       "      <th>4601</th>\n",
       "      <td>-83.088</td>\n",
       "      <td>23.750</td>\n",
       "    </tr>\n",
       "    <tr>\n",
       "      <th>4602</th>\n",
       "      <td>-83.088</td>\n",
       "      <td>23.750</td>\n",
       "    </tr>\n",
       "    <tr>\n",
       "      <th>4603</th>\n",
       "      <td>-83.088</td>\n",
       "      <td>23.750</td>\n",
       "    </tr>\n",
       "    <tr>\n",
       "      <th>4605</th>\n",
       "      <td>-73.725</td>\n",
       "      <td>26.433</td>\n",
       "    </tr>\n",
       "    <tr>\n",
       "      <th>4641</th>\n",
       "      <td>-73.725</td>\n",
       "      <td>26.433</td>\n",
       "    </tr>\n",
       "    <tr>\n",
       "      <th>...</th>\n",
       "      <td>...</td>\n",
       "      <td>...</td>\n",
       "    </tr>\n",
       "    <tr>\n",
       "      <th>8271</th>\n",
       "      <td>-83.088</td>\n",
       "      <td>23.750</td>\n",
       "    </tr>\n",
       "    <tr>\n",
       "      <th>8273</th>\n",
       "      <td>-83.088</td>\n",
       "      <td>23.750</td>\n",
       "    </tr>\n",
       "    <tr>\n",
       "      <th>8437</th>\n",
       "      <td>-83.088</td>\n",
       "      <td>23.750</td>\n",
       "    </tr>\n",
       "    <tr>\n",
       "      <th>8439</th>\n",
       "      <td>-83.088</td>\n",
       "      <td>23.750</td>\n",
       "    </tr>\n",
       "    <tr>\n",
       "      <th>8442</th>\n",
       "      <td>-90.112</td>\n",
       "      <td>21.062</td>\n",
       "    </tr>\n",
       "  </tbody>\n",
       "</table>\n",
       "<p>72 rows × 2 columns</p>\n",
       "</div>"
      ],
      "text/plain": [
       "      (Intercept)   Time\n",
       "4601      -83.088 23.750\n",
       "4602      -83.088 23.750\n",
       "4603      -83.088 23.750\n",
       "4605      -73.725 26.433\n",
       "4641      -73.725 26.433\n",
       "...           ...    ...\n",
       "8271      -83.088 23.750\n",
       "8273      -83.088 23.750\n",
       "8437      -83.088 23.750\n",
       "8439      -83.088 23.750\n",
       "8442      -90.112 21.062\n",
       "\n",
       "[72 rows x 2 columns]"
      ]
     },
     "execution_count": 89,
     "metadata": {},
     "output_type": "execute_result"
    }
   ],
   "source": [
    "mdp.fixef"
   ]
  },
  {
   "cell_type": "code",
   "execution_count": 90,
   "metadata": {},
   "outputs": [
    {
     "data": {
      "text/html": [
       "<table class=\"simpletable\">\n",
       "<tr>\n",
       "      <td></td>      <th>Type</th> <th>Post. Mean</th> <th>Post. SD</th>  <th>SD</th>   <th>SD (LB)</th> <th>SD (UB)</th>\n",
       "</tr>\n",
       "<tr>\n",
       "  <th>Intercept</th>   <td>M</td>    <td>-6.4872</td>   <td>0.1558</td>    <td></td>       <td></td>        <td></td>    \n",
       "</tr>\n",
       "<tr>\n",
       "  <th>Time</th>        <td>M</td>    <td>1.7597</td>    <td>0.0406</td>    <td></td>       <td></td>        <td></td>    \n",
       "</tr>\n",
       "<tr>\n",
       "  <th>a</th>           <td>V</td>    <td>-1.3811</td>   <td>0.6685</td>  <td>0.251</td>  <td>0.066</td>   <td>0.957</td> \n",
       "</tr>\n",
       "</table>"
      ],
      "text/plain": [
       "<class 'statsmodels.iolib.summary2.Summary'>\n",
       "\"\"\"\n",
       "               Binomial Mixed GLM Results\n",
       "========================================================\n",
       "          Type Post. Mean Post. SD   SD  SD (LB) SD (UB)\n",
       "--------------------------------------------------------\n",
       "Intercept    M    -6.4872   0.1558                      \n",
       "Time         M     1.7597   0.0406                      \n",
       "a            V    -1.3811   0.6685 0.251   0.066   0.957\n",
       "========================================================\n",
       "Parameter types are mean structure (M) and variance\n",
       "structure (V)\n",
       "Variance parameters are modeled as log standard\n",
       "deviations\n",
       "\"\"\""
      ]
     },
     "execution_count": 90,
     "metadata": {},
     "output_type": "execute_result"
    }
   ],
   "source": [
    "mdf.summary()"
   ]
  },
  {
   "cell_type": "code",
   "execution_count": 91,
   "metadata": {},
   "outputs": [
    {
     "name": "stdout",
     "output_type": "stream",
     "text": [
      "Formula: Weight_bin~Time+(1|Pig)+(0+Time|Pig)\n",
      "\n",
      "Family: binomial\t Inference: parametric\n",
      "\n",
      "Number of observations: 861\t Groups: {'Pig': 72.0}\n",
      "\n",
      "Log-likelihood: -60.561 \t AIC: 129.121\n",
      "\n",
      "Random effects:\n",
      "\n",
      "              Name      Var    Std\n",
      "Pig    (Intercept) 2479.294 49.793\n",
      "Pig.1         Time  237.006 15.395\n",
      "\n",
      "No random effect correlations specified\n",
      "\n",
      "Fixed effects:\n",
      "\n"
     ]
    },
    {
     "data": {
      "text/html": [
       "<div>\n",
       "<style scoped>\n",
       "    .dataframe tbody tr th:only-of-type {\n",
       "        vertical-align: middle;\n",
       "    }\n",
       "\n",
       "    .dataframe tbody tr th {\n",
       "        vertical-align: top;\n",
       "    }\n",
       "\n",
       "    .dataframe thead th {\n",
       "        text-align: right;\n",
       "    }\n",
       "</style>\n",
       "<table border=\"1\" class=\"dataframe\">\n",
       "  <thead>\n",
       "    <tr style=\"text-align: right;\">\n",
       "      <th></th>\n",
       "      <th>Estimate</th>\n",
       "      <th>2.5_ci</th>\n",
       "      <th>97.5_ci</th>\n",
       "      <th>SE</th>\n",
       "      <th>OR</th>\n",
       "      <th>OR_2.5_ci</th>\n",
       "      <th>OR_97.5_ci</th>\n",
       "      <th>Prob</th>\n",
       "      <th>Prob_2.5_ci</th>\n",
       "      <th>Prob_97.5_ci</th>\n",
       "      <th>Z-stat</th>\n",
       "      <th>P-val</th>\n",
       "      <th>Sig</th>\n",
       "    </tr>\n",
       "  </thead>\n",
       "  <tbody>\n",
       "    <tr>\n",
       "      <th>(Intercept)</th>\n",
       "      <td>-83.087</td>\n",
       "      <td>-99.738</td>\n",
       "      <td>-66.436</td>\n",
       "      <td>8.495</td>\n",
       "      <td>0.000</td>\n",
       "      <td>0.000</td>\n",
       "      <td>0.000</td>\n",
       "      <td>0.000</td>\n",
       "      <td>0.000</td>\n",
       "      <td>0.000</td>\n",
       "      <td>-9.780</td>\n",
       "      <td>0.000</td>\n",
       "      <td>***</td>\n",
       "    </tr>\n",
       "    <tr>\n",
       "      <th>Time</th>\n",
       "      <td>23.749</td>\n",
       "      <td>19.024</td>\n",
       "      <td>28.474</td>\n",
       "      <td>2.411</td>\n",
       "      <td>20601052026.702</td>\n",
       "      <td>182740283.940</td>\n",
       "      <td>2322439997661.138</td>\n",
       "      <td>1.000</td>\n",
       "      <td>1.000</td>\n",
       "      <td>1.000</td>\n",
       "      <td>9.851</td>\n",
       "      <td>0.000</td>\n",
       "      <td>***</td>\n",
       "    </tr>\n",
       "  </tbody>\n",
       "</table>\n",
       "</div>"
      ],
      "text/plain": [
       "             Estimate  2.5_ci  97.5_ci    SE              OR     OR_2.5_ci  \\\n",
       "(Intercept)   -83.087 -99.738  -66.436 8.495           0.000         0.000   \n",
       "Time           23.749  19.024   28.474 2.411 20601052026.702 182740283.940   \n",
       "\n",
       "                   OR_97.5_ci  Prob  Prob_2.5_ci  Prob_97.5_ci  Z-stat  P-val  \\\n",
       "(Intercept)             0.000 0.000        0.000         0.000  -9.780  0.000   \n",
       "Time        2322439997661.138 1.000        1.000         1.000   9.851  0.000   \n",
       "\n",
       "             Sig  \n",
       "(Intercept)  ***  \n",
       "Time         ***  "
      ]
     },
     "execution_count": 91,
     "metadata": {},
     "output_type": "execute_result"
    }
   ],
   "source": [
    "mdp.summary()"
   ]
  },
  {
   "cell_type": "code",
   "execution_count": 92,
   "metadata": {},
   "outputs": [
    {
     "data": {
      "text/plain": [
       "861"
      ]
     },
     "execution_count": 92,
     "metadata": {},
     "output_type": "execute_result"
    }
   ],
   "source": [
    "len(Z)"
   ]
  },
  {
   "cell_type": "markdown",
   "metadata": {},
   "source": [
    "<img src=\"https://wikimedia.org/api/rest_v1/media/math/render/svg/e00ba9a8e13237ca374d55bb3070aebd12a5b8e4\" />"
   ]
  },
  {
   "cell_type": "markdown",
   "metadata": {},
   "source": [
    "### `y = XB + Z*u + Z_s*u_s + E`"
   ]
  },
  {
   "cell_type": "code",
   "execution_count": 93,
   "metadata": {},
   "outputs": [
    {
     "data": {
      "text/html": [
       "<div>\n",
       "<style scoped>\n",
       "    .dataframe tbody tr th:only-of-type {\n",
       "        vertical-align: middle;\n",
       "    }\n",
       "\n",
       "    .dataframe tbody tr th {\n",
       "        vertical-align: top;\n",
       "    }\n",
       "\n",
       "    .dataframe thead th {\n",
       "        text-align: right;\n",
       "    }\n",
       "</style>\n",
       "<table border=\"1\" class=\"dataframe\">\n",
       "  <thead>\n",
       "    <tr style=\"text-align: right;\">\n",
       "      <th></th>\n",
       "      <th>intercept</th>\n",
       "      <th>Time</th>\n",
       "    </tr>\n",
       "  </thead>\n",
       "  <tbody>\n",
       "    <tr>\n",
       "      <th>0</th>\n",
       "      <td>1</td>\n",
       "      <td>1</td>\n",
       "    </tr>\n",
       "    <tr>\n",
       "      <th>1</th>\n",
       "      <td>1</td>\n",
       "      <td>2</td>\n",
       "    </tr>\n",
       "    <tr>\n",
       "      <th>2</th>\n",
       "      <td>1</td>\n",
       "      <td>3</td>\n",
       "    </tr>\n",
       "    <tr>\n",
       "      <th>3</th>\n",
       "      <td>1</td>\n",
       "      <td>4</td>\n",
       "    </tr>\n",
       "    <tr>\n",
       "      <th>4</th>\n",
       "      <td>1</td>\n",
       "      <td>5</td>\n",
       "    </tr>\n",
       "    <tr>\n",
       "      <th>...</th>\n",
       "      <td>...</td>\n",
       "      <td>...</td>\n",
       "    </tr>\n",
       "    <tr>\n",
       "      <th>856</th>\n",
       "      <td>1</td>\n",
       "      <td>8</td>\n",
       "    </tr>\n",
       "    <tr>\n",
       "      <th>857</th>\n",
       "      <td>1</td>\n",
       "      <td>9</td>\n",
       "    </tr>\n",
       "    <tr>\n",
       "      <th>858</th>\n",
       "      <td>1</td>\n",
       "      <td>10</td>\n",
       "    </tr>\n",
       "    <tr>\n",
       "      <th>859</th>\n",
       "      <td>1</td>\n",
       "      <td>11</td>\n",
       "    </tr>\n",
       "    <tr>\n",
       "      <th>860</th>\n",
       "      <td>1</td>\n",
       "      <td>12</td>\n",
       "    </tr>\n",
       "  </tbody>\n",
       "</table>\n",
       "<p>861 rows × 2 columns</p>\n",
       "</div>"
      ],
      "text/plain": [
       "     intercept  Time\n",
       "0            1     1\n",
       "1            1     2\n",
       "2            1     3\n",
       "3            1     4\n",
       "4            1     5\n",
       "..         ...   ...\n",
       "856          1     8\n",
       "857          1     9\n",
       "858          1    10\n",
       "859          1    11\n",
       "860          1    12\n",
       "\n",
       "[861 rows x 2 columns]"
      ]
     },
     "execution_count": 93,
     "metadata": {},
     "output_type": "execute_result"
    }
   ],
   "source": [
    "x"
   ]
  },
  {
   "cell_type": "code",
   "execution_count": 94,
   "metadata": {},
   "outputs": [],
   "source": [
    "(N, ntheta) = x.shape"
   ]
  },
  {
   "cell_type": "code",
   "execution_count": 95,
   "metadata": {},
   "outputs": [],
   "source": [
    "theta = ca.SX.sym(\"theta\", ntheta)\n",
    "X_sym = ca.SX.sym(\"X_sym\", (N, ntheta))\n",
    "y_sym = sigmoid(ca.mtimes(X_sym, theta))"
   ]
  },
  {
   "cell_type": "code",
   "execution_count": 96,
   "metadata": {},
   "outputs": [
    {
     "data": {
      "text/plain": [
       "(861, 1)"
      ]
     },
     "execution_count": 96,
     "metadata": {},
     "output_type": "execute_result"
    }
   ],
   "source": [
    "y_sym.shape"
   ]
  },
  {
   "cell_type": "code",
   "execution_count": 97,
   "metadata": {},
   "outputs": [],
   "source": [
    "A = sigmoid(ca.mtimes(x.values, theta))  # compute activation"
   ]
  },
  {
   "cell_type": "code",
   "execution_count": 98,
   "metadata": {},
   "outputs": [],
   "source": [
    "# Note it might be necessary to replace the np.exp with casadi version (might be 1 / 2*N)\n",
    "cost = -1 / N * ca.sum1(y.values * ca.log(A) + (1 - y.values) * ca.log(1 - A))"
   ]
  },
  {
   "cell_type": "code",
   "execution_count": 99,
   "metadata": {},
   "outputs": [],
   "source": [
    "model = ca.Function(\"y_sym\", [X_sym, theta], [y_sym])"
   ]
  },
  {
   "cell_type": "code",
   "execution_count": 100,
   "metadata": {},
   "outputs": [
    {
     "data": {
      "text/plain": [
       "Function(y_sym:(i0[861x2],i1[2])->(o0[861]) SXFunction)"
      ]
     },
     "execution_count": 100,
     "metadata": {},
     "output_type": "execute_result"
    }
   ],
   "source": [
    "model"
   ]
  },
  {
   "cell_type": "code",
   "execution_count": 101,
   "metadata": {},
   "outputs": [
    {
     "data": {
      "text/plain": [
       "(861, 2)"
      ]
     },
     "execution_count": 101,
     "metadata": {},
     "output_type": "execute_result"
    }
   ],
   "source": [
    "x.shape"
   ]
  },
  {
   "cell_type": "code",
   "execution_count": 102,
   "metadata": {},
   "outputs": [
    {
     "data": {
      "text/plain": [
       "(2, 1)"
      ]
     },
     "execution_count": 102,
     "metadata": {},
     "output_type": "execute_result"
    }
   ],
   "source": [
    "theta.shape"
   ]
  },
  {
   "cell_type": "code",
   "execution_count": 103,
   "metadata": {},
   "outputs": [
    {
     "data": {
      "text/plain": [
       "(861, 1)"
      ]
     },
     "execution_count": 103,
     "metadata": {},
     "output_type": "execute_result"
    }
   ],
   "source": [
    "A.shape"
   ]
  },
  {
   "cell_type": "code",
   "execution_count": 104,
   "metadata": {},
   "outputs": [
    {
     "data": {
      "text/plain": [
       "(861,)"
      ]
     },
     "execution_count": 104,
     "metadata": {},
     "output_type": "execute_result"
    }
   ],
   "source": [
    "y.shape"
   ]
  },
  {
   "cell_type": "code",
   "execution_count": 105,
   "metadata": {},
   "outputs": [
    {
     "data": {
      "text/plain": [
       "(1, 1)"
      ]
     },
     "execution_count": 105,
     "metadata": {},
     "output_type": "execute_result"
    }
   ],
   "source": [
    "cost.shape"
   ]
  },
  {
   "cell_type": "code",
   "execution_count": 106,
   "metadata": {},
   "outputs": [],
   "source": [
    "# model(x.values, cost)"
   ]
  },
  {
   "cell_type": "code",
   "execution_count": 107,
   "metadata": {},
   "outputs": [],
   "source": [
    "# fitted_values = np.array(model(x.values, cost))"
   ]
  },
  {
   "cell_type": "markdown",
   "metadata": {
    "tags": []
   },
   "source": [
    "# I am really not sure about this tbh"
   ]
  },
  {
   "cell_type": "code",
   "execution_count": 108,
   "metadata": {},
   "outputs": [],
   "source": [
    "# x.assign(intercept=1).set_index(\"intercept\").reset_index() * results[0:2]\n",
    "# x * results[0]\n",
    "# np.dot(Z, np.repeat(results[1:], repeats=12)[:-3].reshape(1,-1))\n",
    "Zu = np.dot(Z, results[2:ntheta_random+2])\n",
    "Z_s_u_s = np.dot(possible_Z_slope_df.values, results[ntheta_random+2:])"
   ]
  },
  {
   "cell_type": "code",
   "execution_count": 109,
   "metadata": {},
   "outputs": [],
   "source": [
    "XB = x * results[0]"
   ]
  },
  {
   "cell_type": "code",
   "execution_count": 110,
   "metadata": {},
   "outputs": [],
   "source": [
    "fitted_values = XB.add(pd.Series(Zu), axis=0).add(pd.Series(Z_s_u_s), axis=0)"
   ]
  },
  {
   "cell_type": "code",
   "execution_count": 111,
   "metadata": {},
   "outputs": [],
   "source": [
    "# fitted_values = fitted_values.sum(axis=1)"
   ]
  },
  {
   "cell_type": "code",
   "execution_count": 112,
   "metadata": {},
   "outputs": [],
   "source": [
    "def sigmoid(z):\n",
    "    # Note it might be necessary to replace the np.exp with casadi version\n",
    "    \"\"\"\n",
    "    Compute the sigmoid of z\n",
    "\n",
    "    Arguments:\n",
    "    z -- A scalar or numpy array of any size.\n",
    "\n",
    "    Return:\n",
    "    s -- sigmoid(z)\n",
    "    \"\"\"\n",
    "    s = 1 / (1 + np.exp(-z))\n",
    "    return s"
   ]
  },
  {
   "cell_type": "code",
   "execution_count": 113,
   "metadata": {},
   "outputs": [
    {
     "name": "stderr",
     "output_type": "stream",
     "text": [
      "/var/folders/rc/1g_69mqs4t5dxcsd6dbczl_m0000gn/T/ipykernel_30565/2715101513.py:12: RuntimeWarning: overflow encountered in exp\n",
      "  s = 1 / (1 + np.exp(-z))\n"
     ]
    },
    {
     "data": {
      "text/html": [
       "<div>\n",
       "<style scoped>\n",
       "    .dataframe tbody tr th:only-of-type {\n",
       "        vertical-align: middle;\n",
       "    }\n",
       "\n",
       "    .dataframe tbody tr th {\n",
       "        vertical-align: top;\n",
       "    }\n",
       "\n",
       "    .dataframe thead th {\n",
       "        text-align: right;\n",
       "    }\n",
       "</style>\n",
       "<table border=\"1\" class=\"dataframe\">\n",
       "  <thead>\n",
       "    <tr style=\"text-align: right;\">\n",
       "      <th></th>\n",
       "      <th>intercept</th>\n",
       "      <th>Time</th>\n",
       "    </tr>\n",
       "  </thead>\n",
       "  <tbody>\n",
       "    <tr>\n",
       "      <th>0</th>\n",
       "      <td>0.000</td>\n",
       "      <td>0.000</td>\n",
       "    </tr>\n",
       "    <tr>\n",
       "      <th>1</th>\n",
       "      <td>0.000</td>\n",
       "      <td>0.000</td>\n",
       "    </tr>\n",
       "    <tr>\n",
       "      <th>2</th>\n",
       "      <td>0.000</td>\n",
       "      <td>0.000</td>\n",
       "    </tr>\n",
       "    <tr>\n",
       "      <th>3</th>\n",
       "      <td>0.000</td>\n",
       "      <td>0.000</td>\n",
       "    </tr>\n",
       "    <tr>\n",
       "      <th>4</th>\n",
       "      <td>1.000</td>\n",
       "      <td>0.000</td>\n",
       "    </tr>\n",
       "    <tr>\n",
       "      <th>...</th>\n",
       "      <td>...</td>\n",
       "      <td>...</td>\n",
       "    </tr>\n",
       "    <tr>\n",
       "      <th>856</th>\n",
       "      <td>1.000</td>\n",
       "      <td>0.000</td>\n",
       "    </tr>\n",
       "    <tr>\n",
       "      <th>857</th>\n",
       "      <td>1.000</td>\n",
       "      <td>0.000</td>\n",
       "    </tr>\n",
       "    <tr>\n",
       "      <th>858</th>\n",
       "      <td>1.000</td>\n",
       "      <td>0.000</td>\n",
       "    </tr>\n",
       "    <tr>\n",
       "      <th>859</th>\n",
       "      <td>1.000</td>\n",
       "      <td>0.000</td>\n",
       "    </tr>\n",
       "    <tr>\n",
       "      <th>860</th>\n",
       "      <td>1.000</td>\n",
       "      <td>0.000</td>\n",
       "    </tr>\n",
       "  </tbody>\n",
       "</table>\n",
       "<p>861 rows × 2 columns</p>\n",
       "</div>"
      ],
      "text/plain": [
       "     intercept  Time\n",
       "0        0.000 0.000\n",
       "1        0.000 0.000\n",
       "2        0.000 0.000\n",
       "3        0.000 0.000\n",
       "4        1.000 0.000\n",
       "..         ...   ...\n",
       "856      1.000 0.000\n",
       "857      1.000 0.000\n",
       "858      1.000 0.000\n",
       "859      1.000 0.000\n",
       "860      1.000 0.000\n",
       "\n",
       "[861 rows x 2 columns]"
      ]
     },
     "execution_count": 113,
     "metadata": {},
     "output_type": "execute_result"
    }
   ],
   "source": [
    "fitted_values = sigmoid(fitted_values)\n",
    "fitted_values"
   ]
  },
  {
   "cell_type": "code",
   "execution_count": 114,
   "metadata": {},
   "outputs": [],
   "source": [
    "# _ = plt.scatter(mdf.fittedvalues, data[target])"
   ]
  },
  {
   "cell_type": "code",
   "execution_count": 115,
   "metadata": {},
   "outputs": [
    {
     "data": {
      "image/png": "[encoded data removed]",
      "text/plain": [
       "<Figure size 432x288 with 1 Axes>"
      ]
     },
     "metadata": {
      "needs_background": "light"
     },
     "output_type": "display_data"
    }
   ],
   "source": [
    "_ = plt.scatter(mdp.fits, data[target])"
   ]
  },
  {
   "cell_type": "code",
   "execution_count": 116,
   "metadata": {},
   "outputs": [
    {
     "data": {
      "image/png": "[encoded data removed]",
      "text/plain": [
       "<Figure size 432x288 with 1 Axes>"
      ]
     },
     "metadata": {
      "needs_background": "light"
     },
     "output_type": "display_data"
    }
   ],
   "source": [
    "_ = plt.scatter(fitted_values[\"intercept\"], y)"
   ]
  },
  {
   "cell_type": "code",
   "execution_count": 117,
   "metadata": {},
   "outputs": [
    {
     "data": {
      "image/png": "[encoded data removed]",
      "text/plain": [
       "<Figure size 432x288 with 1 Axes>"
      ]
     },
     "metadata": {
      "needs_background": "light"
     },
     "output_type": "display_data"
    }
   ],
   "source": [
    "_ = plt.scatter(fitted_values[\"intercept\"], mdp.fits)"
   ]
  },
  {
   "cell_type": "code",
   "execution_count": 118,
   "metadata": {},
   "outputs": [],
   "source": [
    "pred_target_df = pd.concat([fitted_values, y, data[grouping_var]], axis=1).rename(columns={fixed_effect: \"fitted\", \"Weight\": \"target\"})"
   ]
  },
  {
   "cell_type": "code",
   "execution_count": 119,
   "metadata": {},
   "outputs": [
    {
     "name": "stdout",
     "output_type": "stream",
     "text": [
      "<class 'pandas.core.frame.DataFrame'>\n",
      "RangeIndex: 861 entries, 0 to 860\n",
      "Data columns (total 4 columns):\n",
      " #   Column      Non-Null Count  Dtype  \n",
      "---  ------      --------------  -----  \n",
      " 0   intercept   861 non-null    float64\n",
      " 1   fitted      861 non-null    float64\n",
      " 2   Weight_bin  861 non-null    int64  \n",
      " 3   Pig         861 non-null    int64  \n",
      "dtypes: float64(2), int64(2)\n",
      "memory usage: 27.0 KB\n"
     ]
    }
   ],
   "source": [
    "pred_target_df.info()"
   ]
  },
  {
   "cell_type": "code",
   "execution_count": 120,
   "metadata": {},
   "outputs": [],
   "source": [
    "pred_target_df[grouping_var] = pred_target_df[grouping_var].astype(\"category\")"
   ]
  },
  {
   "cell_type": "code",
   "execution_count": 121,
   "metadata": {},
   "outputs": [
    {
     "data": {
      "image/png": "[encoded data removed]",
      "text/plain": [
       "<Figure size 432x288 with 1 Axes>"
      ]
     },
     "metadata": {
      "needs_background": "light"
     },
     "output_type": "display_data"
    }
   ],
   "source": [
    "_ = sns.scatterplot(data=pred_target_df,\n",
    "                   x=\"fitted\",\n",
    "                   y=target,\n",
    "                   hue=\"Pig\",\n",
    "                   legend=False)"
   ]
  },
  {
   "cell_type": "markdown",
   "metadata": {},
   "source": [
    "## Plot the fitted vs the real values"
   ]
  },
  {
   "cell_type": "code",
   "execution_count": 122,
   "metadata": {},
   "outputs": [],
   "source": [
    "c_mat = confusion_matrix(data[target], pred_target_df[\"intercept\"].round(0))"
   ]
  },
  {
   "cell_type": "code",
   "execution_count": 123,
   "metadata": {},
   "outputs": [
    {
     "data": {
      "image/png": "[encoded data removed]",
      "text/plain": [
       "<Figure size 432x288 with 2 Axes>"
      ]
     },
     "metadata": {
      "needs_background": "light"
     },
     "output_type": "display_data"
    }
   ],
   "source": [
    "cmap='Blues'\n",
    "categories=[\"Skinny\", \"Fat\"]\n",
    "\n",
    "_ = sns.heatmap(c_mat, \n",
    "                annot=True,            \n",
    "                fmt=\"\",\n",
    "                cmap=cmap,\n",
    "#                 cbar=cbar,\n",
    "                xticklabels=categories,\n",
    "                yticklabels=categories\n",
    "               )\n",
    "_ = plt.title(\"Confusion Matrix\")\n",
    "# _ = plt.xlabel(f'Predicted value\\n\\nAccuracy={summary_df[\"Accuracy\"].values[0]}\\nSensitivity={summary_df[\"Sensitivity\"].values[0]}\\nSpecificity={summary_df[\"Specificity\"].values[0]}\\nF1 Score={summary_df[\"F1\"].values[0]}')\n",
    "_ = plt.xlabel(f'Predicted value')\n",
    "_ = plt.ylabel(\"True value\")"
   ]
  },
  {
   "cell_type": "code",
   "execution_count": 124,
   "metadata": {},
   "outputs": [
    {
     "data": {
      "text/html": [
       "<div>\n",
       "<style scoped>\n",
       "    .dataframe tbody tr th:only-of-type {\n",
       "        vertical-align: middle;\n",
       "    }\n",
       "\n",
       "    .dataframe tbody tr th {\n",
       "        vertical-align: top;\n",
       "    }\n",
       "\n",
       "    .dataframe thead th {\n",
       "        text-align: right;\n",
       "    }\n",
       "</style>\n",
       "<table border=\"1\" class=\"dataframe\">\n",
       "  <thead>\n",
       "    <tr style=\"text-align: right;\">\n",
       "      <th></th>\n",
       "      <th>intercept</th>\n",
       "      <th>fitted</th>\n",
       "      <th>Weight_bin</th>\n",
       "      <th>Pig</th>\n",
       "    </tr>\n",
       "  </thead>\n",
       "  <tbody>\n",
       "    <tr>\n",
       "      <th>0</th>\n",
       "      <td>0.000</td>\n",
       "      <td>0.000</td>\n",
       "      <td>0</td>\n",
       "      <td>4601</td>\n",
       "    </tr>\n",
       "    <tr>\n",
       "      <th>1</th>\n",
       "      <td>0.000</td>\n",
       "      <td>0.000</td>\n",
       "      <td>0</td>\n",
       "      <td>4601</td>\n",
       "    </tr>\n",
       "    <tr>\n",
       "      <th>2</th>\n",
       "      <td>0.000</td>\n",
       "      <td>0.000</td>\n",
       "      <td>0</td>\n",
       "      <td>4601</td>\n",
       "    </tr>\n",
       "    <tr>\n",
       "      <th>3</th>\n",
       "      <td>0.000</td>\n",
       "      <td>0.000</td>\n",
       "      <td>1</td>\n",
       "      <td>4601</td>\n",
       "    </tr>\n",
       "    <tr>\n",
       "      <th>4</th>\n",
       "      <td>1.000</td>\n",
       "      <td>0.000</td>\n",
       "      <td>1</td>\n",
       "      <td>4601</td>\n",
       "    </tr>\n",
       "    <tr>\n",
       "      <th>...</th>\n",
       "      <td>...</td>\n",
       "      <td>...</td>\n",
       "      <td>...</td>\n",
       "      <td>...</td>\n",
       "    </tr>\n",
       "    <tr>\n",
       "      <th>856</th>\n",
       "      <td>1.000</td>\n",
       "      <td>0.000</td>\n",
       "      <td>1</td>\n",
       "      <td>8442</td>\n",
       "    </tr>\n",
       "    <tr>\n",
       "      <th>857</th>\n",
       "      <td>1.000</td>\n",
       "      <td>0.000</td>\n",
       "      <td>1</td>\n",
       "      <td>8442</td>\n",
       "    </tr>\n",
       "    <tr>\n",
       "      <th>858</th>\n",
       "      <td>1.000</td>\n",
       "      <td>0.000</td>\n",
       "      <td>1</td>\n",
       "      <td>8442</td>\n",
       "    </tr>\n",
       "    <tr>\n",
       "      <th>859</th>\n",
       "      <td>1.000</td>\n",
       "      <td>0.000</td>\n",
       "      <td>1</td>\n",
       "      <td>8442</td>\n",
       "    </tr>\n",
       "    <tr>\n",
       "      <th>860</th>\n",
       "      <td>1.000</td>\n",
       "      <td>0.000</td>\n",
       "      <td>1</td>\n",
       "      <td>8442</td>\n",
       "    </tr>\n",
       "  </tbody>\n",
       "</table>\n",
       "<p>861 rows × 4 columns</p>\n",
       "</div>"
      ],
      "text/plain": [
       "     intercept  fitted  Weight_bin   Pig\n",
       "0        0.000   0.000           0  4601\n",
       "1        0.000   0.000           0  4601\n",
       "2        0.000   0.000           0  4601\n",
       "3        0.000   0.000           1  4601\n",
       "4        1.000   0.000           1  4601\n",
       "..         ...     ...         ...   ...\n",
       "856      1.000   0.000           1  8442\n",
       "857      1.000   0.000           1  8442\n",
       "858      1.000   0.000           1  8442\n",
       "859      1.000   0.000           1  8442\n",
       "860      1.000   0.000           1  8442\n",
       "\n",
       "[861 rows x 4 columns]"
      ]
     },
     "execution_count": 124,
     "metadata": {},
     "output_type": "execute_result"
    }
   ],
   "source": [
    "pred_target_df"
   ]
  },
  {
   "cell_type": "code",
   "execution_count": 125,
   "metadata": {},
   "outputs": [],
   "source": [
    "fpr, tpr, thresh = roc_curve(y_true=data[target], y_score=pred_target_df[\"intercept\"], pos_label=1, sample_weight=None, drop_intermediate=False)"
   ]
  },
  {
   "cell_type": "code",
   "execution_count": 126,
   "metadata": {},
   "outputs": [],
   "source": [
    "# auc_score = roc_auc_score(y_true=data[target], y_score=pred_target_df[\"fitted\"])"
   ]
  },
  {
   "cell_type": "code",
   "execution_count": 127,
   "metadata": {},
   "outputs": [],
   "source": [
    "auc_score = auc(fpr, tpr)"
   ]
  },
  {
   "cell_type": "code",
   "execution_count": 128,
   "metadata": {},
   "outputs": [
    {
     "data": {
      "image/png": "[encoded data removed]",
      "text/plain": [
       "<Figure size 864x504 with 1 Axes>"
      ]
     },
     "metadata": {
      "needs_background": "light"
     },
     "output_type": "display_data"
    }
   ],
   "source": [
    "_ = plt.figure(figsize=(12, 7))\n",
    "_ = plt.plot(fpr, \n",
    "             tpr, \n",
    "#              'o', \n",
    "            )\n",
    "_ = plt.plot(fpr, \n",
    "             tpr, \n",
    "             'o',\n",
    "             c=\"orange\"\n",
    "            )\n",
    "\n",
    "_ = plt.annotate(text = f\"AUC = {round(auc_score, 5)}\",\n",
    "                 xy=(0.9, 0.1),)"
   ]
  },
  {
   "cell_type": "code",
   "execution_count": 129,
   "metadata": {},
   "outputs": [],
   "source": [
    "# order_of_estimates = fixed_intercept, fixed_coefficients, random_intercept, random_slope"
   ]
  },
  {
   "cell_type": "code",
   "execution_count": 130,
   "metadata": {},
   "outputs": [
    {
     "data": {
      "text/plain": [
       "146"
      ]
     },
     "execution_count": 130,
     "metadata": {},
     "output_type": "execute_result"
    }
   ],
   "source": [
    "len(results)"
   ]
  },
  {
   "cell_type": "code",
   "execution_count": 131,
   "metadata": {},
   "outputs": [
    {
     "data": {
      "text/plain": [
       "{'f': DM(2.2869e-08),\n",
       " 'g': DM([]),\n",
       " 'lam_g': DM([]),\n",
       " 'lam_p': DM([]),\n",
       " 'lam_x': DM([0, 0, 0, 0, 0, 0, 0, 0, 0, 0, 0, 0, 0, 0, 0, 0, 0, 0, 0, 0, 0, 0, 0, 0, 0, 0, 0, 0, 0, 0, 0, 0, 0, 0, 0, 0, 0, 0, 0, 0, 0, 0, 0, 0, 0, 0, 0, 0, 0, 0, 0, 0, 0, 0, 0, 0, 0, 0, 0, 0, 0, 0, 0, 0, 0, 0, 0, 0, 0, 0, 0, 0, 0, 0, 0, 0, 0, 0, 0, 0, 0, 0, 0, 0, 0, 0, 0, 0, 0, 0, 0, 0, 0, 0, 0, 0, 0, 0, 0, 0, 0, 0, 0, 0, 0, 0, 0, 0, 0, 0, 0, 0, 0, 0, 0, 0, 0, 0, 0, 0, 0, 0, 0, 0, 0, 0, 0, 0, 0, 0, 0, 0, 0, 0, 0, 0, 0, 0, 0, 0, 0, 0, 0, 0, 0, 0]),\n",
       " 'x': DM([-104.091, 8.07707, -9.89085, -9.89085, -9.89085, 17.9443, 17.9443, -9.89085, 17.9443, -58.888, -9.89085, -35.221, -81.4441, -9.89085, -9.89085, -35.221, -9.89085, -9.89085, 17.9443, 17.9443, -9.89085, -9.89085, -81.4441, -35.221, -58.888, 17.9443, 17.9443, -36.5007, -11.7027, -11.7027, 17.9443, -9.89085, -9.89085, -35.221, -35.221, -9.89085, -35.221, -35.221, -35.221, -9.89085, 17.9443, -9.89085, -9.89085, -9.89085, -9.89085, -9.89085, -9.89085, -35.221, -9.89085, 49.1868, -35.221, 17.9443, -9.89085, -9.89085, -9.89085, -35.221, 17.9443, 17.9443, -9.89085, -35.221, -35.221, -9.89085, -81.4441, -9.89085, 49.1868, -9.89085, -58.888, -58.888, -9.89085, -9.89085, -9.89085, -9.89085, -9.89085, -35.221, 24.471, 24.471, 24.471, 26.1489, 26.1489, 24.471, 26.1489, 21.5694, 24.471, 22.8942, 20.4779, 24.471, 24.471, 22.8942, 24.471, 24.471, 26.1489, 26.1489, 24.471, 24.471, 20.4779, 22.8942, 21.5694, 26.1489, 26.1489, 23.1805, 24.9886, 24.9886, 26.1489, 24.471, 24.471, 22.8942, 22.8942, 24.471, 22.8942, 22.8942, 22.8942, 24.471, 26.1489, 24.471, 24.471, 24.471, 24.471, 24.471, 24.471, 22.8942, 24.471, 27.3835, 22.8942, 26.1489, 24.471, 24.471, 24.471, 22.8942, 26.1489, 26.1489, 24.471, 22.8942, 22.8942, 24.471, 20.4779, 24.471, 27.3835, 24.471, 21.5694, 21.5694, 24.471, 24.471, 24.471, 24.471, 24.471, 22.8942])}"
      ]
     },
     "execution_count": 131,
     "metadata": {},
     "output_type": "execute_result"
    }
   ],
   "source": [
    "sol"
   ]
  }
 ],
 "metadata": {
  "kernelspec": {
   "display_name": "pymer4_env",
   "language": "python",
   "name": "pymer4_env"
  },
  "language_info": {
   "codemirror_mode": {
    "name": "ipython",
    "version": 3
   },
   "file_extension": ".py",
   "mimetype": "text/x-python",
   "name": "python",
   "nbconvert_exporter": "python",
   "pygments_lexer": "ipython3",
   "version": "3.8.10"
  }
 },
 "nbformat": 4,
 "nbformat_minor": 4
}
