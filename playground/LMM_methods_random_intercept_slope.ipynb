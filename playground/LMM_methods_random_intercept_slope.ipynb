{
 "cells": [
  {
   "cell_type": "markdown",
   "metadata": {},
   "source": [
    "# Comparing statsmodels and pymer4 to the casadi approach for Linear Mixed Models"
   ]
  },
  {
   "cell_type": "markdown",
   "metadata": {},
   "source": [
    "- 1 target\n",
    "- 1 predictor\n",
    "- 1 random intercept\n",
    "- 1 random slope\n",
    "- 0 \"fixed\" intercept"
   ]
  },
  {
   "cell_type": "code",
   "execution_count": 1,
   "metadata": {},
   "outputs": [],
   "source": [
    "import os\n",
    "import numpy as np\n",
    "import pandas as pd\n",
    "import matplotlib.pyplot as plt\n",
    "import seaborn as sns\n",
    "# import statsmodels"
   ]
  },
  {
   "cell_type": "code",
   "execution_count": 2,
   "metadata": {},
   "outputs": [],
   "source": [
    "# from jmspack.NLTSA import flatten\n",
    "flatten = lambda l: [item for sublist in l for item in sublist]"
   ]
  },
  {
   "cell_type": "code",
   "execution_count": 3,
   "metadata": {},
   "outputs": [],
   "source": [
    "import casadi as ca"
   ]
  },
  {
   "cell_type": "code",
   "execution_count": 4,
   "metadata": {},
   "outputs": [],
   "source": [
    "import statsmodels.api as sm\n",
    "import statsmodels.formula.api as smf"
   ]
  },
  {
   "cell_type": "code",
   "execution_count": 5,
   "metadata": {},
   "outputs": [],
   "source": [
    "from scipy.stats import linregress\n",
    "# from statsmodels.regression.linear_model import OLS"
   ]
  },
  {
   "cell_type": "code",
   "execution_count": 6,
   "metadata": {},
   "outputs": [],
   "source": [
    "from pymer4 import Lmer"
   ]
  },
  {
   "cell_type": "code",
   "execution_count": 7,
   "metadata": {},
   "outputs": [],
   "source": [
    "# from sklearn.datasets import make_regression\n",
    "# from sklearn.linear_model import LinearRegression, Lasso\n",
    "\n",
    "# from sklearn.metrics import mean_squared_error, r2_score\n",
    "# from sklearn.model_selection import cross_val_score\n",
    "# from sklearn.model_selection import train_test_split"
   ]
  },
  {
   "cell_type": "code",
   "execution_count": 8,
   "metadata": {},
   "outputs": [],
   "source": [
    "tmp = os.getcwd()\n",
    "os.chdir(tmp.split(\"/playground\")[0])\n",
    "\n",
    "# from romeo.romeo import ROMEO\n",
    "# from romeo.utils import formula_parser\n",
    "\n",
    "os.chdir(tmp)"
   ]
  },
  {
   "cell_type": "markdown",
   "metadata": {},
   "source": [
    "# Statsmodels regularized mixedLM examples"
   ]
  },
  {
   "cell_type": "code",
   "execution_count": 9,
   "metadata": {},
   "outputs": [],
   "source": [
    "data = sm.datasets.get_rdataset('dietox', 'geepack').data"
   ]
  },
  {
   "cell_type": "code",
   "execution_count": 10,
   "metadata": {},
   "outputs": [],
   "source": [
    "# data_int = data.interpolate(method=\"linear\", limit_direction=\"both\")\n",
    "\n",
    "# _ = plt.scatter(data_int[\"Time\"], data_int[\"Feed\"])\n",
    "# _ = plt.scatter(data[\"Time\"], data[\"Feed\"])"
   ]
  },
  {
   "cell_type": "code",
   "execution_count": 11,
   "metadata": {},
   "outputs": [],
   "source": [
    "# data=data.dropna()"
   ]
  },
  {
   "cell_type": "code",
   "execution_count": 12,
   "metadata": {},
   "outputs": [
    {
     "data": {
      "text/html": [
       "<div>\n",
       "<style scoped>\n",
       "    .dataframe tbody tr th:only-of-type {\n",
       "        vertical-align: middle;\n",
       "    }\n",
       "\n",
       "    .dataframe tbody tr th {\n",
       "        vertical-align: top;\n",
       "    }\n",
       "\n",
       "    .dataframe thead th {\n",
       "        text-align: right;\n",
       "    }\n",
       "</style>\n",
       "<table border=\"1\" class=\"dataframe\">\n",
       "  <thead>\n",
       "    <tr style=\"text-align: right;\">\n",
       "      <th></th>\n",
       "      <th>Pig</th>\n",
       "      <th>Evit</th>\n",
       "      <th>Cu</th>\n",
       "      <th>Litter</th>\n",
       "      <th>Start</th>\n",
       "      <th>Weight</th>\n",
       "      <th>Feed</th>\n",
       "      <th>Time</th>\n",
       "    </tr>\n",
       "  </thead>\n",
       "  <tbody>\n",
       "    <tr>\n",
       "      <th>0</th>\n",
       "      <td>4601</td>\n",
       "      <td>Evit000</td>\n",
       "      <td>Cu000</td>\n",
       "      <td>1</td>\n",
       "      <td>26.5</td>\n",
       "      <td>26.50000</td>\n",
       "      <td>NaN</td>\n",
       "      <td>1</td>\n",
       "    </tr>\n",
       "    <tr>\n",
       "      <th>1</th>\n",
       "      <td>4601</td>\n",
       "      <td>Evit000</td>\n",
       "      <td>Cu000</td>\n",
       "      <td>1</td>\n",
       "      <td>26.5</td>\n",
       "      <td>27.59999</td>\n",
       "      <td>5.200005</td>\n",
       "      <td>2</td>\n",
       "    </tr>\n",
       "    <tr>\n",
       "      <th>2</th>\n",
       "      <td>4601</td>\n",
       "      <td>Evit000</td>\n",
       "      <td>Cu000</td>\n",
       "      <td>1</td>\n",
       "      <td>26.5</td>\n",
       "      <td>36.50000</td>\n",
       "      <td>17.600000</td>\n",
       "      <td>3</td>\n",
       "    </tr>\n",
       "    <tr>\n",
       "      <th>3</th>\n",
       "      <td>4601</td>\n",
       "      <td>Evit000</td>\n",
       "      <td>Cu000</td>\n",
       "      <td>1</td>\n",
       "      <td>26.5</td>\n",
       "      <td>40.29999</td>\n",
       "      <td>28.500000</td>\n",
       "      <td>4</td>\n",
       "    </tr>\n",
       "    <tr>\n",
       "      <th>4</th>\n",
       "      <td>4601</td>\n",
       "      <td>Evit000</td>\n",
       "      <td>Cu000</td>\n",
       "      <td>1</td>\n",
       "      <td>26.5</td>\n",
       "      <td>49.09998</td>\n",
       "      <td>45.200001</td>\n",
       "      <td>5</td>\n",
       "    </tr>\n",
       "  </tbody>\n",
       "</table>\n",
       "</div>"
      ],
      "text/plain": [
       "    Pig     Evit     Cu  Litter  Start    Weight       Feed  Time\n",
       "0  4601  Evit000  Cu000       1   26.5  26.50000        NaN     1\n",
       "1  4601  Evit000  Cu000       1   26.5  27.59999   5.200005     2\n",
       "2  4601  Evit000  Cu000       1   26.5  36.50000  17.600000     3\n",
       "3  4601  Evit000  Cu000       1   26.5  40.29999  28.500000     4\n",
       "4  4601  Evit000  Cu000       1   26.5  49.09998  45.200001     5"
      ]
     },
     "execution_count": 12,
     "metadata": {},
     "output_type": "execute_result"
    }
   ],
   "source": [
    "data.head()"
   ]
  },
  {
   "cell_type": "code",
   "execution_count": 13,
   "metadata": {},
   "outputs": [
    {
     "name": "stdout",
     "output_type": "stream",
     "text": [
      "<class 'pandas.core.frame.DataFrame'>\n",
      "RangeIndex: 861 entries, 0 to 860\n",
      "Data columns (total 8 columns):\n",
      " #   Column  Non-Null Count  Dtype  \n",
      "---  ------  --------------  -----  \n",
      " 0   Pig     861 non-null    int64  \n",
      " 1   Evit    861 non-null    object \n",
      " 2   Cu      861 non-null    object \n",
      " 3   Litter  861 non-null    int64  \n",
      " 4   Start   861 non-null    float64\n",
      " 5   Weight  861 non-null    float64\n",
      " 6   Feed    789 non-null    float64\n",
      " 7   Time    861 non-null    int64  \n",
      "dtypes: float64(3), int64(3), object(2)\n",
      "memory usage: 53.9+ KB\n"
     ]
    }
   ],
   "source": [
    "data.info()"
   ]
  },
  {
   "cell_type": "code",
   "execution_count": 14,
   "metadata": {},
   "outputs": [],
   "source": [
    "# md = smf.mixedlm(\"Weight ~ Time\", data, groups=data[\"Pig\"])\n",
    "# mdf = md.fit(method=[\"lbfgs\"])\n",
    "# mdf.summary()"
   ]
  },
  {
   "cell_type": "code",
   "execution_count": 15,
   "metadata": {},
   "outputs": [],
   "source": [
    "target = \"Weight\"\n",
    "fixed_effect = \"Time\"\n",
    "grouping_var = \"Pig\"\n",
    "random_slope = \"Time\""
   ]
  },
  {
   "cell_type": "code",
   "execution_count": 16,
   "metadata": {},
   "outputs": [
    {
     "data": {
      "text/plain": [
       "{'target': 'Weight',\n",
       " 'fixed_effect': 'Time',\n",
       " 'grouping_var': 'Pig',\n",
       " 'random_slope': 'Time'}"
      ]
     },
     "execution_count": 16,
     "metadata": {},
     "output_type": "execute_result"
    }
   ],
   "source": [
    "{\"target\": \"Weight\",\n",
    "\"fixed_effect\": \"Time\",\n",
    "\"grouping_var\": \"Pig\",\n",
    "\"random_slope\": \"Time\"}"
   ]
  },
  {
   "cell_type": "code",
   "execution_count": 17,
   "metadata": {},
   "outputs": [
    {
     "data": {
      "text/html": [
       "<table class=\"simpletable\">\n",
       "<tr>\n",
       "       <td>Model:</td>       <td>MixedLM</td> <td>Dependent Variable:</td>   <td>Weight</td>  \n",
       "</tr>\n",
       "<tr>\n",
       "  <td>No. Observations:</td>   <td>861</td>         <td>Method:</td>          <td>REML</td>   \n",
       "</tr>\n",
       "<tr>\n",
       "     <td>No. Groups:</td>      <td>72</td>          <td>Scale:</td>          <td>6.0372</td>  \n",
       "</tr>\n",
       "<tr>\n",
       "  <td>Min. group size:</td>    <td>11</td>      <td>Log-Likelihood:</td>   <td>-2217.0475</td>\n",
       "</tr>\n",
       "<tr>\n",
       "  <td>Max. group size:</td>    <td>12</td>        <td>Converged:</td>          <td>Yes</td>   \n",
       "</tr>\n",
       "<tr>\n",
       "  <td>Mean group size:</td>   <td>12.0</td>            <td></td>                <td></td>     \n",
       "</tr>\n",
       "</table>\n",
       "<table class=\"simpletable\">\n",
       "<tr>\n",
       "          <td></td>          <th>Coef.</th> <th>Std.Err.</th>    <th>z</th>   <th>P>|z|</th> <th>[0.025</th> <th>0.975]</th>\n",
       "</tr>\n",
       "<tr>\n",
       "  <th>Intercept</th>        <td>15.739</td>   <td>0.550</td>  <td>28.603</td> <td>0.000</td> <td>14.660</td> <td>16.817</td>\n",
       "</tr>\n",
       "<tr>\n",
       "  <th>Time</th>              <td>6.939</td>   <td>0.080</td>  <td>86.925</td> <td>0.000</td>  <td>6.783</td>  <td>7.095</td>\n",
       "</tr>\n",
       "<tr>\n",
       "  <th>Group Var</th>        <td>19.503</td>   <td>1.561</td>     <td></td>      <td></td>       <td></td>       <td></td>   \n",
       "</tr>\n",
       "<tr>\n",
       "  <th>Group x Time Cov</th>  <td>0.294</td>   <td>0.153</td>     <td></td>      <td></td>       <td></td>       <td></td>   \n",
       "</tr>\n",
       "<tr>\n",
       "  <th>Time Var</th>          <td>0.416</td>   <td>0.033</td>     <td></td>      <td></td>       <td></td>       <td></td>   \n",
       "</tr>\n",
       "</table>"
      ],
      "text/plain": [
       "<class 'statsmodels.iolib.summary2.Summary'>\n",
       "\"\"\"\n",
       "           Mixed Linear Model Regression Results\n",
       "===========================================================\n",
       "Model:             MixedLM  Dependent Variable:  Weight    \n",
       "No. Observations:  861      Method:              REML      \n",
       "No. Groups:        72       Scale:               6.0372    \n",
       "Min. group size:   11       Log-Likelihood:      -2217.0475\n",
       "Max. group size:   12       Converged:           Yes       \n",
       "Mean group size:   12.0                                    \n",
       "-----------------------------------------------------------\n",
       "                 Coef.  Std.Err.   z    P>|z| [0.025 0.975]\n",
       "-----------------------------------------------------------\n",
       "Intercept        15.739    0.550 28.603 0.000 14.660 16.817\n",
       "Time              6.939    0.080 86.925 0.000  6.783  7.095\n",
       "Group Var        19.503    1.561                           \n",
       "Group x Time Cov  0.294    0.153                           \n",
       "Time Var          0.416    0.033                           \n",
       "===========================================================\n",
       "\n",
       "\"\"\""
      ]
     },
     "execution_count": 17,
     "metadata": {},
     "output_type": "execute_result"
    }
   ],
   "source": [
    "md = smf.mixedlm(f\"{target} ~ {fixed_effect}\", \n",
    "                 data, \n",
    "                 groups=data[grouping_var], \n",
    "                 re_formula=f\"~{random_slope}\"\n",
    "                )\n",
    "mdf = md.fit(method=[\"lbfgs\"])\n",
    "mdf.summary()"
   ]
  },
  {
   "cell_type": "code",
   "execution_count": 18,
   "metadata": {},
   "outputs": [
    {
     "data": {
      "text/plain": [
       "Intercept           15.738650\n",
       "Time                 6.939014\n",
       "Group Var            3.230482\n",
       "Group x Time Cov     0.048645\n",
       "Time Var             0.068922\n",
       "dtype: float64"
      ]
     },
     "execution_count": 18,
     "metadata": {},
     "output_type": "execute_result"
    }
   ],
   "source": [
    "mdf.params"
   ]
  },
  {
   "cell_type": "code",
   "execution_count": 19,
   "metadata": {},
   "outputs": [
    {
     "data": {
      "text/plain": [
       "0       21.957902\n",
       "1       28.806111\n",
       "2       35.654320\n",
       "3       42.502529\n",
       "4       49.350737\n",
       "          ...    \n",
       "856     72.989071\n",
       "857     80.435264\n",
       "858     87.881457\n",
       "859     95.327649\n",
       "860    102.773842\n",
       "Length: 861, dtype: float64"
      ]
     },
     "execution_count": 19,
     "metadata": {},
     "output_type": "execute_result"
    }
   ],
   "source": [
    "mdf.fittedvalues"
   ]
  },
  {
   "cell_type": "code",
   "execution_count": 20,
   "metadata": {},
   "outputs": [
    {
     "data": {
      "image/png": "[encoded data removed]",
      "text/plain": [
       "<Figure size 432x288 with 1 Axes>"
      ]
     },
     "metadata": {
      "needs_background": "light"
     },
     "output_type": "display_data"
    }
   ],
   "source": [
    "_ = plt.scatter(mdf.fittedvalues, data[target])"
   ]
  },
  {
   "cell_type": "code",
   "execution_count": 21,
   "metadata": {},
   "outputs": [
    {
     "data": {
      "text/plain": [
       "Intercept    15.738650\n",
       "Time          6.939014\n",
       "dtype: float64"
      ]
     },
     "execution_count": 21,
     "metadata": {},
     "output_type": "execute_result"
    }
   ],
   "source": [
    "mdf.fe_params"
   ]
  },
  {
   "cell_type": "code",
   "execution_count": 22,
   "metadata": {},
   "outputs": [],
   "source": [
    "# import re\n",
    "\n",
    "# formula_string = \"Weight ~ Time + (1 + Time | Pig)\"\n",
    "\n",
    "# target = formula_string.replace(\" \", \"\").split(\"~\")[0]\n",
    "# fixed_effect = formula_string.replace(\" \", \"\").split(\"~\")[1].split(\"+\")[0]\n",
    "# random_effects = re.findall(\"\\((.*?)\\)\", formula_string)\n",
    "\n",
    "# clusters = random_effects[0].replace(\" \", \"\").split(\"+\")[1].split(\"|\")[1]\n",
    "\n",
    "# {\"target\": target,\n",
    "# \"fixed_effect\": fixed_effect,\n",
    "# \"random_effects\": random_effects,\n",
    "# \"clusters\": clusters}\n",
    "\n",
    "# formula_parser(formula_string)"
   ]
  },
  {
   "cell_type": "markdown",
   "metadata": {
    "tags": []
   },
   "source": [
    "# Pymer4 version"
   ]
  },
  {
   "cell_type": "code",
   "execution_count": 23,
   "metadata": {},
   "outputs": [
    {
     "data": {
      "text/plain": [
       "'Weight ~ Time + (1 | Pig) + (0 + Time | Pig )'"
      ]
     },
     "execution_count": 23,
     "metadata": {},
     "output_type": "execute_result"
    }
   ],
   "source": [
    "formula_string = f\"{target} ~ {fixed_effect} + (1 | {grouping_var}) + (0 + {random_slope} | {grouping_var} )\"\n",
    "formula_string"
   ]
  },
  {
   "cell_type": "code",
   "execution_count": 24,
   "metadata": {},
   "outputs": [],
   "source": [
    "mdp = Lmer(formula=formula_string, data=data, family='gaussian')"
   ]
  },
  {
   "cell_type": "code",
   "execution_count": 25,
   "metadata": {},
   "outputs": [
    {
     "name": "stdout",
     "output_type": "stream",
     "text": [
      "Formula: Weight~Time+(1|Pig)+(0+Time|Pig)\n",
      "\n",
      "Family: gaussian\t Inference: parametric\n",
      "\n",
      "Number of observations: 861\t Groups: {'Pig': 72.0}\n",
      "\n",
      "Log-likelihood: -2217.348 \t AIC: 4434.696\n",
      "\n",
      "Random effects:\n",
      "\n",
      "                 Name     Var    Std\n",
      "Pig       (Intercept)  19.840  4.454\n",
      "Pig.1            Time   0.423  0.651\n",
      "Residual                6.028  2.455\n",
      "\n",
      "No random effect correlations specified\n",
      "\n",
      "Fixed effects:\n",
      "\n"
     ]
    },
    {
     "data": {
      "text/html": [
       "<div>\n",
       "<style scoped>\n",
       "    .dataframe tbody tr th:only-of-type {\n",
       "        vertical-align: middle;\n",
       "    }\n",
       "\n",
       "    .dataframe tbody tr th {\n",
       "        vertical-align: top;\n",
       "    }\n",
       "\n",
       "    .dataframe thead th {\n",
       "        text-align: right;\n",
       "    }\n",
       "</style>\n",
       "<table border=\"1\" class=\"dataframe\">\n",
       "  <thead>\n",
       "    <tr style=\"text-align: right;\">\n",
       "      <th></th>\n",
       "      <th>Estimate</th>\n",
       "      <th>2.5_ci</th>\n",
       "      <th>97.5_ci</th>\n",
       "      <th>SE</th>\n",
       "      <th>DF</th>\n",
       "      <th>T-stat</th>\n",
       "      <th>P-val</th>\n",
       "      <th>Sig</th>\n",
       "    </tr>\n",
       "  </thead>\n",
       "  <tbody>\n",
       "    <tr>\n",
       "      <th>(Intercept)</th>\n",
       "      <td>15.739</td>\n",
       "      <td>14.645</td>\n",
       "      <td>16.832</td>\n",
       "      <td>0.554</td>\n",
       "      <td>72.050</td>\n",
       "      <td>28.387</td>\n",
       "      <td>0.0</td>\n",
       "      <td>***</td>\n",
       "    </tr>\n",
       "    <tr>\n",
       "      <th>Time</th>\n",
       "      <td>6.939</td>\n",
       "      <td>6.780</td>\n",
       "      <td>7.098</td>\n",
       "      <td>0.080</td>\n",
       "      <td>72.078</td>\n",
       "      <td>86.247</td>\n",
       "      <td>0.0</td>\n",
       "      <td>***</td>\n",
       "    </tr>\n",
       "  </tbody>\n",
       "</table>\n",
       "</div>"
      ],
      "text/plain": [
       "             Estimate  2.5_ci  97.5_ci     SE      DF  T-stat  P-val  Sig\n",
       "(Intercept)    15.739  14.645   16.832  0.554  72.050  28.387    0.0  ***\n",
       "Time            6.939   6.780    7.098  0.080  72.078  86.247    0.0  ***"
      ]
     },
     "execution_count": 25,
     "metadata": {},
     "output_type": "execute_result"
    }
   ],
   "source": [
    "mdp.fit(conf_int=\"profile\"#, control=\"optCtrl = list(ftol_abs=1, xtol_abs=1)\"\n",
    "           )"
   ]
  },
  {
   "cell_type": "code",
   "execution_count": 26,
   "metadata": {},
   "outputs": [
    {
     "data": {
      "text/html": [
       "<div>\n",
       "<style scoped>\n",
       "    .dataframe tbody tr th:only-of-type {\n",
       "        vertical-align: middle;\n",
       "    }\n",
       "\n",
       "    .dataframe tbody tr th {\n",
       "        vertical-align: top;\n",
       "    }\n",
       "\n",
       "    .dataframe thead th {\n",
       "        text-align: right;\n",
       "    }\n",
       "</style>\n",
       "<table border=\"1\" class=\"dataframe\">\n",
       "  <thead>\n",
       "    <tr style=\"text-align: right;\">\n",
       "      <th></th>\n",
       "      <th>Intercept</th>\n",
       "      <th>Time</th>\n",
       "    </tr>\n",
       "  </thead>\n",
       "  <tbody>\n",
       "    <tr>\n",
       "      <th>0</th>\n",
       "      <td>15.73865</td>\n",
       "      <td>6.939014</td>\n",
       "    </tr>\n",
       "  </tbody>\n",
       "</table>\n",
       "</div>"
      ],
      "text/plain": [
       "   Intercept      Time\n",
       "0   15.73865  6.939014"
      ]
     },
     "execution_count": 26,
     "metadata": {},
     "output_type": "execute_result"
    }
   ],
   "source": [
    "mdf.fe_params.to_frame().T"
   ]
  },
  {
   "cell_type": "code",
   "execution_count": 27,
   "metadata": {},
   "outputs": [
    {
     "data": {
      "text/html": [
       "<div>\n",
       "<style scoped>\n",
       "    .dataframe tbody tr th:only-of-type {\n",
       "        vertical-align: middle;\n",
       "    }\n",
       "\n",
       "    .dataframe tbody tr th {\n",
       "        vertical-align: top;\n",
       "    }\n",
       "\n",
       "    .dataframe thead th {\n",
       "        text-align: right;\n",
       "    }\n",
       "</style>\n",
       "<table border=\"1\" class=\"dataframe\">\n",
       "  <thead>\n",
       "    <tr style=\"text-align: right;\">\n",
       "      <th></th>\n",
       "      <th>Group</th>\n",
       "      <th>Time</th>\n",
       "    </tr>\n",
       "  </thead>\n",
       "  <tbody>\n",
       "    <tr>\n",
       "      <th>4601</th>\n",
       "      <td>15.109694</td>\n",
       "      <td>6.848209</td>\n",
       "    </tr>\n",
       "    <tr>\n",
       "      <th>4602</th>\n",
       "      <td>16.133875</td>\n",
       "      <td>7.364919</td>\n",
       "    </tr>\n",
       "    <tr>\n",
       "      <th>4603</th>\n",
       "      <td>17.846672</td>\n",
       "      <td>7.235199</td>\n",
       "    </tr>\n",
       "    <tr>\n",
       "      <th>4605</th>\n",
       "      <td>19.771567</td>\n",
       "      <td>7.374041</td>\n",
       "    </tr>\n",
       "    <tr>\n",
       "      <th>4641</th>\n",
       "      <td>17.265125</td>\n",
       "      <td>8.143678</td>\n",
       "    </tr>\n",
       "    <tr>\n",
       "      <th>...</th>\n",
       "      <td>...</td>\n",
       "      <td>...</td>\n",
       "    </tr>\n",
       "    <tr>\n",
       "      <th>8271</th>\n",
       "      <td>14.648598</td>\n",
       "      <td>7.160341</td>\n",
       "    </tr>\n",
       "    <tr>\n",
       "      <th>8273</th>\n",
       "      <td>15.533311</td>\n",
       "      <td>7.762129</td>\n",
       "    </tr>\n",
       "    <tr>\n",
       "      <th>8437</th>\n",
       "      <td>15.462588</td>\n",
       "      <td>7.070053</td>\n",
       "    </tr>\n",
       "    <tr>\n",
       "      <th>8439</th>\n",
       "      <td>16.954404</td>\n",
       "      <td>6.957316</td>\n",
       "    </tr>\n",
       "    <tr>\n",
       "      <th>8442</th>\n",
       "      <td>13.419530</td>\n",
       "      <td>7.446193</td>\n",
       "    </tr>\n",
       "  </tbody>\n",
       "</table>\n",
       "<p>72 rows × 2 columns</p>\n",
       "</div>"
      ],
      "text/plain": [
       "          Group      Time\n",
       "4601  15.109694  6.848209\n",
       "4602  16.133875  7.364919\n",
       "4603  17.846672  7.235199\n",
       "4605  19.771567  7.374041\n",
       "4641  17.265125  8.143678\n",
       "...         ...       ...\n",
       "8271  14.648598  7.160341\n",
       "8273  15.533311  7.762129\n",
       "8437  15.462588  7.070053\n",
       "8439  16.954404  6.957316\n",
       "8442  13.419530  7.446193\n",
       "\n",
       "[72 rows x 2 columns]"
      ]
     },
     "execution_count": 27,
     "metadata": {},
     "output_type": "execute_result"
    }
   ],
   "source": [
    "(pd.DataFrame(mdf.random_effects).T.add(mdf.fe_params.values))"
   ]
  },
  {
   "cell_type": "code",
   "execution_count": 28,
   "metadata": {},
   "outputs": [
    {
     "data": {
      "text/html": [
       "<div>\n",
       "<style scoped>\n",
       "    .dataframe tbody tr th:only-of-type {\n",
       "        vertical-align: middle;\n",
       "    }\n",
       "\n",
       "    .dataframe tbody tr th {\n",
       "        vertical-align: top;\n",
       "    }\n",
       "\n",
       "    .dataframe thead th {\n",
       "        text-align: right;\n",
       "    }\n",
       "</style>\n",
       "<table border=\"1\" class=\"dataframe\">\n",
       "  <thead>\n",
       "    <tr style=\"text-align: right;\">\n",
       "      <th></th>\n",
       "      <th>(Intercept)</th>\n",
       "      <th>Time</th>\n",
       "    </tr>\n",
       "  </thead>\n",
       "  <tbody>\n",
       "    <tr>\n",
       "      <th>4601</th>\n",
       "      <td>15.110545</td>\n",
       "      <td>6.848259</td>\n",
       "    </tr>\n",
       "    <tr>\n",
       "      <th>4602</th>\n",
       "      <td>16.101592</td>\n",
       "      <td>7.368852</td>\n",
       "    </tr>\n",
       "    <tr>\n",
       "      <th>4603</th>\n",
       "      <td>17.844617</td>\n",
       "      <td>7.234929</td>\n",
       "    </tr>\n",
       "    <tr>\n",
       "      <th>4605</th>\n",
       "      <td>19.778958</td>\n",
       "      <td>7.372111</td>\n",
       "    </tr>\n",
       "    <tr>\n",
       "      <th>4641</th>\n",
       "      <td>17.178318</td>\n",
       "      <td>8.154137</td>\n",
       "    </tr>\n",
       "    <tr>\n",
       "      <th>...</th>\n",
       "      <td>...</td>\n",
       "      <td>...</td>\n",
       "    </tr>\n",
       "    <tr>\n",
       "      <th>8271</th>\n",
       "      <td>14.617425</td>\n",
       "      <td>7.164506</td>\n",
       "    </tr>\n",
       "    <tr>\n",
       "      <th>8273</th>\n",
       "      <td>15.460121</td>\n",
       "      <td>7.771321</td>\n",
       "    </tr>\n",
       "    <tr>\n",
       "      <th>8437</th>\n",
       "      <td>15.448247</td>\n",
       "      <td>7.071913</td>\n",
       "    </tr>\n",
       "    <tr>\n",
       "      <th>8439</th>\n",
       "      <td>16.966371</td>\n",
       "      <td>6.955517</td>\n",
       "    </tr>\n",
       "    <tr>\n",
       "      <th>8442</th>\n",
       "      <td>13.350054</td>\n",
       "      <td>7.455448</td>\n",
       "    </tr>\n",
       "  </tbody>\n",
       "</table>\n",
       "<p>72 rows × 2 columns</p>\n",
       "</div>"
      ],
      "text/plain": [
       "      (Intercept)      Time\n",
       "4601    15.110545  6.848259\n",
       "4602    16.101592  7.368852\n",
       "4603    17.844617  7.234929\n",
       "4605    19.778958  7.372111\n",
       "4641    17.178318  8.154137\n",
       "...           ...       ...\n",
       "8271    14.617425  7.164506\n",
       "8273    15.460121  7.771321\n",
       "8437    15.448247  7.071913\n",
       "8439    16.966371  6.955517\n",
       "8442    13.350054  7.455448\n",
       "\n",
       "[72 rows x 2 columns]"
      ]
     },
     "execution_count": 28,
     "metadata": {},
     "output_type": "execute_result"
    }
   ],
   "source": [
    "mdp.fixef"
   ]
  },
  {
   "cell_type": "code",
   "execution_count": 29,
   "metadata": {},
   "outputs": [
    {
     "data": {
      "image/png": "[encoded data removed]",
      "text/plain": [
       "<Figure size 432x288 with 1 Axes>"
      ]
     },
     "metadata": {
      "needs_background": "light"
     },
     "output_type": "display_data"
    }
   ],
   "source": [
    "_ = plt.scatter(mdp.fits, data[target])"
   ]
  },
  {
   "cell_type": "markdown",
   "metadata": {},
   "source": [
    "# LMM equation"
   ]
  },
  {
   "cell_type": "markdown",
   "metadata": {},
   "source": [
    "<img src=\"https://wikimedia.org/api/rest_v1/media/math/render/svg/e00ba9a8e13237ca374d55bb3070aebd12a5b8e4\" />"
   ]
  },
  {
   "cell_type": "code",
   "execution_count": 30,
   "metadata": {},
   "outputs": [
    {
     "data": {
      "text/plain": [
       "0    26.50000\n",
       "1    27.59999\n",
       "Name: Weight, dtype: float64"
      ]
     },
     "execution_count": 30,
     "metadata": {},
     "output_type": "execute_result"
    }
   ],
   "source": [
    "y = data[target]\n",
    "y.head(2)"
   ]
  },
  {
   "cell_type": "code",
   "execution_count": 31,
   "metadata": {},
   "outputs": [
    {
     "data": {
      "text/html": [
       "<div>\n",
       "<style scoped>\n",
       "    .dataframe tbody tr th:only-of-type {\n",
       "        vertical-align: middle;\n",
       "    }\n",
       "\n",
       "    .dataframe tbody tr th {\n",
       "        vertical-align: top;\n",
       "    }\n",
       "\n",
       "    .dataframe thead th {\n",
       "        text-align: right;\n",
       "    }\n",
       "</style>\n",
       "<table border=\"1\" class=\"dataframe\">\n",
       "  <thead>\n",
       "    <tr style=\"text-align: right;\">\n",
       "      <th></th>\n",
       "      <th>Time</th>\n",
       "    </tr>\n",
       "  </thead>\n",
       "  <tbody>\n",
       "    <tr>\n",
       "      <th>0</th>\n",
       "      <td>1</td>\n",
       "    </tr>\n",
       "    <tr>\n",
       "      <th>1</th>\n",
       "      <td>2</td>\n",
       "    </tr>\n",
       "  </tbody>\n",
       "</table>\n",
       "</div>"
      ],
      "text/plain": [
       "   Time\n",
       "0     1\n",
       "1     2"
      ]
     },
     "execution_count": 31,
     "metadata": {},
     "output_type": "execute_result"
    }
   ],
   "source": [
    "x = data[[fixed_effect]]\n",
    "x.head(2)"
   ]
  },
  {
   "cell_type": "code",
   "execution_count": 32,
   "metadata": {},
   "outputs": [],
   "source": [
    "x = x.assign(intercept=1).set_index(\"intercept\").reset_index()"
   ]
  },
  {
   "cell_type": "code",
   "execution_count": 33,
   "metadata": {},
   "outputs": [],
   "source": [
    "u = data[grouping_var].unique()"
   ]
  },
  {
   "cell_type": "code",
   "execution_count": 34,
   "metadata": {},
   "outputs": [
    {
     "data": {
      "text/plain": [
       "array([4601, 4602, 4603, 4605, 4641, 4643, 4645, 4756, 4757, 4759, 4760,\n",
       "       4813, 4814, 4815, 4817, 4854, 4856, 4857, 4858, 5389, 5392, 5497,\n",
       "       5500, 5501, 5502, 5524, 5527, 5528, 5578, 5581, 5582, 5850, 5851,\n",
       "       5852, 5862, 5865, 5866, 6055, 6056, 6057, 6058, 6207, 6208, 6211,\n",
       "       6284, 6287, 6288, 6430, 6432, 6433, 6909, 6910, 6912, 8049, 8050,\n",
       "       8051, 8053, 8139, 8141, 8142, 8144, 8191, 8192, 8193, 8195, 8269,\n",
       "       8270, 8271, 8273, 8437, 8439, 8442])"
      ]
     },
     "execution_count": 34,
     "metadata": {},
     "output_type": "execute_result"
    }
   ],
   "source": [
    "u"
   ]
  },
  {
   "cell_type": "code",
   "execution_count": 35,
   "metadata": {},
   "outputs": [
    {
     "data": {
      "text/plain": [
       "72"
      ]
     },
     "execution_count": 35,
     "metadata": {},
     "output_type": "execute_result"
    }
   ],
   "source": [
    "len(u)"
   ]
  },
  {
   "cell_type": "code",
   "execution_count": 36,
   "metadata": {},
   "outputs": [
    {
     "data": {
      "text/plain": [
       "0      4601\n",
       "1      4601\n",
       "2      4601\n",
       "3      4601\n",
       "4      4601\n",
       "       ... \n",
       "856    8442\n",
       "857    8442\n",
       "858    8442\n",
       "859    8442\n",
       "860    8442\n",
       "Name: Pig, Length: 861, dtype: int64"
      ]
     },
     "execution_count": 36,
     "metadata": {},
     "output_type": "execute_result"
    }
   ],
   "source": [
    "data[grouping_var]"
   ]
  },
  {
   "cell_type": "code",
   "execution_count": 37,
   "metadata": {},
   "outputs": [
    {
     "data": {
      "text/plain": [
       "4601    12\n",
       "4602    12\n",
       "4603    12\n",
       "4605    12\n",
       "4641    12\n",
       "        ..\n",
       "8271    12\n",
       "8273    12\n",
       "8437    12\n",
       "8439    12\n",
       "8442    12\n",
       "Name: Pig, Length: 72, dtype: int64"
      ]
     },
     "execution_count": 37,
     "metadata": {},
     "output_type": "execute_result"
    }
   ],
   "source": [
    "data[grouping_var].value_counts().sort_index()"
   ]
  },
  {
   "cell_type": "code",
   "execution_count": 38,
   "metadata": {},
   "outputs": [
    {
     "data": {
      "text/plain": [
       "5528    11\n",
       "5524    11\n",
       "5527    11\n",
       "8141    12\n",
       "8139    12\n",
       "        ..\n",
       "6288    12\n",
       "8437    12\n",
       "8439    12\n",
       "8271    12\n",
       "4645    12\n",
       "Name: Pig, Length: 72, dtype: int64"
      ]
     },
     "execution_count": 38,
     "metadata": {},
     "output_type": "execute_result"
    }
   ],
   "source": [
    "data[grouping_var].value_counts().sort_values()"
   ]
  },
  {
   "cell_type": "code",
   "execution_count": 39,
   "metadata": {},
   "outputs": [],
   "source": [
    "z_list = list()\n",
    "for cluster_group in u:\n",
    "    tmp = data.loc[data[grouping_var]==cluster_group, grouping_var]\n",
    "#     print(cluster_group)\n",
    "\n",
    "#     np.pad(tmp, (tmp.index.tolist()[0], data[clusters].shape[0] - tmp.index.tolist()[-1]+1))\n",
    "    \n",
    "    z_list.append(np.pad(tmp, (tmp.index.tolist()[0], data[grouping_var].shape[0] - tmp.index.tolist()[-1]+1)))"
   ]
  },
  {
   "cell_type": "code",
   "execution_count": 40,
   "metadata": {},
   "outputs": [
    {
     "data": {
      "text/plain": [
       "(863,)"
      ]
     },
     "execution_count": 40,
     "metadata": {},
     "output_type": "execute_result"
    }
   ],
   "source": [
    "z_list[1].shape"
   ]
  },
  {
   "cell_type": "code",
   "execution_count": 41,
   "metadata": {},
   "outputs": [],
   "source": [
    "possible_Z_df = pd.DataFrame(np.vstack(z_list).T)#.head(50)"
   ]
  },
  {
   "cell_type": "code",
   "execution_count": null,
   "metadata": {},
   "outputs": [],
   "source": [
    "possible_Z_df"
   ]
  },
  {
   "cell_type": "code",
   "execution_count": null,
   "metadata": {},
   "outputs": [],
   "source": [
    "binary_df = np.where(possible_Z_df > 0 , 1, possible_Z_df)"
   ]
  },
  {
   "cell_type": "code",
   "execution_count": null,
   "metadata": {},
   "outputs": [],
   "source": [
    "_ = plt.figure(figsize=(15, 10))\n",
    "_ = sns.heatmap(binary_df)"
   ]
  },
  {
   "cell_type": "code",
   "execution_count": null,
   "metadata": {},
   "outputs": [],
   "source": [
    "# Z = possible_Z_df.loc[0: 860].values\n",
    "Z = binary_df[0: 861]"
   ]
  },
  {
   "cell_type": "code",
   "execution_count": null,
   "metadata": {},
   "outputs": [],
   "source": [
    "Z"
   ]
  },
  {
   "cell_type": "markdown",
   "metadata": {},
   "source": [
    "<img src=\"https://wikimedia.org/api/rest_v1/media/math/render/svg/e00ba9a8e13237ca374d55bb3070aebd12a5b8e4\" />"
   ]
  },
  {
   "cell_type": "code",
   "execution_count": null,
   "metadata": {},
   "outputs": [],
   "source": [
    "x.shape, y.shape"
   ]
  },
  {
   "cell_type": "code",
   "execution_count": null,
   "metadata": {},
   "outputs": [],
   "source": [
    "x.head()"
   ]
  },
  {
   "cell_type": "code",
   "execution_count": null,
   "metadata": {},
   "outputs": [],
   "source": [
    "x.shape"
   ]
  },
  {
   "cell_type": "code",
   "execution_count": null,
   "metadata": {},
   "outputs": [],
   "source": [
    "Z.shape"
   ]
  },
  {
   "cell_type": "code",
   "execution_count": null,
   "metadata": {},
   "outputs": [],
   "source": [
    "y.values.reshape(-1, 1).shape"
   ]
  },
  {
   "cell_type": "code",
   "execution_count": null,
   "metadata": {},
   "outputs": [],
   "source": [
    "data[target] "
   ]
  },
  {
   "cell_type": "code",
   "execution_count": null,
   "metadata": {},
   "outputs": [],
   "source": [
    "z_list = list()\n",
    "for cluster_group in u:\n",
    "    tmp = data.loc[data[grouping_var]==cluster_group, random_slope]\n",
    "#     print(cluster_group)\n",
    "\n",
    "#     np.pad(tmp, (tmp.index.tolist()[0], data[clusters].shape[0] - tmp.index.tolist()[-1]+1))\n",
    "    \n",
    "    z_list.append(np.pad(tmp, (tmp.index.tolist()[0], data[grouping_var].shape[0] - tmp.index.tolist()[-1]+1)))"
   ]
  },
  {
   "cell_type": "code",
   "execution_count": null,
   "metadata": {},
   "outputs": [],
   "source": [
    "z_list[1].shape"
   ]
  },
  {
   "cell_type": "code",
   "execution_count": null,
   "metadata": {},
   "outputs": [],
   "source": [
    "possible_Z_slope_df = pd.DataFrame(np.vstack(z_list).T)[0: 861]#.head(50)"
   ]
  },
  {
   "cell_type": "code",
   "execution_count": null,
   "metadata": {},
   "outputs": [],
   "source": [
    "Z"
   ]
  },
  {
   "cell_type": "code",
   "execution_count": null,
   "metadata": {},
   "outputs": [],
   "source": [
    "_ = plt.figure(figsize=(15, 10))\n",
    "_ = sns.heatmap(possible_Z_slope_df)"
   ]
  },
  {
   "cell_type": "code",
   "execution_count": null,
   "metadata": {},
   "outputs": [],
   "source": [
    "Z.shape"
   ]
  },
  {
   "cell_type": "code",
   "execution_count": null,
   "metadata": {},
   "outputs": [],
   "source": [
    "possible_Z_slope_df.values.shape"
   ]
  },
  {
   "cell_type": "code",
   "execution_count": null,
   "metadata": {},
   "outputs": [],
   "source": [
    "# ntheta = x.shape[1]\n",
    "ntheta_fixed = 2 #(intercept, time,)\n",
    "ntheta_random = 72 #(amount of pigs groups)\n",
    "theta_fixed = ca.SX.sym(\"theta_fixed\", ntheta_fixed)\n",
    "# theta_random = ca.SX.sym(\"theta_random\", ntheta_random)\n",
    "theta_random = ca.SX.sym(\"theta_random\", ntheta_random*2) # *2 because of random slope of time\n",
    "\n",
    "alpha=1\n",
    "\n",
    "model_method = \"ols\""
   ]
  },
  {
   "cell_type": "code",
   "execution_count": null,
   "metadata": {},
   "outputs": [],
   "source": [
    "# model_lmm = ca.mtimes(x.values, theta_fixed) + ca.mtimes(Z, theta_random)"
   ]
  },
  {
   "cell_type": "code",
   "execution_count": null,
   "metadata": {},
   "outputs": [],
   "source": [
    "# model_fixed = ca.mtimes(x.values, theta_fixed) + ca.mtimes(Z_random_intercept, theta_random) + ca.mtimes(Z_random_slope, theta_random)"
   ]
  },
  {
   "cell_type": "code",
   "execution_count": null,
   "metadata": {},
   "outputs": [],
   "source": [
    "theta_random[0:ntheta_random].shape"
   ]
  },
  {
   "cell_type": "code",
   "execution_count": null,
   "metadata": {},
   "outputs": [],
   "source": [
    "theta_random[ntheta_random:].shape"
   ]
  },
  {
   "cell_type": "code",
   "execution_count": null,
   "metadata": {},
   "outputs": [],
   "source": [
    "model_lmm = ca.mtimes(x.values, theta_fixed) + ca.mtimes(Z, theta_random[0:ntheta_random]) + ca.mtimes(possible_Z_slope_df.values, theta_random[ntheta_random:])"
   ]
  },
  {
   "cell_type": "code",
   "execution_count": null,
   "metadata": {},
   "outputs": [],
   "source": [
    "# create residual\n",
    "e = y.values.reshape(-1, 1) - model_lmm"
   ]
  },
  {
   "cell_type": "code",
   "execution_count": null,
   "metadata": {},
   "outputs": [],
   "source": [
    "# ca.vertcat([ntheta_fixed, ntheta_random])\n",
    "# ca.vertcat(theta_fixed, theta_random)"
   ]
  },
  {
   "cell_type": "code",
   "execution_count": null,
   "metadata": {},
   "outputs": [],
   "source": [
    "# # create residual\n",
    "# e = y - ca.mtimes(x, theta)\n",
    "\n",
    "\n",
    "if model_method == \"ols\":\n",
    "    # create optimization problem (x: optimization parameter, f: cost function)\n",
    "    nlp = {\"x\": ca.vertcat(theta_fixed, theta_random), \"f\": 0.5 * ca.dot(e, e), }\n",
    "\n",
    "elif model_method == \"lasso\":\n",
    "    # CASE with regularization in cost function (LASSO)\n",
    "    nlp = {\"x\": ca.vertcat(theta_fixed, theta_random), \"f\": 0.5*ca.dot(e, e) + 0.5*alpha*ca.sum1(ca.fabs(theta_fixed))}\n",
    "\n",
    "else:\n",
    "    # CASE with regularization in cost function (RIDGE)\n",
    "    nlp = {\"x\": ca.vertcat(theta_fixed, theta_random), \"f\": 0.5*ca.dot(e, e) + 0.5*alpha*ca.dot(theta_fixed, theta_fixed)}\n",
    "\n",
    "# solve opt\n",
    "solver = ca.nlpsol(\"ols\", \"ipopt\", nlp)\n",
    "# sol = solver(x0=np.zeros(ntheta_fixed + ntheta_random))\n",
    "sol = solver(x0=np.zeros(ntheta_fixed + ntheta_random*2))\n",
    "\n",
    "theta_est = sol[\"x\"]\n",
    "\n",
    "# print(f\"theta true: {coef}\")\n",
    "print(f\"\\ntheta comparison:\\n {mdf.params}\")\n",
    "print(f\"theta est: {theta_est}\")"
   ]
  },
  {
   "cell_type": "code",
   "execution_count": null,
   "metadata": {},
   "outputs": [],
   "source": [
    "results = flatten(theta_est.toarray().tolist())\n",
    "np.array(results)"
   ]
  },
  {
   "cell_type": "code",
   "execution_count": null,
   "metadata": {},
   "outputs": [],
   "source": [
    "ca_fixef = pd.DataFrame({\"(Intercept)\": results[1:ntheta_random+1],\n",
    "              \"Time\": results[ntheta_random+1:]},\n",
    "                       index=flatten(data[[grouping_var]].groupby(grouping_var).head(1).values.tolist()))\n",
    "ca_fixef"
   ]
  },
  {
   "cell_type": "code",
   "execution_count": null,
   "metadata": {},
   "outputs": [],
   "source": [
    "mdp.fixef"
   ]
  },
  {
   "cell_type": "code",
   "execution_count": null,
   "metadata": {},
   "outputs": [],
   "source": [
    "mdf.summary()"
   ]
  },
  {
   "cell_type": "code",
   "execution_count": null,
   "metadata": {},
   "outputs": [],
   "source": [
    "mdp.summary()"
   ]
  },
  {
   "cell_type": "code",
   "execution_count": null,
   "metadata": {},
   "outputs": [],
   "source": [
    "len(Z)"
   ]
  },
  {
   "cell_type": "markdown",
   "metadata": {},
   "source": [
    "<img src=\"https://wikimedia.org/api/rest_v1/media/math/render/svg/e00ba9a8e13237ca374d55bb3070aebd12a5b8e4\" />"
   ]
  },
  {
   "cell_type": "markdown",
   "metadata": {},
   "source": [
    "### `y = XB + Z*u + Z_s*u_s + E`"
   ]
  },
  {
   "cell_type": "code",
   "execution_count": null,
   "metadata": {},
   "outputs": [],
   "source": [
    "# x.assign(intercept=1).set_index(\"intercept\").reset_index() * results[0:2]\n",
    "# x * results[0]\n",
    "# np.dot(Z, np.repeat(results[1:], repeats=12)[:-3].reshape(1,-1))\n",
    "Zu = np.dot(Z, results[1:ntheta_random+1])\n",
    "Z_s_u_s = np.dot(possible_Z_slope_df.values, results[ntheta_random+1:])"
   ]
  },
  {
   "cell_type": "code",
   "execution_count": null,
   "metadata": {},
   "outputs": [],
   "source": [
    "XB = x * results[0]"
   ]
  },
  {
   "cell_type": "code",
   "execution_count": null,
   "metadata": {},
   "outputs": [],
   "source": [
    "fitted_values = XB.add(pd.Series(Zu), axis=0).add(pd.Series(Z_s_u_s), axis=0)"
   ]
  },
  {
   "cell_type": "code",
   "execution_count": null,
   "metadata": {},
   "outputs": [],
   "source": [
    "_ = plt.scatter(mdf.fittedvalues, data[target])"
   ]
  },
  {
   "cell_type": "code",
   "execution_count": null,
   "metadata": {},
   "outputs": [],
   "source": [
    "_ = plt.scatter(mdp.fits, data[target])"
   ]
  },
  {
   "cell_type": "code",
   "execution_count": null,
   "metadata": {},
   "outputs": [],
   "source": [
    "_ = plt.scatter(fitted_values, y)"
   ]
  },
  {
   "cell_type": "code",
   "execution_count": null,
   "metadata": {},
   "outputs": [],
   "source": [
    "_ = plt.scatter(fitted_values, mdf.fittedvalues)"
   ]
  },
  {
   "cell_type": "code",
   "execution_count": null,
   "metadata": {},
   "outputs": [],
   "source": [
    "pred_target_df = pd.concat([fitted_values, y, data[grouping_var]], axis=1).rename(columns={\"Time\": \"fitted\", \"Weight\": \"target\"})"
   ]
  },
  {
   "cell_type": "code",
   "execution_count": null,
   "metadata": {},
   "outputs": [],
   "source": [
    "pred_target_df.info()"
   ]
  },
  {
   "cell_type": "code",
   "execution_count": null,
   "metadata": {},
   "outputs": [],
   "source": [
    "pred_target_df[grouping_var] = pred_target_df[grouping_var].astype(\"category\")"
   ]
  },
  {
   "cell_type": "code",
   "execution_count": null,
   "metadata": {},
   "outputs": [],
   "source": [
    "_ = sns.scatterplot(data=pred_target_df,\n",
    "                   x=\"fitted\",\n",
    "                   y=\"target\",\n",
    "                   hue=\"Pig\",\n",
    "                   legend=False)"
   ]
  },
  {
   "cell_type": "code",
   "execution_count": null,
   "metadata": {},
   "outputs": [],
   "source": [
    "# order_of_estimates = fixed_intercept, fixed_coefficients, random_intercept, random_slope"
   ]
  },
  {
   "cell_type": "code",
   "execution_count": null,
   "metadata": {},
   "outputs": [],
   "source": [
    "len(results)"
   ]
  },
  {
   "cell_type": "code",
   "execution_count": null,
   "metadata": {},
   "outputs": [],
   "source": [
    "sol"
   ]
  }
 ],
 "metadata": {
  "kernelspec": {
   "display_name": "romeo",
   "language": "python",
   "name": "romeo"
  },
  "language_info": {
   "codemirror_mode": {
    "name": "ipython",
    "version": 3
   },
   "file_extension": ".py",
   "mimetype": "text/x-python",
   "name": "python",
   "nbconvert_exporter": "python",
   "pygments_lexer": "ipython3",
   "version": "3.8.5"
  }
 },
 "nbformat": 4,
 "nbformat_minor": 4
}
