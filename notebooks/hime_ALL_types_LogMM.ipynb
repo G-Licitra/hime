{
 "cells": [
  {
   "cell_type": "markdown",
   "id": "piano-integer",
   "metadata": {},
   "source": [
    "# Exploring the different Logistic Mixed Model regressions which use the `hime.LogisticRegression` class as the `BaseEstimator`"
   ]
  },
  {
   "cell_type": "code",
   "execution_count": 33,
   "id": "electoral-keeping",
   "metadata": {},
   "outputs": [],
   "source": [
    "import os\n",
    "import numpy as np\n",
    "import pandas as pd\n",
    "import seaborn as sns\n",
    "import matplotlib.pyplot as plt\n",
    "# from sklearn.datasets import make_regression\n",
    "# from sklearn.metrics import r2_score\n",
    "from sklearn.metrics import log_loss, roc_curve, roc_auc_score, confusion_matrix\n",
    "from sklearn.preprocessing import MinMaxScaler\n",
    "import session_info\n",
    "import scipy"
   ]
  },
  {
   "cell_type": "code",
   "execution_count": 2,
   "id": "active-personality",
   "metadata": {},
   "outputs": [],
   "source": [
    "import statsmodels.api as sm\n",
    "# import statsmodels.formula.api as smf"
   ]
  },
  {
   "cell_type": "code",
   "execution_count": 3,
   "id": "latin-excuse",
   "metadata": {},
   "outputs": [],
   "source": [
    "current_wd = os.getcwd()\n",
    "os.chdir(current_wd.split(\"/notebook\")[0])\n",
    "# from hime.linear_model import LinearRegression, LassoRegression, RidgeRegression\n",
    "from hime.multi_level_model import LogisticMixedRegression\n",
    "os.chdir(current_wd)"
   ]
  },
  {
   "cell_type": "code",
   "execution_count": 4,
   "id": "after-missile",
   "metadata": {},
   "outputs": [
    {
     "data": {
      "text/html": [
       "<details>\n",
       "<summary>Click to view session information</summary>\n",
       "<pre>\n",
       "-----\n",
       "hime                0.0.1\n",
       "matplotlib          3.3.4\n",
       "numpy               1.20.3\n",
       "pandas              1.1.5\n",
       "seaborn             0.11.1\n",
       "session_info        1.0.0\n",
       "sklearn             0.23.2\n",
       "statsmodels         0.12.2\n",
       "-----\n",
       "</pre>\n",
       "<details>\n",
       "<summary>Click to view modules imported as dependencies</summary>\n",
       "<pre>\n",
       "PIL                 8.3.1\n",
       "anyio               NA\n",
       "appnope             0.1.2\n",
       "attr                21.2.0\n",
       "babel               2.9.1\n",
       "backcall            0.2.0\n",
       "beta_ufunc          NA\n",
       "binom_ufunc         NA\n",
       "brotli              NA\n",
       "casadi              3.5.5\n",
       "certifi             2020.06.20\n",
       "cffi                1.14.6\n",
       "chardet             4.0.0\n",
       "charset_normalizer  2.0.0\n",
       "cycler              0.10.0\n",
       "cython_runtime      NA\n",
       "dateutil            2.8.2\n",
       "decorator           5.0.9\n",
       "defusedxml          0.7.1\n",
       "idna                3.1\n",
       "ipykernel           6.0.3\n",
       "ipython_genutils    0.2.0\n",
       "jedi                0.18.0\n",
       "jinja2              3.0.1\n",
       "joblib              1.0.1\n",
       "json5               NA\n",
       "jsonschema          3.2.0\n",
       "jupyter_server      1.10.1\n",
       "jupyterlab_server   2.6.1\n",
       "kiwisolver          1.3.1\n",
       "markupsafe          2.0.1\n",
       "matplotlib_inline   NA\n",
       "mpl_toolkits        NA\n",
       "nbclassic           NA\n",
       "nbformat            5.1.3\n",
       "nbinom_ufunc        NA\n",
       "packaging           21.0\n",
       "parso               0.8.2\n",
       "patsy               0.5.1\n",
       "pexpect             4.8.0\n",
       "pickleshare         0.7.5\n",
       "pkg_resources       NA\n",
       "prometheus_client   NA\n",
       "prompt_toolkit      3.0.19\n",
       "ptyprocess          0.7.0\n",
       "pvectorc            NA\n",
       "pygments            2.9.0\n",
       "pyparsing           2.4.7\n",
       "pyrsistent          NA\n",
       "pytz                2021.1\n",
       "requests            2.26.0\n",
       "scipy               1.7.0\n",
       "send2trash          NA\n",
       "six                 1.16.0\n",
       "sniffio             1.2.0\n",
       "socks               1.7.1\n",
       "storemagic          NA\n",
       "swig_runtime_data4  NA\n",
       "terminado           0.10.1\n",
       "tornado             6.1\n",
       "traitlets           5.0.5\n",
       "urllib3             1.26.6\n",
       "wcwidth             0.2.5\n",
       "websocket           0.57.0\n",
       "zmq                 22.1.0\n",
       "</pre>\n",
       "</details> <!-- seems like this ends pre, so might as well be explicit -->\n",
       "<pre>\n",
       "-----\n",
       "IPython             7.25.0\n",
       "jupyter_client      6.1.12\n",
       "jupyter_core        4.7.1\n",
       "jupyterlab          3.1.1\n",
       "notebook            6.4.0\n",
       "-----\n",
       "Python 3.8.10 (default, May 19 2021, 11:01:55) [Clang 10.0.0 ]\n",
       "macOS-10.16-x86_64-i386-64bit\n",
       "-----\n",
       "Session information updated at 2021-12-08 16:09\n",
       "</pre>\n",
       "</details>"
      ],
      "text/plain": [
       "<IPython.core.display.HTML object>"
      ]
     },
     "execution_count": 4,
     "metadata": {},
     "output_type": "execute_result"
    }
   ],
   "source": [
    "session_info.show(write_req_file=False)"
   ]
  },
  {
   "cell_type": "markdown",
   "id": "boxed-spirit",
   "metadata": {
    "tags": []
   },
   "source": [
    "## Make X and y data"
   ]
  },
  {
   "cell_type": "code",
   "execution_count": 5,
   "id": "partial-turner",
   "metadata": {},
   "outputs": [],
   "source": [
    "data = sm.datasets.get_rdataset('dietox', 'geepack').data"
   ]
  },
  {
   "cell_type": "code",
   "execution_count": 6,
   "id": "defined-chemical",
   "metadata": {},
   "outputs": [
    {
     "name": "stderr",
     "output_type": "stream",
     "text": [
      "Note: NumExpr detected 12 cores but \"NUMEXPR_MAX_THREADS\" not set, so enforcing safe limit of 8.\n",
      "NumExpr defaulting to 8 threads.\n"
     ]
    }
   ],
   "source": [
    "data = data.assign(Weight_bin = (data[\"Weight\"] > 40).astype(int))"
   ]
  },
  {
   "cell_type": "code",
   "execution_count": 7,
   "id": "musical-chest",
   "metadata": {},
   "outputs": [
    {
     "data": {
      "text/html": [
       "<div>\n",
       "<style scoped>\n",
       "    .dataframe tbody tr th:only-of-type {\n",
       "        vertical-align: middle;\n",
       "    }\n",
       "\n",
       "    .dataframe tbody tr th {\n",
       "        vertical-align: top;\n",
       "    }\n",
       "\n",
       "    .dataframe thead th {\n",
       "        text-align: right;\n",
       "    }\n",
       "</style>\n",
       "<table border=\"1\" class=\"dataframe\">\n",
       "  <thead>\n",
       "    <tr style=\"text-align: right;\">\n",
       "      <th></th>\n",
       "      <th>Pig</th>\n",
       "      <th>Evit</th>\n",
       "      <th>Cu</th>\n",
       "      <th>Litter</th>\n",
       "      <th>Start</th>\n",
       "      <th>Weight</th>\n",
       "      <th>Feed</th>\n",
       "      <th>Time</th>\n",
       "      <th>Weight_bin</th>\n",
       "    </tr>\n",
       "  </thead>\n",
       "  <tbody>\n",
       "    <tr>\n",
       "      <th>0</th>\n",
       "      <td>4601</td>\n",
       "      <td>Evit000</td>\n",
       "      <td>Cu000</td>\n",
       "      <td>1</td>\n",
       "      <td>26.5</td>\n",
       "      <td>26.50000</td>\n",
       "      <td>NaN</td>\n",
       "      <td>1</td>\n",
       "      <td>0</td>\n",
       "    </tr>\n",
       "    <tr>\n",
       "      <th>1</th>\n",
       "      <td>4601</td>\n",
       "      <td>Evit000</td>\n",
       "      <td>Cu000</td>\n",
       "      <td>1</td>\n",
       "      <td>26.5</td>\n",
       "      <td>27.59999</td>\n",
       "      <td>5.200005</td>\n",
       "      <td>2</td>\n",
       "      <td>0</td>\n",
       "    </tr>\n",
       "    <tr>\n",
       "      <th>2</th>\n",
       "      <td>4601</td>\n",
       "      <td>Evit000</td>\n",
       "      <td>Cu000</td>\n",
       "      <td>1</td>\n",
       "      <td>26.5</td>\n",
       "      <td>36.50000</td>\n",
       "      <td>17.600000</td>\n",
       "      <td>3</td>\n",
       "      <td>0</td>\n",
       "    </tr>\n",
       "    <tr>\n",
       "      <th>3</th>\n",
       "      <td>4601</td>\n",
       "      <td>Evit000</td>\n",
       "      <td>Cu000</td>\n",
       "      <td>1</td>\n",
       "      <td>26.5</td>\n",
       "      <td>40.29999</td>\n",
       "      <td>28.500000</td>\n",
       "      <td>4</td>\n",
       "      <td>1</td>\n",
       "    </tr>\n",
       "    <tr>\n",
       "      <th>4</th>\n",
       "      <td>4601</td>\n",
       "      <td>Evit000</td>\n",
       "      <td>Cu000</td>\n",
       "      <td>1</td>\n",
       "      <td>26.5</td>\n",
       "      <td>49.09998</td>\n",
       "      <td>45.200001</td>\n",
       "      <td>5</td>\n",
       "      <td>1</td>\n",
       "    </tr>\n",
       "  </tbody>\n",
       "</table>\n",
       "</div>"
      ],
      "text/plain": [
       "    Pig     Evit     Cu  Litter  Start    Weight       Feed  Time  Weight_bin\n",
       "0  4601  Evit000  Cu000       1   26.5  26.50000        NaN     1           0\n",
       "1  4601  Evit000  Cu000       1   26.5  27.59999   5.200005     2           0\n",
       "2  4601  Evit000  Cu000       1   26.5  36.50000  17.600000     3           0\n",
       "3  4601  Evit000  Cu000       1   26.5  40.29999  28.500000     4           1\n",
       "4  4601  Evit000  Cu000       1   26.5  49.09998  45.200001     5           1"
      ]
     },
     "execution_count": 7,
     "metadata": {},
     "output_type": "execute_result"
    }
   ],
   "source": [
    "data.head()"
   ]
  },
  {
   "cell_type": "code",
   "execution_count": 8,
   "id": "limited-chancellor",
   "metadata": {},
   "outputs": [],
   "source": [
    "df_train = data.sample(frac=0.8, random_state=69420)\n",
    "df_test = data.drop(df_train.index)"
   ]
  },
  {
   "cell_type": "code",
   "execution_count": 9,
   "id": "subtle-buffer",
   "metadata": {},
   "outputs": [
    {
     "data": {
      "text/plain": [
       "((689, 9), (172, 9))"
      ]
     },
     "execution_count": 9,
     "metadata": {},
     "output_type": "execute_result"
    }
   ],
   "source": [
    "df_train.shape, df_test.shape"
   ]
  },
  {
   "cell_type": "markdown",
   "id": "valid-express",
   "metadata": {},
   "source": [
    "## Fit the romeo LinearMixedRegression"
   ]
  },
  {
   "cell_type": "code",
   "execution_count": 10,
   "id": "neither-motel",
   "metadata": {},
   "outputs": [],
   "source": [
    "mixed_dict = {\"target\": \"Weight_bin\",\n",
    "\"fixed_effect\": \"Time\",\n",
    "\"grouping_var\": \"Pig\",\n",
    "\"random_slope\": \"Time\"}"
   ]
  },
  {
   "cell_type": "code",
   "execution_count": 11,
   "id": "brave-fence",
   "metadata": {},
   "outputs": [],
   "source": [
    "def unpack_X(df, fixed_effect, grouping_var, random_slope, target):\n",
    "    X=df[fixed_effect]\n",
    "    u=df[grouping_var].unique()\n",
    "    random_slope_array=df[random_slope]\n",
    "    y=df[target]\n",
    "    return X, y, u, random_slope"
   ]
  },
  {
   "cell_type": "code",
   "execution_count": 12,
   "id": "collect-fossil",
   "metadata": {},
   "outputs": [],
   "source": [
    "# unpack_X(df_train, **mixed_dict)"
   ]
  },
  {
   "cell_type": "code",
   "execution_count": 13,
   "id": "moved-genesis",
   "metadata": {},
   "outputs": [],
   "source": [
    "reg = LogisticMixedRegression(fit_intercept=True,\n",
    "                      normalize=True).fit(X=data[[mixed_dict[\"fixed_effect\"], mixed_dict[\"grouping_var\"]]],\n",
    "                                         y=data[mixed_dict[\"target\"]],\n",
    "                                          verbose=False,\n",
    "                                         kwargs=mixed_dict)"
   ]
  },
  {
   "cell_type": "code",
   "execution_count": 14,
   "id": "electoral-mirror",
   "metadata": {},
   "outputs": [
    {
     "data": {
      "text/plain": [
       "array([4601, 4602, 4603, 4605, 4641, 4643, 4645, 4756, 4757, 4759, 4760,\n",
       "       4813, 4814, 4815, 4817, 4854, 4856, 4857, 4858, 5389, 5392, 5497,\n",
       "       5500, 5501, 5502, 5524, 5527, 5528, 5578, 5581, 5582, 5850, 5851,\n",
       "       5852, 5862, 5865, 5866, 6055, 6056, 6057, 6058, 6207, 6208, 6211,\n",
       "       6284, 6287, 6288, 6430, 6432, 6433, 6909, 6910, 6912, 8049, 8050,\n",
       "       8051, 8053, 8139, 8141, 8142, 8144, 8191, 8192, 8193, 8195, 8269,\n",
       "       8270, 8271, 8273, 8437, 8439, 8442])"
      ]
     },
     "execution_count": 14,
     "metadata": {},
     "output_type": "execute_result"
    }
   ],
   "source": [
    "reg.u"
   ]
  },
  {
   "cell_type": "code",
   "execution_count": 15,
   "id": "meaning-ecuador",
   "metadata": {},
   "outputs": [
    {
     "data": {
      "text/plain": [
       "144.81219887399047"
      ]
     },
     "execution_count": 15,
     "metadata": {},
     "output_type": "execute_result"
    }
   ],
   "source": [
    "reg.intercept_"
   ]
  },
  {
   "cell_type": "code",
   "execution_count": 16,
   "id": "focused-apache",
   "metadata": {},
   "outputs": [
    {
     "data": {
      "text/html": [
       "<div>\n",
       "<style scoped>\n",
       "    .dataframe tbody tr th:only-of-type {\n",
       "        vertical-align: middle;\n",
       "    }\n",
       "\n",
       "    .dataframe tbody tr th {\n",
       "        vertical-align: top;\n",
       "    }\n",
       "\n",
       "    .dataframe thead th {\n",
       "        text-align: right;\n",
       "    }\n",
       "</style>\n",
       "<table border=\"1\" class=\"dataframe\">\n",
       "  <thead>\n",
       "    <tr style=\"text-align: right;\">\n",
       "      <th></th>\n",
       "      <th>coef</th>\n",
       "    </tr>\n",
       "  </thead>\n",
       "  <tbody>\n",
       "    <tr>\n",
       "      <th>intercept</th>\n",
       "      <td>144.812199</td>\n",
       "    </tr>\n",
       "    <tr>\n",
       "      <th>Time</th>\n",
       "      <td>30.775826</td>\n",
       "    </tr>\n",
       "    <tr>\n",
       "      <th>4601</th>\n",
       "      <td>-252.589299</td>\n",
       "    </tr>\n",
       "    <tr>\n",
       "      <th>4602</th>\n",
       "      <td>-252.589299</td>\n",
       "    </tr>\n",
       "    <tr>\n",
       "      <th>4603</th>\n",
       "      <td>-252.589299</td>\n",
       "    </tr>\n",
       "    <tr>\n",
       "      <th>...</th>\n",
       "      <td>...</td>\n",
       "    </tr>\n",
       "    <tr>\n",
       "      <th>8271</th>\n",
       "      <td>-252.589299</td>\n",
       "    </tr>\n",
       "    <tr>\n",
       "      <th>8273</th>\n",
       "      <td>-252.589299</td>\n",
       "    </tr>\n",
       "    <tr>\n",
       "      <th>8437</th>\n",
       "      <td>-252.589299</td>\n",
       "    </tr>\n",
       "    <tr>\n",
       "      <th>8439</th>\n",
       "      <td>-252.589299</td>\n",
       "    </tr>\n",
       "    <tr>\n",
       "      <th>8442</th>\n",
       "      <td>-283.100461</td>\n",
       "    </tr>\n",
       "  </tbody>\n",
       "</table>\n",
       "<p>74 rows × 1 columns</p>\n",
       "</div>"
      ],
      "text/plain": [
       "                 coef\n",
       "intercept  144.812199\n",
       "Time        30.775826\n",
       "4601      -252.589299\n",
       "4602      -252.589299\n",
       "4603      -252.589299\n",
       "...               ...\n",
       "8271      -252.589299\n",
       "8273      -252.589299\n",
       "8437      -252.589299\n",
       "8439      -252.589299\n",
       "8442      -283.100461\n",
       "\n",
       "[74 rows x 1 columns]"
      ]
     },
     "execution_count": 16,
     "metadata": {},
     "output_type": "execute_result"
    }
   ],
   "source": [
    "reg.summary_"
   ]
  },
  {
   "cell_type": "code",
   "execution_count": 17,
   "id": "intermediate-training",
   "metadata": {},
   "outputs": [],
   "source": [
    "# reg.fit_evaluation_.round(3)"
   ]
  },
  {
   "cell_type": "code",
   "execution_count": 18,
   "id": "sonic-promotion",
   "metadata": {},
   "outputs": [],
   "source": [
    "intercept = reg.intercept_\n",
    "coefs = reg.coef_"
   ]
  },
  {
   "cell_type": "markdown",
   "id": "clinical-genius",
   "metadata": {},
   "source": [
    "## Plot the target vs the fitted values"
   ]
  },
  {
   "cell_type": "code",
   "execution_count": 19,
   "id": "committed-timing",
   "metadata": {},
   "outputs": [
    {
     "data": {
      "text/plain": [
       "0     -221.813473\n",
       "1     -191.037647\n",
       "2     -160.261821\n",
       "3     -129.485994\n",
       "4      -98.710168\n",
       "          ...    \n",
       "856    -36.893851\n",
       "857     -6.118025\n",
       "858     24.657801\n",
       "859     55.433627\n",
       "860     86.209454\n",
       "Length: 861, dtype: float64"
      ]
     },
     "execution_count": 19,
     "metadata": {},
     "output_type": "execute_result"
    }
   ],
   "source": [
    "reg.fitted_values"
   ]
  },
  {
   "cell_type": "code",
   "execution_count": 20,
   "id": "literary-raise",
   "metadata": {},
   "outputs": [
    {
     "data": {
      "image/png": "[encoded data removed]",
      "text/plain": [
       "<Figure size 432x288 with 1 Axes>"
      ]
     },
     "metadata": {
      "needs_background": "light"
     },
     "output_type": "display_data"
    }
   ],
   "source": [
    "_ = plt.scatter(reg.fitted_values, data[mixed_dict[\"target\"]])"
   ]
  },
  {
   "cell_type": "code",
   "execution_count": 22,
   "id": "d792bd7d-8b21-4871-b119-421d2de34a5f",
   "metadata": {},
   "outputs": [
    {
     "data": {
      "text/plain": [
       "0     -221.813473\n",
       "1     -191.037647\n",
       "2     -160.261821\n",
       "3     -129.485994\n",
       "4      -98.710168\n",
       "          ...    \n",
       "856    -36.893851\n",
       "857     -6.118025\n",
       "858     24.657801\n",
       "859     55.433627\n",
       "860     86.209454\n",
       "Length: 861, dtype: float64"
      ]
     },
     "execution_count": 22,
     "metadata": {},
     "output_type": "execute_result"
    }
   ],
   "source": [
    "reg.fitted_values"
   ]
  },
  {
   "cell_type": "code",
   "execution_count": 23,
   "id": "ad7d9727-f7f5-434b-af78-5b871742fb7b",
   "metadata": {},
   "outputs": [],
   "source": [
    "def sigmoid(z):\n",
    "    # Note it might be necessary to replace the np.exp with casadi version\n",
    "    \"\"\"\n",
    "    Compute the sigmoid of z\n",
    "\n",
    "    Arguments:\n",
    "    z -- A scalar or numpy array of any size.\n",
    "\n",
    "    Return:\n",
    "    s -- sigmoid(z)\n",
    "    \"\"\"\n",
    "    s = 1 / (1 + np.exp(-z))\n",
    "    return s"
   ]
  },
  {
   "cell_type": "code",
   "execution_count": 25,
   "id": "2b3a8c00-a2f0-4cde-97e3-a46486064685",
   "metadata": {},
   "outputs": [
    {
     "data": {
      "text/plain": [
       "0      0.0\n",
       "1      0.0\n",
       "2      0.0\n",
       "3      0.0\n",
       "4      0.0\n",
       "      ... \n",
       "856    0.0\n",
       "857    0.0\n",
       "858    1.0\n",
       "859    1.0\n",
       "860    1.0\n",
       "Length: 861, dtype: float64"
      ]
     },
     "execution_count": 25,
     "metadata": {},
     "output_type": "execute_result"
    }
   ],
   "source": [
    "sigmoid(reg.fitted_values).round(1)"
   ]
  },
  {
   "cell_type": "code",
   "execution_count": 26,
   "id": "apart-palestine",
   "metadata": {},
   "outputs": [],
   "source": [
    "c_mat = confusion_matrix(sigmoid(reg.fitted_values).round(1), data[mixed_dict[\"target\"]])"
   ]
  },
  {
   "cell_type": "code",
   "execution_count": 29,
   "id": "4f4f3389-eb30-45c6-bc31-e0f48b91233f",
   "metadata": {},
   "outputs": [
    {
     "data": {
      "image/png": "[encoded data removed]",
      "text/plain": [
       "<Figure size 432x288 with 2 Axes>"
      ]
     },
     "metadata": {
      "needs_background": "light"
     },
     "output_type": "display_data"
    }
   ],
   "source": [
    "cmap='Blues'\n",
    "categories=[\"Skinny\", \"Fat\"]\n",
    "\n",
    "_ = sns.heatmap(c_mat, \n",
    "                annot=True,            \n",
    "                fmt=\"\",\n",
    "                cmap=cmap,\n",
    "#                 cbar=cbar,\n",
    "                xticklabels=categories,\n",
    "                yticklabels=categories\n",
    "               )\n",
    "_ = plt.title(\"Confusion Matrix\")\n",
    "# _ = plt.xlabel(f'Predicted value\\n\\nAccuracy={summary_df[\"Accuracy\"].values[0]}\\nSensitivity={summary_df[\"Sensitivity\"].values[0]}\\nSpecificity={summary_df[\"Specificity\"].values[0]}\\nF1 Score={summary_df[\"F1\"].values[0]}')\n",
    "_ = plt.xlabel(f'Predicted value')\n",
    "_ = plt.ylabel(\"True value\")"
   ]
  },
  {
   "cell_type": "code",
   "execution_count": 35,
   "id": "eaf9a2fc-ea0d-4ee2-9bed-6b6deca46558",
   "metadata": {},
   "outputs": [
    {
     "data": {
      "text/plain": [
       "0     -221.813473\n",
       "1     -191.037647\n",
       "2     -160.261821\n",
       "3     -129.485994\n",
       "4      -98.710168\n",
       "          ...    \n",
       "856    -36.893851\n",
       "857     -6.118025\n",
       "858     24.657801\n",
       "859     55.433627\n",
       "860     86.209454\n",
       "Length: 861, dtype: float64"
      ]
     },
     "execution_count": 35,
     "metadata": {},
     "output_type": "execute_result"
    }
   ],
   "source": [
    "reg.fitted_values"
   ]
  },
  {
   "cell_type": "code",
   "execution_count": null,
   "id": "73b27c18-c7ea-480d-8326-d0b720671430",
   "metadata": {},
   "outputs": [],
   "source": []
  },
  {
   "cell_type": "code",
   "execution_count": 58,
   "id": "7d95f355-20fa-4354-856a-39135a35a994",
   "metadata": {},
   "outputs": [],
   "source": [
    "tmp = pd.DataFrame(scipy\n",
    "                   .special\n",
    "                   .logit(MinMaxScaler()\n",
    "                          .fit_transform(reg\n",
    "                                         .fitted_values\n",
    "                                         .replace([np.inf, -np.inf], np.nan, inplace=False)\n",
    "                                         .dropna()\n",
    "                                         .to_numpy()\n",
    "                                         .reshape(-1, 1))).round(1))"
   ]
  },
  {
   "cell_type": "code",
   "execution_count": 60,
   "id": "9093dc89-47b3-4ae7-ab0d-ad993ff668ed",
   "metadata": {},
   "outputs": [],
   "source": [
    "# MinMaxScaler().fit_transform(reg.fitted_values.to_numpy().reshape(-1, 1))"
   ]
  },
  {
   "cell_type": "code",
   "execution_count": 61,
   "id": "cfd6bc53-8807-42af-b8d6-07278d9849e3",
   "metadata": {},
   "outputs": [
    {
     "data": {
      "text/html": [
       "<div>\n",
       "<style scoped>\n",
       "    .dataframe tbody tr th:only-of-type {\n",
       "        vertical-align: middle;\n",
       "    }\n",
       "\n",
       "    .dataframe tbody tr th {\n",
       "        vertical-align: top;\n",
       "    }\n",
       "\n",
       "    .dataframe thead th {\n",
       "        text-align: right;\n",
       "    }\n",
       "</style>\n",
       "<table border=\"1\" class=\"dataframe\">\n",
       "  <thead>\n",
       "    <tr style=\"text-align: right;\">\n",
       "      <th></th>\n",
       "      <th>0</th>\n",
       "    </tr>\n",
       "  </thead>\n",
       "  <tbody>\n",
       "    <tr>\n",
       "      <th>0</th>\n",
       "      <td>-1.5</td>\n",
       "    </tr>\n",
       "    <tr>\n",
       "      <th>1</th>\n",
       "      <td>-1.1</td>\n",
       "    </tr>\n",
       "    <tr>\n",
       "      <th>2</th>\n",
       "      <td>-0.8</td>\n",
       "    </tr>\n",
       "    <tr>\n",
       "      <th>3</th>\n",
       "      <td>-0.5</td>\n",
       "    </tr>\n",
       "    <tr>\n",
       "      <th>4</th>\n",
       "      <td>-0.3</td>\n",
       "    </tr>\n",
       "  </tbody>\n",
       "</table>\n",
       "</div>"
      ],
      "text/plain": [
       "     0\n",
       "0 -1.5\n",
       "1 -1.1\n",
       "2 -0.8\n",
       "3 -0.5\n",
       "4 -0.3"
      ]
     },
     "execution_count": 61,
     "metadata": {},
     "output_type": "execute_result"
    }
   ],
   "source": [
    "tmp.head()"
   ]
  },
  {
   "cell_type": "code",
   "execution_count": 62,
   "id": "7a5eaa90-5379-417d-a38e-a07a868de3c8",
   "metadata": {},
   "outputs": [
    {
     "data": {
      "text/html": [
       "<div>\n",
       "<style scoped>\n",
       "    .dataframe tbody tr th:only-of-type {\n",
       "        vertical-align: middle;\n",
       "    }\n",
       "\n",
       "    .dataframe tbody tr th {\n",
       "        vertical-align: top;\n",
       "    }\n",
       "\n",
       "    .dataframe thead th {\n",
       "        text-align: right;\n",
       "    }\n",
       "</style>\n",
       "<table border=\"1\" class=\"dataframe\">\n",
       "  <thead>\n",
       "    <tr style=\"text-align: right;\">\n",
       "      <th></th>\n",
       "      <th>0</th>\n",
       "    </tr>\n",
       "  </thead>\n",
       "  <tbody>\n",
       "    <tr>\n",
       "      <th>0</th>\n",
       "      <td>0</td>\n",
       "    </tr>\n",
       "    <tr>\n",
       "      <th>1</th>\n",
       "      <td>0</td>\n",
       "    </tr>\n",
       "    <tr>\n",
       "      <th>2</th>\n",
       "      <td>0</td>\n",
       "    </tr>\n",
       "    <tr>\n",
       "      <th>3</th>\n",
       "      <td>0</td>\n",
       "    </tr>\n",
       "    <tr>\n",
       "      <th>4</th>\n",
       "      <td>0</td>\n",
       "    </tr>\n",
       "    <tr>\n",
       "      <th>...</th>\n",
       "      <td>...</td>\n",
       "    </tr>\n",
       "    <tr>\n",
       "      <th>856</th>\n",
       "      <td>0</td>\n",
       "    </tr>\n",
       "    <tr>\n",
       "      <th>857</th>\n",
       "      <td>0</td>\n",
       "    </tr>\n",
       "    <tr>\n",
       "      <th>858</th>\n",
       "      <td>0</td>\n",
       "    </tr>\n",
       "    <tr>\n",
       "      <th>859</th>\n",
       "      <td>1</td>\n",
       "    </tr>\n",
       "    <tr>\n",
       "      <th>860</th>\n",
       "      <td>1</td>\n",
       "    </tr>\n",
       "  </tbody>\n",
       "</table>\n",
       "<p>861 rows × 1 columns</p>\n",
       "</div>"
      ],
      "text/plain": [
       "     0\n",
       "0    0\n",
       "1    0\n",
       "2    0\n",
       "3    0\n",
       "4    0\n",
       "..  ..\n",
       "856  0\n",
       "857  0\n",
       "858  0\n",
       "859  1\n",
       "860  1\n",
       "\n",
       "[861 rows x 1 columns]"
      ]
     },
     "execution_count": 62,
     "metadata": {},
     "output_type": "execute_result"
    }
   ],
   "source": [
    "(tmp > 1).astype(int)"
   ]
  },
  {
   "cell_type": "code",
   "execution_count": 63,
   "id": "1dcd17f0-52f7-4acc-b9f7-083e1ddda4a5",
   "metadata": {},
   "outputs": [
    {
     "data": {
      "image/png": "[encoded data removed]",
      "text/plain": [
       "<Figure size 432x288 with 1 Axes>"
      ]
     },
     "metadata": {
      "needs_background": "light"
     },
     "output_type": "display_data"
    }
   ],
   "source": [
    "_ = plt.scatter((tmp > 1).astype(int), data[mixed_dict[\"target\"]])"
   ]
  },
  {
   "cell_type": "code",
   "execution_count": 64,
   "id": "7c02712e-626d-4014-ad7f-b9a2cbc761b0",
   "metadata": {},
   "outputs": [],
   "source": [
    "c_mat = confusion_matrix((tmp > 1).astype(int), data[mixed_dict[\"target\"]])"
   ]
  },
  {
   "cell_type": "code",
   "execution_count": 65,
   "id": "b92e36e2-7cb9-44f6-b073-f5cc8107493a",
   "metadata": {},
   "outputs": [
    {
     "data": {
      "image/png": "[encoded data removed]",
      "text/plain": [
       "<Figure size 432x288 with 2 Axes>"
      ]
     },
     "metadata": {
      "needs_background": "light"
     },
     "output_type": "display_data"
    }
   ],
   "source": [
    "cmap='Blues'\n",
    "categories=[\"Skinny\", \"Fat\"]\n",
    "\n",
    "_ = sns.heatmap(c_mat, \n",
    "                annot=True,            \n",
    "                fmt=\"\",\n",
    "                cmap=cmap,\n",
    "#                 cbar=cbar,\n",
    "                xticklabels=categories,\n",
    "                yticklabels=categories\n",
    "               )\n",
    "_ = plt.title(\"Confusion Matrix\")\n",
    "# _ = plt.xlabel(f'Predicted value\\n\\nAccuracy={summary_df[\"Accuracy\"].values[0]}\\nSensitivity={summary_df[\"Sensitivity\"].values[0]}\\nSpecificity={summary_df[\"Specificity\"].values[0]}\\nF1 Score={summary_df[\"F1\"].values[0]}')\n",
    "_ = plt.xlabel(f'Predicted value')\n",
    "_ = plt.ylabel(\"True value\")"
   ]
  },
  {
   "cell_type": "code",
   "execution_count": null,
   "id": "matched-shooting",
   "metadata": {},
   "outputs": [],
   "source": [
    "stop!"
   ]
  },
  {
   "cell_type": "markdown",
   "id": "lesser-cholesterol",
   "metadata": {},
   "source": [
    "## With the fitted model attempt to predict the test data"
   ]
  },
  {
   "cell_type": "code",
   "execution_count": null,
   "id": "commercial-furniture",
   "metadata": {},
   "outputs": [],
   "source": [
    "y_pred = reg.predict(df_test.filter(regex=\"feat\"))\n",
    "y_pred.head(2)"
   ]
  },
  {
   "cell_type": "code",
   "execution_count": null,
   "id": "amino-serial",
   "metadata": {},
   "outputs": [],
   "source": [
    "y_test = df_test[[\"target\"]]\n",
    "y_test.head(2)"
   ]
  },
  {
   "cell_type": "markdown",
   "id": "dense-pierre",
   "metadata": {},
   "source": [
    "## Calculate the r2 between the predicted vs the real scores"
   ]
  },
  {
   "cell_type": "code",
   "execution_count": null,
   "id": "spread-mercy",
   "metadata": {},
   "outputs": [],
   "source": [
    "r_sq = r2_score(y_test[\"target\"], \n",
    "        y_pred)\n",
    "r_sq"
   ]
  },
  {
   "cell_type": "markdown",
   "id": "earlier-houston",
   "metadata": {},
   "source": [
    "## Plot the predicted vs the real values"
   ]
  },
  {
   "cell_type": "code",
   "execution_count": null,
   "id": "wrapped-stewart",
   "metadata": {},
   "outputs": [],
   "source": [
    "_ = plt.figure(figsize=(12, 7))\n",
    "_ = plt.plot(y_test[\"target\"], \n",
    "             y_pred, \n",
    "             'o', \n",
    "#              label='original data'\n",
    "            )\n",
    "_ = plt.annotate(text = f\"R-squared = {round(r_sq, 3)}\",\n",
    "                 xy=(100, -140),)"
   ]
  }
 ],
 "metadata": {
  "kernelspec": {
   "display_name": "pymer4_env",
   "language": "python",
   "name": "pymer4_env"
  },
  "language_info": {
   "codemirror_mode": {
    "name": "ipython",
    "version": 3
   },
   "file_extension": ".py",
   "mimetype": "text/x-python",
   "name": "python",
   "nbconvert_exporter": "python",
   "pygments_lexer": "ipython3",
   "version": "3.8.10"
  }
 },
 "nbformat": 4,
 "nbformat_minor": 5
}
